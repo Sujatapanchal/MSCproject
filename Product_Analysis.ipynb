{
  "nbformat": 4,
  "nbformat_minor": 0,
  "metadata": {
    "colab": {
      "name": "Product Analysis.ipynb",
      "provenance": [],
      "collapsed_sections": [],
      "authorship_tag": "ABX9TyOTm+dkgYqJhytcrICc4MVt",
      "include_colab_link": true
    },
    "kernelspec": {
      "name": "python3",
      "display_name": "Python 3"
    },
    "language_info": {
      "name": "python"
    }
  },
  "cells": [
    {
      "cell_type": "markdown",
      "metadata": {
        "id": "view-in-github",
        "colab_type": "text"
      },
      "source": [
        "<a href=\"https://colab.research.google.com/github/sujata1606/Data-Science-Project/blob/main/Product_Analysis.ipynb\" target=\"_parent\"><img src=\"https://colab.research.google.com/assets/colab-badge.svg\" alt=\"Open In Colab\"/></a>"
      ]
    },
    {
      "cell_type": "markdown",
      "metadata": {
        "id": "AFgWwQGo8hJF"
      },
      "source": [
        "**Importing Libraries**"
      ]
    },
    {
      "cell_type": "code",
      "metadata": {
        "id": "gYYFWkbb2Igp"
      },
      "source": [
        "%matplotlib inline\n",
        "import numpy as np\n",
        "import pandas as pd\n",
        "import matplotlib.pyplot as plt\n",
        "import seaborn as sns"
      ],
      "execution_count": 19,
      "outputs": []
    },
    {
      "cell_type": "markdown",
      "metadata": {
        "id": "U4KFBE9U9XQ5"
      },
      "source": [
        "**Load the dataset**"
      ]
    },
    {
      "cell_type": "code",
      "metadata": {
        "id": "6AoAZDim8qxB"
      },
      "source": [
        "df = pd.read_csv('Electronic Products Data.csv')"
      ],
      "execution_count": 20,
      "outputs": []
    },
    {
      "cell_type": "code",
      "metadata": {
        "colab": {
          "base_uri": "https://localhost:8080/",
          "height": 847
        },
        "id": "rM5iXYQ29cTu",
        "outputId": "ae5bcb79-24b3-46fc-ad34-a1ed6af1259c"
      },
      "source": [
        "df"
      ],
      "execution_count": 21,
      "outputs": [
        {
          "output_type": "execute_result",
          "data": {
            "text/html": [
              "<div>\n",
              "<style scoped>\n",
              "    .dataframe tbody tr th:only-of-type {\n",
              "        vertical-align: middle;\n",
              "    }\n",
              "\n",
              "    .dataframe tbody tr th {\n",
              "        vertical-align: top;\n",
              "    }\n",
              "\n",
              "    .dataframe thead th {\n",
              "        text-align: right;\n",
              "    }\n",
              "</style>\n",
              "<table border=\"1\" class=\"dataframe\">\n",
              "  <thead>\n",
              "    <tr style=\"text-align: right;\">\n",
              "      <th></th>\n",
              "      <th>Timestamp</th>\n",
              "      <th>Name</th>\n",
              "      <th>Age</th>\n",
              "      <th>howoften</th>\n",
              "      <th>Changecell</th>\n",
              "      <th>Uselaptop</th>\n",
              "      <th>Readlaunches</th>\n",
              "      <th>Trynewproduct</th>\n",
              "      <th>Type</th>\n",
              "      <th>Product</th>\n",
              "      <th>Item</th>\n",
              "      <th>Brand(HomeAppliances)</th>\n",
              "      <th>Brand(ITDevices)</th>\n",
              "      <th>Brand(MobileDevices)</th>\n",
              "      <th>Price(HomeAppliances)</th>\n",
              "      <th>Price(ITDevices)</th>\n",
              "      <th>Price(MobileDevices)</th>\n",
              "      <th>Time</th>\n",
              "      <th>Where</th>\n",
              "      <th>Compareprices</th>\n",
              "      <th>Research</th>\n",
              "      <th>Timespend(10,000 - 30,000)</th>\n",
              "      <th>Timespend(30,000 - 50,000)</th>\n",
              "      <th>Timespend(50,000 - 70,000)</th>\n",
              "      <th>Timespend(70,000 - 1,00,000)</th>\n",
              "      <th>Yearlyspending</th>\n",
              "      <th>Factors</th>\n",
              "      <th>Productfeatures</th>\n",
              "      <th>Easeofuse</th>\n",
              "      <th>Warranty</th>\n",
              "      <th>Recommendationfromsomeone</th>\n",
              "      <th>Salespersonrecommendation</th>\n",
              "      <th>NoUseproduct</th>\n",
              "      <th>Rating</th>\n",
              "      <th>Review</th>\n",
              "    </tr>\n",
              "  </thead>\n",
              "  <tbody>\n",
              "    <tr>\n",
              "      <th>0</th>\n",
              "      <td>3/30/2021 15:59</td>\n",
              "      <td>Jaypriya</td>\n",
              "      <td>18-25</td>\n",
              "      <td>Occasionally</td>\n",
              "      <td>Rarely</td>\n",
              "      <td>Always</td>\n",
              "      <td>Very Often</td>\n",
              "      <td>Rarely</td>\n",
              "      <td>New</td>\n",
              "      <td>IT Devices</td>\n",
              "      <td>Laptop</td>\n",
              "      <td>LG</td>\n",
              "      <td>Lenovo</td>\n",
              "      <td>Apple</td>\n",
              "      <td>50,000 - 60,000</td>\n",
              "      <td>40,000 - 50,000</td>\n",
              "      <td>30,000 - 40,000</td>\n",
              "      <td>During the sale</td>\n",
              "      <td>In an electronics store</td>\n",
              "      <td>No</td>\n",
              "      <td>Ask a friend/colleague/family member for their...</td>\n",
              "      <td>2 - 4 days</td>\n",
              "      <td>1-3 months</td>\n",
              "      <td>1-3 months</td>\n",
              "      <td>1-3 months</td>\n",
              "      <td>20,000 - 40,000</td>\n",
              "      <td>Pricing of a products</td>\n",
              "      <td>Very important</td>\n",
              "      <td>Very important</td>\n",
              "      <td>Very important</td>\n",
              "      <td>Very important</td>\n",
              "      <td>Very important</td>\n",
              "      <td>Sell on as second-hand</td>\n",
              "      <td>4</td>\n",
              "      <td>Nothing</td>\n",
              "    </tr>\n",
              "    <tr>\n",
              "      <th>1</th>\n",
              "      <td>3/30/2021 17:20</td>\n",
              "      <td>Mahadik simran</td>\n",
              "      <td>18-25</td>\n",
              "      <td>Occasionally</td>\n",
              "      <td>Sometimes</td>\n",
              "      <td>Sometimes</td>\n",
              "      <td>Sometimes</td>\n",
              "      <td>Very Often</td>\n",
              "      <td>New</td>\n",
              "      <td>IT Devices</td>\n",
              "      <td>Smartphone</td>\n",
              "      <td>Samsung</td>\n",
              "      <td>Dell</td>\n",
              "      <td>Nokia</td>\n",
              "      <td>40,000 - 50,000</td>\n",
              "      <td>30,000 - 40,000</td>\n",
              "      <td>60,000 - 70,000</td>\n",
              "      <td>During the sale</td>\n",
              "      <td>In the exclusive brand store</td>\n",
              "      <td>No</td>\n",
              "      <td>Ask a friend/colleague/family member for his o...</td>\n",
              "      <td>2 - 4 days</td>\n",
              "      <td>5-10 days</td>\n",
              "      <td>2 - 4 weeks</td>\n",
              "      <td>1-3 months</td>\n",
              "      <td>Less than 10,000</td>\n",
              "      <td>Quality of a product</td>\n",
              "      <td>Extremely important</td>\n",
              "      <td>Extremely important</td>\n",
              "      <td>Extremely important</td>\n",
              "      <td>Extremely important</td>\n",
              "      <td>Extremely important</td>\n",
              "      <td>Sell on as second-hand</td>\n",
              "      <td>2</td>\n",
              "      <td>Want to purchase new</td>\n",
              "    </tr>\n",
              "    <tr>\n",
              "      <th>2</th>\n",
              "      <td>4/1/2021 17:17</td>\n",
              "      <td>Sahil</td>\n",
              "      <td>25-35</td>\n",
              "      <td>Regularly</td>\n",
              "      <td>Rarely</td>\n",
              "      <td>Always</td>\n",
              "      <td>Always</td>\n",
              "      <td>Rarely</td>\n",
              "      <td>Refurbished</td>\n",
              "      <td>Mobile devices</td>\n",
              "      <td>Smartphone</td>\n",
              "      <td>Whirlpool</td>\n",
              "      <td>Lenovo</td>\n",
              "      <td>OnePlus</td>\n",
              "      <td>40,000 - 50,000</td>\n",
              "      <td>40,000 - 50,000</td>\n",
              "      <td>20,000 - 30,000</td>\n",
              "      <td>During the sale</td>\n",
              "      <td>In an electronics store</td>\n",
              "      <td>Yes</td>\n",
              "      <td>Compare them with competitive products</td>\n",
              "      <td>Less than 1 day</td>\n",
              "      <td>2 - 4 weeks</td>\n",
              "      <td>2 - 4 weeks</td>\n",
              "      <td>2 - 4 weeks</td>\n",
              "      <td>20,000 - 40,000</td>\n",
              "      <td>Quality of a product</td>\n",
              "      <td>Moderately important</td>\n",
              "      <td>Moderately important</td>\n",
              "      <td>Moderately important</td>\n",
              "      <td>Moderately important</td>\n",
              "      <td>Not at all important</td>\n",
              "      <td>Sell on as second-hand</td>\n",
              "      <td>4</td>\n",
              "      <td>Nothing</td>\n",
              "    </tr>\n",
              "    <tr>\n",
              "      <th>3</th>\n",
              "      <td>4/1/2021 17:39</td>\n",
              "      <td>Sonali</td>\n",
              "      <td>18-25</td>\n",
              "      <td>Occasionally</td>\n",
              "      <td>Sometimes</td>\n",
              "      <td>Always</td>\n",
              "      <td>Always</td>\n",
              "      <td>Sometimes</td>\n",
              "      <td>New</td>\n",
              "      <td>IT Devices</td>\n",
              "      <td>Laptop</td>\n",
              "      <td>Samsung</td>\n",
              "      <td>HP</td>\n",
              "      <td>Samsung</td>\n",
              "      <td>20,000 - 30,000</td>\n",
              "      <td>20,000 - 30,000</td>\n",
              "      <td>100 - 10,000</td>\n",
              "      <td>During the sale</td>\n",
              "      <td>In an electronics store</td>\n",
              "      <td>Yes</td>\n",
              "      <td>Compare them with competitive products</td>\n",
              "      <td>5-10 days</td>\n",
              "      <td>2 - 4 days</td>\n",
              "      <td>2 - 4 days</td>\n",
              "      <td>Less than 1 day</td>\n",
              "      <td>20,000 - 40,000</td>\n",
              "      <td>Quality of a product</td>\n",
              "      <td>Moderately important</td>\n",
              "      <td>Moderately important</td>\n",
              "      <td>Moderately important</td>\n",
              "      <td>Not at all important</td>\n",
              "      <td>Moderately important</td>\n",
              "      <td>Sell on as second-hand</td>\n",
              "      <td>5</td>\n",
              "      <td>Its amazing</td>\n",
              "    </tr>\n",
              "    <tr>\n",
              "      <th>4</th>\n",
              "      <td>4/2/2021 17:39</td>\n",
              "      <td>Namrata</td>\n",
              "      <td>25-35</td>\n",
              "      <td>Regularly</td>\n",
              "      <td>Very Often</td>\n",
              "      <td>Very Often</td>\n",
              "      <td>Very Often</td>\n",
              "      <td>Very Often</td>\n",
              "      <td>New</td>\n",
              "      <td>IT Devices</td>\n",
              "      <td>Laptop</td>\n",
              "      <td>Whirlpool</td>\n",
              "      <td>HP</td>\n",
              "      <td>Nokia</td>\n",
              "      <td>30,000 - 40,000</td>\n",
              "      <td>60,000 - 70,000</td>\n",
              "      <td>30,000 - 40,000</td>\n",
              "      <td>Without the sale (Off Season)</td>\n",
              "      <td>Online</td>\n",
              "      <td>Yes</td>\n",
              "      <td>Ask a friend/colleague/family member for their...</td>\n",
              "      <td>2 - 4 weeks</td>\n",
              "      <td>2 - 4 weeks</td>\n",
              "      <td>2 - 4 days</td>\n",
              "      <td>5-10 days</td>\n",
              "      <td>60,000 - 80,000</td>\n",
              "      <td>Pricing of a product</td>\n",
              "      <td>Very important</td>\n",
              "      <td>Moderately important</td>\n",
              "      <td>Moderately important</td>\n",
              "      <td>Moderately important</td>\n",
              "      <td>Not at all important</td>\n",
              "      <td>Take to local recycling center</td>\n",
              "      <td>4</td>\n",
              "      <td>Good</td>\n",
              "    </tr>\n",
              "    <tr>\n",
              "      <th>...</th>\n",
              "      <td>...</td>\n",
              "      <td>...</td>\n",
              "      <td>...</td>\n",
              "      <td>...</td>\n",
              "      <td>...</td>\n",
              "      <td>...</td>\n",
              "      <td>...</td>\n",
              "      <td>...</td>\n",
              "      <td>...</td>\n",
              "      <td>...</td>\n",
              "      <td>...</td>\n",
              "      <td>...</td>\n",
              "      <td>...</td>\n",
              "      <td>...</td>\n",
              "      <td>...</td>\n",
              "      <td>...</td>\n",
              "      <td>...</td>\n",
              "      <td>...</td>\n",
              "      <td>...</td>\n",
              "      <td>...</td>\n",
              "      <td>...</td>\n",
              "      <td>...</td>\n",
              "      <td>...</td>\n",
              "      <td>...</td>\n",
              "      <td>...</td>\n",
              "      <td>...</td>\n",
              "      <td>...</td>\n",
              "      <td>...</td>\n",
              "      <td>...</td>\n",
              "      <td>...</td>\n",
              "      <td>...</td>\n",
              "      <td>...</td>\n",
              "      <td>...</td>\n",
              "      <td>...</td>\n",
              "      <td>...</td>\n",
              "    </tr>\n",
              "    <tr>\n",
              "      <th>211</th>\n",
              "      <td>4/5/2021 17:39</td>\n",
              "      <td>Darshan</td>\n",
              "      <td>25-35</td>\n",
              "      <td>Regularly</td>\n",
              "      <td>Very Often</td>\n",
              "      <td>Always</td>\n",
              "      <td>Always</td>\n",
              "      <td>Sometimes</td>\n",
              "      <td>New</td>\n",
              "      <td>IT Devices</td>\n",
              "      <td>Desktop</td>\n",
              "      <td>Godrej</td>\n",
              "      <td>Acer</td>\n",
              "      <td>HP</td>\n",
              "      <td>50,000 - 60,000</td>\n",
              "      <td>50,000 - 60,000</td>\n",
              "      <td>40,000 - 50,000</td>\n",
              "      <td>During the sale</td>\n",
              "      <td>Online</td>\n",
              "      <td>Yes</td>\n",
              "      <td>Ask a friend/colleague/family member for his o...</td>\n",
              "      <td>Less than 1 day</td>\n",
              "      <td>2 - 4 weeks</td>\n",
              "      <td>1-3 months</td>\n",
              "      <td>5-10 days</td>\n",
              "      <td>20,000 - 40,000</td>\n",
              "      <td>Quality of a product</td>\n",
              "      <td>Moderately important</td>\n",
              "      <td>Moderately important</td>\n",
              "      <td>Very important</td>\n",
              "      <td>Not at all important</td>\n",
              "      <td>Moderately important</td>\n",
              "      <td>Take to local recycling center</td>\n",
              "      <td>3</td>\n",
              "      <td>Good</td>\n",
              "    </tr>\n",
              "    <tr>\n",
              "      <th>212</th>\n",
              "      <td>4/6/2021 17:39</td>\n",
              "      <td>Raj</td>\n",
              "      <td>18-25</td>\n",
              "      <td>Occasionally</td>\n",
              "      <td>Rarely</td>\n",
              "      <td>Always</td>\n",
              "      <td>Always</td>\n",
              "      <td>Rarely</td>\n",
              "      <td>Refurbished</td>\n",
              "      <td>Home appliances</td>\n",
              "      <td>Television</td>\n",
              "      <td>Samsung</td>\n",
              "      <td>Dell</td>\n",
              "      <td>OnePlus</td>\n",
              "      <td>More than 70,000</td>\n",
              "      <td>30,000 - 40,000</td>\n",
              "      <td>40,000 - 50,000</td>\n",
              "      <td>During the sale</td>\n",
              "      <td>In the exclusive brand store</td>\n",
              "      <td>Yes</td>\n",
              "      <td>Ask a friend/colleague/family member for his o...</td>\n",
              "      <td>2 - 4 days</td>\n",
              "      <td>5-10 days</td>\n",
              "      <td>2 - 4 days</td>\n",
              "      <td>5-10 days</td>\n",
              "      <td>20,000 - 40,000</td>\n",
              "      <td>Reliability of a product</td>\n",
              "      <td>Extremely important</td>\n",
              "      <td>Moderately important</td>\n",
              "      <td>Very important</td>\n",
              "      <td>Not at all important</td>\n",
              "      <td>Moderately important</td>\n",
              "      <td>Give to a friend</td>\n",
              "      <td>4</td>\n",
              "      <td>Extermly good</td>\n",
              "    </tr>\n",
              "    <tr>\n",
              "      <th>213</th>\n",
              "      <td>4/7/2021 17:39</td>\n",
              "      <td>Sonam</td>\n",
              "      <td>25-35</td>\n",
              "      <td>Regularly</td>\n",
              "      <td>Rarely</td>\n",
              "      <td>Sometimes</td>\n",
              "      <td>Always</td>\n",
              "      <td>Rarely</td>\n",
              "      <td>New</td>\n",
              "      <td>Mobile devices</td>\n",
              "      <td>Smartphone</td>\n",
              "      <td>LG</td>\n",
              "      <td>Apple</td>\n",
              "      <td>Apple</td>\n",
              "      <td>More than 70,000</td>\n",
              "      <td>20,000 - 30,000</td>\n",
              "      <td>50,000 - 60,000</td>\n",
              "      <td>During the sale</td>\n",
              "      <td>Online</td>\n",
              "      <td>Yes</td>\n",
              "      <td>Find out brand reputation</td>\n",
              "      <td>Less than 1 day</td>\n",
              "      <td>2 - 4 weeks</td>\n",
              "      <td>3 - 4 days</td>\n",
              "      <td>Less than 1 day</td>\n",
              "      <td>60,000 - 80,000</td>\n",
              "      <td>Services offered</td>\n",
              "      <td>Extremely important</td>\n",
              "      <td>Moderately important</td>\n",
              "      <td>Very important</td>\n",
              "      <td>Not at all important</td>\n",
              "      <td>Not at all important</td>\n",
              "      <td>Sell on as second-hand</td>\n",
              "      <td>4</td>\n",
              "      <td>wow.....</td>\n",
              "    </tr>\n",
              "    <tr>\n",
              "      <th>214</th>\n",
              "      <td>4/8/2021 17:39</td>\n",
              "      <td>Kajal</td>\n",
              "      <td>18-25</td>\n",
              "      <td>Occasionally</td>\n",
              "      <td>Sometimes</td>\n",
              "      <td>Very Often</td>\n",
              "      <td>Always</td>\n",
              "      <td>Rarely</td>\n",
              "      <td>New</td>\n",
              "      <td>Mobile devices</td>\n",
              "      <td>Earphones</td>\n",
              "      <td>Godrej</td>\n",
              "      <td>Acer</td>\n",
              "      <td>Realme</td>\n",
              "      <td>100 - 10,000</td>\n",
              "      <td>50,000 - 60,000</td>\n",
              "      <td>10,000 - 20,000</td>\n",
              "      <td>Without the sale (Off Season)</td>\n",
              "      <td>Online</td>\n",
              "      <td>Yes</td>\n",
              "      <td>Read online reviews</td>\n",
              "      <td>5-10 days</td>\n",
              "      <td>1-3 months</td>\n",
              "      <td>4 - 4 days</td>\n",
              "      <td>1-3 months</td>\n",
              "      <td>Less than 10,000</td>\n",
              "      <td>Quality of a product</td>\n",
              "      <td>Very important</td>\n",
              "      <td>Moderately important</td>\n",
              "      <td>Extremely important</td>\n",
              "      <td>Moderately important</td>\n",
              "      <td>Not at all important</td>\n",
              "      <td>Sell on as second-hand</td>\n",
              "      <td>4</td>\n",
              "      <td>Good overall</td>\n",
              "    </tr>\n",
              "    <tr>\n",
              "      <th>215</th>\n",
              "      <td>4/9/2021 17:39</td>\n",
              "      <td>Naman</td>\n",
              "      <td>25-35</td>\n",
              "      <td>Occasionally</td>\n",
              "      <td>Rarely</td>\n",
              "      <td>Sometimes</td>\n",
              "      <td>Always</td>\n",
              "      <td>Rarely</td>\n",
              "      <td>New</td>\n",
              "      <td>IT Devices</td>\n",
              "      <td>Laptop</td>\n",
              "      <td>Whirlpool</td>\n",
              "      <td>HP</td>\n",
              "      <td>Moto</td>\n",
              "      <td>40,000 - 50,000</td>\n",
              "      <td>30,000 - 40,000</td>\n",
              "      <td>30,000 - 40,000</td>\n",
              "      <td>During the sale</td>\n",
              "      <td>In an electronics store</td>\n",
              "      <td>Yes</td>\n",
              "      <td>Ask a friend/colleague/family member for his o...</td>\n",
              "      <td>2 - 4 days</td>\n",
              "      <td>2 - 4 weeks</td>\n",
              "      <td>5 - 4 days</td>\n",
              "      <td>5-10 days</td>\n",
              "      <td>20,000 - 40,000</td>\n",
              "      <td>Quality of a product</td>\n",
              "      <td>Extremely important</td>\n",
              "      <td>Moderately important</td>\n",
              "      <td>Very important</td>\n",
              "      <td>Not at all important</td>\n",
              "      <td>Not at all important</td>\n",
              "      <td>Take to local recycling center</td>\n",
              "      <td>4</td>\n",
              "      <td>Nothing</td>\n",
              "    </tr>\n",
              "  </tbody>\n",
              "</table>\n",
              "<p>216 rows × 35 columns</p>\n",
              "</div>"
            ],
            "text/plain": [
              "           Timestamp             Name  ... Rating                Review\n",
              "0    3/30/2021 15:59         Jaypriya  ...      4               Nothing\n",
              "1    3/30/2021 17:20  Mahadik simran   ...      2  Want to purchase new\n",
              "2     4/1/2021 17:17            Sahil  ...      4               Nothing\n",
              "3     4/1/2021 17:39           Sonali  ...      5           Its amazing\n",
              "4     4/2/2021 17:39          Namrata  ...      4                  Good\n",
              "..               ...              ...  ...    ...                   ...\n",
              "211   4/5/2021 17:39          Darshan  ...      3                  Good\n",
              "212   4/6/2021 17:39              Raj  ...      4         Extermly good\n",
              "213   4/7/2021 17:39            Sonam  ...      4              wow.....\n",
              "214   4/8/2021 17:39            Kajal  ...      4          Good overall\n",
              "215   4/9/2021 17:39            Naman  ...      4               Nothing\n",
              "\n",
              "[216 rows x 35 columns]"
            ]
          },
          "metadata": {
            "tags": []
          },
          "execution_count": 21
        }
      ]
    },
    {
      "cell_type": "code",
      "metadata": {
        "colab": {
          "base_uri": "https://localhost:8080/",
          "height": 445
        },
        "id": "dazXFTvx9oSQ",
        "outputId": "533cd622-9df9-49da-df3b-a5301e7e876c"
      },
      "source": [
        "df.head()"
      ],
      "execution_count": null,
      "outputs": [
        {
          "output_type": "execute_result",
          "data": {
            "text/html": [
              "<div>\n",
              "<style scoped>\n",
              "    .dataframe tbody tr th:only-of-type {\n",
              "        vertical-align: middle;\n",
              "    }\n",
              "\n",
              "    .dataframe tbody tr th {\n",
              "        vertical-align: top;\n",
              "    }\n",
              "\n",
              "    .dataframe thead th {\n",
              "        text-align: right;\n",
              "    }\n",
              "</style>\n",
              "<table border=\"1\" class=\"dataframe\">\n",
              "  <thead>\n",
              "    <tr style=\"text-align: right;\">\n",
              "      <th></th>\n",
              "      <th>Name</th>\n",
              "      <th>Age</th>\n",
              "      <th>howoften</th>\n",
              "      <th>Changecell</th>\n",
              "      <th>Uselaptop</th>\n",
              "      <th>Readlaunches</th>\n",
              "      <th>Trynewproduct</th>\n",
              "      <th>Type</th>\n",
              "      <th>Product</th>\n",
              "      <th>Item</th>\n",
              "      <th>Brand(HomeAppliances)</th>\n",
              "      <th>Brand(ITDevices)</th>\n",
              "      <th>Brand(MobileDevices)</th>\n",
              "      <th>Price(HomeAppliances)</th>\n",
              "      <th>Price(ITDevices)</th>\n",
              "      <th>Price(MobileDevices)</th>\n",
              "      <th>Time</th>\n",
              "      <th>Where</th>\n",
              "      <th>Compareprices</th>\n",
              "      <th>Research</th>\n",
              "      <th>Timespend(10,000 - 30,000)</th>\n",
              "      <th>Timespend(30,000 - 50,000)</th>\n",
              "      <th>Timespend(50,000 - 70,000)</th>\n",
              "      <th>Timespend(70,000 - 1,00,000)</th>\n",
              "      <th>Yearlyspending</th>\n",
              "      <th>Factors</th>\n",
              "      <th>Productfeatures</th>\n",
              "      <th>Easeofuse</th>\n",
              "      <th>Warranty</th>\n",
              "      <th>Recommendationfromsomeone</th>\n",
              "      <th>Salespersonrecommendation</th>\n",
              "      <th>NoUseproduct</th>\n",
              "      <th>Rating</th>\n",
              "      <th>Review</th>\n",
              "    </tr>\n",
              "  </thead>\n",
              "  <tbody>\n",
              "    <tr>\n",
              "      <th>0</th>\n",
              "      <td>Jaypriya</td>\n",
              "      <td>18-25</td>\n",
              "      <td>Occasionally</td>\n",
              "      <td>Rarely</td>\n",
              "      <td>Always</td>\n",
              "      <td>Very Often</td>\n",
              "      <td>Rarely</td>\n",
              "      <td>New</td>\n",
              "      <td>IT Devices</td>\n",
              "      <td>Laptop</td>\n",
              "      <td>LG</td>\n",
              "      <td>Lenovo</td>\n",
              "      <td>Apple</td>\n",
              "      <td>50,000 - 60,000</td>\n",
              "      <td>40,000 - 50,000</td>\n",
              "      <td>30,000 - 40,000</td>\n",
              "      <td>During the sale</td>\n",
              "      <td>In an electronics store</td>\n",
              "      <td>No</td>\n",
              "      <td>Ask a friend/colleague/family member for their...</td>\n",
              "      <td>2 - 4 days</td>\n",
              "      <td>1-3 months</td>\n",
              "      <td>1-3 months</td>\n",
              "      <td>1-3 months</td>\n",
              "      <td>20,000 - 40,000</td>\n",
              "      <td>Pricing of a products</td>\n",
              "      <td>Very important</td>\n",
              "      <td>Very important</td>\n",
              "      <td>Very important</td>\n",
              "      <td>Very important</td>\n",
              "      <td>Very important</td>\n",
              "      <td>Sell on as second-hand</td>\n",
              "      <td>4</td>\n",
              "      <td>Nothing</td>\n",
              "    </tr>\n",
              "    <tr>\n",
              "      <th>1</th>\n",
              "      <td>Mahadik simran</td>\n",
              "      <td>18-25</td>\n",
              "      <td>Occasionally</td>\n",
              "      <td>Sometimes</td>\n",
              "      <td>Sometimes</td>\n",
              "      <td>Sometimes</td>\n",
              "      <td>Very Often</td>\n",
              "      <td>New</td>\n",
              "      <td>IT Devices</td>\n",
              "      <td>Smartphone</td>\n",
              "      <td>Samsung</td>\n",
              "      <td>Dell</td>\n",
              "      <td>Nokia</td>\n",
              "      <td>40,000 - 50,000</td>\n",
              "      <td>30,000 - 40,000</td>\n",
              "      <td>60,000 - 70,000</td>\n",
              "      <td>During the sale</td>\n",
              "      <td>In the exclusive brand store</td>\n",
              "      <td>No</td>\n",
              "      <td>Ask a friend/colleague/family member for his o...</td>\n",
              "      <td>2 - 4 days</td>\n",
              "      <td>5-10 days</td>\n",
              "      <td>2 - 4 weeks</td>\n",
              "      <td>1-3 months</td>\n",
              "      <td>Less than 10,000</td>\n",
              "      <td>Quality of a product</td>\n",
              "      <td>Extremely important</td>\n",
              "      <td>Extremely important</td>\n",
              "      <td>Extremely important</td>\n",
              "      <td>Extremely important</td>\n",
              "      <td>Extremely important</td>\n",
              "      <td>Sell on as second-hand</td>\n",
              "      <td>2</td>\n",
              "      <td>Want to purchase new</td>\n",
              "    </tr>\n",
              "    <tr>\n",
              "      <th>2</th>\n",
              "      <td>Sahil</td>\n",
              "      <td>25-35</td>\n",
              "      <td>Regularly</td>\n",
              "      <td>Rarely</td>\n",
              "      <td>Always</td>\n",
              "      <td>Always</td>\n",
              "      <td>Rarely</td>\n",
              "      <td>Refurbished</td>\n",
              "      <td>Mobile devices</td>\n",
              "      <td>Smartphone</td>\n",
              "      <td>Whirlpool</td>\n",
              "      <td>Lenovo</td>\n",
              "      <td>OnePlus</td>\n",
              "      <td>40,000 - 50,000</td>\n",
              "      <td>40,000 - 50,000</td>\n",
              "      <td>20,000 - 30,000</td>\n",
              "      <td>During the sale</td>\n",
              "      <td>In an electronics store</td>\n",
              "      <td>Yes</td>\n",
              "      <td>Compare them with competitive products</td>\n",
              "      <td>Less than 1 day</td>\n",
              "      <td>2 - 4 weeks</td>\n",
              "      <td>2 - 4 weeks</td>\n",
              "      <td>2 - 4 weeks</td>\n",
              "      <td>20,000 - 40,000</td>\n",
              "      <td>Quality of a product</td>\n",
              "      <td>Moderately important</td>\n",
              "      <td>Moderately important</td>\n",
              "      <td>Moderately important</td>\n",
              "      <td>Moderately important</td>\n",
              "      <td>Not at all important</td>\n",
              "      <td>Sell on as second-hand</td>\n",
              "      <td>4</td>\n",
              "      <td>Nothing</td>\n",
              "    </tr>\n",
              "    <tr>\n",
              "      <th>3</th>\n",
              "      <td>Sonali</td>\n",
              "      <td>18-25</td>\n",
              "      <td>Occasionally</td>\n",
              "      <td>Sometimes</td>\n",
              "      <td>Always</td>\n",
              "      <td>Always</td>\n",
              "      <td>Sometimes</td>\n",
              "      <td>New</td>\n",
              "      <td>IT Devices</td>\n",
              "      <td>Laptop</td>\n",
              "      <td>Samsung</td>\n",
              "      <td>HP</td>\n",
              "      <td>Samsung</td>\n",
              "      <td>20,000 - 30,000</td>\n",
              "      <td>20,000 - 30,000</td>\n",
              "      <td>100 - 10,000</td>\n",
              "      <td>During the sale</td>\n",
              "      <td>In an electronics store</td>\n",
              "      <td>Yes</td>\n",
              "      <td>Compare them with competitive products</td>\n",
              "      <td>5-10 days</td>\n",
              "      <td>2 - 4 days</td>\n",
              "      <td>2 - 4 days</td>\n",
              "      <td>Less than 1 day</td>\n",
              "      <td>20,000 - 40,000</td>\n",
              "      <td>Quality of a product</td>\n",
              "      <td>Moderately important</td>\n",
              "      <td>Moderately important</td>\n",
              "      <td>Moderately important</td>\n",
              "      <td>Not at all important</td>\n",
              "      <td>Moderately important</td>\n",
              "      <td>Sell on as second-hand</td>\n",
              "      <td>5</td>\n",
              "      <td>Its amazing</td>\n",
              "    </tr>\n",
              "    <tr>\n",
              "      <th>4</th>\n",
              "      <td>Namrata</td>\n",
              "      <td>25-35</td>\n",
              "      <td>Regularly</td>\n",
              "      <td>Very Often</td>\n",
              "      <td>Very Often</td>\n",
              "      <td>Very Often</td>\n",
              "      <td>Very Often</td>\n",
              "      <td>New</td>\n",
              "      <td>IT Devices</td>\n",
              "      <td>Laptop</td>\n",
              "      <td>Whirlpool</td>\n",
              "      <td>HP</td>\n",
              "      <td>Nokia</td>\n",
              "      <td>30,000 - 40,000</td>\n",
              "      <td>60,000 - 70,000</td>\n",
              "      <td>30,000 - 40,000</td>\n",
              "      <td>Without the sale (Off Season)</td>\n",
              "      <td>Online</td>\n",
              "      <td>Yes</td>\n",
              "      <td>Ask a friend/colleague/family member for their...</td>\n",
              "      <td>2 - 4 weeks</td>\n",
              "      <td>2 - 4 weeks</td>\n",
              "      <td>2 - 4 days</td>\n",
              "      <td>5-10 days</td>\n",
              "      <td>60,000 - 80,000</td>\n",
              "      <td>Pricing of a product</td>\n",
              "      <td>Very important</td>\n",
              "      <td>Moderately important</td>\n",
              "      <td>Moderately important</td>\n",
              "      <td>Moderately important</td>\n",
              "      <td>Not at all important</td>\n",
              "      <td>Take to local recycling center</td>\n",
              "      <td>4</td>\n",
              "      <td>Good</td>\n",
              "    </tr>\n",
              "  </tbody>\n",
              "</table>\n",
              "</div>"
            ],
            "text/plain": [
              "              Name    Age  ... Rating                Review\n",
              "0         Jaypriya  18-25  ...      4               Nothing\n",
              "1  Mahadik simran   18-25  ...      2  Want to purchase new\n",
              "2            Sahil  25-35  ...      4               Nothing\n",
              "3           Sonali  18-25  ...      5           Its amazing\n",
              "4          Namrata  25-35  ...      4                  Good\n",
              "\n",
              "[5 rows x 34 columns]"
            ]
          },
          "metadata": {
            "tags": []
          },
          "execution_count": 49
        }
      ]
    },
    {
      "cell_type": "markdown",
      "metadata": {
        "id": "xOYQDwmM9vc1"
      },
      "source": [
        "**Dropping the timestamp column**\n"
      ]
    },
    {
      "cell_type": "code",
      "metadata": {
        "id": "eq4r9MSd9vEf"
      },
      "source": [
        "df.drop('Timestamp',axis=1,inplace=True)"
      ],
      "execution_count": null,
      "outputs": []
    },
    {
      "cell_type": "code",
      "metadata": {
        "colab": {
          "base_uri": "https://localhost:8080/"
        },
        "id": "noNDG2dV-IdA",
        "outputId": "a7099a7f-5b79-4d79-80bf-7b30721bc291"
      },
      "source": [
        "df.info()"
      ],
      "execution_count": null,
      "outputs": [
        {
          "output_type": "stream",
          "text": [
            "<class 'pandas.core.frame.DataFrame'>\n",
            "RangeIndex: 216 entries, 0 to 215\n",
            "Data columns (total 34 columns):\n",
            " #   Column                        Non-Null Count  Dtype \n",
            "---  ------                        --------------  ----- \n",
            " 0   Name                          216 non-null    object\n",
            " 1   Age                           216 non-null    object\n",
            " 2   howoften                      216 non-null    object\n",
            " 3   Changecell                    216 non-null    object\n",
            " 4   Uselaptop                     216 non-null    object\n",
            " 5   Readlaunches                  216 non-null    object\n",
            " 6   Trynewproduct                 216 non-null    object\n",
            " 7   Type                          216 non-null    object\n",
            " 8   Product                       216 non-null    object\n",
            " 9   Item                          216 non-null    object\n",
            " 10  Brand(HomeAppliances)         216 non-null    object\n",
            " 11  Brand(ITDevices)              216 non-null    object\n",
            " 12  Brand(MobileDevices)          216 non-null    object\n",
            " 13  Price(HomeAppliances)         216 non-null    object\n",
            " 14  Price(ITDevices)              216 non-null    object\n",
            " 15  Price(MobileDevices)          216 non-null    object\n",
            " 16  Time                          216 non-null    object\n",
            " 17  Where                         216 non-null    object\n",
            " 18  Compareprices                 216 non-null    object\n",
            " 19  Research                      216 non-null    object\n",
            " 20  Timespend(10,000 - 30,000)    216 non-null    object\n",
            " 21  Timespend(30,000 - 50,000)    216 non-null    object\n",
            " 22  Timespend(50,000 - 70,000)    216 non-null    object\n",
            " 23  Timespend(70,000 - 1,00,000)  216 non-null    object\n",
            " 24  Yearlyspending                216 non-null    object\n",
            " 25  Factors                       216 non-null    object\n",
            " 26  Productfeatures               216 non-null    object\n",
            " 27  Easeofuse                     216 non-null    object\n",
            " 28  Warranty                      216 non-null    object\n",
            " 29  Recommendationfromsomeone     216 non-null    object\n",
            " 30  Salespersonrecommendation     216 non-null    object\n",
            " 31  NoUseproduct                  216 non-null    object\n",
            " 32  Rating                        216 non-null    int64 \n",
            " 33  Review                        215 non-null    object\n",
            "dtypes: int64(1), object(33)\n",
            "memory usage: 57.5+ KB\n"
          ],
          "name": "stdout"
        }
      ]
    },
    {
      "cell_type": "code",
      "metadata": {
        "colab": {
          "base_uri": "https://localhost:8080/"
        },
        "id": "V2S0TTXn-SIc",
        "outputId": "42ab3fa4-fc34-4306-b41f-7df774ccb4eb"
      },
      "source": [
        "#Check the number of rows and columns\n",
        "rows,columns=df.shape\n",
        "print('Number of rows: ',rows)\n",
        "print('Number of columns: ',columns)"
      ],
      "execution_count": null,
      "outputs": [
        {
          "output_type": "stream",
          "text": [
            "Number of rows:  216\n",
            "Number of columns:  34\n"
          ],
          "name": "stdout"
        }
      ]
    },
    {
      "cell_type": "markdown",
      "metadata": {
        "id": "iqFwxyoxO5lz"
      },
      "source": [
        "**Data types of columns**"
      ]
    },
    {
      "cell_type": "code",
      "metadata": {
        "colab": {
          "base_uri": "https://localhost:8080/"
        },
        "id": "EqJH5S9Z--XO",
        "outputId": "6ab31ebc-d2bb-4497-f7b3-3301de356022"
      },
      "source": [
        "df.dtypes"
      ],
      "execution_count": null,
      "outputs": [
        {
          "output_type": "execute_result",
          "data": {
            "text/plain": [
              "Timestamp                       object\n",
              "Name                            object\n",
              "Age                             object\n",
              "howoften                        object\n",
              "Changecell                      object\n",
              "Uselaptop                       object\n",
              "Readlaunches                    object\n",
              "Trynewproduct                   object\n",
              "Type                            object\n",
              "Product                         object\n",
              "Item                            object\n",
              "Brand(HomeAppliances)           object\n",
              "Brand(ITDevices)                object\n",
              "Brand(MobileDevices)            object\n",
              "Price(HomeAppliances)           object\n",
              "Price(ITDevices)                object\n",
              "Price(MobileDevices)            object\n",
              "Time                            object\n",
              "Where                           object\n",
              "Compareprices                   object\n",
              "Research                        object\n",
              "Timespend(10,000 - 30,000)      object\n",
              "Timespend(30,000 - 50,000)      object\n",
              "Timespend(50,000 - 70,000)      object\n",
              "Timespend(70,000 - 1,00,000)    object\n",
              "Yearlyspending                  object\n",
              "Factors                         object\n",
              "Productfeatures                 object\n",
              "Easeofuse                       object\n",
              "Warranty                        object\n",
              "Recommendationfromsomeone       object\n",
              "Salespersonrecommendation       object\n",
              "NoUseproduct                    object\n",
              "Rating                           int64\n",
              "Review                          object\n",
              "dtype: object"
            ]
          },
          "metadata": {
            "tags": []
          },
          "execution_count": 5
        }
      ]
    },
    {
      "cell_type": "code",
      "metadata": {
        "colab": {
          "base_uri": "https://localhost:8080/"
        },
        "id": "-vdA3JifX0lW",
        "outputId": "15098f7f-7213-4483-8a5f-3b7ac71afe43"
      },
      "source": [
        "print(df.info())"
      ],
      "execution_count": null,
      "outputs": [
        {
          "output_type": "stream",
          "text": [
            "<class 'pandas.core.frame.DataFrame'>\n",
            "RangeIndex: 216 entries, 0 to 215\n",
            "Data columns (total 34 columns):\n",
            " #   Column                        Non-Null Count  Dtype \n",
            "---  ------                        --------------  ----- \n",
            " 0   Name                          216 non-null    object\n",
            " 1   Age                           216 non-null    object\n",
            " 2   howoften                      216 non-null    object\n",
            " 3   Changecell                    216 non-null    object\n",
            " 4   Uselaptop                     216 non-null    object\n",
            " 5   Readlaunches                  216 non-null    object\n",
            " 6   Trynewproduct                 216 non-null    object\n",
            " 7   Type                          216 non-null    object\n",
            " 8   Product                       216 non-null    object\n",
            " 9   Item                          216 non-null    object\n",
            " 10  Brand(HomeAppliances)         216 non-null    object\n",
            " 11  Brand(ITDevices)              216 non-null    object\n",
            " 12  Brand(MobileDevices)          216 non-null    object\n",
            " 13  Price(HomeAppliances)         216 non-null    object\n",
            " 14  Price(ITDevices)              216 non-null    object\n",
            " 15  Price(MobileDevices)          216 non-null    object\n",
            " 16  Time                          216 non-null    object\n",
            " 17  Where                         216 non-null    object\n",
            " 18  Compareprices                 216 non-null    object\n",
            " 19  Research                      216 non-null    object\n",
            " 20  Timespend(10,000 - 30,000)    216 non-null    object\n",
            " 21  Timespend(30,000 - 50,000)    216 non-null    object\n",
            " 22  Timespend(50,000 - 70,000)    216 non-null    object\n",
            " 23  Timespend(70,000 - 1,00,000)  216 non-null    object\n",
            " 24  Yearlyspending                216 non-null    object\n",
            " 25  Factors                       216 non-null    object\n",
            " 26  Productfeatures               216 non-null    object\n",
            " 27  Easeofuse                     216 non-null    object\n",
            " 28  Warranty                      216 non-null    object\n",
            " 29  Recommendationfromsomeone     216 non-null    object\n",
            " 30  Salespersonrecommendation     216 non-null    object\n",
            " 31  NoUseproduct                  216 non-null    object\n",
            " 32  Rating                        216 non-null    int64 \n",
            " 33  Review                        215 non-null    object\n",
            "dtypes: int64(1), object(33)\n",
            "memory usage: 57.5+ KB\n",
            "None\n"
          ],
          "name": "stdout"
        }
      ]
    },
    {
      "cell_type": "code",
      "metadata": {
        "colab": {
          "base_uri": "https://localhost:8080/",
          "height": 297
        },
        "id": "Et2lVu0oYmdH",
        "outputId": "dac32e7f-cbb9-421f-a42c-979285c67eba"
      },
      "source": [
        "df.describe()"
      ],
      "execution_count": null,
      "outputs": [
        {
          "output_type": "execute_result",
          "data": {
            "text/html": [
              "<div>\n",
              "<style scoped>\n",
              "    .dataframe tbody tr th:only-of-type {\n",
              "        vertical-align: middle;\n",
              "    }\n",
              "\n",
              "    .dataframe tbody tr th {\n",
              "        vertical-align: top;\n",
              "    }\n",
              "\n",
              "    .dataframe thead th {\n",
              "        text-align: right;\n",
              "    }\n",
              "</style>\n",
              "<table border=\"1\" class=\"dataframe\">\n",
              "  <thead>\n",
              "    <tr style=\"text-align: right;\">\n",
              "      <th></th>\n",
              "      <th>Rating</th>\n",
              "    </tr>\n",
              "  </thead>\n",
              "  <tbody>\n",
              "    <tr>\n",
              "      <th>count</th>\n",
              "      <td>216.000000</td>\n",
              "    </tr>\n",
              "    <tr>\n",
              "      <th>mean</th>\n",
              "      <td>4.152778</td>\n",
              "    </tr>\n",
              "    <tr>\n",
              "      <th>std</th>\n",
              "      <td>0.632302</td>\n",
              "    </tr>\n",
              "    <tr>\n",
              "      <th>min</th>\n",
              "      <td>2.000000</td>\n",
              "    </tr>\n",
              "    <tr>\n",
              "      <th>25%</th>\n",
              "      <td>4.000000</td>\n",
              "    </tr>\n",
              "    <tr>\n",
              "      <th>50%</th>\n",
              "      <td>4.000000</td>\n",
              "    </tr>\n",
              "    <tr>\n",
              "      <th>75%</th>\n",
              "      <td>5.000000</td>\n",
              "    </tr>\n",
              "    <tr>\n",
              "      <th>max</th>\n",
              "      <td>5.000000</td>\n",
              "    </tr>\n",
              "  </tbody>\n",
              "</table>\n",
              "</div>"
            ],
            "text/plain": [
              "           Rating\n",
              "count  216.000000\n",
              "mean     4.152778\n",
              "std      0.632302\n",
              "min      2.000000\n",
              "25%      4.000000\n",
              "50%      4.000000\n",
              "75%      5.000000\n",
              "max      5.000000"
            ]
          },
          "metadata": {
            "tags": []
          },
          "execution_count": 37
        }
      ]
    },
    {
      "cell_type": "code",
      "metadata": {
        "colab": {
          "base_uri": "https://localhost:8080/",
          "height": 278
        },
        "id": "bBrxhL55Y4V2",
        "outputId": "dd4b1824-60d3-404c-974d-4fa23a3575f9"
      },
      "source": [
        "df.describe(include=['object'])"
      ],
      "execution_count": null,
      "outputs": [
        {
          "output_type": "execute_result",
          "data": {
            "text/html": [
              "<div>\n",
              "<style scoped>\n",
              "    .dataframe tbody tr th:only-of-type {\n",
              "        vertical-align: middle;\n",
              "    }\n",
              "\n",
              "    .dataframe tbody tr th {\n",
              "        vertical-align: top;\n",
              "    }\n",
              "\n",
              "    .dataframe thead th {\n",
              "        text-align: right;\n",
              "    }\n",
              "</style>\n",
              "<table border=\"1\" class=\"dataframe\">\n",
              "  <thead>\n",
              "    <tr style=\"text-align: right;\">\n",
              "      <th></th>\n",
              "      <th>Timestamp</th>\n",
              "      <th>Name</th>\n",
              "      <th>Age</th>\n",
              "      <th>howoften</th>\n",
              "      <th>Changecell</th>\n",
              "      <th>Uselaptop</th>\n",
              "      <th>Readlaunches</th>\n",
              "      <th>Trynewproduct</th>\n",
              "      <th>Type</th>\n",
              "      <th>Product</th>\n",
              "      <th>Item</th>\n",
              "      <th>Brand(HomeAppliances)</th>\n",
              "      <th>Brand(ITDevices)</th>\n",
              "      <th>Brand(MobileDevices)</th>\n",
              "      <th>Price(HomeAppliances)</th>\n",
              "      <th>Price(ITDevices)</th>\n",
              "      <th>Price(MobileDevices)</th>\n",
              "      <th>Time</th>\n",
              "      <th>Where</th>\n",
              "      <th>Compareprices</th>\n",
              "      <th>Research</th>\n",
              "      <th>Timespend(10,000 - 30,000)</th>\n",
              "      <th>Timespend(30,000 - 50,000)</th>\n",
              "      <th>Timespend(50,000 - 70,000)</th>\n",
              "      <th>Timespend(70,000 - 1,00,000)</th>\n",
              "      <th>Yearlyspending</th>\n",
              "      <th>Factors</th>\n",
              "      <th>Productfeatures</th>\n",
              "      <th>Easeofuse</th>\n",
              "      <th>Warranty</th>\n",
              "      <th>Recommendationfromsomeone</th>\n",
              "      <th>Salespersonrecommendation</th>\n",
              "      <th>NoUseproduct</th>\n",
              "      <th>Review</th>\n",
              "    </tr>\n",
              "  </thead>\n",
              "  <tbody>\n",
              "    <tr>\n",
              "      <th>count</th>\n",
              "      <td>216</td>\n",
              "      <td>216</td>\n",
              "      <td>216</td>\n",
              "      <td>216</td>\n",
              "      <td>216</td>\n",
              "      <td>216</td>\n",
              "      <td>216</td>\n",
              "      <td>216</td>\n",
              "      <td>216</td>\n",
              "      <td>216</td>\n",
              "      <td>216</td>\n",
              "      <td>216</td>\n",
              "      <td>216</td>\n",
              "      <td>216</td>\n",
              "      <td>216</td>\n",
              "      <td>216</td>\n",
              "      <td>216</td>\n",
              "      <td>216</td>\n",
              "      <td>216</td>\n",
              "      <td>216</td>\n",
              "      <td>216</td>\n",
              "      <td>216</td>\n",
              "      <td>216</td>\n",
              "      <td>216</td>\n",
              "      <td>216</td>\n",
              "      <td>216</td>\n",
              "      <td>216</td>\n",
              "      <td>216</td>\n",
              "      <td>216</td>\n",
              "      <td>216</td>\n",
              "      <td>216</td>\n",
              "      <td>216</td>\n",
              "      <td>216</td>\n",
              "      <td>215</td>\n",
              "    </tr>\n",
              "    <tr>\n",
              "      <th>unique</th>\n",
              "      <td>211</td>\n",
              "      <td>187</td>\n",
              "      <td>4</td>\n",
              "      <td>2</td>\n",
              "      <td>5</td>\n",
              "      <td>5</td>\n",
              "      <td>5</td>\n",
              "      <td>5</td>\n",
              "      <td>2</td>\n",
              "      <td>8</td>\n",
              "      <td>36</td>\n",
              "      <td>8</td>\n",
              "      <td>8</td>\n",
              "      <td>12</td>\n",
              "      <td>9</td>\n",
              "      <td>7</td>\n",
              "      <td>8</td>\n",
              "      <td>2</td>\n",
              "      <td>10</td>\n",
              "      <td>2</td>\n",
              "      <td>16</td>\n",
              "      <td>5</td>\n",
              "      <td>5</td>\n",
              "      <td>8</td>\n",
              "      <td>5</td>\n",
              "      <td>6</td>\n",
              "      <td>16</td>\n",
              "      <td>4</td>\n",
              "      <td>4</td>\n",
              "      <td>4</td>\n",
              "      <td>4</td>\n",
              "      <td>4</td>\n",
              "      <td>4</td>\n",
              "      <td>73</td>\n",
              "    </tr>\n",
              "    <tr>\n",
              "      <th>top</th>\n",
              "      <td>4/1/2021 22:31</td>\n",
              "      <td>Sara</td>\n",
              "      <td>18-25</td>\n",
              "      <td>Regularly</td>\n",
              "      <td>Rarely</td>\n",
              "      <td>Always</td>\n",
              "      <td>Sometimes</td>\n",
              "      <td>Very Often</td>\n",
              "      <td>New</td>\n",
              "      <td>Home appliances</td>\n",
              "      <td>Smartphone</td>\n",
              "      <td>Whirlpool</td>\n",
              "      <td>Lenovo</td>\n",
              "      <td>Realme</td>\n",
              "      <td>40,000 - 50,000</td>\n",
              "      <td>30,000 - 40,000</td>\n",
              "      <td>30,000 - 40,000</td>\n",
              "      <td>During the sale</td>\n",
              "      <td>Online</td>\n",
              "      <td>Yes</td>\n",
              "      <td>Ask a friend/colleague/family member for their...</td>\n",
              "      <td>2 - 4 days</td>\n",
              "      <td>5-10 days</td>\n",
              "      <td>2 - 4 weeks</td>\n",
              "      <td>1-3 months</td>\n",
              "      <td>40,000 - 60,000</td>\n",
              "      <td>Reliability of a product, Quality of a product</td>\n",
              "      <td>Extremely important</td>\n",
              "      <td>Very important</td>\n",
              "      <td>Extremely important</td>\n",
              "      <td>Moderately important</td>\n",
              "      <td>Moderately important</td>\n",
              "      <td>Sell on as second-hand</td>\n",
              "      <td>Good</td>\n",
              "    </tr>\n",
              "    <tr>\n",
              "      <th>freq</th>\n",
              "      <td>2</td>\n",
              "      <td>3</td>\n",
              "      <td>84</td>\n",
              "      <td>117</td>\n",
              "      <td>62</td>\n",
              "      <td>93</td>\n",
              "      <td>64</td>\n",
              "      <td>76</td>\n",
              "      <td>162</td>\n",
              "      <td>68</td>\n",
              "      <td>60</td>\n",
              "      <td>101</td>\n",
              "      <td>102</td>\n",
              "      <td>54</td>\n",
              "      <td>50</td>\n",
              "      <td>50</td>\n",
              "      <td>60</td>\n",
              "      <td>172</td>\n",
              "      <td>62</td>\n",
              "      <td>209</td>\n",
              "      <td>40</td>\n",
              "      <td>102</td>\n",
              "      <td>92</td>\n",
              "      <td>91</td>\n",
              "      <td>139</td>\n",
              "      <td>106</td>\n",
              "      <td>62</td>\n",
              "      <td>103</td>\n",
              "      <td>107</td>\n",
              "      <td>103</td>\n",
              "      <td>148</td>\n",
              "      <td>106</td>\n",
              "      <td>126</td>\n",
              "      <td>45</td>\n",
              "    </tr>\n",
              "  </tbody>\n",
              "</table>\n",
              "</div>"
            ],
            "text/plain": [
              "             Timestamp  Name  ...            NoUseproduct Review\n",
              "count              216   216  ...                     216    215\n",
              "unique             211   187  ...                       4     73\n",
              "top     4/1/2021 22:31  Sara  ...  Sell on as second-hand   Good\n",
              "freq                 2     3  ...                     126     45\n",
              "\n",
              "[4 rows x 34 columns]"
            ]
          },
          "metadata": {
            "tags": []
          },
          "execution_count": 4
        }
      ]
    },
    {
      "cell_type": "markdown",
      "metadata": {
        "id": "rs2HmjE8PDtH"
      },
      "source": [
        "**Checking Null Values**"
      ]
    },
    {
      "cell_type": "code",
      "metadata": {
        "colab": {
          "base_uri": "https://localhost:8080/"
        },
        "id": "j2a78YBMj82u",
        "outputId": "9f02f34f-7fd5-4620-c003-c824ea3a6022"
      },
      "source": [
        "df.isnull().sum()"
      ],
      "execution_count": null,
      "outputs": [
        {
          "output_type": "execute_result",
          "data": {
            "text/plain": [
              "Name                            0\n",
              "Age                             0\n",
              "howoften                        0\n",
              "Changecell                      0\n",
              "Uselaptop                       0\n",
              "Readlaunches                    0\n",
              "Trynewproduct                   0\n",
              "Type                            0\n",
              "Product                         0\n",
              "Item                            0\n",
              "Brand(HomeAppliances)           0\n",
              "Brand(ITDevices)                0\n",
              "Brand(MobileDevices)            0\n",
              "Price(HomeAppliances)           0\n",
              "Price(ITDevices)                0\n",
              "Price(MobileDevices)            0\n",
              "Time                            0\n",
              "Where                           0\n",
              "Compareprices                   0\n",
              "Research                        0\n",
              "Timespend(10,000 - 30,000)      0\n",
              "Timespend(30,000 - 50,000)      0\n",
              "Timespend(50,000 - 70,000)      0\n",
              "Timespend(70,000 - 1,00,000)    0\n",
              "Yearlyspending                  0\n",
              "Factors                         0\n",
              "Productfeatures                 0\n",
              "Easeofuse                       0\n",
              "Warranty                        0\n",
              "Recommendationfromsomeone       0\n",
              "Salespersonrecommendation       0\n",
              "NoUseproduct                    0\n",
              "Rating                          0\n",
              "Review                          1\n",
              "dtype: int64"
            ]
          },
          "metadata": {
            "tags": []
          },
          "execution_count": 39
        }
      ]
    },
    {
      "cell_type": "markdown",
      "metadata": {
        "id": "gXmBkF0WOWOF"
      },
      "source": [
        "**Finding Duplicate values**"
      ]
    },
    {
      "cell_type": "code",
      "metadata": {
        "colab": {
          "base_uri": "https://localhost:8080/"
        },
        "id": "UHhe74WnN4V6",
        "outputId": "2b27ec11-c877-47c6-88fc-ced128b49f5a"
      },
      "source": [
        "df.duplicated()"
      ],
      "execution_count": null,
      "outputs": [
        {
          "output_type": "execute_result",
          "data": {
            "text/plain": [
              "0      False\n",
              "1      False\n",
              "2      False\n",
              "3      False\n",
              "4      False\n",
              "       ...  \n",
              "211    False\n",
              "212    False\n",
              "213    False\n",
              "214    False\n",
              "215    False\n",
              "Length: 216, dtype: bool"
            ]
          },
          "metadata": {
            "tags": []
          },
          "execution_count": 9
        }
      ]
    },
    {
      "cell_type": "markdown",
      "metadata": {
        "id": "zg7zRL0zPg1y"
      },
      "source": [
        "### **Data Visualization**"
      ]
    },
    {
      "cell_type": "markdown",
      "metadata": {
        "id": "h0XIAjDZPuqs"
      },
      "source": [
        "Data Visualization of single column"
      ]
    },
    {
      "cell_type": "code",
      "metadata": {
        "colab": {
          "base_uri": "https://localhost:8080/",
          "height": 265
        },
        "id": "NxEoD1MQkWb7",
        "outputId": "90abad45-09d9-44bc-b030-412f8ee9db42"
      },
      "source": [
        "df['Type'].hist();"
      ],
      "execution_count": 56,
      "outputs": [
        {
          "output_type": "display_data",
          "data": {
            "image/png": "[encoded data removed]",
            "text/plain": [
              "<Figure size 432x288 with 1 Axes>"
            ]
          },
          "metadata": {
            "tags": [],
            "needs_background": "light"
          }
        }
      ]
    },
    {
      "cell_type": "code",
      "metadata": {
        "colab": {
          "base_uri": "https://localhost:8080/"
        },
        "id": "hJVDuxC3Atm6",
        "outputId": "9d7861de-3ae9-4ea4-efda-caf5dc9762eb"
      },
      "source": [
        "df['Brand(HomeAppliances)'].value_counts(ascending=True)"
      ],
      "execution_count": 57,
      "outputs": [
        {
          "output_type": "execute_result",
          "data": {
            "text/plain": [
              "Kenstar        1\n",
              "Sony           1\n",
              "Wh             1\n",
              "Bajaj          2\n",
              "Godrej        24\n",
              "LG            35\n",
              "Samsung       51\n",
              "Whirlpool    101\n",
              "Name: Brand(HomeAppliances), dtype: int64"
            ]
          },
          "metadata": {
            "tags": []
          },
          "execution_count": 57
        }
      ]
    },
    {
      "cell_type": "code",
      "metadata": {
        "colab": {
          "base_uri": "https://localhost:8080/",
          "height": 404
        },
        "id": "NZ69tEksldv4",
        "outputId": "47a5f30b-e0b8-4f68-d8e0-7b341e4440ca"
      },
      "source": [
        "plt.figure(figsize=(12,6))\n",
        "sns.countplot(x='Brand(HomeAppliances)',data=df)\n",
        "plt.title(\"Brands of Home Appliances\")\n",
        "plt.show()"
      ],
      "execution_count": 41,
      "outputs": [
        {
          "output_type": "display_data",
          "data": {
            "image/png": "[encoded data removed]",
            "text/plain": [
              "<Figure size 864x432 with 1 Axes>"
            ]
          },
          "metadata": {
            "tags": [],
            "needs_background": "light"
          }
        }
      ]
    },
    {
      "cell_type": "code",
      "metadata": {
        "colab": {
          "base_uri": "https://localhost:8080/"
        },
        "id": "cfLfcqi7BuR6",
        "outputId": "2ca652e5-2819-448f-ce8c-02f9475db4f7"
      },
      "source": [
        "df['Brand(ITDevices)'].value_counts(ascending=True)"
      ],
      "execution_count": 48,
      "outputs": [
        {
          "output_type": "execute_result",
          "data": {
            "text/plain": [
              "Espon              1\n",
              "Acer predator      1\n",
              "MIS                1\n",
              "Acer               2\n",
              "Apple             17\n",
              "Dell              43\n",
              "HP                49\n",
              "Lenovo           102\n",
              "Name: Brand(ITDevices), dtype: int64"
            ]
          },
          "metadata": {
            "tags": []
          },
          "execution_count": 48
        }
      ]
    },
    {
      "cell_type": "code",
      "metadata": {
        "colab": {
          "base_uri": "https://localhost:8080/",
          "height": 404
        },
        "id": "U4PXj7UZB0ct",
        "outputId": "5ee09eb4-ca3c-47f0-e338-c1471953d9f8"
      },
      "source": [
        "plt.figure(figsize=(12,6))\n",
        "sns.countplot(x='Brand(ITDevices)',data=df)\n",
        "plt.title(\"Brands of IT Devices\")\n",
        "plt.show()"
      ],
      "execution_count": 52,
      "outputs": [
        {
          "output_type": "display_data",
          "data": {
            "image/png": "[encoded data removed]",
            "text/plain": [
              "<Figure size 864x432 with 1 Axes>"
            ]
          },
          "metadata": {
            "tags": [],
            "needs_background": "light"
          }
        }
      ]
    },
    {
      "cell_type": "code",
      "metadata": {
        "colab": {
          "base_uri": "https://localhost:8080/"
        },
        "id": "fJadH94GCF-4",
        "outputId": "229eaca5-f4c7-4b3e-b266-c4d2b06377e4"
      },
      "source": [
        "df['Brand(MobileDevices)'].value_counts(ascending=True)"
      ],
      "execution_count": 58,
      "outputs": [
        {
          "output_type": "execute_result",
          "data": {
            "text/plain": [
              "OPPO        1\n",
              "Lenovo      1\n",
              "HP          1\n",
              "Oppo        2\n",
              "Redmi       2\n",
              "Nokia       4\n",
              "Xiaomi      7\n",
              "Apple      24\n",
              "Moto       36\n",
              "Samsung    38\n",
              "OnePlus    46\n",
              "Realme     54\n",
              "Name: Brand(MobileDevices), dtype: int64"
            ]
          },
          "metadata": {
            "tags": []
          },
          "execution_count": 58
        }
      ]
    },
    {
      "cell_type": "code",
      "metadata": {
        "colab": {
          "base_uri": "https://localhost:8080/",
          "height": 404
        },
        "id": "CfE_-qbdCwiL",
        "outputId": "f83bf6bf-accb-4476-cab4-0eaf567d81ff"
      },
      "source": [
        "plt.figure(figsize=(12,6))\n",
        "sns.countplot(x='Brand(MobileDevices)',data=df)\n",
        "plt.title(\"Brands of Mobile Devices\")\n",
        "plt.show()"
      ],
      "execution_count": 59,
      "outputs": [
        {
          "output_type": "display_data",
          "data": {
            "image/png": "[encoded data removed]",
            "text/plain": [
              "<Figure size 864x432 with 1 Axes>"
            ]
          },
          "metadata": {
            "tags": [],
            "needs_background": "light"
          }
        }
      ]
    },
    {
      "cell_type": "markdown",
      "metadata": {
        "id": "ld2ZJdJ82ihf"
      },
      "source": [
        "Data Visualization of two columns"
      ]
    },
    {
      "cell_type": "code",
      "metadata": {
        "colab": {
          "base_uri": "https://localhost:8080/",
          "height": 279
        },
        "id": "wRV_GE9PnPQw",
        "outputId": "fe72d53c-eb48-4531-c68e-114c158eb8fa"
      },
      "source": [
        "sns.countplot(data=df, x='Age',hue='Type');"
      ],
      "execution_count": 45,
      "outputs": [
        {
          "output_type": "display_data",
          "data": {
            "image/png": "[encoded data removed]",
            "text/plain": [
              "<Figure size 432x288 with 1 Axes>"
            ]
          },
          "metadata": {
            "tags": [],
            "needs_background": "light"
          }
        }
      ]
    },
    {
      "cell_type": "code",
      "metadata": {
        "id": "P5qejr65qTHB",
        "colab": {
          "base_uri": "https://localhost:8080/",
          "height": 279
        },
        "outputId": "80336106-03ec-4f07-e90f-56743b5b9fca"
      },
      "source": [
        "#ratings of home appliances\n",
        "sns.countplot(data=df, x='Rating',hue='Brand(HomeAppliances)');"
      ],
      "execution_count": 89,
      "outputs": [
        {
          "output_type": "display_data",
          "data": {
            "image/png": "[encoded data removed]",
            "text/plain": [
              "<Figure size 432x288 with 1 Axes>"
            ]
          },
          "metadata": {
            "tags": [],
            "needs_background": "light"
          }
        }
      ]
    },
    {
      "cell_type": "code",
      "metadata": {
        "colab": {
          "base_uri": "https://localhost:8080/",
          "height": 296
        },
        "id": "l0SGq00AryEv",
        "outputId": "ea4ff9c7-18df-4f74-98f1-5603d4cb36a1"
      },
      "source": [
        "#ratings of IT using kind keyword\n",
        "fig = plt.figure(figsize = (10,4));\n",
        "df.plot(x = \"Brand(ITDevices)\", y =\"Rating\" ,kind=\"scatter\");"
      ],
      "execution_count": 81,
      "outputs": [
        {
          "output_type": "display_data",
          "data": {
            "text/plain": [
              "<Figure size 720x288 with 0 Axes>"
            ]
          },
          "metadata": {
            "tags": []
          }
        },
        {
          "output_type": "display_data",
          "data": {
            "image/png": "[encoded data removed]",
            "text/plain": [
              "<Figure size 432x288 with 1 Axes>"
            ]
          },
          "metadata": {
            "tags": [],
            "needs_background": "light"
          }
        }
      ]
    },
    {
      "cell_type": "code",
      "metadata": {
        "colab": {
          "base_uri": "https://localhost:8080/",
          "height": 279
        },
        "id": "NaGf-aFBESAy",
        "outputId": "e9570b95-c263-4328-d531-80eea6e3936a"
      },
      "source": [
        "#rating of mobiledevices\n",
        "sns.countplot(data=df, x='Rating',hue='Brand(MobileDevices)');"
      ],
      "execution_count": 86,
      "outputs": [
        {
          "output_type": "display_data",
          "data": {
            "image/png": "[encoded data removed]",
            "text/plain": [
              "<Figure size 432x288 with 1 Axes>"
            ]
          },
          "metadata": {
            "tags": [],
            "needs_background": "light"
          }
        }
      ]
    },
    {
      "cell_type": "code",
      "metadata": {
        "id": "d9v_ZA0-F3gl"
      },
      "source": [
        ""
      ],
      "execution_count": null,
      "outputs": []
    }
  ]
}