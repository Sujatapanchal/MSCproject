{
  "nbformat": 4,
  "nbformat_minor": 0,
  "metadata": {
    "colab": {
      "name": "Product Analysis.ipynb",
      "provenance": [],
      "collapsed_sections": [],
      "authorship_tag": "ABX9TyM5EC7ojPBhMPK4lCTC9ypR",
      "include_colab_link": true
    },
    "kernelspec": {
      "name": "python3",
      "display_name": "Python 3"
    },
    "language_info": {
      "name": "python"
    }
  },
  "cells": [
    {
      "cell_type": "markdown",
      "metadata": {
        "id": "view-in-github",
        "colab_type": "text"
      },
      "source": [
        "<a href=\"https://colab.research.google.com/github/sujata1606/Data-Science-Project/blob/main/Product_Analysis.ipynb\" target=\"_parent\"><img src=\"https://colab.research.google.com/assets/colab-badge.svg\" alt=\"Open In Colab\"/></a>"
      ]
    },
    {
      "cell_type": "markdown",
      "metadata": {
        "id": "AFgWwQGo8hJF"
      },
      "source": [
        "**Importing Libraries**"
      ]
    },
    {
      "cell_type": "code",
      "metadata": {
        "id": "gYYFWkbb2Igp"
      },
      "source": [
        "import numpy as np\n",
        "import pandas as pd\n",
        "import matplotlib.pyplot as plt\n",
        "import seaborn as sns"
      ],
      "execution_count": 3,
      "outputs": []
    },
    {
      "cell_type": "markdown",
      "metadata": {
        "id": "U4KFBE9U9XQ5"
      },
      "source": [
        "**Load the dataset**"
      ]
    },
    {
      "cell_type": "code",
      "metadata": {
        "id": "6AoAZDim8qxB"
      },
      "source": [
        "df = pd.read_csv('Electronic Products Data.csv')"
      ],
      "execution_count": 25,
      "outputs": []
    },
    {
      "cell_type": "code",
      "metadata": {
        "colab": {
          "base_uri": "https://localhost:8080/",
          "height": 847
        },
        "id": "rM5iXYQ29cTu",
        "outputId": "5adb3bfe-cfd5-4277-ed77-1e1a90cf4eaa"
      },
      "source": [
        "df"
      ],
      "execution_count": 48,
      "outputs": [
        {
          "output_type": "execute_result",
          "data": {
            "text/html": [
              "<div>\n",
              "<style scoped>\n",
              "    .dataframe tbody tr th:only-of-type {\n",
              "        vertical-align: middle;\n",
              "    }\n",
              "\n",
              "    .dataframe tbody tr th {\n",
              "        vertical-align: top;\n",
              "    }\n",
              "\n",
              "    .dataframe thead th {\n",
              "        text-align: right;\n",
              "    }\n",
              "</style>\n",
              "<table border=\"1\" class=\"dataframe\">\n",
              "  <thead>\n",
              "    <tr style=\"text-align: right;\">\n",
              "      <th></th>\n",
              "      <th>Name</th>\n",
              "      <th>Age</th>\n",
              "      <th>howoften</th>\n",
              "      <th>Changecell</th>\n",
              "      <th>Uselaptop</th>\n",
              "      <th>Readlaunches</th>\n",
              "      <th>Trynewproduct</th>\n",
              "      <th>Type</th>\n",
              "      <th>Product</th>\n",
              "      <th>Item</th>\n",
              "      <th>Brand(HomeAppliances)</th>\n",
              "      <th>Brand(ITDevices)</th>\n",
              "      <th>Brand(MobileDevices)</th>\n",
              "      <th>Price(HomeAppliances)</th>\n",
              "      <th>Price(ITDevices)</th>\n",
              "      <th>Price(MobileDevices)</th>\n",
              "      <th>Time</th>\n",
              "      <th>Where</th>\n",
              "      <th>Compareprices</th>\n",
              "      <th>Research</th>\n",
              "      <th>Timespend(10,000 - 30,000)</th>\n",
              "      <th>Timespend(30,000 - 50,000)</th>\n",
              "      <th>Timespend(50,000 - 70,000)</th>\n",
              "      <th>Timespend(70,000 - 1,00,000)</th>\n",
              "      <th>Yearlyspending</th>\n",
              "      <th>Factors</th>\n",
              "      <th>Productfeatures</th>\n",
              "      <th>Easeofuse</th>\n",
              "      <th>Warranty</th>\n",
              "      <th>Recommendationfromsomeone</th>\n",
              "      <th>Salespersonrecommendation</th>\n",
              "      <th>NoUseproduct</th>\n",
              "      <th>Rating</th>\n",
              "      <th>Review</th>\n",
              "    </tr>\n",
              "  </thead>\n",
              "  <tbody>\n",
              "    <tr>\n",
              "      <th>0</th>\n",
              "      <td>Jaypriya</td>\n",
              "      <td>18-25</td>\n",
              "      <td>Occasionally</td>\n",
              "      <td>Rarely</td>\n",
              "      <td>Always</td>\n",
              "      <td>Very Often</td>\n",
              "      <td>Rarely</td>\n",
              "      <td>New</td>\n",
              "      <td>IT Devices</td>\n",
              "      <td>Laptop</td>\n",
              "      <td>LG</td>\n",
              "      <td>Lenovo</td>\n",
              "      <td>Apple</td>\n",
              "      <td>50,000 - 60,000</td>\n",
              "      <td>40,000 - 50,000</td>\n",
              "      <td>30,000 - 40,000</td>\n",
              "      <td>During the sale</td>\n",
              "      <td>In an electronics store</td>\n",
              "      <td>No</td>\n",
              "      <td>Ask a friend/colleague/family member for their...</td>\n",
              "      <td>2 - 4 days</td>\n",
              "      <td>1-3 months</td>\n",
              "      <td>1-3 months</td>\n",
              "      <td>1-3 months</td>\n",
              "      <td>20,000 - 40,000</td>\n",
              "      <td>Pricing of a products</td>\n",
              "      <td>Very important</td>\n",
              "      <td>Very important</td>\n",
              "      <td>Very important</td>\n",
              "      <td>Very important</td>\n",
              "      <td>Very important</td>\n",
              "      <td>Sell on as second-hand</td>\n",
              "      <td>4</td>\n",
              "      <td>Nothing</td>\n",
              "    </tr>\n",
              "    <tr>\n",
              "      <th>1</th>\n",
              "      <td>Mahadik simran</td>\n",
              "      <td>18-25</td>\n",
              "      <td>Occasionally</td>\n",
              "      <td>Sometimes</td>\n",
              "      <td>Sometimes</td>\n",
              "      <td>Sometimes</td>\n",
              "      <td>Very Often</td>\n",
              "      <td>New</td>\n",
              "      <td>IT Devices</td>\n",
              "      <td>Smartphone</td>\n",
              "      <td>Samsung</td>\n",
              "      <td>Dell</td>\n",
              "      <td>Nokia</td>\n",
              "      <td>40,000 - 50,000</td>\n",
              "      <td>30,000 - 40,000</td>\n",
              "      <td>60,000 - 70,000</td>\n",
              "      <td>During the sale</td>\n",
              "      <td>In the exclusive brand store</td>\n",
              "      <td>No</td>\n",
              "      <td>Ask a friend/colleague/family member for his o...</td>\n",
              "      <td>2 - 4 days</td>\n",
              "      <td>5-10 days</td>\n",
              "      <td>2 - 4 weeks</td>\n",
              "      <td>1-3 months</td>\n",
              "      <td>Less than 10,000</td>\n",
              "      <td>Quality of a product</td>\n",
              "      <td>Extremely important</td>\n",
              "      <td>Extremely important</td>\n",
              "      <td>Extremely important</td>\n",
              "      <td>Extremely important</td>\n",
              "      <td>Extremely important</td>\n",
              "      <td>Sell on as second-hand</td>\n",
              "      <td>2</td>\n",
              "      <td>Want to purchase new</td>\n",
              "    </tr>\n",
              "    <tr>\n",
              "      <th>2</th>\n",
              "      <td>Sahil</td>\n",
              "      <td>25-35</td>\n",
              "      <td>Regularly</td>\n",
              "      <td>Rarely</td>\n",
              "      <td>Always</td>\n",
              "      <td>Always</td>\n",
              "      <td>Rarely</td>\n",
              "      <td>Refurbished</td>\n",
              "      <td>Mobile devices</td>\n",
              "      <td>Smartphone</td>\n",
              "      <td>Whirlpool</td>\n",
              "      <td>Lenovo</td>\n",
              "      <td>OnePlus</td>\n",
              "      <td>40,000 - 50,000</td>\n",
              "      <td>40,000 - 50,000</td>\n",
              "      <td>20,000 - 30,000</td>\n",
              "      <td>During the sale</td>\n",
              "      <td>In an electronics store</td>\n",
              "      <td>Yes</td>\n",
              "      <td>Compare them with competitive products</td>\n",
              "      <td>Less than 1 day</td>\n",
              "      <td>2 - 4 weeks</td>\n",
              "      <td>2 - 4 weeks</td>\n",
              "      <td>2 - 4 weeks</td>\n",
              "      <td>20,000 - 40,000</td>\n",
              "      <td>Quality of a product</td>\n",
              "      <td>Moderately important</td>\n",
              "      <td>Moderately important</td>\n",
              "      <td>Moderately important</td>\n",
              "      <td>Moderately important</td>\n",
              "      <td>Not at all important</td>\n",
              "      <td>Sell on as second-hand</td>\n",
              "      <td>4</td>\n",
              "      <td>Nothing</td>\n",
              "    </tr>\n",
              "    <tr>\n",
              "      <th>3</th>\n",
              "      <td>Sonali</td>\n",
              "      <td>18-25</td>\n",
              "      <td>Occasionally</td>\n",
              "      <td>Sometimes</td>\n",
              "      <td>Always</td>\n",
              "      <td>Always</td>\n",
              "      <td>Sometimes</td>\n",
              "      <td>New</td>\n",
              "      <td>IT Devices</td>\n",
              "      <td>Laptop</td>\n",
              "      <td>Samsung</td>\n",
              "      <td>HP</td>\n",
              "      <td>Samsung</td>\n",
              "      <td>20,000 - 30,000</td>\n",
              "      <td>20,000 - 30,000</td>\n",
              "      <td>100 - 10,000</td>\n",
              "      <td>During the sale</td>\n",
              "      <td>In an electronics store</td>\n",
              "      <td>Yes</td>\n",
              "      <td>Compare them with competitive products</td>\n",
              "      <td>5-10 days</td>\n",
              "      <td>2 - 4 days</td>\n",
              "      <td>2 - 4 days</td>\n",
              "      <td>Less than 1 day</td>\n",
              "      <td>20,000 - 40,000</td>\n",
              "      <td>Quality of a product</td>\n",
              "      <td>Moderately important</td>\n",
              "      <td>Moderately important</td>\n",
              "      <td>Moderately important</td>\n",
              "      <td>Not at all important</td>\n",
              "      <td>Moderately important</td>\n",
              "      <td>Sell on as second-hand</td>\n",
              "      <td>5</td>\n",
              "      <td>Its amazing</td>\n",
              "    </tr>\n",
              "    <tr>\n",
              "      <th>4</th>\n",
              "      <td>Namrata</td>\n",
              "      <td>25-35</td>\n",
              "      <td>Regularly</td>\n",
              "      <td>Very Often</td>\n",
              "      <td>Very Often</td>\n",
              "      <td>Very Often</td>\n",
              "      <td>Very Often</td>\n",
              "      <td>New</td>\n",
              "      <td>IT Devices</td>\n",
              "      <td>Laptop</td>\n",
              "      <td>Whirlpool</td>\n",
              "      <td>HP</td>\n",
              "      <td>Nokia</td>\n",
              "      <td>30,000 - 40,000</td>\n",
              "      <td>60,000 - 70,000</td>\n",
              "      <td>30,000 - 40,000</td>\n",
              "      <td>Without the sale (Off Season)</td>\n",
              "      <td>Online</td>\n",
              "      <td>Yes</td>\n",
              "      <td>Ask a friend/colleague/family member for their...</td>\n",
              "      <td>2 - 4 weeks</td>\n",
              "      <td>2 - 4 weeks</td>\n",
              "      <td>2 - 4 days</td>\n",
              "      <td>5-10 days</td>\n",
              "      <td>60,000 - 80,000</td>\n",
              "      <td>Pricing of a product</td>\n",
              "      <td>Very important</td>\n",
              "      <td>Moderately important</td>\n",
              "      <td>Moderately important</td>\n",
              "      <td>Moderately important</td>\n",
              "      <td>Not at all important</td>\n",
              "      <td>Take to local recycling center</td>\n",
              "      <td>4</td>\n",
              "      <td>Good</td>\n",
              "    </tr>\n",
              "    <tr>\n",
              "      <th>...</th>\n",
              "      <td>...</td>\n",
              "      <td>...</td>\n",
              "      <td>...</td>\n",
              "      <td>...</td>\n",
              "      <td>...</td>\n",
              "      <td>...</td>\n",
              "      <td>...</td>\n",
              "      <td>...</td>\n",
              "      <td>...</td>\n",
              "      <td>...</td>\n",
              "      <td>...</td>\n",
              "      <td>...</td>\n",
              "      <td>...</td>\n",
              "      <td>...</td>\n",
              "      <td>...</td>\n",
              "      <td>...</td>\n",
              "      <td>...</td>\n",
              "      <td>...</td>\n",
              "      <td>...</td>\n",
              "      <td>...</td>\n",
              "      <td>...</td>\n",
              "      <td>...</td>\n",
              "      <td>...</td>\n",
              "      <td>...</td>\n",
              "      <td>...</td>\n",
              "      <td>...</td>\n",
              "      <td>...</td>\n",
              "      <td>...</td>\n",
              "      <td>...</td>\n",
              "      <td>...</td>\n",
              "      <td>...</td>\n",
              "      <td>...</td>\n",
              "      <td>...</td>\n",
              "      <td>...</td>\n",
              "    </tr>\n",
              "    <tr>\n",
              "      <th>211</th>\n",
              "      <td>Darshan</td>\n",
              "      <td>25-35</td>\n",
              "      <td>Regularly</td>\n",
              "      <td>Very Often</td>\n",
              "      <td>Always</td>\n",
              "      <td>Always</td>\n",
              "      <td>Sometimes</td>\n",
              "      <td>New</td>\n",
              "      <td>IT Devices</td>\n",
              "      <td>Desktop</td>\n",
              "      <td>Godrej</td>\n",
              "      <td>Acer</td>\n",
              "      <td>HP</td>\n",
              "      <td>50,000 - 60,000</td>\n",
              "      <td>50,000 - 60,000</td>\n",
              "      <td>40,000 - 50,000</td>\n",
              "      <td>During the sale</td>\n",
              "      <td>Online</td>\n",
              "      <td>Yes</td>\n",
              "      <td>Ask a friend/colleague/family member for his o...</td>\n",
              "      <td>Less than 1 day</td>\n",
              "      <td>2 - 4 weeks</td>\n",
              "      <td>1-3 months</td>\n",
              "      <td>5-10 days</td>\n",
              "      <td>20,000 - 40,000</td>\n",
              "      <td>Quality of a product</td>\n",
              "      <td>Moderately important</td>\n",
              "      <td>Moderately important</td>\n",
              "      <td>Very important</td>\n",
              "      <td>Not at all important</td>\n",
              "      <td>Moderately important</td>\n",
              "      <td>Take to local recycling center</td>\n",
              "      <td>3</td>\n",
              "      <td>Good</td>\n",
              "    </tr>\n",
              "    <tr>\n",
              "      <th>212</th>\n",
              "      <td>Raj</td>\n",
              "      <td>18-25</td>\n",
              "      <td>Occasionally</td>\n",
              "      <td>Rarely</td>\n",
              "      <td>Always</td>\n",
              "      <td>Always</td>\n",
              "      <td>Rarely</td>\n",
              "      <td>Refurbished</td>\n",
              "      <td>Home appliances</td>\n",
              "      <td>Television</td>\n",
              "      <td>Samsung</td>\n",
              "      <td>Dell</td>\n",
              "      <td>OnePlus</td>\n",
              "      <td>More than 70,000</td>\n",
              "      <td>30,000 - 40,000</td>\n",
              "      <td>40,000 - 50,000</td>\n",
              "      <td>During the sale</td>\n",
              "      <td>In the exclusive brand store</td>\n",
              "      <td>Yes</td>\n",
              "      <td>Ask a friend/colleague/family member for his o...</td>\n",
              "      <td>2 - 4 days</td>\n",
              "      <td>5-10 days</td>\n",
              "      <td>2 - 4 days</td>\n",
              "      <td>5-10 days</td>\n",
              "      <td>20,000 - 40,000</td>\n",
              "      <td>Reliability of a product</td>\n",
              "      <td>Extremely important</td>\n",
              "      <td>Moderately important</td>\n",
              "      <td>Very important</td>\n",
              "      <td>Not at all important</td>\n",
              "      <td>Moderately important</td>\n",
              "      <td>Give to a friend</td>\n",
              "      <td>4</td>\n",
              "      <td>Extermly good</td>\n",
              "    </tr>\n",
              "    <tr>\n",
              "      <th>213</th>\n",
              "      <td>Sonam</td>\n",
              "      <td>25-35</td>\n",
              "      <td>Regularly</td>\n",
              "      <td>Rarely</td>\n",
              "      <td>Sometimes</td>\n",
              "      <td>Always</td>\n",
              "      <td>Rarely</td>\n",
              "      <td>New</td>\n",
              "      <td>Mobile devices</td>\n",
              "      <td>Smartphone</td>\n",
              "      <td>LG</td>\n",
              "      <td>Apple</td>\n",
              "      <td>Apple</td>\n",
              "      <td>More than 70,000</td>\n",
              "      <td>20,000 - 30,000</td>\n",
              "      <td>50,000 - 60,000</td>\n",
              "      <td>During the sale</td>\n",
              "      <td>Online</td>\n",
              "      <td>Yes</td>\n",
              "      <td>Find out brand reputation</td>\n",
              "      <td>Less than 1 day</td>\n",
              "      <td>2 - 4 weeks</td>\n",
              "      <td>3 - 4 days</td>\n",
              "      <td>Less than 1 day</td>\n",
              "      <td>60,000 - 80,000</td>\n",
              "      <td>Services offered</td>\n",
              "      <td>Extremely important</td>\n",
              "      <td>Moderately important</td>\n",
              "      <td>Very important</td>\n",
              "      <td>Not at all important</td>\n",
              "      <td>Not at all important</td>\n",
              "      <td>Sell on as second-hand</td>\n",
              "      <td>4</td>\n",
              "      <td>wow.....</td>\n",
              "    </tr>\n",
              "    <tr>\n",
              "      <th>214</th>\n",
              "      <td>Kajal</td>\n",
              "      <td>18-25</td>\n",
              "      <td>Occasionally</td>\n",
              "      <td>Sometimes</td>\n",
              "      <td>Very Often</td>\n",
              "      <td>Always</td>\n",
              "      <td>Rarely</td>\n",
              "      <td>New</td>\n",
              "      <td>Mobile devices</td>\n",
              "      <td>Earphones</td>\n",
              "      <td>Godrej</td>\n",
              "      <td>Acer</td>\n",
              "      <td>Realme</td>\n",
              "      <td>100 - 10,000</td>\n",
              "      <td>50,000 - 60,000</td>\n",
              "      <td>10,000 - 20,000</td>\n",
              "      <td>Without the sale (Off Season)</td>\n",
              "      <td>Online</td>\n",
              "      <td>Yes</td>\n",
              "      <td>Read online reviews</td>\n",
              "      <td>5-10 days</td>\n",
              "      <td>1-3 months</td>\n",
              "      <td>4 - 4 days</td>\n",
              "      <td>1-3 months</td>\n",
              "      <td>Less than 10,000</td>\n",
              "      <td>Quality of a product</td>\n",
              "      <td>Very important</td>\n",
              "      <td>Moderately important</td>\n",
              "      <td>Extremely important</td>\n",
              "      <td>Moderately important</td>\n",
              "      <td>Not at all important</td>\n",
              "      <td>Sell on as second-hand</td>\n",
              "      <td>4</td>\n",
              "      <td>Good overall</td>\n",
              "    </tr>\n",
              "    <tr>\n",
              "      <th>215</th>\n",
              "      <td>Naman</td>\n",
              "      <td>25-35</td>\n",
              "      <td>Occasionally</td>\n",
              "      <td>Rarely</td>\n",
              "      <td>Sometimes</td>\n",
              "      <td>Always</td>\n",
              "      <td>Rarely</td>\n",
              "      <td>New</td>\n",
              "      <td>IT Devices</td>\n",
              "      <td>Laptop</td>\n",
              "      <td>Whirlpool</td>\n",
              "      <td>HP</td>\n",
              "      <td>Moto</td>\n",
              "      <td>40,000 - 50,000</td>\n",
              "      <td>30,000 - 40,000</td>\n",
              "      <td>30,000 - 40,000</td>\n",
              "      <td>During the sale</td>\n",
              "      <td>In an electronics store</td>\n",
              "      <td>Yes</td>\n",
              "      <td>Ask a friend/colleague/family member for his o...</td>\n",
              "      <td>2 - 4 days</td>\n",
              "      <td>2 - 4 weeks</td>\n",
              "      <td>5 - 4 days</td>\n",
              "      <td>5-10 days</td>\n",
              "      <td>20,000 - 40,000</td>\n",
              "      <td>Quality of a product</td>\n",
              "      <td>Extremely important</td>\n",
              "      <td>Moderately important</td>\n",
              "      <td>Very important</td>\n",
              "      <td>Not at all important</td>\n",
              "      <td>Not at all important</td>\n",
              "      <td>Take to local recycling center</td>\n",
              "      <td>4</td>\n",
              "      <td>Nothing</td>\n",
              "    </tr>\n",
              "  </tbody>\n",
              "</table>\n",
              "<p>216 rows × 34 columns</p>\n",
              "</div>"
            ],
            "text/plain": [
              "                Name    Age  ... Rating                Review\n",
              "0           Jaypriya  18-25  ...      4               Nothing\n",
              "1    Mahadik simran   18-25  ...      2  Want to purchase new\n",
              "2              Sahil  25-35  ...      4               Nothing\n",
              "3             Sonali  18-25  ...      5           Its amazing\n",
              "4            Namrata  25-35  ...      4                  Good\n",
              "..               ...    ...  ...    ...                   ...\n",
              "211          Darshan  25-35  ...      3                  Good\n",
              "212              Raj  18-25  ...      4         Extermly good\n",
              "213            Sonam  25-35  ...      4              wow.....\n",
              "214            Kajal  18-25  ...      4          Good overall\n",
              "215            Naman  25-35  ...      4               Nothing\n",
              "\n",
              "[216 rows x 34 columns]"
            ]
          },
          "metadata": {
            "tags": []
          },
          "execution_count": 48
        }
      ]
    },
    {
      "cell_type": "code",
      "metadata": {
        "colab": {
          "base_uri": "https://localhost:8080/",
          "height": 445
        },
        "id": "dazXFTvx9oSQ",
        "outputId": "533cd622-9df9-49da-df3b-a5301e7e876c"
      },
      "source": [
        "df.head()"
      ],
      "execution_count": 49,
      "outputs": [
        {
          "output_type": "execute_result",
          "data": {
            "text/html": [
              "<div>\n",
              "<style scoped>\n",
              "    .dataframe tbody tr th:only-of-type {\n",
              "        vertical-align: middle;\n",
              "    }\n",
              "\n",
              "    .dataframe tbody tr th {\n",
              "        vertical-align: top;\n",
              "    }\n",
              "\n",
              "    .dataframe thead th {\n",
              "        text-align: right;\n",
              "    }\n",
              "</style>\n",
              "<table border=\"1\" class=\"dataframe\">\n",
              "  <thead>\n",
              "    <tr style=\"text-align: right;\">\n",
              "      <th></th>\n",
              "      <th>Name</th>\n",
              "      <th>Age</th>\n",
              "      <th>howoften</th>\n",
              "      <th>Changecell</th>\n",
              "      <th>Uselaptop</th>\n",
              "      <th>Readlaunches</th>\n",
              "      <th>Trynewproduct</th>\n",
              "      <th>Type</th>\n",
              "      <th>Product</th>\n",
              "      <th>Item</th>\n",
              "      <th>Brand(HomeAppliances)</th>\n",
              "      <th>Brand(ITDevices)</th>\n",
              "      <th>Brand(MobileDevices)</th>\n",
              "      <th>Price(HomeAppliances)</th>\n",
              "      <th>Price(ITDevices)</th>\n",
              "      <th>Price(MobileDevices)</th>\n",
              "      <th>Time</th>\n",
              "      <th>Where</th>\n",
              "      <th>Compareprices</th>\n",
              "      <th>Research</th>\n",
              "      <th>Timespend(10,000 - 30,000)</th>\n",
              "      <th>Timespend(30,000 - 50,000)</th>\n",
              "      <th>Timespend(50,000 - 70,000)</th>\n",
              "      <th>Timespend(70,000 - 1,00,000)</th>\n",
              "      <th>Yearlyspending</th>\n",
              "      <th>Factors</th>\n",
              "      <th>Productfeatures</th>\n",
              "      <th>Easeofuse</th>\n",
              "      <th>Warranty</th>\n",
              "      <th>Recommendationfromsomeone</th>\n",
              "      <th>Salespersonrecommendation</th>\n",
              "      <th>NoUseproduct</th>\n",
              "      <th>Rating</th>\n",
              "      <th>Review</th>\n",
              "    </tr>\n",
              "  </thead>\n",
              "  <tbody>\n",
              "    <tr>\n",
              "      <th>0</th>\n",
              "      <td>Jaypriya</td>\n",
              "      <td>18-25</td>\n",
              "      <td>Occasionally</td>\n",
              "      <td>Rarely</td>\n",
              "      <td>Always</td>\n",
              "      <td>Very Often</td>\n",
              "      <td>Rarely</td>\n",
              "      <td>New</td>\n",
              "      <td>IT Devices</td>\n",
              "      <td>Laptop</td>\n",
              "      <td>LG</td>\n",
              "      <td>Lenovo</td>\n",
              "      <td>Apple</td>\n",
              "      <td>50,000 - 60,000</td>\n",
              "      <td>40,000 - 50,000</td>\n",
              "      <td>30,000 - 40,000</td>\n",
              "      <td>During the sale</td>\n",
              "      <td>In an electronics store</td>\n",
              "      <td>No</td>\n",
              "      <td>Ask a friend/colleague/family member for their...</td>\n",
              "      <td>2 - 4 days</td>\n",
              "      <td>1-3 months</td>\n",
              "      <td>1-3 months</td>\n",
              "      <td>1-3 months</td>\n",
              "      <td>20,000 - 40,000</td>\n",
              "      <td>Pricing of a products</td>\n",
              "      <td>Very important</td>\n",
              "      <td>Very important</td>\n",
              "      <td>Very important</td>\n",
              "      <td>Very important</td>\n",
              "      <td>Very important</td>\n",
              "      <td>Sell on as second-hand</td>\n",
              "      <td>4</td>\n",
              "      <td>Nothing</td>\n",
              "    </tr>\n",
              "    <tr>\n",
              "      <th>1</th>\n",
              "      <td>Mahadik simran</td>\n",
              "      <td>18-25</td>\n",
              "      <td>Occasionally</td>\n",
              "      <td>Sometimes</td>\n",
              "      <td>Sometimes</td>\n",
              "      <td>Sometimes</td>\n",
              "      <td>Very Often</td>\n",
              "      <td>New</td>\n",
              "      <td>IT Devices</td>\n",
              "      <td>Smartphone</td>\n",
              "      <td>Samsung</td>\n",
              "      <td>Dell</td>\n",
              "      <td>Nokia</td>\n",
              "      <td>40,000 - 50,000</td>\n",
              "      <td>30,000 - 40,000</td>\n",
              "      <td>60,000 - 70,000</td>\n",
              "      <td>During the sale</td>\n",
              "      <td>In the exclusive brand store</td>\n",
              "      <td>No</td>\n",
              "      <td>Ask a friend/colleague/family member for his o...</td>\n",
              "      <td>2 - 4 days</td>\n",
              "      <td>5-10 days</td>\n",
              "      <td>2 - 4 weeks</td>\n",
              "      <td>1-3 months</td>\n",
              "      <td>Less than 10,000</td>\n",
              "      <td>Quality of a product</td>\n",
              "      <td>Extremely important</td>\n",
              "      <td>Extremely important</td>\n",
              "      <td>Extremely important</td>\n",
              "      <td>Extremely important</td>\n",
              "      <td>Extremely important</td>\n",
              "      <td>Sell on as second-hand</td>\n",
              "      <td>2</td>\n",
              "      <td>Want to purchase new</td>\n",
              "    </tr>\n",
              "    <tr>\n",
              "      <th>2</th>\n",
              "      <td>Sahil</td>\n",
              "      <td>25-35</td>\n",
              "      <td>Regularly</td>\n",
              "      <td>Rarely</td>\n",
              "      <td>Always</td>\n",
              "      <td>Always</td>\n",
              "      <td>Rarely</td>\n",
              "      <td>Refurbished</td>\n",
              "      <td>Mobile devices</td>\n",
              "      <td>Smartphone</td>\n",
              "      <td>Whirlpool</td>\n",
              "      <td>Lenovo</td>\n",
              "      <td>OnePlus</td>\n",
              "      <td>40,000 - 50,000</td>\n",
              "      <td>40,000 - 50,000</td>\n",
              "      <td>20,000 - 30,000</td>\n",
              "      <td>During the sale</td>\n",
              "      <td>In an electronics store</td>\n",
              "      <td>Yes</td>\n",
              "      <td>Compare them with competitive products</td>\n",
              "      <td>Less than 1 day</td>\n",
              "      <td>2 - 4 weeks</td>\n",
              "      <td>2 - 4 weeks</td>\n",
              "      <td>2 - 4 weeks</td>\n",
              "      <td>20,000 - 40,000</td>\n",
              "      <td>Quality of a product</td>\n",
              "      <td>Moderately important</td>\n",
              "      <td>Moderately important</td>\n",
              "      <td>Moderately important</td>\n",
              "      <td>Moderately important</td>\n",
              "      <td>Not at all important</td>\n",
              "      <td>Sell on as second-hand</td>\n",
              "      <td>4</td>\n",
              "      <td>Nothing</td>\n",
              "    </tr>\n",
              "    <tr>\n",
              "      <th>3</th>\n",
              "      <td>Sonali</td>\n",
              "      <td>18-25</td>\n",
              "      <td>Occasionally</td>\n",
              "      <td>Sometimes</td>\n",
              "      <td>Always</td>\n",
              "      <td>Always</td>\n",
              "      <td>Sometimes</td>\n",
              "      <td>New</td>\n",
              "      <td>IT Devices</td>\n",
              "      <td>Laptop</td>\n",
              "      <td>Samsung</td>\n",
              "      <td>HP</td>\n",
              "      <td>Samsung</td>\n",
              "      <td>20,000 - 30,000</td>\n",
              "      <td>20,000 - 30,000</td>\n",
              "      <td>100 - 10,000</td>\n",
              "      <td>During the sale</td>\n",
              "      <td>In an electronics store</td>\n",
              "      <td>Yes</td>\n",
              "      <td>Compare them with competitive products</td>\n",
              "      <td>5-10 days</td>\n",
              "      <td>2 - 4 days</td>\n",
              "      <td>2 - 4 days</td>\n",
              "      <td>Less than 1 day</td>\n",
              "      <td>20,000 - 40,000</td>\n",
              "      <td>Quality of a product</td>\n",
              "      <td>Moderately important</td>\n",
              "      <td>Moderately important</td>\n",
              "      <td>Moderately important</td>\n",
              "      <td>Not at all important</td>\n",
              "      <td>Moderately important</td>\n",
              "      <td>Sell on as second-hand</td>\n",
              "      <td>5</td>\n",
              "      <td>Its amazing</td>\n",
              "    </tr>\n",
              "    <tr>\n",
              "      <th>4</th>\n",
              "      <td>Namrata</td>\n",
              "      <td>25-35</td>\n",
              "      <td>Regularly</td>\n",
              "      <td>Very Often</td>\n",
              "      <td>Very Often</td>\n",
              "      <td>Very Often</td>\n",
              "      <td>Very Often</td>\n",
              "      <td>New</td>\n",
              "      <td>IT Devices</td>\n",
              "      <td>Laptop</td>\n",
              "      <td>Whirlpool</td>\n",
              "      <td>HP</td>\n",
              "      <td>Nokia</td>\n",
              "      <td>30,000 - 40,000</td>\n",
              "      <td>60,000 - 70,000</td>\n",
              "      <td>30,000 - 40,000</td>\n",
              "      <td>Without the sale (Off Season)</td>\n",
              "      <td>Online</td>\n",
              "      <td>Yes</td>\n",
              "      <td>Ask a friend/colleague/family member for their...</td>\n",
              "      <td>2 - 4 weeks</td>\n",
              "      <td>2 - 4 weeks</td>\n",
              "      <td>2 - 4 days</td>\n",
              "      <td>5-10 days</td>\n",
              "      <td>60,000 - 80,000</td>\n",
              "      <td>Pricing of a product</td>\n",
              "      <td>Very important</td>\n",
              "      <td>Moderately important</td>\n",
              "      <td>Moderately important</td>\n",
              "      <td>Moderately important</td>\n",
              "      <td>Not at all important</td>\n",
              "      <td>Take to local recycling center</td>\n",
              "      <td>4</td>\n",
              "      <td>Good</td>\n",
              "    </tr>\n",
              "  </tbody>\n",
              "</table>\n",
              "</div>"
            ],
            "text/plain": [
              "              Name    Age  ... Rating                Review\n",
              "0         Jaypriya  18-25  ...      4               Nothing\n",
              "1  Mahadik simran   18-25  ...      2  Want to purchase new\n",
              "2            Sahil  25-35  ...      4               Nothing\n",
              "3           Sonali  18-25  ...      5           Its amazing\n",
              "4          Namrata  25-35  ...      4                  Good\n",
              "\n",
              "[5 rows x 34 columns]"
            ]
          },
          "metadata": {
            "tags": []
          },
          "execution_count": 49
        }
      ]
    },
    {
      "cell_type": "markdown",
      "metadata": {
        "id": "xOYQDwmM9vc1"
      },
      "source": [
        "Dropping the timestamp column\n"
      ]
    },
    {
      "cell_type": "code",
      "metadata": {
        "id": "eq4r9MSd9vEf"
      },
      "source": [
        "df.drop('Timestamp',axis=1,inplace=True)"
      ],
      "execution_count": 28,
      "outputs": []
    },
    {
      "cell_type": "code",
      "metadata": {
        "colab": {
          "base_uri": "https://localhost:8080/"
        },
        "id": "noNDG2dV-IdA",
        "outputId": "8cbd9813-8d99-4a85-fb87-a2a66cfb9312"
      },
      "source": [
        "df.info()"
      ],
      "execution_count": 29,
      "outputs": [
        {
          "output_type": "stream",
          "text": [
            "<class 'pandas.core.frame.DataFrame'>\n",
            "RangeIndex: 216 entries, 0 to 215\n",
            "Data columns (total 34 columns):\n",
            " #   Column                        Non-Null Count  Dtype \n",
            "---  ------                        --------------  ----- \n",
            " 0   Name                          216 non-null    object\n",
            " 1   Age                           216 non-null    object\n",
            " 2   howoften                      216 non-null    object\n",
            " 3   Changecell                    216 non-null    object\n",
            " 4   Uselaptop                     216 non-null    object\n",
            " 5   Readlaunches                  216 non-null    object\n",
            " 6   Trynewproduct                 216 non-null    object\n",
            " 7   Type                          216 non-null    object\n",
            " 8   Product                       216 non-null    object\n",
            " 9   Item                          216 non-null    object\n",
            " 10  Brand(HomeAppliances)         216 non-null    object\n",
            " 11  Brand(ITDevices)              216 non-null    object\n",
            " 12  Brand(MobileDevices)          216 non-null    object\n",
            " 13  Price(HomeAppliances)         216 non-null    object\n",
            " 14  Price(ITDevices)              216 non-null    object\n",
            " 15  Price(MobileDevices)          216 non-null    object\n",
            " 16  Time                          216 non-null    object\n",
            " 17  Where                         216 non-null    object\n",
            " 18  Compareprices                 216 non-null    object\n",
            " 19  Research                      216 non-null    object\n",
            " 20  Timespend(10,000 - 30,000)    216 non-null    object\n",
            " 21  Timespend(30,000 - 50,000)    216 non-null    object\n",
            " 22  Timespend(50,000 - 70,000)    216 non-null    object\n",
            " 23  Timespend(70,000 - 1,00,000)  216 non-null    object\n",
            " 24  Yearlyspending                216 non-null    object\n",
            " 25  Factors                       216 non-null    object\n",
            " 26  Productfeatures               216 non-null    object\n",
            " 27  Easeofuse                     216 non-null    object\n",
            " 28  Warranty                      216 non-null    object\n",
            " 29  Recommendationfromsomeone     216 non-null    object\n",
            " 30  Salespersonrecommendation     216 non-null    object\n",
            " 31  NoUseproduct                  216 non-null    object\n",
            " 32  Rating                        216 non-null    int64 \n",
            " 33  Review                        215 non-null    object\n",
            "dtypes: int64(1), object(33)\n",
            "memory usage: 57.5+ KB\n"
          ],
          "name": "stdout"
        }
      ]
    },
    {
      "cell_type": "code",
      "metadata": {
        "colab": {
          "base_uri": "https://localhost:8080/"
        },
        "id": "V2S0TTXn-SIc",
        "outputId": "95c6393b-65d0-4fbc-b67a-9abec9fcecca"
      },
      "source": [
        "#Check the number of rows and columns\n",
        "rows,columns=df.shape\n",
        "print('Number of rows: ',rows)\n",
        "print('Number of columns: ',columns)\n",
        "\n"
      ],
      "execution_count": 30,
      "outputs": [
        {
          "output_type": "stream",
          "text": [
            "Number of rows:  216\n",
            "Number of columns:  34\n"
          ],
          "name": "stdout"
        }
      ]
    },
    {
      "cell_type": "code",
      "metadata": {
        "colab": {
          "base_uri": "https://localhost:8080/"
        },
        "id": "EqJH5S9Z--XO",
        "outputId": "13c5314a-8cff-4a8e-fcfb-0896b0b5a61f"
      },
      "source": [
        "df.dtypes"
      ],
      "execution_count": 31,
      "outputs": [
        {
          "output_type": "execute_result",
          "data": {
            "text/plain": [
              "Name                            object\n",
              "Age                             object\n",
              "howoften                        object\n",
              "Changecell                      object\n",
              "Uselaptop                       object\n",
              "Readlaunches                    object\n",
              "Trynewproduct                   object\n",
              "Type                            object\n",
              "Product                         object\n",
              "Item                            object\n",
              "Brand(HomeAppliances)           object\n",
              "Brand(ITDevices)                object\n",
              "Brand(MobileDevices)            object\n",
              "Price(HomeAppliances)           object\n",
              "Price(ITDevices)                object\n",
              "Price(MobileDevices)            object\n",
              "Time                            object\n",
              "Where                           object\n",
              "Compareprices                   object\n",
              "Research                        object\n",
              "Timespend(10,000 - 30,000)      object\n",
              "Timespend(30,000 - 50,000)      object\n",
              "Timespend(50,000 - 70,000)      object\n",
              "Timespend(70,000 - 1,00,000)    object\n",
              "Yearlyspending                  object\n",
              "Factors                         object\n",
              "Productfeatures                 object\n",
              "Easeofuse                       object\n",
              "Warranty                        object\n",
              "Recommendationfromsomeone       object\n",
              "Salespersonrecommendation       object\n",
              "NoUseproduct                    object\n",
              "Rating                           int64\n",
              "Review                          object\n",
              "dtype: object"
            ]
          },
          "metadata": {
            "tags": []
          },
          "execution_count": 31
        }
      ]
    },
    {
      "cell_type": "code",
      "metadata": {
        "colab": {
          "base_uri": "https://localhost:8080/"
        },
        "id": "j2a78YBMj82u",
        "outputId": "a6bdf2ed-0416-42f9-add9-cc922f41fff0"
      },
      "source": [
        "df.isnull().sum()"
      ],
      "execution_count": 32,
      "outputs": [
        {
          "output_type": "execute_result",
          "data": {
            "text/plain": [
              "Name                            0\n",
              "Age                             0\n",
              "howoften                        0\n",
              "Changecell                      0\n",
              "Uselaptop                       0\n",
              "Readlaunches                    0\n",
              "Trynewproduct                   0\n",
              "Type                            0\n",
              "Product                         0\n",
              "Item                            0\n",
              "Brand(HomeAppliances)           0\n",
              "Brand(ITDevices)                0\n",
              "Brand(MobileDevices)            0\n",
              "Price(HomeAppliances)           0\n",
              "Price(ITDevices)                0\n",
              "Price(MobileDevices)            0\n",
              "Time                            0\n",
              "Where                           0\n",
              "Compareprices                   0\n",
              "Research                        0\n",
              "Timespend(10,000 - 30,000)      0\n",
              "Timespend(30,000 - 50,000)      0\n",
              "Timespend(50,000 - 70,000)      0\n",
              "Timespend(70,000 - 1,00,000)    0\n",
              "Yearlyspending                  0\n",
              "Factors                         0\n",
              "Productfeatures                 0\n",
              "Easeofuse                       0\n",
              "Warranty                        0\n",
              "Recommendationfromsomeone       0\n",
              "Salespersonrecommendation       0\n",
              "NoUseproduct                    0\n",
              "Rating                          0\n",
              "Review                          1\n",
              "dtype: int64"
            ]
          },
          "metadata": {
            "tags": []
          },
          "execution_count": 32
        }
      ]
    },
    {
      "cell_type": "code",
      "metadata": {
        "colab": {
          "base_uri": "https://localhost:8080/",
          "height": 350
        },
        "id": "NxEoD1MQkWb7",
        "outputId": "3dec5db1-98e5-4097-d416-9bb2cd1b1357"
      },
      "source": [
        "sns.countplot(df.Rating)"
      ],
      "execution_count": 33,
      "outputs": [
        {
          "output_type": "stream",
          "text": [
            "/usr/local/lib/python3.7/dist-packages/seaborn/_decorators.py:43: FutureWarning: Pass the following variable as a keyword arg: x. From version 0.12, the only valid positional argument will be `data`, and passing other arguments without an explicit keyword will result in an error or misinterpretation.\n",
            "  FutureWarning\n"
          ],
          "name": "stderr"
        },
        {
          "output_type": "execute_result",
          "data": {
            "text/plain": [
              "<matplotlib.axes._subplots.AxesSubplot at 0x7f8d314457d0>"
            ]
          },
          "metadata": {
            "tags": []
          },
          "execution_count": 33
        },
        {
          "output_type": "display_data",
          "data": {
            "image/png": "[encoded data removed]",
            "text/plain": [
              "<Figure size 432x288 with 1 Axes>"
            ]
          },
          "metadata": {
            "tags": [],
            "needs_background": "light"
          }
        }
      ]
    },
    {
      "cell_type": "code",
      "metadata": {
        "colab": {
          "base_uri": "https://localhost:8080/",
          "height": 350
        },
        "id": "uXezHnLYkrIc",
        "outputId": "1de5f16d-7db6-47b6-bc88-02808600f100"
      },
      "source": [
        "sns.countplot(df.Warranty)"
      ],
      "execution_count": 34,
      "outputs": [
        {
          "output_type": "stream",
          "text": [
            "/usr/local/lib/python3.7/dist-packages/seaborn/_decorators.py:43: FutureWarning: Pass the following variable as a keyword arg: x. From version 0.12, the only valid positional argument will be `data`, and passing other arguments without an explicit keyword will result in an error or misinterpretation.\n",
            "  FutureWarning\n"
          ],
          "name": "stderr"
        },
        {
          "output_type": "execute_result",
          "data": {
            "text/plain": [
              "<matplotlib.axes._subplots.AxesSubplot at 0x7f8d2d527550>"
            ]
          },
          "metadata": {
            "tags": []
          },
          "execution_count": 34
        },
        {
          "output_type": "display_data",
          "data": {
            "image/png": "[encoded data removed]",
            "text/plain": [
              "<Figure size 432x288 with 1 Axes>"
            ]
          },
          "metadata": {
            "tags": [],
            "needs_background": "light"
          }
        }
      ]
    },
    {
      "cell_type": "code",
      "metadata": {
        "colab": {
          "base_uri": "https://localhost:8080/",
          "height": 295
        },
        "id": "NZ69tEksldv4",
        "outputId": "81d06d09-ce72-4b39-8794-2197c6f159cf"
      },
      "source": [
        "sns.countplot(x='Brand(HomeAppliances)',data=df)\n",
        "\n",
        "plt.title(\"Brand(HomeAppliances)\")\n",
        "\n",
        "plt.show()"
      ],
      "execution_count": 35,
      "outputs": [
        {
          "output_type": "display_data",
          "data": {
            "image/png": "[encoded data removed]",
            "text/plain": [
              "<Figure size 432x288 with 1 Axes>"
            ]
          },
          "metadata": {
            "tags": [],
            "needs_background": "light"
          }
        }
      ]
    },
    {
      "cell_type": "code",
      "metadata": {
        "colab": {
          "base_uri": "https://localhost:8080/",
          "height": 295
        },
        "id": "7aEsnZAymMk9",
        "outputId": "eecba65e-4bc1-498e-f217-3756ad98fbcd"
      },
      "source": [
        "sns.countplot(x='howoften',data=df)\n",
        "\n",
        "plt.title(\"howoften\")\n",
        "\n",
        "plt.show()"
      ],
      "execution_count": 44,
      "outputs": [
        {
          "output_type": "display_data",
          "data": {
            "image/png": "[encoded data removed]",
            "text/plain": [
              "<Figure size 432x288 with 1 Axes>"
            ]
          },
          "metadata": {
            "tags": [],
            "needs_background": "light"
          }
        }
      ]
    },
    {
      "cell_type": "code",
      "metadata": {
        "colab": {
          "base_uri": "https://localhost:8080/",
          "height": 296
        },
        "id": "wRV_GE9PnPQw",
        "outputId": "eebc9622-d0b2-40d7-deeb-f9040e454ab5"
      },
      "source": [
        "sns.countplot(data=df, x='Age', hue='Type')"
      ],
      "execution_count": 50,
      "outputs": [
        {
          "output_type": "execute_result",
          "data": {
            "text/plain": [
              "<matplotlib.axes._subplots.AxesSubplot at 0x7f8d2d3344d0>"
            ]
          },
          "metadata": {
            "tags": []
          },
          "execution_count": 50
        },
        {
          "output_type": "display_data",
          "data": {
            "image/png": "[encoded data removed]",
            "text/plain": [
              "<Figure size 432x288 with 1 Axes>"
            ]
          },
          "metadata": {
            "tags": [],
            "needs_background": "light"
          }
        }
      ]
    },
    {
      "cell_type": "code",
      "metadata": {
        "id": "tBvDIcRPmPqF"
      },
      "source": [
        ""
      ],
      "execution_count": null,
      "outputs": []
    }
  ]
}