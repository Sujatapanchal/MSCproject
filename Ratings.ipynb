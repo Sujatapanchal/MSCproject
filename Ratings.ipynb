{
  "nbformat": 4,
  "nbformat_minor": 0,
  "metadata": {
    "colab": {
      "name": "Ratings.ipynb",
      "provenance": [],
      "collapsed_sections": [],
      "authorship_tag": "ABX9TyOnNSDGc4BD11QSg7Wd03bb",
      "include_colab_link": true
    },
    "kernelspec": {
      "name": "python3",
      "display_name": "Python 3"
    },
    "language_info": {
      "name": "python"
    }
  },
  "cells": [
    {
      "cell_type": "markdown",
      "metadata": {
        "id": "view-in-github",
        "colab_type": "text"
      },
      "source": [
        "<a href=\"https://colab.research.google.com/github/sujata1606/Final-Year-Project/blob/main/Ratings.ipynb\" target=\"_parent\"><img src=\"https://colab.research.google.com/assets/colab-badge.svg\" alt=\"Open In Colab\"/></a>"
      ]
    },
    {
      "cell_type": "markdown",
      "metadata": {
        "id": "AFgWwQGo8hJF"
      },
      "source": [
        "**Importing Libraries**"
      ]
    },
    {
      "cell_type": "code",
      "metadata": {
        "id": "gYYFWkbb2Igp"
      },
      "source": [
        "%matplotlib inline\n",
        "import numpy as np\n",
        "import pandas as pd\n",
        "import matplotlib.pyplot as plt\n",
        "import seaborn as sns\n",
        "from sklearn.compose import ColumnTransformer\n",
        "#categorical encoding using one hot encoding\n",
        "from sklearn.preprocessing import OneHotEncoder"
      ],
      "execution_count": 75,
      "outputs": []
    },
    {
      "cell_type": "code",
      "metadata": {
        "id": "i8e-a1LY0AGd"
      },
      "source": [
        "#Ignore warnings\n",
        "import warnings\n",
        "warnings.simplefilter(action =\"ignore\", category = FutureWarning)"
      ],
      "execution_count": 76,
      "outputs": []
    },
    {
      "cell_type": "markdown",
      "metadata": {
        "id": "U4KFBE9U9XQ5"
      },
      "source": [
        "**Load the dataset**"
      ]
    },
    {
      "cell_type": "code",
      "metadata": {
        "id": "6AoAZDim8qxB"
      },
      "source": [
        "df = pd.read_csv('Electronic Products Data.csv')"
      ],
      "execution_count": 77,
      "outputs": []
    },
    {
      "cell_type": "code",
      "metadata": {
        "colab": {
          "base_uri": "https://localhost:8080/",
          "height": 1000
        },
        "id": "rM5iXYQ29cTu",
        "outputId": "47ac714e-4cb1-4160-c2c6-7236ab752d60"
      },
      "source": [
        "df.sample(10)"
      ],
      "execution_count": 78,
      "outputs": [
        {
          "output_type": "execute_result",
          "data": {
            "text/html": [
              "<div>\n",
              "<style scoped>\n",
              "    .dataframe tbody tr th:only-of-type {\n",
              "        vertical-align: middle;\n",
              "    }\n",
              "\n",
              "    .dataframe tbody tr th {\n",
              "        vertical-align: top;\n",
              "    }\n",
              "\n",
              "    .dataframe thead th {\n",
              "        text-align: right;\n",
              "    }\n",
              "</style>\n",
              "<table border=\"1\" class=\"dataframe\">\n",
              "  <thead>\n",
              "    <tr style=\"text-align: right;\">\n",
              "      <th></th>\n",
              "      <th>Timestamp</th>\n",
              "      <th>Name</th>\n",
              "      <th>Age</th>\n",
              "      <th>howoften</th>\n",
              "      <th>Changecell</th>\n",
              "      <th>Uselaptop</th>\n",
              "      <th>Readlaunches</th>\n",
              "      <th>Trynewproduct</th>\n",
              "      <th>Type</th>\n",
              "      <th>Product</th>\n",
              "      <th>Item</th>\n",
              "      <th>Brand(HomeAppliances)</th>\n",
              "      <th>Brand(ITDevices)</th>\n",
              "      <th>Brand(MobileDevices)</th>\n",
              "      <th>Price(HomeAppliances)</th>\n",
              "      <th>Price(ITDevices)</th>\n",
              "      <th>Price(MobileDevices)</th>\n",
              "      <th>Time</th>\n",
              "      <th>Where</th>\n",
              "      <th>Compareprices</th>\n",
              "      <th>Research</th>\n",
              "      <th>Timespend(10,000 - 30,000)</th>\n",
              "      <th>Timespend(30,000 - 50,000)</th>\n",
              "      <th>Timespend(50,000 - 70,000)</th>\n",
              "      <th>Timespend(70,000 - 1,00,000)</th>\n",
              "      <th>Yearlyspending</th>\n",
              "      <th>Factors</th>\n",
              "      <th>Productfeatures</th>\n",
              "      <th>Easeofuse</th>\n",
              "      <th>Warranty</th>\n",
              "      <th>Recommendationfromsomeone</th>\n",
              "      <th>Salespersonrecommendation</th>\n",
              "      <th>NoUseproduct</th>\n",
              "      <th>Rating</th>\n",
              "      <th>Review</th>\n",
              "    </tr>\n",
              "  </thead>\n",
              "  <tbody>\n",
              "    <tr>\n",
              "      <th>102</th>\n",
              "      <td>4/20/2021 0:13</td>\n",
              "      <td>Dipka</td>\n",
              "      <td>25-35</td>\n",
              "      <td>Regularly</td>\n",
              "      <td>Rarely</td>\n",
              "      <td>Rarely</td>\n",
              "      <td>Sometimes</td>\n",
              "      <td>Sometimes</td>\n",
              "      <td>New</td>\n",
              "      <td>Home appliances</td>\n",
              "      <td>Refrigerator</td>\n",
              "      <td>Whirlpool</td>\n",
              "      <td>HP</td>\n",
              "      <td>Moto</td>\n",
              "      <td>50,000 - 60,000</td>\n",
              "      <td>30,000 - 40,000</td>\n",
              "      <td>20,000 - 30,000</td>\n",
              "      <td>During the sale</td>\n",
              "      <td>Online</td>\n",
              "      <td>Yes</td>\n",
              "      <td>Ask a friend/colleague/family member for their...</td>\n",
              "      <td>2 - 4 days</td>\n",
              "      <td>5-10 days</td>\n",
              "      <td>2 - 4 weeks</td>\n",
              "      <td>1-3 months</td>\n",
              "      <td>40,000 - 60,000</td>\n",
              "      <td>Reliability of a product, Quality of a product</td>\n",
              "      <td>Very important</td>\n",
              "      <td>Very important</td>\n",
              "      <td>Moderately important</td>\n",
              "      <td>Moderately important</td>\n",
              "      <td>Moderately important</td>\n",
              "      <td>Sell on as second-hand</td>\n",
              "      <td>4</td>\n",
              "      <td>Thanks for taking feedback</td>\n",
              "    </tr>\n",
              "    <tr>\n",
              "      <th>190</th>\n",
              "      <td>4/27/2021 19:36</td>\n",
              "      <td>Santosh</td>\n",
              "      <td>50 and above</td>\n",
              "      <td>Regularly</td>\n",
              "      <td>Rarely</td>\n",
              "      <td>Sometimes</td>\n",
              "      <td>Never</td>\n",
              "      <td>Never</td>\n",
              "      <td>New</td>\n",
              "      <td>Mobile devices</td>\n",
              "      <td>Smartphone</td>\n",
              "      <td>Whirlpool</td>\n",
              "      <td>Lenovo</td>\n",
              "      <td>Moto</td>\n",
              "      <td>40,000 - 50,000</td>\n",
              "      <td>30,000 - 40,000</td>\n",
              "      <td>20,000 - 30,000</td>\n",
              "      <td>During the sale</td>\n",
              "      <td>Online, In the exclusive brand store</td>\n",
              "      <td>Yes</td>\n",
              "      <td>Ask a friend/colleague/family member for their...</td>\n",
              "      <td>2 - 4 days</td>\n",
              "      <td>5-10 days</td>\n",
              "      <td>2 - 4 weeks</td>\n",
              "      <td>1-3 months</td>\n",
              "      <td>40,000 - 60,000</td>\n",
              "      <td>Reliability of a product, Pricing of a product...</td>\n",
              "      <td>Very important</td>\n",
              "      <td>Extremely important</td>\n",
              "      <td>Moderately important</td>\n",
              "      <td>Not at all important</td>\n",
              "      <td>Not at all important</td>\n",
              "      <td>Sell on as second-hand</td>\n",
              "      <td>5</td>\n",
              "      <td>Good</td>\n",
              "    </tr>\n",
              "    <tr>\n",
              "      <th>146</th>\n",
              "      <td>4/25/2021 12:37</td>\n",
              "      <td>Mandar</td>\n",
              "      <td>18-25</td>\n",
              "      <td>Regularly</td>\n",
              "      <td>Sometimes</td>\n",
              "      <td>Very Often</td>\n",
              "      <td>Sometimes</td>\n",
              "      <td>Very Often</td>\n",
              "      <td>New</td>\n",
              "      <td>IT Devices</td>\n",
              "      <td>Desktop</td>\n",
              "      <td>Whirlpool</td>\n",
              "      <td>Lenovo</td>\n",
              "      <td>Moto</td>\n",
              "      <td>40,000 - 50,000</td>\n",
              "      <td>30,000 - 40,000</td>\n",
              "      <td>20,000 - 30,000</td>\n",
              "      <td>During the sale</td>\n",
              "      <td>Online</td>\n",
              "      <td>Yes</td>\n",
              "      <td>Read online reviews, Compare them with competi...</td>\n",
              "      <td>2 - 4 days</td>\n",
              "      <td>2 - 4 weeks</td>\n",
              "      <td>1-3 months</td>\n",
              "      <td>1-3 months</td>\n",
              "      <td>40,000 - 60,000</td>\n",
              "      <td>Reliability of a product, Quality of a product</td>\n",
              "      <td>Extremely important</td>\n",
              "      <td>Very important</td>\n",
              "      <td>Extremely important</td>\n",
              "      <td>Moderately important</td>\n",
              "      <td>Not at all important</td>\n",
              "      <td>Sell on as second-hand</td>\n",
              "      <td>4</td>\n",
              "      <td>So good</td>\n",
              "    </tr>\n",
              "    <tr>\n",
              "      <th>46</th>\n",
              "      <td>4/1/2021 23:04</td>\n",
              "      <td>Aashish Auti</td>\n",
              "      <td>18-25</td>\n",
              "      <td>Regularly</td>\n",
              "      <td>Very Often</td>\n",
              "      <td>Always</td>\n",
              "      <td>Always</td>\n",
              "      <td>Always</td>\n",
              "      <td>New</td>\n",
              "      <td>Mobile devices</td>\n",
              "      <td>Smartphone</td>\n",
              "      <td>LG</td>\n",
              "      <td>Dell</td>\n",
              "      <td>Realme</td>\n",
              "      <td>10,000 - 20,000</td>\n",
              "      <td>40,000 - 50,000</td>\n",
              "      <td>60,000 - 70,000</td>\n",
              "      <td>During the sale</td>\n",
              "      <td>Online</td>\n",
              "      <td>Yes</td>\n",
              "      <td>Read online reviews</td>\n",
              "      <td>2 - 4 days</td>\n",
              "      <td>2 - 4 days</td>\n",
              "      <td>5-10 days</td>\n",
              "      <td>5-10 days</td>\n",
              "      <td>60,000 - 80,000</td>\n",
              "      <td>Reliability of a product, Quality of a product</td>\n",
              "      <td>Extremely important</td>\n",
              "      <td>Extremely important</td>\n",
              "      <td>Extremely important</td>\n",
              "      <td>Moderately important</td>\n",
              "      <td>Moderately important</td>\n",
              "      <td>Take to local recycling center</td>\n",
              "      <td>5</td>\n",
              "      <td>Good product</td>\n",
              "    </tr>\n",
              "    <tr>\n",
              "      <th>89</th>\n",
              "      <td>4/17/2021 14:11</td>\n",
              "      <td>Raam jadhav</td>\n",
              "      <td>35-50</td>\n",
              "      <td>Regularly</td>\n",
              "      <td>Always</td>\n",
              "      <td>Sometimes</td>\n",
              "      <td>Rarely</td>\n",
              "      <td>Rarely</td>\n",
              "      <td>New</td>\n",
              "      <td>Home appliances, Mobile devices</td>\n",
              "      <td>Television, Laptop</td>\n",
              "      <td>LG</td>\n",
              "      <td>Lenovo</td>\n",
              "      <td>Samsung</td>\n",
              "      <td>60,000 - 70,000</td>\n",
              "      <td>60,000 - 70,000</td>\n",
              "      <td>30,000 - 40,000</td>\n",
              "      <td>During the sale</td>\n",
              "      <td>In an electronics store</td>\n",
              "      <td>Yes</td>\n",
              "      <td>Read online reviews, Find out brand reputation</td>\n",
              "      <td>Less than 1 day</td>\n",
              "      <td>2 - 4 days</td>\n",
              "      <td>2 - 4 weeks</td>\n",
              "      <td>1-3 months</td>\n",
              "      <td>60,000 - 80,000</td>\n",
              "      <td>Reliability of a product, Quality of a product</td>\n",
              "      <td>Extremely important</td>\n",
              "      <td>Extremely important</td>\n",
              "      <td>Extremely important</td>\n",
              "      <td>Moderately important</td>\n",
              "      <td>Moderately important</td>\n",
              "      <td>Sell on as second-hand</td>\n",
              "      <td>3</td>\n",
              "      <td>So awesome</td>\n",
              "    </tr>\n",
              "    <tr>\n",
              "      <th>107</th>\n",
              "      <td>4/20/2021 0:19</td>\n",
              "      <td>Sejal</td>\n",
              "      <td>18-25</td>\n",
              "      <td>Regularly</td>\n",
              "      <td>Rarely</td>\n",
              "      <td>Rarely</td>\n",
              "      <td>Sometimes</td>\n",
              "      <td>Sometimes</td>\n",
              "      <td>New</td>\n",
              "      <td>IT Devices</td>\n",
              "      <td>Laptop</td>\n",
              "      <td>Whirlpool</td>\n",
              "      <td>Apple</td>\n",
              "      <td>Apple</td>\n",
              "      <td>60,000 - 70,000</td>\n",
              "      <td>40,000 - 50,000</td>\n",
              "      <td>60,000 - 70,000</td>\n",
              "      <td>During the sale</td>\n",
              "      <td>Online</td>\n",
              "      <td>Yes</td>\n",
              "      <td>Ask a friend/colleague/family member for their...</td>\n",
              "      <td>5-10 days</td>\n",
              "      <td>5-10 days</td>\n",
              "      <td>2 - 4 weeks</td>\n",
              "      <td>1-3 months</td>\n",
              "      <td>40,000 - 60,000</td>\n",
              "      <td>Reliability of a product, Quality of a product</td>\n",
              "      <td>Very important</td>\n",
              "      <td>Very important</td>\n",
              "      <td>Very important</td>\n",
              "      <td>Moderately important</td>\n",
              "      <td>Moderately important</td>\n",
              "      <td>Take to local recycling center</td>\n",
              "      <td>4</td>\n",
              "      <td>Good one</td>\n",
              "    </tr>\n",
              "    <tr>\n",
              "      <th>191</th>\n",
              "      <td>4/27/2021 19:37</td>\n",
              "      <td>Sangita</td>\n",
              "      <td>35-50</td>\n",
              "      <td>Occasionally</td>\n",
              "      <td>Rarely</td>\n",
              "      <td>Sometimes</td>\n",
              "      <td>Rarely</td>\n",
              "      <td>Rarely</td>\n",
              "      <td>Refurbished</td>\n",
              "      <td>Home appliances</td>\n",
              "      <td>Refrigerator</td>\n",
              "      <td>Whirlpool</td>\n",
              "      <td>Lenovo</td>\n",
              "      <td>OnePlus</td>\n",
              "      <td>50,000 - 60,000</td>\n",
              "      <td>40,000 - 50,000</td>\n",
              "      <td>30,000 - 40,000</td>\n",
              "      <td>During the sale</td>\n",
              "      <td>In the exclusive brand store, In an electronic...</td>\n",
              "      <td>Yes</td>\n",
              "      <td>Ask a friend/colleague/family member for their...</td>\n",
              "      <td>5-10 days</td>\n",
              "      <td>2 - 4 weeks</td>\n",
              "      <td>1-3 months</td>\n",
              "      <td>1-3 months</td>\n",
              "      <td>40,000 - 60,000</td>\n",
              "      <td>Reliability of a product, Pricing of a product...</td>\n",
              "      <td>Extremely important</td>\n",
              "      <td>Very important</td>\n",
              "      <td>Very important</td>\n",
              "      <td>Moderately important</td>\n",
              "      <td>Moderately important</td>\n",
              "      <td>Sell on as second-hand</td>\n",
              "      <td>4</td>\n",
              "      <td>So good</td>\n",
              "    </tr>\n",
              "    <tr>\n",
              "      <th>101</th>\n",
              "      <td>4/19/2021 15:21</td>\n",
              "      <td>Dinesh</td>\n",
              "      <td>35-50</td>\n",
              "      <td>Occasionally</td>\n",
              "      <td>Never</td>\n",
              "      <td>Never</td>\n",
              "      <td>Rarely</td>\n",
              "      <td>Rarely</td>\n",
              "      <td>New</td>\n",
              "      <td>IT Devices</td>\n",
              "      <td>Smartphone</td>\n",
              "      <td>Whirlpool</td>\n",
              "      <td>Lenovo</td>\n",
              "      <td>OnePlus</td>\n",
              "      <td>30,000 - 40,000</td>\n",
              "      <td>20,000 - 30,000</td>\n",
              "      <td>10,000 - 20,000</td>\n",
              "      <td>During the sale</td>\n",
              "      <td>In the exclusive brand store, In an electronic...</td>\n",
              "      <td>Yes</td>\n",
              "      <td>Ask a friend/colleague/family member for their...</td>\n",
              "      <td>5-10 days</td>\n",
              "      <td>2 - 4 weeks</td>\n",
              "      <td>1-3 months</td>\n",
              "      <td>1-3 months</td>\n",
              "      <td>40,000 - 60,000</td>\n",
              "      <td>Reliability of a product, Quality of a product</td>\n",
              "      <td>Very important</td>\n",
              "      <td>Very important</td>\n",
              "      <td>Moderately important</td>\n",
              "      <td>Moderately important</td>\n",
              "      <td>Moderately important</td>\n",
              "      <td>Sell on as second-hand</td>\n",
              "      <td>4</td>\n",
              "      <td>Nice</td>\n",
              "    </tr>\n",
              "    <tr>\n",
              "      <th>100</th>\n",
              "      <td>4/17/2021 14:31</td>\n",
              "      <td>Deepali</td>\n",
              "      <td>25-35</td>\n",
              "      <td>Regularly</td>\n",
              "      <td>Sometimes</td>\n",
              "      <td>Very Often</td>\n",
              "      <td>Very Often</td>\n",
              "      <td>Very Often</td>\n",
              "      <td>New</td>\n",
              "      <td>Home appliances, IT Devices</td>\n",
              "      <td>Laptop, Refrigerator</td>\n",
              "      <td>Whirlpool</td>\n",
              "      <td>Dell</td>\n",
              "      <td>OnePlus</td>\n",
              "      <td>50,000 - 60,000</td>\n",
              "      <td>40,000 - 50,000</td>\n",
              "      <td>20,000 - 30,000</td>\n",
              "      <td>During the sale</td>\n",
              "      <td>Online, In the exclusive brand store, In an el...</td>\n",
              "      <td>Yes</td>\n",
              "      <td>Ask a friend/colleague/family member for their...</td>\n",
              "      <td>2 - 4 days</td>\n",
              "      <td>5-10 days</td>\n",
              "      <td>2 - 4 weeks</td>\n",
              "      <td>1-3 months</td>\n",
              "      <td>60,000 - 80,000</td>\n",
              "      <td>Reliability of a product, Quality of a product</td>\n",
              "      <td>Very important</td>\n",
              "      <td>Very important</td>\n",
              "      <td>Very important</td>\n",
              "      <td>Not at all important</td>\n",
              "      <td>Not at all important</td>\n",
              "      <td>Sell on as second-hand</td>\n",
              "      <td>4</td>\n",
              "      <td>Good</td>\n",
              "    </tr>\n",
              "    <tr>\n",
              "      <th>11</th>\n",
              "      <td>4/1/2021 18:44</td>\n",
              "      <td>Keshav</td>\n",
              "      <td>25-35</td>\n",
              "      <td>Occasionally</td>\n",
              "      <td>Always</td>\n",
              "      <td>Very Often</td>\n",
              "      <td>Always</td>\n",
              "      <td>Always</td>\n",
              "      <td>Refurbished</td>\n",
              "      <td>IT Devices</td>\n",
              "      <td>Printer</td>\n",
              "      <td>Samsung</td>\n",
              "      <td>Espon</td>\n",
              "      <td>Apple</td>\n",
              "      <td>10,000 - 20,000</td>\n",
              "      <td>20,000 - 30,000</td>\n",
              "      <td>30,000 - 40,000</td>\n",
              "      <td>During the sale</td>\n",
              "      <td>In the exclusive brand store</td>\n",
              "      <td>Yes</td>\n",
              "      <td>Compare them with competitive products</td>\n",
              "      <td>2 - 4 days</td>\n",
              "      <td>5-10 days</td>\n",
              "      <td>5-10 days</td>\n",
              "      <td>5-10 days</td>\n",
              "      <td>20,000 - 40,000</td>\n",
              "      <td>Quality of a product</td>\n",
              "      <td>Not at all important</td>\n",
              "      <td>Moderately important</td>\n",
              "      <td>Moderately important</td>\n",
              "      <td>Very important</td>\n",
              "      <td>Very important</td>\n",
              "      <td>Take to local recycling center</td>\n",
              "      <td>5</td>\n",
              "      <td>Nice use</td>\n",
              "    </tr>\n",
              "  </tbody>\n",
              "</table>\n",
              "</div>"
            ],
            "text/plain": [
              "           Timestamp          Name  ... Rating                      Review\n",
              "102   4/20/2021 0:13         Dipka  ...      4  Thanks for taking feedback\n",
              "190  4/27/2021 19:36       Santosh  ...      5                        Good\n",
              "146  4/25/2021 12:37        Mandar  ...      4                     So good\n",
              "46    4/1/2021 23:04  Aashish Auti  ...      5                Good product\n",
              "89   4/17/2021 14:11   Raam jadhav  ...      3                  So awesome\n",
              "107   4/20/2021 0:19         Sejal  ...      4                    Good one\n",
              "191  4/27/2021 19:37       Sangita  ...      4                     So good\n",
              "101  4/19/2021 15:21        Dinesh  ...      4                        Nice\n",
              "100  4/17/2021 14:31       Deepali  ...      4                        Good\n",
              "11    4/1/2021 18:44        Keshav  ...      5                    Nice use\n",
              "\n",
              "[10 rows x 35 columns]"
            ]
          },
          "metadata": {
            "tags": []
          },
          "execution_count": 78
        }
      ]
    },
    {
      "cell_type": "code",
      "metadata": {
        "id": "X-a4Z5KqH5Mq"
      },
      "source": [
        "df.insert(0,'ID',range(1,1+len(df)))"
      ],
      "execution_count": 79,
      "outputs": []
    },
    {
      "cell_type": "code",
      "metadata": {
        "id": "F5JyrAYD0iuQ"
      },
      "source": [
        "#length of the data\n",
        "len(df)"
      ],
      "execution_count": null,
      "outputs": []
    },
    {
      "cell_type": "code",
      "metadata": {
        "id": "zaKZhE500i2Z"
      },
      "source": [
        "#check shape of the data\n",
        "df.shape"
      ],
      "execution_count": null,
      "outputs": []
    },
    {
      "cell_type": "code",
      "metadata": {
        "colab": {
          "base_uri": "https://localhost:8080/",
          "height": 445
        },
        "id": "dazXFTvx9oSQ",
        "outputId": "71678746-8786-47d4-8d89-ccdd8a2ad23c"
      },
      "source": [
        "#preview dataset\n",
        "df.head()"
      ],
      "execution_count": 80,
      "outputs": [
        {
          "output_type": "execute_result",
          "data": {
            "text/html": [
              "<div>\n",
              "<style scoped>\n",
              "    .dataframe tbody tr th:only-of-type {\n",
              "        vertical-align: middle;\n",
              "    }\n",
              "\n",
              "    .dataframe tbody tr th {\n",
              "        vertical-align: top;\n",
              "    }\n",
              "\n",
              "    .dataframe thead th {\n",
              "        text-align: right;\n",
              "    }\n",
              "</style>\n",
              "<table border=\"1\" class=\"dataframe\">\n",
              "  <thead>\n",
              "    <tr style=\"text-align: right;\">\n",
              "      <th></th>\n",
              "      <th>ID</th>\n",
              "      <th>Timestamp</th>\n",
              "      <th>Name</th>\n",
              "      <th>Age</th>\n",
              "      <th>howoften</th>\n",
              "      <th>Changecell</th>\n",
              "      <th>Uselaptop</th>\n",
              "      <th>Readlaunches</th>\n",
              "      <th>Trynewproduct</th>\n",
              "      <th>Type</th>\n",
              "      <th>Product</th>\n",
              "      <th>Item</th>\n",
              "      <th>Brand(HomeAppliances)</th>\n",
              "      <th>Brand(ITDevices)</th>\n",
              "      <th>Brand(MobileDevices)</th>\n",
              "      <th>Price(HomeAppliances)</th>\n",
              "      <th>Price(ITDevices)</th>\n",
              "      <th>Price(MobileDevices)</th>\n",
              "      <th>Time</th>\n",
              "      <th>Where</th>\n",
              "      <th>Compareprices</th>\n",
              "      <th>Research</th>\n",
              "      <th>Timespend(10,000 - 30,000)</th>\n",
              "      <th>Timespend(30,000 - 50,000)</th>\n",
              "      <th>Timespend(50,000 - 70,000)</th>\n",
              "      <th>Timespend(70,000 - 1,00,000)</th>\n",
              "      <th>Yearlyspending</th>\n",
              "      <th>Factors</th>\n",
              "      <th>Productfeatures</th>\n",
              "      <th>Easeofuse</th>\n",
              "      <th>Warranty</th>\n",
              "      <th>Recommendationfromsomeone</th>\n",
              "      <th>Salespersonrecommendation</th>\n",
              "      <th>NoUseproduct</th>\n",
              "      <th>Rating</th>\n",
              "      <th>Review</th>\n",
              "    </tr>\n",
              "  </thead>\n",
              "  <tbody>\n",
              "    <tr>\n",
              "      <th>0</th>\n",
              "      <td>1</td>\n",
              "      <td>3/30/2021 15:59</td>\n",
              "      <td>Jaypriya</td>\n",
              "      <td>18-25</td>\n",
              "      <td>Occasionally</td>\n",
              "      <td>Rarely</td>\n",
              "      <td>Always</td>\n",
              "      <td>Very Often</td>\n",
              "      <td>Rarely</td>\n",
              "      <td>New</td>\n",
              "      <td>IT Devices</td>\n",
              "      <td>Laptop</td>\n",
              "      <td>LG</td>\n",
              "      <td>Lenovo</td>\n",
              "      <td>Apple</td>\n",
              "      <td>50,000 - 60,000</td>\n",
              "      <td>40,000 - 50,000</td>\n",
              "      <td>30,000 - 40,000</td>\n",
              "      <td>During the sale</td>\n",
              "      <td>In an electronics store</td>\n",
              "      <td>No</td>\n",
              "      <td>Ask a friend/colleague/family member for their...</td>\n",
              "      <td>2 - 4 days</td>\n",
              "      <td>1-3 months</td>\n",
              "      <td>1-3 months</td>\n",
              "      <td>1-3 months</td>\n",
              "      <td>20,000 - 40,000</td>\n",
              "      <td>Pricing of a products</td>\n",
              "      <td>Very important</td>\n",
              "      <td>Very important</td>\n",
              "      <td>Very important</td>\n",
              "      <td>Very important</td>\n",
              "      <td>Very important</td>\n",
              "      <td>Sell on as second-hand</td>\n",
              "      <td>4</td>\n",
              "      <td>Nothing</td>\n",
              "    </tr>\n",
              "    <tr>\n",
              "      <th>1</th>\n",
              "      <td>2</td>\n",
              "      <td>3/30/2021 17:20</td>\n",
              "      <td>Mahadik simran</td>\n",
              "      <td>18-25</td>\n",
              "      <td>Occasionally</td>\n",
              "      <td>Sometimes</td>\n",
              "      <td>Sometimes</td>\n",
              "      <td>Sometimes</td>\n",
              "      <td>Very Often</td>\n",
              "      <td>New</td>\n",
              "      <td>IT Devices</td>\n",
              "      <td>Smartphone</td>\n",
              "      <td>Samsung</td>\n",
              "      <td>Dell</td>\n",
              "      <td>Nokia</td>\n",
              "      <td>40,000 - 50,000</td>\n",
              "      <td>30,000 - 40,000</td>\n",
              "      <td>60,000 - 70,000</td>\n",
              "      <td>During the sale</td>\n",
              "      <td>In the exclusive brand store</td>\n",
              "      <td>No</td>\n",
              "      <td>Ask a friend/colleague/family member for his o...</td>\n",
              "      <td>2 - 4 days</td>\n",
              "      <td>5-10 days</td>\n",
              "      <td>2 - 4 weeks</td>\n",
              "      <td>1-3 months</td>\n",
              "      <td>Less than 10,000</td>\n",
              "      <td>Quality of a product</td>\n",
              "      <td>Extremely important</td>\n",
              "      <td>Extremely important</td>\n",
              "      <td>Extremely important</td>\n",
              "      <td>Extremely important</td>\n",
              "      <td>Extremely important</td>\n",
              "      <td>Sell on as second-hand</td>\n",
              "      <td>2</td>\n",
              "      <td>Want to purchase new</td>\n",
              "    </tr>\n",
              "    <tr>\n",
              "      <th>2</th>\n",
              "      <td>3</td>\n",
              "      <td>4/1/2021 17:17</td>\n",
              "      <td>Sahil</td>\n",
              "      <td>25-35</td>\n",
              "      <td>Regularly</td>\n",
              "      <td>Rarely</td>\n",
              "      <td>Always</td>\n",
              "      <td>Always</td>\n",
              "      <td>Rarely</td>\n",
              "      <td>Refurbished</td>\n",
              "      <td>Mobile devices</td>\n",
              "      <td>Smartphone</td>\n",
              "      <td>Whirlpool</td>\n",
              "      <td>Lenovo</td>\n",
              "      <td>OnePlus</td>\n",
              "      <td>40,000 - 50,000</td>\n",
              "      <td>40,000 - 50,000</td>\n",
              "      <td>20,000 - 30,000</td>\n",
              "      <td>During the sale</td>\n",
              "      <td>In an electronics store</td>\n",
              "      <td>Yes</td>\n",
              "      <td>Compare them with competitive products</td>\n",
              "      <td>Less than 1 day</td>\n",
              "      <td>2 - 4 weeks</td>\n",
              "      <td>2 - 4 weeks</td>\n",
              "      <td>2 - 4 weeks</td>\n",
              "      <td>20,000 - 40,000</td>\n",
              "      <td>Quality of a product</td>\n",
              "      <td>Moderately important</td>\n",
              "      <td>Moderately important</td>\n",
              "      <td>Moderately important</td>\n",
              "      <td>Moderately important</td>\n",
              "      <td>Not at all important</td>\n",
              "      <td>Sell on as second-hand</td>\n",
              "      <td>4</td>\n",
              "      <td>Nothing</td>\n",
              "    </tr>\n",
              "    <tr>\n",
              "      <th>3</th>\n",
              "      <td>4</td>\n",
              "      <td>4/1/2021 17:39</td>\n",
              "      <td>Sonali</td>\n",
              "      <td>18-25</td>\n",
              "      <td>Occasionally</td>\n",
              "      <td>Sometimes</td>\n",
              "      <td>Always</td>\n",
              "      <td>Always</td>\n",
              "      <td>Sometimes</td>\n",
              "      <td>New</td>\n",
              "      <td>IT Devices</td>\n",
              "      <td>Laptop</td>\n",
              "      <td>Samsung</td>\n",
              "      <td>HP</td>\n",
              "      <td>Samsung</td>\n",
              "      <td>20,000 - 30,000</td>\n",
              "      <td>20,000 - 30,000</td>\n",
              "      <td>100 - 10,000</td>\n",
              "      <td>During the sale</td>\n",
              "      <td>In an electronics store</td>\n",
              "      <td>Yes</td>\n",
              "      <td>Compare them with competitive products</td>\n",
              "      <td>5-10 days</td>\n",
              "      <td>2 - 4 days</td>\n",
              "      <td>2 - 4 days</td>\n",
              "      <td>Less than 1 day</td>\n",
              "      <td>20,000 - 40,000</td>\n",
              "      <td>Quality of a product</td>\n",
              "      <td>Moderately important</td>\n",
              "      <td>Moderately important</td>\n",
              "      <td>Moderately important</td>\n",
              "      <td>Not at all important</td>\n",
              "      <td>Moderately important</td>\n",
              "      <td>Sell on as second-hand</td>\n",
              "      <td>5</td>\n",
              "      <td>Its amazing</td>\n",
              "    </tr>\n",
              "    <tr>\n",
              "      <th>4</th>\n",
              "      <td>5</td>\n",
              "      <td>4/2/2021 17:39</td>\n",
              "      <td>Namrata</td>\n",
              "      <td>25-35</td>\n",
              "      <td>Regularly</td>\n",
              "      <td>Very Often</td>\n",
              "      <td>Very Often</td>\n",
              "      <td>Very Often</td>\n",
              "      <td>Very Often</td>\n",
              "      <td>New</td>\n",
              "      <td>IT Devices</td>\n",
              "      <td>Laptop</td>\n",
              "      <td>Whirlpool</td>\n",
              "      <td>HP</td>\n",
              "      <td>Nokia</td>\n",
              "      <td>30,000 - 40,000</td>\n",
              "      <td>60,000 - 70,000</td>\n",
              "      <td>30,000 - 40,000</td>\n",
              "      <td>Without the sale (Off Season)</td>\n",
              "      <td>Online</td>\n",
              "      <td>Yes</td>\n",
              "      <td>Ask a friend/colleague/family member for their...</td>\n",
              "      <td>2 - 4 weeks</td>\n",
              "      <td>2 - 4 weeks</td>\n",
              "      <td>2 - 4 days</td>\n",
              "      <td>5-10 days</td>\n",
              "      <td>60,000 - 80,000</td>\n",
              "      <td>Pricing of a product</td>\n",
              "      <td>Very important</td>\n",
              "      <td>Moderately important</td>\n",
              "      <td>Moderately important</td>\n",
              "      <td>Moderately important</td>\n",
              "      <td>Not at all important</td>\n",
              "      <td>Take to local recycling center</td>\n",
              "      <td>4</td>\n",
              "      <td>Good</td>\n",
              "    </tr>\n",
              "  </tbody>\n",
              "</table>\n",
              "</div>"
            ],
            "text/plain": [
              "   ID        Timestamp  ... Rating                Review\n",
              "0   1  3/30/2021 15:59  ...      4               Nothing\n",
              "1   2  3/30/2021 17:20  ...      2  Want to purchase new\n",
              "2   3   4/1/2021 17:17  ...      4               Nothing\n",
              "3   4   4/1/2021 17:39  ...      5           Its amazing\n",
              "4   5   4/2/2021 17:39  ...      4                  Good\n",
              "\n",
              "[5 rows x 36 columns]"
            ]
          },
          "metadata": {
            "tags": []
          },
          "execution_count": 80
        }
      ]
    },
    {
      "cell_type": "markdown",
      "metadata": {
        "id": "xOYQDwmM9vc1"
      },
      "source": [
        "**Dropping the timestamp column**\n"
      ]
    },
    {
      "cell_type": "code",
      "metadata": {
        "id": "eq4r9MSd9vEf"
      },
      "source": [
        "df.drop(['Timestamp', 'Name','NoUseproduct'],axis=1,inplace=True)"
      ],
      "execution_count": 81,
      "outputs": []
    },
    {
      "cell_type": "code",
      "metadata": {
        "id": "oNokmSzHF0bM"
      },
      "source": [
        "#renaming columns\n",
        "df.rename(columns ={\n",
        "                      'index': 'id',\n",
        "                      'howoften': 'how_often_buy', \n",
        "                      'Changecell': 'Change_cell',\n",
        "                      'Uselaptop' : 'use_laptop',\n",
        "                      'Readlaunches' : 'Read_product_launches',\n",
        "                    'Trynewproduct' : 'Try_new_products',\n",
        "                    'Type': 'Type_of_the_product',\n",
        "                    'Brand(HomeAppliances)' : 'Brand_of_HomeAppliances',\n",
        "                    'Brand(ITDevices)' : 'Brand_of_ITdevices',\n",
        "                    'Brand(MobileDevices)' : 'Brand_of_MobileDevices',\n",
        "                    'Price(HomeAppliances)' : 'Price_of_HomeAppliances',\n",
        "                    'Price(ITDevices)' : 'Price_of_ITDevices',\n",
        "                    'Price(MobileDevices)' : 'Price_of_MobileDevices',\n",
        "                    'Time ' : 'Which_time_prefer',\n",
        "                    'Where' : 'Where_do_you_prefer',\n",
        "                    'Compareprices' : 'Compare_prices',\n",
        "                    'Timespend(10,000 - 30,000)' : 'Timespend_on_10,000-30,000',\n",
        "                    'Timespend(30,000 - 50,000)' : 'Timespend_on_30,000-50,000',\n",
        "                    'Timespend(50,000 - 70,000)' : 'Timespend_on_50,000-70,000',\n",
        "                    'Timespend(70,000 - 1,00,000)' : 'Timespend_on_70,000-1,00,000',\n",
        "                    'Yearlyspending' : 'Yearly_spendings',\n",
        "                    'Productfeatures' : 'Product_features',\n",
        "                    'Easeofuse' : 'Ease_of_use',\n",
        "                    'Recommendationfromsomeone' : 'Recommendation_from_someone',\n",
        "                    'Salespersonrecommendation' : 'Sales_person_recommendation',\n",
        "                    'NoUseproduct' :'No_use_product'\n",
        "                     },inplace=True\n",
        "                )"
      ],
      "execution_count": 82,
      "outputs": []
    },
    {
      "cell_type": "code",
      "metadata": {
        "colab": {
          "base_uri": "https://localhost:8080/"
        },
        "id": "noNDG2dV-IdA",
        "outputId": "429a1d92-6ffa-429b-d8bd-b9716e43ed75"
      },
      "source": [
        "#gives information about the dataset\n",
        "df.info()"
      ],
      "execution_count": 68,
      "outputs": [
        {
          "output_type": "stream",
          "text": [
            "<class 'pandas.core.frame.DataFrame'>\n",
            "RangeIndex: 216 entries, 0 to 215\n",
            "Data columns (total 32 columns):\n",
            " #   Column                        Non-Null Count  Dtype \n",
            "---  ------                        --------------  ----- \n",
            " 0   Age                           216 non-null    object\n",
            " 1   how_often_buy                 216 non-null    object\n",
            " 2   Change_cell                   216 non-null    object\n",
            " 3   use_laptop                    216 non-null    object\n",
            " 4   Read_product_launches         216 non-null    object\n",
            " 5   Try_new_products              216 non-null    object\n",
            " 6   Type_of_the_product           216 non-null    object\n",
            " 7   Product                       216 non-null    object\n",
            " 8   Item                          216 non-null    object\n",
            " 9   Brand_of_HomeAppliances       216 non-null    object\n",
            " 10  Brand_of_ITdevices            216 non-null    object\n",
            " 11  Brand_of_MobileDevices        216 non-null    object\n",
            " 12  Price_of_HomeAppliances       216 non-null    object\n",
            " 13  Price_of_ITDevices            216 non-null    object\n",
            " 14  Price_of_MobileDevices        216 non-null    object\n",
            " 15  Which_time_prefer             216 non-null    object\n",
            " 16  Where_do_you_prefer           216 non-null    object\n",
            " 17  Compare_prices                216 non-null    object\n",
            " 18  Research                      216 non-null    object\n",
            " 19  Timespend_on_10,000-30,000    216 non-null    object\n",
            " 20  Timespend_on_30,000-50,000    216 non-null    object\n",
            " 21  Timespend_on_50,000-70,000    216 non-null    object\n",
            " 22  Timespend_on_70,000-1,00,000  216 non-null    object\n",
            " 23  Yearly_spendings              216 non-null    object\n",
            " 24  Factors                       216 non-null    object\n",
            " 25  Product_features              216 non-null    object\n",
            " 26  Ease_of_use                   216 non-null    object\n",
            " 27  Warranty                      216 non-null    object\n",
            " 28  Recommendation_from_someone   216 non-null    object\n",
            " 29  Sales_person_recommendation   216 non-null    object\n",
            " 30  Rating                        216 non-null    int64 \n",
            " 31  Review                        215 non-null    object\n",
            "dtypes: int64(1), object(31)\n",
            "memory usage: 54.1+ KB\n"
          ],
          "name": "stdout"
        }
      ]
    },
    {
      "cell_type": "code",
      "metadata": {
        "colab": {
          "base_uri": "https://localhost:8080/"
        },
        "id": "V2S0TTXn-SIc",
        "outputId": "bfe94ae8-39b7-4ebb-ebe6-da54f29d6373"
      },
      "source": [
        "#Check the number of rows and columns\n",
        "rows,columns=df.shape\n",
        "print('Number of rows: ',rows)\n",
        "print('Number of columns: ',columns)"
      ],
      "execution_count": 14,
      "outputs": [
        {
          "output_type": "stream",
          "text": [
            "Number of rows:  216\n",
            "Number of columns:  32\n"
          ],
          "name": "stdout"
        }
      ]
    },
    {
      "cell_type": "markdown",
      "metadata": {
        "id": "iqFwxyoxO5lz"
      },
      "source": [
        "**Data types of columns**"
      ]
    },
    {
      "cell_type": "code",
      "metadata": {
        "colab": {
          "base_uri": "https://localhost:8080/"
        },
        "id": "EqJH5S9Z--XO",
        "outputId": "6ab31ebc-d2bb-4497-f7b3-3301de356022"
      },
      "source": [
        "df.dtypes"
      ],
      "execution_count": null,
      "outputs": [
        {
          "output_type": "execute_result",
          "data": {
            "text/plain": [
              "Timestamp                       object\n",
              "Name                            object\n",
              "Age                             object\n",
              "howoften                        object\n",
              "Changecell                      object\n",
              "Uselaptop                       object\n",
              "Readlaunches                    object\n",
              "Trynewproduct                   object\n",
              "Type                            object\n",
              "Product                         object\n",
              "Item                            object\n",
              "Brand(HomeAppliances)           object\n",
              "Brand(ITDevices)                object\n",
              "Brand(MobileDevices)            object\n",
              "Price(HomeAppliances)           object\n",
              "Price(ITDevices)                object\n",
              "Price(MobileDevices)            object\n",
              "Time                            object\n",
              "Where                           object\n",
              "Compareprices                   object\n",
              "Research                        object\n",
              "Timespend(10,000 - 30,000)      object\n",
              "Timespend(30,000 - 50,000)      object\n",
              "Timespend(50,000 - 70,000)      object\n",
              "Timespend(70,000 - 1,00,000)    object\n",
              "Yearlyspending                  object\n",
              "Factors                         object\n",
              "Productfeatures                 object\n",
              "Easeofuse                       object\n",
              "Warranty                        object\n",
              "Recommendationfromsomeone       object\n",
              "Salespersonrecommendation       object\n",
              "NoUseproduct                    object\n",
              "Rating                           int64\n",
              "Review                          object\n",
              "dtype: object"
            ]
          },
          "metadata": {
            "tags": []
          },
          "execution_count": 5
        }
      ]
    },
    {
      "cell_type": "code",
      "metadata": {
        "colab": {
          "base_uri": "https://localhost:8080/",
          "height": 297
        },
        "id": "Et2lVu0oYmdH",
        "outputId": "10810360-fdfe-437d-88bc-a76d7ac31c56"
      },
      "source": [
        "df.describe()"
      ],
      "execution_count": 15,
      "outputs": [
        {
          "output_type": "execute_result",
          "data": {
            "text/html": [
              "<div>\n",
              "<style scoped>\n",
              "    .dataframe tbody tr th:only-of-type {\n",
              "        vertical-align: middle;\n",
              "    }\n",
              "\n",
              "    .dataframe tbody tr th {\n",
              "        vertical-align: top;\n",
              "    }\n",
              "\n",
              "    .dataframe thead th {\n",
              "        text-align: right;\n",
              "    }\n",
              "</style>\n",
              "<table border=\"1\" class=\"dataframe\">\n",
              "  <thead>\n",
              "    <tr style=\"text-align: right;\">\n",
              "      <th></th>\n",
              "      <th>Rating</th>\n",
              "    </tr>\n",
              "  </thead>\n",
              "  <tbody>\n",
              "    <tr>\n",
              "      <th>count</th>\n",
              "      <td>216.000000</td>\n",
              "    </tr>\n",
              "    <tr>\n",
              "      <th>mean</th>\n",
              "      <td>4.152778</td>\n",
              "    </tr>\n",
              "    <tr>\n",
              "      <th>std</th>\n",
              "      <td>0.632302</td>\n",
              "    </tr>\n",
              "    <tr>\n",
              "      <th>min</th>\n",
              "      <td>2.000000</td>\n",
              "    </tr>\n",
              "    <tr>\n",
              "      <th>25%</th>\n",
              "      <td>4.000000</td>\n",
              "    </tr>\n",
              "    <tr>\n",
              "      <th>50%</th>\n",
              "      <td>4.000000</td>\n",
              "    </tr>\n",
              "    <tr>\n",
              "      <th>75%</th>\n",
              "      <td>5.000000</td>\n",
              "    </tr>\n",
              "    <tr>\n",
              "      <th>max</th>\n",
              "      <td>5.000000</td>\n",
              "    </tr>\n",
              "  </tbody>\n",
              "</table>\n",
              "</div>"
            ],
            "text/plain": [
              "           Rating\n",
              "count  216.000000\n",
              "mean     4.152778\n",
              "std      0.632302\n",
              "min      2.000000\n",
              "25%      4.000000\n",
              "50%      4.000000\n",
              "75%      5.000000\n",
              "max      5.000000"
            ]
          },
          "metadata": {
            "tags": []
          },
          "execution_count": 15
        }
      ]
    },
    {
      "cell_type": "code",
      "metadata": {
        "colab": {
          "base_uri": "https://localhost:8080/",
          "height": 278
        },
        "id": "bBrxhL55Y4V2",
        "outputId": "0b402492-7cd7-458f-beb2-0512f8182116"
      },
      "source": [
        "df.describe(include=['object'])"
      ],
      "execution_count": 16,
      "outputs": [
        {
          "output_type": "execute_result",
          "data": {
            "text/html": [
              "<div>\n",
              "<style scoped>\n",
              "    .dataframe tbody tr th:only-of-type {\n",
              "        vertical-align: middle;\n",
              "    }\n",
              "\n",
              "    .dataframe tbody tr th {\n",
              "        vertical-align: top;\n",
              "    }\n",
              "\n",
              "    .dataframe thead th {\n",
              "        text-align: right;\n",
              "    }\n",
              "</style>\n",
              "<table border=\"1\" class=\"dataframe\">\n",
              "  <thead>\n",
              "    <tr style=\"text-align: right;\">\n",
              "      <th></th>\n",
              "      <th>Age</th>\n",
              "      <th>howoften</th>\n",
              "      <th>Changecell</th>\n",
              "      <th>Uselaptop</th>\n",
              "      <th>Readlaunches</th>\n",
              "      <th>Trynewproduct</th>\n",
              "      <th>Type</th>\n",
              "      <th>Product</th>\n",
              "      <th>Item</th>\n",
              "      <th>Brand(HomeAppliances)</th>\n",
              "      <th>Brand(ITDevices)</th>\n",
              "      <th>Brand(MobileDevices)</th>\n",
              "      <th>Price(HomeAppliances)</th>\n",
              "      <th>Price(ITDevices)</th>\n",
              "      <th>Price(MobileDevices)</th>\n",
              "      <th>Time</th>\n",
              "      <th>Where</th>\n",
              "      <th>Compareprices</th>\n",
              "      <th>Research</th>\n",
              "      <th>Timespend(10,000 - 30,000)</th>\n",
              "      <th>Timespend(30,000 - 50,000)</th>\n",
              "      <th>Timespend(50,000 - 70,000)</th>\n",
              "      <th>Timespend(70,000 - 1,00,000)</th>\n",
              "      <th>Yearlyspending</th>\n",
              "      <th>Factors</th>\n",
              "      <th>Productfeatures</th>\n",
              "      <th>Easeofuse</th>\n",
              "      <th>Warranty</th>\n",
              "      <th>Recommendationfromsomeone</th>\n",
              "      <th>Salespersonrecommendation</th>\n",
              "      <th>Review</th>\n",
              "    </tr>\n",
              "  </thead>\n",
              "  <tbody>\n",
              "    <tr>\n",
              "      <th>count</th>\n",
              "      <td>216</td>\n",
              "      <td>216</td>\n",
              "      <td>216</td>\n",
              "      <td>216</td>\n",
              "      <td>216</td>\n",
              "      <td>216</td>\n",
              "      <td>216</td>\n",
              "      <td>216</td>\n",
              "      <td>216</td>\n",
              "      <td>216</td>\n",
              "      <td>216</td>\n",
              "      <td>216</td>\n",
              "      <td>216</td>\n",
              "      <td>216</td>\n",
              "      <td>216</td>\n",
              "      <td>216</td>\n",
              "      <td>216</td>\n",
              "      <td>216</td>\n",
              "      <td>216</td>\n",
              "      <td>216</td>\n",
              "      <td>216</td>\n",
              "      <td>216</td>\n",
              "      <td>216</td>\n",
              "      <td>216</td>\n",
              "      <td>216</td>\n",
              "      <td>216</td>\n",
              "      <td>216</td>\n",
              "      <td>216</td>\n",
              "      <td>216</td>\n",
              "      <td>216</td>\n",
              "      <td>215</td>\n",
              "    </tr>\n",
              "    <tr>\n",
              "      <th>unique</th>\n",
              "      <td>4</td>\n",
              "      <td>2</td>\n",
              "      <td>5</td>\n",
              "      <td>5</td>\n",
              "      <td>5</td>\n",
              "      <td>5</td>\n",
              "      <td>2</td>\n",
              "      <td>8</td>\n",
              "      <td>36</td>\n",
              "      <td>8</td>\n",
              "      <td>8</td>\n",
              "      <td>12</td>\n",
              "      <td>9</td>\n",
              "      <td>7</td>\n",
              "      <td>8</td>\n",
              "      <td>2</td>\n",
              "      <td>10</td>\n",
              "      <td>2</td>\n",
              "      <td>16</td>\n",
              "      <td>5</td>\n",
              "      <td>5</td>\n",
              "      <td>8</td>\n",
              "      <td>5</td>\n",
              "      <td>6</td>\n",
              "      <td>16</td>\n",
              "      <td>4</td>\n",
              "      <td>4</td>\n",
              "      <td>4</td>\n",
              "      <td>4</td>\n",
              "      <td>4</td>\n",
              "      <td>73</td>\n",
              "    </tr>\n",
              "    <tr>\n",
              "      <th>top</th>\n",
              "      <td>18-25</td>\n",
              "      <td>Regularly</td>\n",
              "      <td>Rarely</td>\n",
              "      <td>Always</td>\n",
              "      <td>Sometimes</td>\n",
              "      <td>Very Often</td>\n",
              "      <td>New</td>\n",
              "      <td>Home appliances</td>\n",
              "      <td>Smartphone</td>\n",
              "      <td>Whirlpool</td>\n",
              "      <td>Lenovo</td>\n",
              "      <td>Realme</td>\n",
              "      <td>40,000 - 50,000</td>\n",
              "      <td>30,000 - 40,000</td>\n",
              "      <td>30,000 - 40,000</td>\n",
              "      <td>During the sale</td>\n",
              "      <td>Online</td>\n",
              "      <td>Yes</td>\n",
              "      <td>Ask a friend/colleague/family member for their...</td>\n",
              "      <td>2 - 4 days</td>\n",
              "      <td>5-10 days</td>\n",
              "      <td>2 - 4 weeks</td>\n",
              "      <td>1-3 months</td>\n",
              "      <td>40,000 - 60,000</td>\n",
              "      <td>Reliability of a product, Quality of a product</td>\n",
              "      <td>Extremely important</td>\n",
              "      <td>Very important</td>\n",
              "      <td>Extremely important</td>\n",
              "      <td>Moderately important</td>\n",
              "      <td>Moderately important</td>\n",
              "      <td>Good</td>\n",
              "    </tr>\n",
              "    <tr>\n",
              "      <th>freq</th>\n",
              "      <td>84</td>\n",
              "      <td>117</td>\n",
              "      <td>62</td>\n",
              "      <td>93</td>\n",
              "      <td>64</td>\n",
              "      <td>76</td>\n",
              "      <td>162</td>\n",
              "      <td>68</td>\n",
              "      <td>60</td>\n",
              "      <td>101</td>\n",
              "      <td>102</td>\n",
              "      <td>54</td>\n",
              "      <td>50</td>\n",
              "      <td>50</td>\n",
              "      <td>60</td>\n",
              "      <td>172</td>\n",
              "      <td>62</td>\n",
              "      <td>209</td>\n",
              "      <td>40</td>\n",
              "      <td>102</td>\n",
              "      <td>92</td>\n",
              "      <td>91</td>\n",
              "      <td>139</td>\n",
              "      <td>106</td>\n",
              "      <td>62</td>\n",
              "      <td>103</td>\n",
              "      <td>107</td>\n",
              "      <td>103</td>\n",
              "      <td>148</td>\n",
              "      <td>106</td>\n",
              "      <td>45</td>\n",
              "    </tr>\n",
              "  </tbody>\n",
              "</table>\n",
              "</div>"
            ],
            "text/plain": [
              "          Age   howoften  ... Salespersonrecommendation Review\n",
              "count     216        216  ...                       216    215\n",
              "unique      4          2  ...                         4     73\n",
              "top     18-25  Regularly  ...      Moderately important   Good\n",
              "freq       84        117  ...                       106     45\n",
              "\n",
              "[4 rows x 31 columns]"
            ]
          },
          "metadata": {
            "tags": []
          },
          "execution_count": 16
        }
      ]
    },
    {
      "cell_type": "markdown",
      "metadata": {
        "id": "rs2HmjE8PDtH"
      },
      "source": [
        "**Checking Null Values**"
      ]
    },
    {
      "cell_type": "code",
      "metadata": {
        "colab": {
          "base_uri": "https://localhost:8080/",
          "height": 534
        },
        "id": "j2a78YBMj82u",
        "outputId": "ad2d2a58-5eba-4cee-e942-a8fe985d4bdc"
      },
      "source": [
        "missing=df.isna().sum().sort_values(ascending=False)\n",
        "missing.plot.bar(figsize=(10,6))\n",
        "plt.xlabel('Columns with missing values')\n",
        "plt.ylabel('Count')\n",
        "plt.show()"
      ],
      "execution_count": 18,
      "outputs": [
        {
          "output_type": "display_data",
          "data": {
            "image/png": "[encoded data removed]",
            "text/plain": [
              "<Figure size 720x432 with 1 Axes>"
            ]
          },
          "metadata": {
            "tags": [],
            "needs_background": "light"
          }
        }
      ]
    },
    {
      "cell_type": "code",
      "metadata": {
        "colab": {
          "base_uri": "https://localhost:8080/"
        },
        "id": "XG85uFwVSxct",
        "outputId": "c960a2ef-e562-4129-b72d-b4a7d3f54964"
      },
      "source": [
        "missing"
      ],
      "execution_count": 19,
      "outputs": [
        {
          "output_type": "execute_result",
          "data": {
            "text/plain": [
              "Review                          1\n",
              "Rating                          0\n",
              "howoften                        0\n",
              "Changecell                      0\n",
              "Uselaptop                       0\n",
              "Readlaunches                    0\n",
              "Trynewproduct                   0\n",
              "Type                            0\n",
              "Product                         0\n",
              "Item                            0\n",
              "Brand(HomeAppliances)           0\n",
              "Brand(ITDevices)                0\n",
              "Brand(MobileDevices)            0\n",
              "Price(HomeAppliances)           0\n",
              "Price(ITDevices)                0\n",
              "Price(MobileDevices)            0\n",
              "Time                            0\n",
              "Where                           0\n",
              "Compareprices                   0\n",
              "Research                        0\n",
              "Timespend(10,000 - 30,000)      0\n",
              "Timespend(30,000 - 50,000)      0\n",
              "Timespend(50,000 - 70,000)      0\n",
              "Timespend(70,000 - 1,00,000)    0\n",
              "Yearlyspending                  0\n",
              "Factors                         0\n",
              "Productfeatures                 0\n",
              "Easeofuse                       0\n",
              "Warranty                        0\n",
              "Recommendationfromsomeone       0\n",
              "Salespersonrecommendation       0\n",
              "Age                             0\n",
              "dtype: int64"
            ]
          },
          "metadata": {
            "tags": []
          },
          "execution_count": 19
        }
      ]
    },
    {
      "cell_type": "markdown",
      "metadata": {
        "id": "gXmBkF0WOWOF"
      },
      "source": [
        "**Finding Duplicate values**"
      ]
    },
    {
      "cell_type": "code",
      "metadata": {
        "colab": {
          "base_uri": "https://localhost:8080/"
        },
        "id": "UHhe74WnN4V6",
        "outputId": "2b27ec11-c877-47c6-88fc-ced128b49f5a"
      },
      "source": [
        "df.duplicated()"
      ],
      "execution_count": null,
      "outputs": [
        {
          "output_type": "execute_result",
          "data": {
            "text/plain": [
              "0      False\n",
              "1      False\n",
              "2      False\n",
              "3      False\n",
              "4      False\n",
              "       ...  \n",
              "211    False\n",
              "212    False\n",
              "213    False\n",
              "214    False\n",
              "215    False\n",
              "Length: 216, dtype: bool"
            ]
          },
          "metadata": {
            "tags": []
          },
          "execution_count": 9
        }
      ]
    },
    {
      "cell_type": "code",
      "metadata": {
        "colab": {
          "base_uri": "https://localhost:8080/"
        },
        "id": "AIq-WBwC4YwA",
        "outputId": "c3d52369-da06-4efd-edd0-f088752382ed"
      },
      "source": [
        "df.info()"
      ],
      "execution_count": 35,
      "outputs": [
        {
          "output_type": "stream",
          "text": [
            "<class 'pandas.core.frame.DataFrame'>\n",
            "RangeIndex: 216 entries, 0 to 215\n",
            "Data columns (total 32 columns):\n",
            " #   Column                        Non-Null Count  Dtype \n",
            "---  ------                        --------------  ----- \n",
            " 0   Age                           216 non-null    object\n",
            " 1   howoften                      216 non-null    object\n",
            " 2   Changecell                    216 non-null    object\n",
            " 3   Uselaptop                     216 non-null    object\n",
            " 4   Readlaunches                  216 non-null    object\n",
            " 5   Trynewproduct                 216 non-null    object\n",
            " 6   Type                          216 non-null    object\n",
            " 7   Product                       216 non-null    object\n",
            " 8   Item                          216 non-null    object\n",
            " 9   Brand(HomeAppliances)         216 non-null    object\n",
            " 10  Brand(ITDevices)              216 non-null    object\n",
            " 11  Brand(MobileDevices)          216 non-null    object\n",
            " 12  Price(HomeAppliances)         216 non-null    object\n",
            " 13  Price(ITDevices)              216 non-null    object\n",
            " 14  Price(MobileDevices)          216 non-null    object\n",
            " 15  Time                          216 non-null    object\n",
            " 16  Where                         216 non-null    object\n",
            " 17  Compareprices                 216 non-null    object\n",
            " 18  Research                      216 non-null    object\n",
            " 19  Timespend(10,000 - 30,000)    216 non-null    object\n",
            " 20  Timespend(30,000 - 50,000)    216 non-null    object\n",
            " 21  Timespend(50,000 - 70,000)    216 non-null    object\n",
            " 22  Timespend(70,000 - 1,00,000)  216 non-null    object\n",
            " 23  Yearlyspending                216 non-null    object\n",
            " 24  Factors                       216 non-null    object\n",
            " 25  Productfeatures               216 non-null    object\n",
            " 26  Easeofuse                     216 non-null    object\n",
            " 27  Warranty                      216 non-null    object\n",
            " 28  Recommendationfromsomeone     216 non-null    object\n",
            " 29  Salespersonrecommendation     216 non-null    object\n",
            " 30  Rating                        216 non-null    int64 \n",
            " 31  Review                        215 non-null    object\n",
            "dtypes: int64(1), object(31)\n",
            "memory usage: 54.1+ KB\n"
          ],
          "name": "stdout"
        }
      ]
    },
    {
      "cell_type": "code",
      "metadata": {
        "colab": {
          "base_uri": "https://localhost:8080/",
          "height": 437
        },
        "id": "i9zYoMhG4eR9",
        "outputId": "1b47b845-f571-4f44-8a61-e6c1de98dc5f"
      },
      "source": [
        "# Check the distribution of the rating\n",
        "with sns.axes_style('white'):\n",
        "    R = sns.factorplot(\"Rating\", data=df, aspect=2.0,kind='count', palette='Set2')\n",
        "    R.set_ylabels(\"Total number of ratings\")\n"
      ],
      "execution_count": 62,
      "outputs": [
        {
          "output_type": "stream",
          "text": [
            "/usr/local/lib/python3.7/dist-packages/seaborn/categorical.py:3714: UserWarning: The `factorplot` function has been renamed to `catplot`. The original name will be removed in a future release. Please update your code. Note that the default `kind` in `factorplot` (`'point'`) has changed `'strip'` in `catplot`.\n",
            "  warnings.warn(msg)\n"
          ],
          "name": "stderr"
        },
        {
          "output_type": "display_data",
          "data": {
            "image/png": "[encoded data removed]",
            "text/plain": [
              "<Figure size 720x360 with 1 Axes>"
            ]
          },
          "metadata": {
            "tags": []
          }
        }
      ]
    },
    {
      "cell_type": "code",
      "metadata": {
        "colab": {
          "base_uri": "https://localhost:8080/"
        },
        "id": "fJc7duOd-9cj",
        "outputId": "a6fdf37d-8e6d-4a68-8a8e-08be493dd2a0"
      },
      "source": [
        "#Find the minimum and maximum ratings\n",
        "print('Minimum rating is: %d' %(df.Rating.min()))\n",
        "print('Maximum rating is: %d' %(df.Rating.max()))"
      ],
      "execution_count": 57,
      "outputs": [
        {
          "output_type": "stream",
          "text": [
            "Minimum rating is: 2\n",
            "Maximum rating is: 5\n"
          ],
          "name": "stdout"
        }
      ]
    },
    {
      "cell_type": "markdown",
      "metadata": {
        "id": "-AHjB5xd5KZ2"
      },
      "source": [
        "Lets compare the average rating for each product vs the number of people who rated for the product. This will help identify products which have a very high or low rating because of very few ratings received. "
      ]
    },
    {
      "cell_type": "code",
      "metadata": {
        "colab": {
          "base_uri": "https://localhost:8080/",
          "height": 235
        },
        "id": "e5UtBk1TyvRq",
        "outputId": "f263f6fa-ee35-4d06-e42a-341066dff7f6"
      },
      "source": [
        "ratings=pd.DataFrame(df.groupby('Product')['Rating'].mean())\n",
        "ratings['Number_Of_Ratings']=pd.DataFrame(df.groupby('Product')['Rating'].count())\n",
        "ratings.head()"
      ],
      "execution_count": 52,
      "outputs": [
        {
          "output_type": "execute_result",
          "data": {
            "text/html": [
              "<div>\n",
              "<style scoped>\n",
              "    .dataframe tbody tr th:only-of-type {\n",
              "        vertical-align: middle;\n",
              "    }\n",
              "\n",
              "    .dataframe tbody tr th {\n",
              "        vertical-align: top;\n",
              "    }\n",
              "\n",
              "    .dataframe thead th {\n",
              "        text-align: right;\n",
              "    }\n",
              "</style>\n",
              "<table border=\"1\" class=\"dataframe\">\n",
              "  <thead>\n",
              "    <tr style=\"text-align: right;\">\n",
              "      <th></th>\n",
              "      <th>Rating</th>\n",
              "      <th>Number_Of_Ratings</th>\n",
              "    </tr>\n",
              "    <tr>\n",
              "      <th>Product</th>\n",
              "      <th></th>\n",
              "      <th></th>\n",
              "    </tr>\n",
              "  </thead>\n",
              "  <tbody>\n",
              "    <tr>\n",
              "      <th>Earphone</th>\n",
              "      <td>5.000000</td>\n",
              "      <td>1</td>\n",
              "    </tr>\n",
              "    <tr>\n",
              "      <th>Home appliances</th>\n",
              "      <td>4.161765</td>\n",
              "      <td>68</td>\n",
              "    </tr>\n",
              "    <tr>\n",
              "      <th>Home appliances, IT Devices</th>\n",
              "      <td>4.000000</td>\n",
              "      <td>2</td>\n",
              "    </tr>\n",
              "    <tr>\n",
              "      <th>Home appliances, IT Devices, Mobile devices</th>\n",
              "      <td>4.714286</td>\n",
              "      <td>7</td>\n",
              "    </tr>\n",
              "    <tr>\n",
              "      <th>Home appliances, Mobile devices</th>\n",
              "      <td>4.000000</td>\n",
              "      <td>11</td>\n",
              "    </tr>\n",
              "  </tbody>\n",
              "</table>\n",
              "</div>"
            ],
            "text/plain": [
              "                                               Rating  Number_Of_Ratings\n",
              "Product                                                                 \n",
              "Earphone                                     5.000000                  1\n",
              "Home appliances                              4.161765                 68\n",
              "Home appliances, IT Devices                  4.000000                  2\n",
              "Home appliances, IT Devices, Mobile devices  4.714286                  7\n",
              "Home appliances, Mobile devices              4.000000                 11"
            ]
          },
          "metadata": {
            "tags": []
          },
          "execution_count": 52
        }
      ]
    },
    {
      "cell_type": "markdown",
      "metadata": {
        "id": "hLvbK9sJ536V"
      },
      "source": [
        "Let's now check the distribution of count of ratings and the mean ratings"
      ]
    },
    {
      "cell_type": "code",
      "metadata": {
        "colab": {
          "base_uri": "https://localhost:8080/",
          "height": 278
        },
        "id": "cbAcxHXW5QWM",
        "outputId": "9b3aadd9-6062-403b-82da-67d975efebd6"
      },
      "source": [
        "plt.figure(figsize=(20,5))\n",
        "plt.subplot(1,2,1)\n",
        "plt.hist(Rating.Number_Of_Ratings, color='lightsteelblue')\n",
        "plt.title('Distribution of Count of Each Rating')\n",
        "\n",
        "plt.subplot(1,2,2)\n",
        "plt.hist(Rating.Rating, color='cornflowerblue')\n",
        "plt.title('Distribution of Ratings')\n",
        "plt.show()"
      ],
      "execution_count": 50,
      "outputs": [
        {
          "output_type": "display_data",
          "data": {
            "image/png": "[encoded data removed]",
            "text/plain": [
              "<Figure size 1440x360 with 2 Axes>"
            ]
          },
          "metadata": {
            "tags": [],
            "needs_background": "light"
          }
        }
      ]
    },
    {
      "cell_type": "code",
      "metadata": {
        "colab": {
          "base_uri": "https://localhost:8080/",
          "height": 297
        },
        "id": "fwEakIJ2595u",
        "outputId": "43de5492-25e5-4968-f05f-c2d14419d5e7"
      },
      "source": [
        "Rating.describe()"
      ],
      "execution_count": 45,
      "outputs": [
        {
          "output_type": "execute_result",
          "data": {
            "text/html": [
              "<div>\n",
              "<style scoped>\n",
              "    .dataframe tbody tr th:only-of-type {\n",
              "        vertical-align: middle;\n",
              "    }\n",
              "\n",
              "    .dataframe tbody tr th {\n",
              "        vertical-align: top;\n",
              "    }\n",
              "\n",
              "    .dataframe thead th {\n",
              "        text-align: right;\n",
              "    }\n",
              "</style>\n",
              "<table border=\"1\" class=\"dataframe\">\n",
              "  <thead>\n",
              "    <tr style=\"text-align: right;\">\n",
              "      <th></th>\n",
              "      <th>Rating</th>\n",
              "      <th>Number_Of_Ratings</th>\n",
              "    </tr>\n",
              "  </thead>\n",
              "  <tbody>\n",
              "    <tr>\n",
              "      <th>count</th>\n",
              "      <td>8.000000</td>\n",
              "      <td>8.000000</td>\n",
              "    </tr>\n",
              "    <tr>\n",
              "      <th>mean</th>\n",
              "      <td>4.327336</td>\n",
              "      <td>27.000000</td>\n",
              "    </tr>\n",
              "    <tr>\n",
              "      <th>std</th>\n",
              "      <td>0.396944</td>\n",
              "      <td>27.861904</td>\n",
              "    </tr>\n",
              "    <tr>\n",
              "      <th>min</th>\n",
              "      <td>4.000000</td>\n",
              "      <td>1.000000</td>\n",
              "    </tr>\n",
              "    <tr>\n",
              "      <th>25%</th>\n",
              "      <td>4.023810</td>\n",
              "      <td>5.750000</td>\n",
              "    </tr>\n",
              "    <tr>\n",
              "      <th>50%</th>\n",
              "      <td>4.112797</td>\n",
              "      <td>14.000000</td>\n",
              "    </tr>\n",
              "    <tr>\n",
              "      <th>75%</th>\n",
              "      <td>4.663866</td>\n",
              "      <td>51.000000</td>\n",
              "    </tr>\n",
              "    <tr>\n",
              "      <th>max</th>\n",
              "      <td>5.000000</td>\n",
              "      <td>68.000000</td>\n",
              "    </tr>\n",
              "  </tbody>\n",
              "</table>\n",
              "</div>"
            ],
            "text/plain": [
              "         Rating  Number_Of_Ratings\n",
              "count  8.000000           8.000000\n",
              "mean   4.327336          27.000000\n",
              "std    0.396944          27.861904\n",
              "min    4.000000           1.000000\n",
              "25%    4.023810           5.750000\n",
              "50%    4.112797          14.000000\n",
              "75%    4.663866          51.000000\n",
              "max    5.000000          68.000000"
            ]
          },
          "metadata": {
            "tags": []
          },
          "execution_count": 45
        }
      ]
    },
    {
      "cell_type": "code",
      "metadata": {
        "colab": {
          "base_uri": "https://localhost:8080/",
          "height": 441
        },
        "id": "EJed7rIT6B6l",
        "outputId": "160950e6-c4d5-44ba-a301-351867564ee8"
      },
      "source": [
        "sns.jointplot(Rating.Rating,Rating.Number_Of_Ratings)\n",
        "plt.show()"
      ],
      "execution_count": 49,
      "outputs": [
        {
          "output_type": "display_data",
          "data": {
            "image/png": "[encoded data removed]",
            "text/plain": [
              "<Figure size 432x432 with 3 Axes>"
            ]
          },
          "metadata": {
            "tags": [],
            "needs_background": "light"
          }
        }
      ]
    },
    {
      "cell_type": "code",
      "metadata": {
        "colab": {
          "base_uri": "https://localhost:8080/",
          "height": 295
        },
        "id": "2-WA6cD_6_BU",
        "outputId": "30bba527-2b3a-4a7f-8021-3ade4745b0b2"
      },
      "source": [
        "ratings=pd.DataFrame(df.groupby('Product')['Rating'].mean())\n",
        "ratings['Number_Of_Ratings']=pd.DataFrame(df.groupby('Product')['Rating'].count())\n",
        "\n",
        "plt.figure(figsize=(20,5))\n",
        "plt.subplot(1,2,1)\n",
        "plt.hist(ratings.Number_Of_Ratings, color='tan')\n",
        "plt.title('Distribution of Count of Each Rating')\n",
        "\n",
        "plt.subplot(1,2,2)\n",
        "plt.hist(ratings.Rating, color='navajowhite')\n",
        "plt.title('Distribution of Ratings')"
      ],
      "execution_count": 56,
      "outputs": [
        {
          "output_type": "execute_result",
          "data": {
            "text/plain": [
              "Text(0.5, 1.0, 'Distribution of Ratings')"
            ]
          },
          "metadata": {
            "tags": []
          },
          "execution_count": 56
        },
        {
          "output_type": "display_data",
          "data": {
            "image/png": "[encoded data removed]",
            "text/plain": [
              "<Figure size 1440x360 with 2 Axes>"
            ]
          },
          "metadata": {
            "tags": [],
            "needs_background": "light"
          }
        }
      ]
    },
    {
      "cell_type": "code",
      "metadata": {
        "colab": {
          "base_uri": "https://localhost:8080/"
        },
        "id": "Xcu-xq99zXAg",
        "outputId": "99fef073-939a-46cc-d213-fc1103e7327f"
      },
      "source": [
        "#Check the top 10 users based on ratings\n",
        "most_rated=df.groupby('ID').size().sort_values(ascending=False)[:10]\n",
        "print('Top 10 users based on ratings: \\n',most_rated)"
      ],
      "execution_count": 83,
      "outputs": [
        {
          "output_type": "stream",
          "text": [
            "Top 10 users based on ratings: \n",
            " ID\n",
            "216    1\n",
            "68     1\n",
            "79     1\n",
            "78     1\n",
            "77     1\n",
            "76     1\n",
            "75     1\n",
            "74     1\n",
            "73     1\n",
            "72     1\n",
            "dtype: int64\n"
          ],
          "name": "stdout"
        }
      ]
    },
    {
      "cell_type": "code",
      "metadata": {
        "id": "UFpmuxUXI6-t"
      },
      "source": [
        ""
      ],
      "execution_count": null,
      "outputs": []
    }
  ]
}