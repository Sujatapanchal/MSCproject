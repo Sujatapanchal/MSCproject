{
  "nbformat": 4,
  "nbformat_minor": 0,
  "metadata": {
    "colab": {
      "name": "Models.ipynb",
      "provenance": [],
      "collapsed_sections": [],
      "authorship_tag": "ABX9TyMw++33wF4bLrPL6LIoajxi",
      "include_colab_link": true
    },
    "kernelspec": {
      "name": "python3",
      "display_name": "Python 3"
    },
    "language_info": {
      "name": "python"
    }
  },
  "cells": [
    {
      "cell_type": "markdown",
      "metadata": {
        "id": "view-in-github",
        "colab_type": "text"
      },
      "source": [
        "<a href=\"https://colab.research.google.com/github/sujata1606/Final-Year-Project/blob/main/Models.ipynb\" target=\"_parent\"><img src=\"https://colab.research.google.com/assets/colab-badge.svg\" alt=\"Open In Colab\"/></a>"
      ]
    },
    {
      "cell_type": "code",
      "metadata": {
        "id": "nx98-6V7R4Xr"
      },
      "source": [
        "# Standard imports\n",
        "%matplotlib inline\n",
        "import numpy as np\n",
        "import pandas as pd\n",
        "import seaborn as sns\n",
        "import matplotlib.pyplot as plt\n",
        "\n",
        "#categorical encoding using Labelencoder\n",
        "from sklearn.preprocessing import LabelEncoder\n",
        "num=LabelEncoder()\n",
        "\n",
        "from sklearn.tree import DecisionTreeClassifier\n",
        "from sklearn.ensemble import RandomForestClassifier\n",
        "\n",
        "# Model Evaluations\n",
        "from sklearn.model_selection import train_test_split\n",
        "from sklearn.metrics import classification_report, confusion_matrix, accuracy_score\n",
        "from sklearn import tree\n",
        "import graphviz\n",
        "from sklearn.tree import export_graphviz\n"
      ],
      "execution_count": 1,
      "outputs": []
    },
    {
      "cell_type": "code",
      "metadata": {
        "id": "Q4sHLCJOSve8"
      },
      "source": [
        "#Ignore warnings\n",
        "import warnings\n",
        "warnings.simplefilter(action =\"ignore\", category = FutureWarning)"
      ],
      "execution_count": 2,
      "outputs": []
    },
    {
      "cell_type": "code",
      "metadata": {
        "id": "YUbmuM0hSv8P"
      },
      "source": [
        "pd.set_option('display.max_columns',None)"
      ],
      "execution_count": null,
      "outputs": []
    },
    {
      "cell_type": "code",
      "metadata": {
        "colab": {
          "base_uri": "https://localhost:8080/",
          "height": 847
        },
        "id": "_A0-8b1fSyPA",
        "outputId": "e9c95252-8241-4451-b51f-467241873c58"
      },
      "source": [
        "# Get the data ready\n",
        "df = pd.read_csv(\"Electronic Products Data.csv\")\n",
        "df"
      ],
      "execution_count": 3,
      "outputs": [
        {
          "output_type": "execute_result",
          "data": {
            "text/html": [
              "<div>\n",
              "<style scoped>\n",
              "    .dataframe tbody tr th:only-of-type {\n",
              "        vertical-align: middle;\n",
              "    }\n",
              "\n",
              "    .dataframe tbody tr th {\n",
              "        vertical-align: top;\n",
              "    }\n",
              "\n",
              "    .dataframe thead th {\n",
              "        text-align: right;\n",
              "    }\n",
              "</style>\n",
              "<table border=\"1\" class=\"dataframe\">\n",
              "  <thead>\n",
              "    <tr style=\"text-align: right;\">\n",
              "      <th></th>\n",
              "      <th>Timestamp</th>\n",
              "      <th>Name</th>\n",
              "      <th>Age</th>\n",
              "      <th>howoften</th>\n",
              "      <th>Changecell</th>\n",
              "      <th>Uselaptop</th>\n",
              "      <th>Readlaunches</th>\n",
              "      <th>Trynewproduct</th>\n",
              "      <th>Type</th>\n",
              "      <th>Product</th>\n",
              "      <th>Item</th>\n",
              "      <th>Brand(HomeAppliances)</th>\n",
              "      <th>Brand(ITDevices)</th>\n",
              "      <th>Brand(MobileDevices)</th>\n",
              "      <th>Price(HomeAppliances)</th>\n",
              "      <th>Price(ITDevices)</th>\n",
              "      <th>Price(MobileDevices)</th>\n",
              "      <th>Time</th>\n",
              "      <th>Where</th>\n",
              "      <th>Compareprices</th>\n",
              "      <th>Research</th>\n",
              "      <th>Timespend(10,000 - 30,000)</th>\n",
              "      <th>Timespend(30,000 - 50,000)</th>\n",
              "      <th>Timespend(50,000 - 70,000)</th>\n",
              "      <th>Timespend(70,000 - 1,00,000)</th>\n",
              "      <th>Yearlyspending</th>\n",
              "      <th>Factors</th>\n",
              "      <th>Productfeatures</th>\n",
              "      <th>Easeofuse</th>\n",
              "      <th>Warranty</th>\n",
              "      <th>Recommendationfromsomeone</th>\n",
              "      <th>Salespersonrecommendation</th>\n",
              "      <th>NoUseproduct</th>\n",
              "      <th>Rating</th>\n",
              "      <th>Review</th>\n",
              "    </tr>\n",
              "  </thead>\n",
              "  <tbody>\n",
              "    <tr>\n",
              "      <th>0</th>\n",
              "      <td>3/30/2021 15:59</td>\n",
              "      <td>Jaypriya</td>\n",
              "      <td>18-25</td>\n",
              "      <td>Occasionally</td>\n",
              "      <td>Rarely</td>\n",
              "      <td>Always</td>\n",
              "      <td>Very Often</td>\n",
              "      <td>Rarely</td>\n",
              "      <td>New</td>\n",
              "      <td>IT Devices</td>\n",
              "      <td>Laptop</td>\n",
              "      <td>LG</td>\n",
              "      <td>Lenovo</td>\n",
              "      <td>Apple</td>\n",
              "      <td>50,000 - 60,000</td>\n",
              "      <td>40,000 - 50,000</td>\n",
              "      <td>30,000 - 40,000</td>\n",
              "      <td>During the sale</td>\n",
              "      <td>In an electronics store</td>\n",
              "      <td>No</td>\n",
              "      <td>Ask a friend/colleague/family member for their...</td>\n",
              "      <td>2 - 4 days</td>\n",
              "      <td>1-3 months</td>\n",
              "      <td>1-3 months</td>\n",
              "      <td>1-3 months</td>\n",
              "      <td>20,000 - 40,000</td>\n",
              "      <td>Pricing of a product</td>\n",
              "      <td>Very important</td>\n",
              "      <td>Very important</td>\n",
              "      <td>Very important</td>\n",
              "      <td>Very important</td>\n",
              "      <td>Very important</td>\n",
              "      <td>Sell on as second-hand</td>\n",
              "      <td>4</td>\n",
              "      <td>Nothing</td>\n",
              "    </tr>\n",
              "    <tr>\n",
              "      <th>1</th>\n",
              "      <td>3/30/2021 17:20</td>\n",
              "      <td>Mahadik simran</td>\n",
              "      <td>18-25</td>\n",
              "      <td>Occasionally</td>\n",
              "      <td>Sometimes</td>\n",
              "      <td>Sometimes</td>\n",
              "      <td>Sometimes</td>\n",
              "      <td>Very Often</td>\n",
              "      <td>New</td>\n",
              "      <td>IT Devices</td>\n",
              "      <td>Smartphone</td>\n",
              "      <td>Samsung</td>\n",
              "      <td>Dell</td>\n",
              "      <td>Nokia</td>\n",
              "      <td>40,000 - 50,000</td>\n",
              "      <td>30,000 - 40,000</td>\n",
              "      <td>60,000 - 70,000</td>\n",
              "      <td>During the sale</td>\n",
              "      <td>In the exclusive brand store</td>\n",
              "      <td>No</td>\n",
              "      <td>Ask a friend/colleague/family member for his o...</td>\n",
              "      <td>2 - 4 days</td>\n",
              "      <td>5-10 days</td>\n",
              "      <td>2 - 4 weeks</td>\n",
              "      <td>1-3 months</td>\n",
              "      <td>Less than 10,000</td>\n",
              "      <td>Quality of a product</td>\n",
              "      <td>Extremely important</td>\n",
              "      <td>Extremely important</td>\n",
              "      <td>Extremely important</td>\n",
              "      <td>Extremely important</td>\n",
              "      <td>Extremely important</td>\n",
              "      <td>Sell on as second-hand</td>\n",
              "      <td>2</td>\n",
              "      <td>Want to purchase new</td>\n",
              "    </tr>\n",
              "    <tr>\n",
              "      <th>2</th>\n",
              "      <td>4/1/2021 17:17</td>\n",
              "      <td>Sahil</td>\n",
              "      <td>25-35</td>\n",
              "      <td>Regularly</td>\n",
              "      <td>Rarely</td>\n",
              "      <td>Always</td>\n",
              "      <td>Always</td>\n",
              "      <td>Rarely</td>\n",
              "      <td>Refurbished</td>\n",
              "      <td>Mobile devices</td>\n",
              "      <td>Smartphone</td>\n",
              "      <td>Whirlpool</td>\n",
              "      <td>Lenovo</td>\n",
              "      <td>OnePlus</td>\n",
              "      <td>40,000 - 50,000</td>\n",
              "      <td>40,000 - 50,000</td>\n",
              "      <td>20,000 - 30,000</td>\n",
              "      <td>During the sale</td>\n",
              "      <td>In an electronics store</td>\n",
              "      <td>Yes</td>\n",
              "      <td>Compare them with competitive products</td>\n",
              "      <td>Less than 1 day</td>\n",
              "      <td>2 - 4 weeks</td>\n",
              "      <td>2 - 4 weeks</td>\n",
              "      <td>2 - 4 weeks</td>\n",
              "      <td>20,000 - 40,000</td>\n",
              "      <td>Quality of a product</td>\n",
              "      <td>Moderately important</td>\n",
              "      <td>Moderately important</td>\n",
              "      <td>Moderately important</td>\n",
              "      <td>Moderately important</td>\n",
              "      <td>Not at all important</td>\n",
              "      <td>Sell on as second-hand</td>\n",
              "      <td>4</td>\n",
              "      <td>Nothing</td>\n",
              "    </tr>\n",
              "    <tr>\n",
              "      <th>3</th>\n",
              "      <td>4/1/2021 17:39</td>\n",
              "      <td>Sonali</td>\n",
              "      <td>18-25</td>\n",
              "      <td>Occasionally</td>\n",
              "      <td>Sometimes</td>\n",
              "      <td>Always</td>\n",
              "      <td>Always</td>\n",
              "      <td>Sometimes</td>\n",
              "      <td>New</td>\n",
              "      <td>IT Devices</td>\n",
              "      <td>Laptop</td>\n",
              "      <td>Samsung</td>\n",
              "      <td>HP</td>\n",
              "      <td>Samsung</td>\n",
              "      <td>20,000 - 30,000</td>\n",
              "      <td>20,000 - 30,000</td>\n",
              "      <td>100 - 10,000</td>\n",
              "      <td>During the sale</td>\n",
              "      <td>In an electronics store</td>\n",
              "      <td>Yes</td>\n",
              "      <td>Compare them with competitive products</td>\n",
              "      <td>5-10 days</td>\n",
              "      <td>2 - 4 days</td>\n",
              "      <td>2 - 4 days</td>\n",
              "      <td>Less than 1 day</td>\n",
              "      <td>20,000 - 40,000</td>\n",
              "      <td>Quality of a product</td>\n",
              "      <td>Moderately important</td>\n",
              "      <td>Moderately important</td>\n",
              "      <td>Moderately important</td>\n",
              "      <td>Not at all important</td>\n",
              "      <td>Moderately important</td>\n",
              "      <td>Sell on as second-hand</td>\n",
              "      <td>5</td>\n",
              "      <td>Its amazing</td>\n",
              "    </tr>\n",
              "    <tr>\n",
              "      <th>4</th>\n",
              "      <td>4/2/2021 17:39</td>\n",
              "      <td>Namrata</td>\n",
              "      <td>25-35</td>\n",
              "      <td>Regularly</td>\n",
              "      <td>Very Often</td>\n",
              "      <td>Very Often</td>\n",
              "      <td>Very Often</td>\n",
              "      <td>Very Often</td>\n",
              "      <td>New</td>\n",
              "      <td>IT Devices</td>\n",
              "      <td>Laptop</td>\n",
              "      <td>Whirlpool</td>\n",
              "      <td>HP</td>\n",
              "      <td>Nokia</td>\n",
              "      <td>30,000 - 40,000</td>\n",
              "      <td>60,000 - 70,000</td>\n",
              "      <td>30,000 - 40,000</td>\n",
              "      <td>Without the sale (Off Season)</td>\n",
              "      <td>Online</td>\n",
              "      <td>Yes</td>\n",
              "      <td>Ask a friend/colleague/family member for their...</td>\n",
              "      <td>2 - 4 weeks</td>\n",
              "      <td>2 - 4 weeks</td>\n",
              "      <td>2 - 4 days</td>\n",
              "      <td>5-10 days</td>\n",
              "      <td>60,000 - 80,000</td>\n",
              "      <td>Pricing of a product</td>\n",
              "      <td>Very important</td>\n",
              "      <td>Moderately important</td>\n",
              "      <td>Moderately important</td>\n",
              "      <td>Moderately important</td>\n",
              "      <td>Not at all important</td>\n",
              "      <td>Take to local recycling center</td>\n",
              "      <td>4</td>\n",
              "      <td>Good</td>\n",
              "    </tr>\n",
              "    <tr>\n",
              "      <th>...</th>\n",
              "      <td>...</td>\n",
              "      <td>...</td>\n",
              "      <td>...</td>\n",
              "      <td>...</td>\n",
              "      <td>...</td>\n",
              "      <td>...</td>\n",
              "      <td>...</td>\n",
              "      <td>...</td>\n",
              "      <td>...</td>\n",
              "      <td>...</td>\n",
              "      <td>...</td>\n",
              "      <td>...</td>\n",
              "      <td>...</td>\n",
              "      <td>...</td>\n",
              "      <td>...</td>\n",
              "      <td>...</td>\n",
              "      <td>...</td>\n",
              "      <td>...</td>\n",
              "      <td>...</td>\n",
              "      <td>...</td>\n",
              "      <td>...</td>\n",
              "      <td>...</td>\n",
              "      <td>...</td>\n",
              "      <td>...</td>\n",
              "      <td>...</td>\n",
              "      <td>...</td>\n",
              "      <td>...</td>\n",
              "      <td>...</td>\n",
              "      <td>...</td>\n",
              "      <td>...</td>\n",
              "      <td>...</td>\n",
              "      <td>...</td>\n",
              "      <td>...</td>\n",
              "      <td>...</td>\n",
              "      <td>...</td>\n",
              "    </tr>\n",
              "    <tr>\n",
              "      <th>211</th>\n",
              "      <td>4/5/2021 17:39</td>\n",
              "      <td>Darshan</td>\n",
              "      <td>25-35</td>\n",
              "      <td>Regularly</td>\n",
              "      <td>Very Often</td>\n",
              "      <td>Always</td>\n",
              "      <td>Always</td>\n",
              "      <td>Sometimes</td>\n",
              "      <td>New</td>\n",
              "      <td>IT Devices</td>\n",
              "      <td>Desktop</td>\n",
              "      <td>Godrej</td>\n",
              "      <td>Acer</td>\n",
              "      <td>HP</td>\n",
              "      <td>50,000 - 60,000</td>\n",
              "      <td>50,000 - 60,000</td>\n",
              "      <td>40,000 - 50,000</td>\n",
              "      <td>During the sale</td>\n",
              "      <td>Online</td>\n",
              "      <td>Yes</td>\n",
              "      <td>Ask a friend/colleague/family member for his o...</td>\n",
              "      <td>Less than 1 day</td>\n",
              "      <td>2 - 4 weeks</td>\n",
              "      <td>1-3 months</td>\n",
              "      <td>5-10 days</td>\n",
              "      <td>20,000 - 40,000</td>\n",
              "      <td>Quality of a product</td>\n",
              "      <td>Moderately important</td>\n",
              "      <td>Moderately important</td>\n",
              "      <td>Very important</td>\n",
              "      <td>Not at all important</td>\n",
              "      <td>Moderately important</td>\n",
              "      <td>Take to local recycling center</td>\n",
              "      <td>3</td>\n",
              "      <td>Good</td>\n",
              "    </tr>\n",
              "    <tr>\n",
              "      <th>212</th>\n",
              "      <td>4/6/2021 17:39</td>\n",
              "      <td>Raj</td>\n",
              "      <td>18-25</td>\n",
              "      <td>Occasionally</td>\n",
              "      <td>Rarely</td>\n",
              "      <td>Always</td>\n",
              "      <td>Always</td>\n",
              "      <td>Rarely</td>\n",
              "      <td>Refurbished</td>\n",
              "      <td>Home appliances</td>\n",
              "      <td>Television</td>\n",
              "      <td>Samsung</td>\n",
              "      <td>Dell</td>\n",
              "      <td>OnePlus</td>\n",
              "      <td>More than 70,000</td>\n",
              "      <td>30,000 - 40,000</td>\n",
              "      <td>40,000 - 50,000</td>\n",
              "      <td>During the sale</td>\n",
              "      <td>In the exclusive brand store</td>\n",
              "      <td>Yes</td>\n",
              "      <td>Ask a friend/colleague/family member for his o...</td>\n",
              "      <td>2 - 4 days</td>\n",
              "      <td>5-10 days</td>\n",
              "      <td>2 - 4 days</td>\n",
              "      <td>5-10 days</td>\n",
              "      <td>20,000 - 40,000</td>\n",
              "      <td>Reliability of a product</td>\n",
              "      <td>Extremely important</td>\n",
              "      <td>Moderately important</td>\n",
              "      <td>Very important</td>\n",
              "      <td>Not at all important</td>\n",
              "      <td>Moderately important</td>\n",
              "      <td>Give to a friend</td>\n",
              "      <td>4</td>\n",
              "      <td>Extermly good</td>\n",
              "    </tr>\n",
              "    <tr>\n",
              "      <th>213</th>\n",
              "      <td>4/7/2021 17:39</td>\n",
              "      <td>Sonam</td>\n",
              "      <td>25-35</td>\n",
              "      <td>Regularly</td>\n",
              "      <td>Rarely</td>\n",
              "      <td>Sometimes</td>\n",
              "      <td>Always</td>\n",
              "      <td>Rarely</td>\n",
              "      <td>New</td>\n",
              "      <td>Mobile devices</td>\n",
              "      <td>Smartphone</td>\n",
              "      <td>LG</td>\n",
              "      <td>Apple</td>\n",
              "      <td>Apple</td>\n",
              "      <td>More than 70,000</td>\n",
              "      <td>20,000 - 30,000</td>\n",
              "      <td>50,000 - 60,000</td>\n",
              "      <td>During the sale</td>\n",
              "      <td>Online</td>\n",
              "      <td>Yes</td>\n",
              "      <td>Find out brand reputation</td>\n",
              "      <td>Less than 1 day</td>\n",
              "      <td>2 - 4 weeks</td>\n",
              "      <td>3 - 4 days</td>\n",
              "      <td>Less than 1 day</td>\n",
              "      <td>60,000 - 80,000</td>\n",
              "      <td>Services offered</td>\n",
              "      <td>Extremely important</td>\n",
              "      <td>Moderately important</td>\n",
              "      <td>Very important</td>\n",
              "      <td>Not at all important</td>\n",
              "      <td>Not at all important</td>\n",
              "      <td>Sell on as second-hand</td>\n",
              "      <td>4</td>\n",
              "      <td>wow.....</td>\n",
              "    </tr>\n",
              "    <tr>\n",
              "      <th>214</th>\n",
              "      <td>4/8/2021 17:39</td>\n",
              "      <td>Kajal</td>\n",
              "      <td>18-25</td>\n",
              "      <td>Occasionally</td>\n",
              "      <td>Sometimes</td>\n",
              "      <td>Very Often</td>\n",
              "      <td>Always</td>\n",
              "      <td>Rarely</td>\n",
              "      <td>New</td>\n",
              "      <td>Mobile devices</td>\n",
              "      <td>Earphones</td>\n",
              "      <td>Godrej</td>\n",
              "      <td>Acer</td>\n",
              "      <td>Realme</td>\n",
              "      <td>100 - 10,000</td>\n",
              "      <td>50,000 - 60,000</td>\n",
              "      <td>10,000 - 20,000</td>\n",
              "      <td>Without the sale (Off Season)</td>\n",
              "      <td>Online</td>\n",
              "      <td>Yes</td>\n",
              "      <td>Read online reviews</td>\n",
              "      <td>5-10 days</td>\n",
              "      <td>1-3 months</td>\n",
              "      <td>4 - 4 days</td>\n",
              "      <td>1-3 months</td>\n",
              "      <td>Less than 10,000</td>\n",
              "      <td>Quality of a product</td>\n",
              "      <td>Very important</td>\n",
              "      <td>Moderately important</td>\n",
              "      <td>Extremely important</td>\n",
              "      <td>Moderately important</td>\n",
              "      <td>Not at all important</td>\n",
              "      <td>Sell on as second-hand</td>\n",
              "      <td>4</td>\n",
              "      <td>Good overall</td>\n",
              "    </tr>\n",
              "    <tr>\n",
              "      <th>215</th>\n",
              "      <td>4/9/2021 17:39</td>\n",
              "      <td>Naman</td>\n",
              "      <td>25-35</td>\n",
              "      <td>Occasionally</td>\n",
              "      <td>Rarely</td>\n",
              "      <td>Sometimes</td>\n",
              "      <td>Always</td>\n",
              "      <td>Rarely</td>\n",
              "      <td>New</td>\n",
              "      <td>IT Devices</td>\n",
              "      <td>Laptop</td>\n",
              "      <td>Whirlpool</td>\n",
              "      <td>HP</td>\n",
              "      <td>Moto</td>\n",
              "      <td>40,000 - 50,000</td>\n",
              "      <td>30,000 - 40,000</td>\n",
              "      <td>30,000 - 40,000</td>\n",
              "      <td>During the sale</td>\n",
              "      <td>In an electronics store</td>\n",
              "      <td>Yes</td>\n",
              "      <td>Ask a friend/colleague/family member for his o...</td>\n",
              "      <td>2 - 4 days</td>\n",
              "      <td>2 - 4 weeks</td>\n",
              "      <td>5 - 4 days</td>\n",
              "      <td>5-10 days</td>\n",
              "      <td>20,000 - 40,000</td>\n",
              "      <td>Quality of a product</td>\n",
              "      <td>Extremely important</td>\n",
              "      <td>Moderately important</td>\n",
              "      <td>Very important</td>\n",
              "      <td>Not at all important</td>\n",
              "      <td>Not at all important</td>\n",
              "      <td>Take to local recycling center</td>\n",
              "      <td>4</td>\n",
              "      <td>Nothing</td>\n",
              "    </tr>\n",
              "  </tbody>\n",
              "</table>\n",
              "<p>216 rows × 35 columns</p>\n",
              "</div>"
            ],
            "text/plain": [
              "           Timestamp             Name  ... Rating                Review\n",
              "0    3/30/2021 15:59         Jaypriya  ...      4               Nothing\n",
              "1    3/30/2021 17:20  Mahadik simran   ...      2  Want to purchase new\n",
              "2     4/1/2021 17:17            Sahil  ...      4               Nothing\n",
              "3     4/1/2021 17:39           Sonali  ...      5           Its amazing\n",
              "4     4/2/2021 17:39          Namrata  ...      4                  Good\n",
              "..               ...              ...  ...    ...                   ...\n",
              "211   4/5/2021 17:39          Darshan  ...      3                  Good\n",
              "212   4/6/2021 17:39              Raj  ...      4         Extermly good\n",
              "213   4/7/2021 17:39            Sonam  ...      4              wow.....\n",
              "214   4/8/2021 17:39            Kajal  ...      4          Good overall\n",
              "215   4/9/2021 17:39            Naman  ...      4               Nothing\n",
              "\n",
              "[216 rows x 35 columns]"
            ]
          },
          "metadata": {
            "tags": []
          },
          "execution_count": 3
        }
      ]
    },
    {
      "cell_type": "code",
      "metadata": {
        "colab": {
          "base_uri": "https://localhost:8080/",
          "height": 445
        },
        "id": "PnkRnCFzS0W4",
        "outputId": "c3ffd954-df94-4bbf-9b39-76e8c98a52e7"
      },
      "source": [
        "df.head()"
      ],
      "execution_count": null,
      "outputs": [
        {
          "output_type": "execute_result",
          "data": {
            "text/html": [
              "<div>\n",
              "<style scoped>\n",
              "    .dataframe tbody tr th:only-of-type {\n",
              "        vertical-align: middle;\n",
              "    }\n",
              "\n",
              "    .dataframe tbody tr th {\n",
              "        vertical-align: top;\n",
              "    }\n",
              "\n",
              "    .dataframe thead th {\n",
              "        text-align: right;\n",
              "    }\n",
              "</style>\n",
              "<table border=\"1\" class=\"dataframe\">\n",
              "  <thead>\n",
              "    <tr style=\"text-align: right;\">\n",
              "      <th></th>\n",
              "      <th>Timestamp</th>\n",
              "      <th>Name</th>\n",
              "      <th>Age</th>\n",
              "      <th>howoften</th>\n",
              "      <th>Changecell</th>\n",
              "      <th>Uselaptop</th>\n",
              "      <th>Readlaunches</th>\n",
              "      <th>Trynewproduct</th>\n",
              "      <th>Type</th>\n",
              "      <th>Product</th>\n",
              "      <th>Item</th>\n",
              "      <th>Brand(HomeAppliances)</th>\n",
              "      <th>Brand(ITDevices)</th>\n",
              "      <th>Brand(MobileDevices)</th>\n",
              "      <th>Price(HomeAppliances)</th>\n",
              "      <th>Price(ITDevices)</th>\n",
              "      <th>Price(MobileDevices)</th>\n",
              "      <th>Time</th>\n",
              "      <th>Where</th>\n",
              "      <th>Compareprices</th>\n",
              "      <th>Research</th>\n",
              "      <th>Timespend(10,000 - 30,000)</th>\n",
              "      <th>Timespend(30,000 - 50,000)</th>\n",
              "      <th>Timespend(50,000 - 70,000)</th>\n",
              "      <th>Timespend(70,000 - 1,00,000)</th>\n",
              "      <th>Yearlyspending</th>\n",
              "      <th>Factors</th>\n",
              "      <th>Productfeatures</th>\n",
              "      <th>Easeofuse</th>\n",
              "      <th>Warranty</th>\n",
              "      <th>Recommendationfromsomeone</th>\n",
              "      <th>Salespersonrecommendation</th>\n",
              "      <th>NoUseproduct</th>\n",
              "      <th>Rating</th>\n",
              "      <th>Review</th>\n",
              "    </tr>\n",
              "  </thead>\n",
              "  <tbody>\n",
              "    <tr>\n",
              "      <th>0</th>\n",
              "      <td>3/30/2021 15:59</td>\n",
              "      <td>Jaypriya</td>\n",
              "      <td>18-25</td>\n",
              "      <td>Occasionally</td>\n",
              "      <td>Rarely</td>\n",
              "      <td>Always</td>\n",
              "      <td>Very Often</td>\n",
              "      <td>Rarely</td>\n",
              "      <td>New</td>\n",
              "      <td>IT Devices</td>\n",
              "      <td>Laptop</td>\n",
              "      <td>LG</td>\n",
              "      <td>Lenovo</td>\n",
              "      <td>Apple</td>\n",
              "      <td>50,000 - 60,000</td>\n",
              "      <td>40,000 - 50,000</td>\n",
              "      <td>30,000 - 40,000</td>\n",
              "      <td>During the sale</td>\n",
              "      <td>In an electronics store</td>\n",
              "      <td>No</td>\n",
              "      <td>Ask a friend/colleague/family member for their...</td>\n",
              "      <td>2 - 4 days</td>\n",
              "      <td>1-3 months</td>\n",
              "      <td>1-3 months</td>\n",
              "      <td>1-3 months</td>\n",
              "      <td>20,000 - 40,000</td>\n",
              "      <td>Pricing of a product</td>\n",
              "      <td>Very important</td>\n",
              "      <td>Very important</td>\n",
              "      <td>Very important</td>\n",
              "      <td>Very important</td>\n",
              "      <td>Very important</td>\n",
              "      <td>Sell on as second-hand</td>\n",
              "      <td>4</td>\n",
              "      <td>Nothing</td>\n",
              "    </tr>\n",
              "    <tr>\n",
              "      <th>1</th>\n",
              "      <td>3/30/2021 17:20</td>\n",
              "      <td>Mahadik simran</td>\n",
              "      <td>18-25</td>\n",
              "      <td>Occasionally</td>\n",
              "      <td>Sometimes</td>\n",
              "      <td>Sometimes</td>\n",
              "      <td>Sometimes</td>\n",
              "      <td>Very Often</td>\n",
              "      <td>New</td>\n",
              "      <td>IT Devices</td>\n",
              "      <td>Smartphone</td>\n",
              "      <td>Samsung</td>\n",
              "      <td>Dell</td>\n",
              "      <td>Nokia</td>\n",
              "      <td>40,000 - 50,000</td>\n",
              "      <td>30,000 - 40,000</td>\n",
              "      <td>60,000 - 70,000</td>\n",
              "      <td>During the sale</td>\n",
              "      <td>In the exclusive brand store</td>\n",
              "      <td>No</td>\n",
              "      <td>Ask a friend/colleague/family member for his o...</td>\n",
              "      <td>2 - 4 days</td>\n",
              "      <td>5-10 days</td>\n",
              "      <td>2 - 4 weeks</td>\n",
              "      <td>1-3 months</td>\n",
              "      <td>Less than 10,000</td>\n",
              "      <td>Quality of a product</td>\n",
              "      <td>Extremely important</td>\n",
              "      <td>Extremely important</td>\n",
              "      <td>Extremely important</td>\n",
              "      <td>Extremely important</td>\n",
              "      <td>Extremely important</td>\n",
              "      <td>Sell on as second-hand</td>\n",
              "      <td>2</td>\n",
              "      <td>Want to purchase new</td>\n",
              "    </tr>\n",
              "    <tr>\n",
              "      <th>2</th>\n",
              "      <td>4/1/2021 17:17</td>\n",
              "      <td>Sahil</td>\n",
              "      <td>25-35</td>\n",
              "      <td>Regularly</td>\n",
              "      <td>Rarely</td>\n",
              "      <td>Always</td>\n",
              "      <td>Always</td>\n",
              "      <td>Rarely</td>\n",
              "      <td>Refurbished</td>\n",
              "      <td>Mobile devices</td>\n",
              "      <td>Smartphone</td>\n",
              "      <td>Whirlpool</td>\n",
              "      <td>Lenovo</td>\n",
              "      <td>OnePlus</td>\n",
              "      <td>40,000 - 50,000</td>\n",
              "      <td>40,000 - 50,000</td>\n",
              "      <td>20,000 - 30,000</td>\n",
              "      <td>During the sale</td>\n",
              "      <td>In an electronics store</td>\n",
              "      <td>Yes</td>\n",
              "      <td>Compare them with competitive products</td>\n",
              "      <td>Less than 1 day</td>\n",
              "      <td>2 - 4 weeks</td>\n",
              "      <td>2 - 4 weeks</td>\n",
              "      <td>2 - 4 weeks</td>\n",
              "      <td>20,000 - 40,000</td>\n",
              "      <td>Quality of a product</td>\n",
              "      <td>Moderately important</td>\n",
              "      <td>Moderately important</td>\n",
              "      <td>Moderately important</td>\n",
              "      <td>Moderately important</td>\n",
              "      <td>Not at all important</td>\n",
              "      <td>Sell on as second-hand</td>\n",
              "      <td>4</td>\n",
              "      <td>Nothing</td>\n",
              "    </tr>\n",
              "    <tr>\n",
              "      <th>3</th>\n",
              "      <td>4/1/2021 17:39</td>\n",
              "      <td>Sonali</td>\n",
              "      <td>18-25</td>\n",
              "      <td>Occasionally</td>\n",
              "      <td>Sometimes</td>\n",
              "      <td>Always</td>\n",
              "      <td>Always</td>\n",
              "      <td>Sometimes</td>\n",
              "      <td>New</td>\n",
              "      <td>IT Devices</td>\n",
              "      <td>Laptop</td>\n",
              "      <td>Samsung</td>\n",
              "      <td>HP</td>\n",
              "      <td>Samsung</td>\n",
              "      <td>20,000 - 30,000</td>\n",
              "      <td>20,000 - 30,000</td>\n",
              "      <td>100 - 10,000</td>\n",
              "      <td>During the sale</td>\n",
              "      <td>In an electronics store</td>\n",
              "      <td>Yes</td>\n",
              "      <td>Compare them with competitive products</td>\n",
              "      <td>5-10 days</td>\n",
              "      <td>2 - 4 days</td>\n",
              "      <td>2 - 4 days</td>\n",
              "      <td>Less than 1 day</td>\n",
              "      <td>20,000 - 40,000</td>\n",
              "      <td>Quality of a product</td>\n",
              "      <td>Moderately important</td>\n",
              "      <td>Moderately important</td>\n",
              "      <td>Moderately important</td>\n",
              "      <td>Not at all important</td>\n",
              "      <td>Moderately important</td>\n",
              "      <td>Sell on as second-hand</td>\n",
              "      <td>5</td>\n",
              "      <td>Its amazing</td>\n",
              "    </tr>\n",
              "    <tr>\n",
              "      <th>4</th>\n",
              "      <td>4/2/2021 17:39</td>\n",
              "      <td>Namrata</td>\n",
              "      <td>25-35</td>\n",
              "      <td>Regularly</td>\n",
              "      <td>Very Often</td>\n",
              "      <td>Very Often</td>\n",
              "      <td>Very Often</td>\n",
              "      <td>Very Often</td>\n",
              "      <td>New</td>\n",
              "      <td>IT Devices</td>\n",
              "      <td>Laptop</td>\n",
              "      <td>Whirlpool</td>\n",
              "      <td>HP</td>\n",
              "      <td>Nokia</td>\n",
              "      <td>30,000 - 40,000</td>\n",
              "      <td>60,000 - 70,000</td>\n",
              "      <td>30,000 - 40,000</td>\n",
              "      <td>Without the sale (Off Season)</td>\n",
              "      <td>Online</td>\n",
              "      <td>Yes</td>\n",
              "      <td>Ask a friend/colleague/family member for their...</td>\n",
              "      <td>2 - 4 weeks</td>\n",
              "      <td>2 - 4 weeks</td>\n",
              "      <td>2 - 4 days</td>\n",
              "      <td>5-10 days</td>\n",
              "      <td>60,000 - 80,000</td>\n",
              "      <td>Pricing of a product</td>\n",
              "      <td>Very important</td>\n",
              "      <td>Moderately important</td>\n",
              "      <td>Moderately important</td>\n",
              "      <td>Moderately important</td>\n",
              "      <td>Not at all important</td>\n",
              "      <td>Take to local recycling center</td>\n",
              "      <td>4</td>\n",
              "      <td>Good</td>\n",
              "    </tr>\n",
              "  </tbody>\n",
              "</table>\n",
              "</div>"
            ],
            "text/plain": [
              "         Timestamp             Name    Age      howoften  Changecell  \\\n",
              "0  3/30/2021 15:59         Jaypriya  18-25  Occasionally      Rarely   \n",
              "1  3/30/2021 17:20  Mahadik simran   18-25  Occasionally   Sometimes   \n",
              "2   4/1/2021 17:17            Sahil  25-35     Regularly      Rarely   \n",
              "3   4/1/2021 17:39           Sonali  18-25  Occasionally   Sometimes   \n",
              "4   4/2/2021 17:39          Namrata  25-35     Regularly  Very Often   \n",
              "\n",
              "    Uselaptop Readlaunches Trynewproduct         Type         Product  \\\n",
              "0      Always   Very Often        Rarely          New      IT Devices   \n",
              "1   Sometimes    Sometimes    Very Often          New      IT Devices   \n",
              "2      Always       Always        Rarely  Refurbished  Mobile devices   \n",
              "3      Always       Always     Sometimes          New      IT Devices   \n",
              "4  Very Often   Very Often    Very Often          New      IT Devices   \n",
              "\n",
              "         Item Brand(HomeAppliances) Brand(ITDevices) Brand(MobileDevices)  \\\n",
              "0      Laptop                    LG           Lenovo                Apple   \n",
              "1  Smartphone               Samsung             Dell                Nokia   \n",
              "2  Smartphone             Whirlpool           Lenovo              OnePlus   \n",
              "3      Laptop               Samsung               HP              Samsung   \n",
              "4      Laptop             Whirlpool               HP                Nokia   \n",
              "\n",
              "  Price(HomeAppliances) Price(ITDevices) Price(MobileDevices)  \\\n",
              "0       50,000 - 60,000  40,000 - 50,000      30,000 - 40,000   \n",
              "1       40,000 - 50,000  30,000 - 40,000      60,000 - 70,000   \n",
              "2       40,000 - 50,000  40,000 - 50,000      20,000 - 30,000   \n",
              "3       20,000 - 30,000  20,000 - 30,000         100 - 10,000   \n",
              "4       30,000 - 40,000  60,000 - 70,000      30,000 - 40,000   \n",
              "\n",
              "                           Time                          Where Compareprices  \\\n",
              "0                During the sale       In an electronics store            No   \n",
              "1                During the sale  In the exclusive brand store            No   \n",
              "2                During the sale       In an electronics store           Yes   \n",
              "3                During the sale       In an electronics store           Yes   \n",
              "4  Without the sale (Off Season)                        Online           Yes   \n",
              "\n",
              "                                            Research  \\\n",
              "0  Ask a friend/colleague/family member for their...   \n",
              "1  Ask a friend/colleague/family member for his o...   \n",
              "2             Compare them with competitive products   \n",
              "3             Compare them with competitive products   \n",
              "4  Ask a friend/colleague/family member for their...   \n",
              "\n",
              "  Timespend(10,000 - 30,000) Timespend(30,000 - 50,000)  \\\n",
              "0                 2 - 4 days                 1-3 months   \n",
              "1                 2 - 4 days                  5-10 days   \n",
              "2            Less than 1 day                2 - 4 weeks   \n",
              "3                  5-10 days                 2 - 4 days   \n",
              "4                2 - 4 weeks                2 - 4 weeks   \n",
              "\n",
              "  Timespend(50,000 - 70,000) Timespend(70,000 - 1,00,000)    Yearlyspending  \\\n",
              "0                 1-3 months                   1-3 months   20,000 - 40,000   \n",
              "1                2 - 4 weeks                   1-3 months  Less than 10,000   \n",
              "2                2 - 4 weeks                  2 - 4 weeks   20,000 - 40,000   \n",
              "3                 2 - 4 days              Less than 1 day   20,000 - 40,000   \n",
              "4                 2 - 4 days                    5-10 days   60,000 - 80,000   \n",
              "\n",
              "                Factors       Productfeatures             Easeofuse  \\\n",
              "0  Pricing of a product        Very important        Very important   \n",
              "1  Quality of a product   Extremely important   Extremely important   \n",
              "2  Quality of a product  Moderately important  Moderately important   \n",
              "3  Quality of a product  Moderately important  Moderately important   \n",
              "4  Pricing of a product        Very important  Moderately important   \n",
              "\n",
              "               Warranty Recommendationfromsomeone Salespersonrecommendation  \\\n",
              "0        Very important            Very important            Very important   \n",
              "1   Extremely important       Extremely important       Extremely important   \n",
              "2  Moderately important      Moderately important      Not at all important   \n",
              "3  Moderately important      Not at all important      Moderately important   \n",
              "4  Moderately important      Moderately important      Not at all important   \n",
              "\n",
              "                     NoUseproduct  Rating                Review  \n",
              "0          Sell on as second-hand       4               Nothing  \n",
              "1          Sell on as second-hand       2  Want to purchase new  \n",
              "2          Sell on as second-hand       4               Nothing  \n",
              "3          Sell on as second-hand       5           Its amazing  \n",
              "4  Take to local recycling center       4                  Good  "
            ]
          },
          "metadata": {
            "tags": []
          },
          "execution_count": 5
        }
      ]
    },
    {
      "cell_type": "code",
      "metadata": {
        "colab": {
          "base_uri": "https://localhost:8080/"
        },
        "id": "IaQ3eQGWS2tk",
        "outputId": "f92318d0-fe6c-46e3-928c-483b00aa482e"
      },
      "source": [
        "df.info()"
      ],
      "execution_count": 4,
      "outputs": [
        {
          "output_type": "stream",
          "text": [
            "<class 'pandas.core.frame.DataFrame'>\n",
            "RangeIndex: 216 entries, 0 to 215\n",
            "Data columns (total 35 columns):\n",
            " #   Column                        Non-Null Count  Dtype \n",
            "---  ------                        --------------  ----- \n",
            " 0   Timestamp                     216 non-null    object\n",
            " 1   Name                          216 non-null    object\n",
            " 2   Age                           216 non-null    object\n",
            " 3   howoften                      216 non-null    object\n",
            " 4   Changecell                    216 non-null    object\n",
            " 5   Uselaptop                     216 non-null    object\n",
            " 6   Readlaunches                  216 non-null    object\n",
            " 7   Trynewproduct                 216 non-null    object\n",
            " 8   Type                          216 non-null    object\n",
            " 9   Product                       216 non-null    object\n",
            " 10  Item                          216 non-null    object\n",
            " 11  Brand(HomeAppliances)         216 non-null    object\n",
            " 12  Brand(ITDevices)              216 non-null    object\n",
            " 13  Brand(MobileDevices)          216 non-null    object\n",
            " 14  Price(HomeAppliances)         216 non-null    object\n",
            " 15  Price(ITDevices)              216 non-null    object\n",
            " 16  Price(MobileDevices)          216 non-null    object\n",
            " 17  Time                          216 non-null    object\n",
            " 18  Where                         216 non-null    object\n",
            " 19  Compareprices                 216 non-null    object\n",
            " 20  Research                      216 non-null    object\n",
            " 21  Timespend(10,000 - 30,000)    216 non-null    object\n",
            " 22  Timespend(30,000 - 50,000)    216 non-null    object\n",
            " 23  Timespend(50,000 - 70,000)    216 non-null    object\n",
            " 24  Timespend(70,000 - 1,00,000)  216 non-null    object\n",
            " 25  Yearlyspending                216 non-null    object\n",
            " 26  Factors                       216 non-null    object\n",
            " 27  Productfeatures               216 non-null    object\n",
            " 28  Easeofuse                     216 non-null    object\n",
            " 29  Warranty                      216 non-null    object\n",
            " 30  Recommendationfromsomeone     216 non-null    object\n",
            " 31  Salespersonrecommendation     216 non-null    object\n",
            " 32  NoUseproduct                  216 non-null    object\n",
            " 33  Rating                        216 non-null    int64 \n",
            " 34  Review                        215 non-null    object\n",
            "dtypes: int64(1), object(34)\n",
            "memory usage: 59.2+ KB\n"
          ],
          "name": "stdout"
        }
      ]
    },
    {
      "cell_type": "code",
      "metadata": {
        "colab": {
          "base_uri": "https://localhost:8080/",
          "height": 534
        },
        "id": "6L3F3D8tS5PZ",
        "outputId": "53494c64-e627-45bc-be92-cd6d6a86ea9a"
      },
      "source": [
        "missing=df.isna().sum().sort_values(ascending=False)\n",
        "missing.plot.bar(figsize=(10,6))\n",
        "plt.xlabel('Columns with missing values')\n",
        "plt.ylabel('Count')\n",
        "plt.show()"
      ],
      "execution_count": 5,
      "outputs": [
        {
          "output_type": "display_data",
          "data": {
            "image/png": "[encoded data removed]",
            "text/plain": [
              "<Figure size 720x432 with 1 Axes>"
            ]
          },
          "metadata": {
            "tags": [],
            "needs_background": "light"
          }
        }
      ]
    },
    {
      "cell_type": "code",
      "metadata": {
        "colab": {
          "base_uri": "https://localhost:8080/"
        },
        "id": "lVsy8vrTTP-u",
        "outputId": "4e3a02f2-7f58-492a-8b39-0bc835e2aaf7"
      },
      "source": [
        "missing"
      ],
      "execution_count": null,
      "outputs": [
        {
          "output_type": "execute_result",
          "data": {
            "text/plain": [
              "Review                          1\n",
              "Type                            0\n",
              "Price(HomeAppliances)           0\n",
              "Brand(MobileDevices)            0\n",
              "Brand(ITDevices)                0\n",
              "Brand(HomeAppliances)           0\n",
              "Item                            0\n",
              "Product                         0\n",
              "Trynewproduct                   0\n",
              "Price(MobileDevices)            0\n",
              "Readlaunches                    0\n",
              "Uselaptop                       0\n",
              "Changecell                      0\n",
              "howoften                        0\n",
              "Age                             0\n",
              "Name                            0\n",
              "Price(ITDevices)                0\n",
              "Time                            0\n",
              "Rating                          0\n",
              "Factors                         0\n",
              "NoUseproduct                    0\n",
              "Salespersonrecommendation       0\n",
              "Recommendationfromsomeone       0\n",
              "Warranty                        0\n",
              "Easeofuse                       0\n",
              "Productfeatures                 0\n",
              "Yearlyspending                  0\n",
              "Where                           0\n",
              "Timespend(70,000 - 1,00,000)    0\n",
              "Timespend(50,000 - 70,000)      0\n",
              "Timespend(30,000 - 50,000)      0\n",
              "Timespend(10,000 - 30,000)      0\n",
              "Research                        0\n",
              "Compareprices                   0\n",
              "Timestamp                       0\n",
              "dtype: int64"
            ]
          },
          "metadata": {
            "tags": []
          },
          "execution_count": 8
        }
      ]
    },
    {
      "cell_type": "code",
      "metadata": {
        "colab": {
          "base_uri": "https://localhost:8080/",
          "height": 847
        },
        "id": "akzmGVi0TSpI",
        "outputId": "04ac3588-29c6-4b9a-fb27-cffd778cee2a"
      },
      "source": [
        "#filling missing data\n",
        "df=df.fillna(method='ffill')\n",
        "df"
      ],
      "execution_count": 6,
      "outputs": [
        {
          "output_type": "execute_result",
          "data": {
            "text/html": [
              "<div>\n",
              "<style scoped>\n",
              "    .dataframe tbody tr th:only-of-type {\n",
              "        vertical-align: middle;\n",
              "    }\n",
              "\n",
              "    .dataframe tbody tr th {\n",
              "        vertical-align: top;\n",
              "    }\n",
              "\n",
              "    .dataframe thead th {\n",
              "        text-align: right;\n",
              "    }\n",
              "</style>\n",
              "<table border=\"1\" class=\"dataframe\">\n",
              "  <thead>\n",
              "    <tr style=\"text-align: right;\">\n",
              "      <th></th>\n",
              "      <th>Timestamp</th>\n",
              "      <th>Name</th>\n",
              "      <th>Age</th>\n",
              "      <th>howoften</th>\n",
              "      <th>Changecell</th>\n",
              "      <th>Uselaptop</th>\n",
              "      <th>Readlaunches</th>\n",
              "      <th>Trynewproduct</th>\n",
              "      <th>Type</th>\n",
              "      <th>Product</th>\n",
              "      <th>Item</th>\n",
              "      <th>Brand(HomeAppliances)</th>\n",
              "      <th>Brand(ITDevices)</th>\n",
              "      <th>Brand(MobileDevices)</th>\n",
              "      <th>Price(HomeAppliances)</th>\n",
              "      <th>Price(ITDevices)</th>\n",
              "      <th>Price(MobileDevices)</th>\n",
              "      <th>Time</th>\n",
              "      <th>Where</th>\n",
              "      <th>Compareprices</th>\n",
              "      <th>Research</th>\n",
              "      <th>Timespend(10,000 - 30,000)</th>\n",
              "      <th>Timespend(30,000 - 50,000)</th>\n",
              "      <th>Timespend(50,000 - 70,000)</th>\n",
              "      <th>Timespend(70,000 - 1,00,000)</th>\n",
              "      <th>Yearlyspending</th>\n",
              "      <th>Factors</th>\n",
              "      <th>Productfeatures</th>\n",
              "      <th>Easeofuse</th>\n",
              "      <th>Warranty</th>\n",
              "      <th>Recommendationfromsomeone</th>\n",
              "      <th>Salespersonrecommendation</th>\n",
              "      <th>NoUseproduct</th>\n",
              "      <th>Rating</th>\n",
              "      <th>Review</th>\n",
              "    </tr>\n",
              "  </thead>\n",
              "  <tbody>\n",
              "    <tr>\n",
              "      <th>0</th>\n",
              "      <td>3/30/2021 15:59</td>\n",
              "      <td>Jaypriya</td>\n",
              "      <td>18-25</td>\n",
              "      <td>Occasionally</td>\n",
              "      <td>Rarely</td>\n",
              "      <td>Always</td>\n",
              "      <td>Very Often</td>\n",
              "      <td>Rarely</td>\n",
              "      <td>New</td>\n",
              "      <td>IT Devices</td>\n",
              "      <td>Laptop</td>\n",
              "      <td>LG</td>\n",
              "      <td>Lenovo</td>\n",
              "      <td>Apple</td>\n",
              "      <td>50,000 - 60,000</td>\n",
              "      <td>40,000 - 50,000</td>\n",
              "      <td>30,000 - 40,000</td>\n",
              "      <td>During the sale</td>\n",
              "      <td>In an electronics store</td>\n",
              "      <td>No</td>\n",
              "      <td>Ask a friend/colleague/family member for their...</td>\n",
              "      <td>2 - 4 days</td>\n",
              "      <td>1-3 months</td>\n",
              "      <td>1-3 months</td>\n",
              "      <td>1-3 months</td>\n",
              "      <td>20,000 - 40,000</td>\n",
              "      <td>Pricing of a product</td>\n",
              "      <td>Very important</td>\n",
              "      <td>Very important</td>\n",
              "      <td>Very important</td>\n",
              "      <td>Very important</td>\n",
              "      <td>Very important</td>\n",
              "      <td>Sell on as second-hand</td>\n",
              "      <td>4</td>\n",
              "      <td>Nothing</td>\n",
              "    </tr>\n",
              "    <tr>\n",
              "      <th>1</th>\n",
              "      <td>3/30/2021 17:20</td>\n",
              "      <td>Mahadik simran</td>\n",
              "      <td>18-25</td>\n",
              "      <td>Occasionally</td>\n",
              "      <td>Sometimes</td>\n",
              "      <td>Sometimes</td>\n",
              "      <td>Sometimes</td>\n",
              "      <td>Very Often</td>\n",
              "      <td>New</td>\n",
              "      <td>IT Devices</td>\n",
              "      <td>Smartphone</td>\n",
              "      <td>Samsung</td>\n",
              "      <td>Dell</td>\n",
              "      <td>Nokia</td>\n",
              "      <td>40,000 - 50,000</td>\n",
              "      <td>30,000 - 40,000</td>\n",
              "      <td>60,000 - 70,000</td>\n",
              "      <td>During the sale</td>\n",
              "      <td>In the exclusive brand store</td>\n",
              "      <td>No</td>\n",
              "      <td>Ask a friend/colleague/family member for his o...</td>\n",
              "      <td>2 - 4 days</td>\n",
              "      <td>5-10 days</td>\n",
              "      <td>2 - 4 weeks</td>\n",
              "      <td>1-3 months</td>\n",
              "      <td>Less than 10,000</td>\n",
              "      <td>Quality of a product</td>\n",
              "      <td>Extremely important</td>\n",
              "      <td>Extremely important</td>\n",
              "      <td>Extremely important</td>\n",
              "      <td>Extremely important</td>\n",
              "      <td>Extremely important</td>\n",
              "      <td>Sell on as second-hand</td>\n",
              "      <td>2</td>\n",
              "      <td>Want to purchase new</td>\n",
              "    </tr>\n",
              "    <tr>\n",
              "      <th>2</th>\n",
              "      <td>4/1/2021 17:17</td>\n",
              "      <td>Sahil</td>\n",
              "      <td>25-35</td>\n",
              "      <td>Regularly</td>\n",
              "      <td>Rarely</td>\n",
              "      <td>Always</td>\n",
              "      <td>Always</td>\n",
              "      <td>Rarely</td>\n",
              "      <td>Refurbished</td>\n",
              "      <td>Mobile devices</td>\n",
              "      <td>Smartphone</td>\n",
              "      <td>Whirlpool</td>\n",
              "      <td>Lenovo</td>\n",
              "      <td>OnePlus</td>\n",
              "      <td>40,000 - 50,000</td>\n",
              "      <td>40,000 - 50,000</td>\n",
              "      <td>20,000 - 30,000</td>\n",
              "      <td>During the sale</td>\n",
              "      <td>In an electronics store</td>\n",
              "      <td>Yes</td>\n",
              "      <td>Compare them with competitive products</td>\n",
              "      <td>Less than 1 day</td>\n",
              "      <td>2 - 4 weeks</td>\n",
              "      <td>2 - 4 weeks</td>\n",
              "      <td>2 - 4 weeks</td>\n",
              "      <td>20,000 - 40,000</td>\n",
              "      <td>Quality of a product</td>\n",
              "      <td>Moderately important</td>\n",
              "      <td>Moderately important</td>\n",
              "      <td>Moderately important</td>\n",
              "      <td>Moderately important</td>\n",
              "      <td>Not at all important</td>\n",
              "      <td>Sell on as second-hand</td>\n",
              "      <td>4</td>\n",
              "      <td>Nothing</td>\n",
              "    </tr>\n",
              "    <tr>\n",
              "      <th>3</th>\n",
              "      <td>4/1/2021 17:39</td>\n",
              "      <td>Sonali</td>\n",
              "      <td>18-25</td>\n",
              "      <td>Occasionally</td>\n",
              "      <td>Sometimes</td>\n",
              "      <td>Always</td>\n",
              "      <td>Always</td>\n",
              "      <td>Sometimes</td>\n",
              "      <td>New</td>\n",
              "      <td>IT Devices</td>\n",
              "      <td>Laptop</td>\n",
              "      <td>Samsung</td>\n",
              "      <td>HP</td>\n",
              "      <td>Samsung</td>\n",
              "      <td>20,000 - 30,000</td>\n",
              "      <td>20,000 - 30,000</td>\n",
              "      <td>100 - 10,000</td>\n",
              "      <td>During the sale</td>\n",
              "      <td>In an electronics store</td>\n",
              "      <td>Yes</td>\n",
              "      <td>Compare them with competitive products</td>\n",
              "      <td>5-10 days</td>\n",
              "      <td>2 - 4 days</td>\n",
              "      <td>2 - 4 days</td>\n",
              "      <td>Less than 1 day</td>\n",
              "      <td>20,000 - 40,000</td>\n",
              "      <td>Quality of a product</td>\n",
              "      <td>Moderately important</td>\n",
              "      <td>Moderately important</td>\n",
              "      <td>Moderately important</td>\n",
              "      <td>Not at all important</td>\n",
              "      <td>Moderately important</td>\n",
              "      <td>Sell on as second-hand</td>\n",
              "      <td>5</td>\n",
              "      <td>Its amazing</td>\n",
              "    </tr>\n",
              "    <tr>\n",
              "      <th>4</th>\n",
              "      <td>4/2/2021 17:39</td>\n",
              "      <td>Namrata</td>\n",
              "      <td>25-35</td>\n",
              "      <td>Regularly</td>\n",
              "      <td>Very Often</td>\n",
              "      <td>Very Often</td>\n",
              "      <td>Very Often</td>\n",
              "      <td>Very Often</td>\n",
              "      <td>New</td>\n",
              "      <td>IT Devices</td>\n",
              "      <td>Laptop</td>\n",
              "      <td>Whirlpool</td>\n",
              "      <td>HP</td>\n",
              "      <td>Nokia</td>\n",
              "      <td>30,000 - 40,000</td>\n",
              "      <td>60,000 - 70,000</td>\n",
              "      <td>30,000 - 40,000</td>\n",
              "      <td>Without the sale (Off Season)</td>\n",
              "      <td>Online</td>\n",
              "      <td>Yes</td>\n",
              "      <td>Ask a friend/colleague/family member for their...</td>\n",
              "      <td>2 - 4 weeks</td>\n",
              "      <td>2 - 4 weeks</td>\n",
              "      <td>2 - 4 days</td>\n",
              "      <td>5-10 days</td>\n",
              "      <td>60,000 - 80,000</td>\n",
              "      <td>Pricing of a product</td>\n",
              "      <td>Very important</td>\n",
              "      <td>Moderately important</td>\n",
              "      <td>Moderately important</td>\n",
              "      <td>Moderately important</td>\n",
              "      <td>Not at all important</td>\n",
              "      <td>Take to local recycling center</td>\n",
              "      <td>4</td>\n",
              "      <td>Good</td>\n",
              "    </tr>\n",
              "    <tr>\n",
              "      <th>...</th>\n",
              "      <td>...</td>\n",
              "      <td>...</td>\n",
              "      <td>...</td>\n",
              "      <td>...</td>\n",
              "      <td>...</td>\n",
              "      <td>...</td>\n",
              "      <td>...</td>\n",
              "      <td>...</td>\n",
              "      <td>...</td>\n",
              "      <td>...</td>\n",
              "      <td>...</td>\n",
              "      <td>...</td>\n",
              "      <td>...</td>\n",
              "      <td>...</td>\n",
              "      <td>...</td>\n",
              "      <td>...</td>\n",
              "      <td>...</td>\n",
              "      <td>...</td>\n",
              "      <td>...</td>\n",
              "      <td>...</td>\n",
              "      <td>...</td>\n",
              "      <td>...</td>\n",
              "      <td>...</td>\n",
              "      <td>...</td>\n",
              "      <td>...</td>\n",
              "      <td>...</td>\n",
              "      <td>...</td>\n",
              "      <td>...</td>\n",
              "      <td>...</td>\n",
              "      <td>...</td>\n",
              "      <td>...</td>\n",
              "      <td>...</td>\n",
              "      <td>...</td>\n",
              "      <td>...</td>\n",
              "      <td>...</td>\n",
              "    </tr>\n",
              "    <tr>\n",
              "      <th>211</th>\n",
              "      <td>4/5/2021 17:39</td>\n",
              "      <td>Darshan</td>\n",
              "      <td>25-35</td>\n",
              "      <td>Regularly</td>\n",
              "      <td>Very Often</td>\n",
              "      <td>Always</td>\n",
              "      <td>Always</td>\n",
              "      <td>Sometimes</td>\n",
              "      <td>New</td>\n",
              "      <td>IT Devices</td>\n",
              "      <td>Desktop</td>\n",
              "      <td>Godrej</td>\n",
              "      <td>Acer</td>\n",
              "      <td>HP</td>\n",
              "      <td>50,000 - 60,000</td>\n",
              "      <td>50,000 - 60,000</td>\n",
              "      <td>40,000 - 50,000</td>\n",
              "      <td>During the sale</td>\n",
              "      <td>Online</td>\n",
              "      <td>Yes</td>\n",
              "      <td>Ask a friend/colleague/family member for his o...</td>\n",
              "      <td>Less than 1 day</td>\n",
              "      <td>2 - 4 weeks</td>\n",
              "      <td>1-3 months</td>\n",
              "      <td>5-10 days</td>\n",
              "      <td>20,000 - 40,000</td>\n",
              "      <td>Quality of a product</td>\n",
              "      <td>Moderately important</td>\n",
              "      <td>Moderately important</td>\n",
              "      <td>Very important</td>\n",
              "      <td>Not at all important</td>\n",
              "      <td>Moderately important</td>\n",
              "      <td>Take to local recycling center</td>\n",
              "      <td>3</td>\n",
              "      <td>Good</td>\n",
              "    </tr>\n",
              "    <tr>\n",
              "      <th>212</th>\n",
              "      <td>4/6/2021 17:39</td>\n",
              "      <td>Raj</td>\n",
              "      <td>18-25</td>\n",
              "      <td>Occasionally</td>\n",
              "      <td>Rarely</td>\n",
              "      <td>Always</td>\n",
              "      <td>Always</td>\n",
              "      <td>Rarely</td>\n",
              "      <td>Refurbished</td>\n",
              "      <td>Home appliances</td>\n",
              "      <td>Television</td>\n",
              "      <td>Samsung</td>\n",
              "      <td>Dell</td>\n",
              "      <td>OnePlus</td>\n",
              "      <td>More than 70,000</td>\n",
              "      <td>30,000 - 40,000</td>\n",
              "      <td>40,000 - 50,000</td>\n",
              "      <td>During the sale</td>\n",
              "      <td>In the exclusive brand store</td>\n",
              "      <td>Yes</td>\n",
              "      <td>Ask a friend/colleague/family member for his o...</td>\n",
              "      <td>2 - 4 days</td>\n",
              "      <td>5-10 days</td>\n",
              "      <td>2 - 4 days</td>\n",
              "      <td>5-10 days</td>\n",
              "      <td>20,000 - 40,000</td>\n",
              "      <td>Reliability of a product</td>\n",
              "      <td>Extremely important</td>\n",
              "      <td>Moderately important</td>\n",
              "      <td>Very important</td>\n",
              "      <td>Not at all important</td>\n",
              "      <td>Moderately important</td>\n",
              "      <td>Give to a friend</td>\n",
              "      <td>4</td>\n",
              "      <td>Extermly good</td>\n",
              "    </tr>\n",
              "    <tr>\n",
              "      <th>213</th>\n",
              "      <td>4/7/2021 17:39</td>\n",
              "      <td>Sonam</td>\n",
              "      <td>25-35</td>\n",
              "      <td>Regularly</td>\n",
              "      <td>Rarely</td>\n",
              "      <td>Sometimes</td>\n",
              "      <td>Always</td>\n",
              "      <td>Rarely</td>\n",
              "      <td>New</td>\n",
              "      <td>Mobile devices</td>\n",
              "      <td>Smartphone</td>\n",
              "      <td>LG</td>\n",
              "      <td>Apple</td>\n",
              "      <td>Apple</td>\n",
              "      <td>More than 70,000</td>\n",
              "      <td>20,000 - 30,000</td>\n",
              "      <td>50,000 - 60,000</td>\n",
              "      <td>During the sale</td>\n",
              "      <td>Online</td>\n",
              "      <td>Yes</td>\n",
              "      <td>Find out brand reputation</td>\n",
              "      <td>Less than 1 day</td>\n",
              "      <td>2 - 4 weeks</td>\n",
              "      <td>3 - 4 days</td>\n",
              "      <td>Less than 1 day</td>\n",
              "      <td>60,000 - 80,000</td>\n",
              "      <td>Services offered</td>\n",
              "      <td>Extremely important</td>\n",
              "      <td>Moderately important</td>\n",
              "      <td>Very important</td>\n",
              "      <td>Not at all important</td>\n",
              "      <td>Not at all important</td>\n",
              "      <td>Sell on as second-hand</td>\n",
              "      <td>4</td>\n",
              "      <td>wow.....</td>\n",
              "    </tr>\n",
              "    <tr>\n",
              "      <th>214</th>\n",
              "      <td>4/8/2021 17:39</td>\n",
              "      <td>Kajal</td>\n",
              "      <td>18-25</td>\n",
              "      <td>Occasionally</td>\n",
              "      <td>Sometimes</td>\n",
              "      <td>Very Often</td>\n",
              "      <td>Always</td>\n",
              "      <td>Rarely</td>\n",
              "      <td>New</td>\n",
              "      <td>Mobile devices</td>\n",
              "      <td>Earphones</td>\n",
              "      <td>Godrej</td>\n",
              "      <td>Acer</td>\n",
              "      <td>Realme</td>\n",
              "      <td>100 - 10,000</td>\n",
              "      <td>50,000 - 60,000</td>\n",
              "      <td>10,000 - 20,000</td>\n",
              "      <td>Without the sale (Off Season)</td>\n",
              "      <td>Online</td>\n",
              "      <td>Yes</td>\n",
              "      <td>Read online reviews</td>\n",
              "      <td>5-10 days</td>\n",
              "      <td>1-3 months</td>\n",
              "      <td>4 - 4 days</td>\n",
              "      <td>1-3 months</td>\n",
              "      <td>Less than 10,000</td>\n",
              "      <td>Quality of a product</td>\n",
              "      <td>Very important</td>\n",
              "      <td>Moderately important</td>\n",
              "      <td>Extremely important</td>\n",
              "      <td>Moderately important</td>\n",
              "      <td>Not at all important</td>\n",
              "      <td>Sell on as second-hand</td>\n",
              "      <td>4</td>\n",
              "      <td>Good overall</td>\n",
              "    </tr>\n",
              "    <tr>\n",
              "      <th>215</th>\n",
              "      <td>4/9/2021 17:39</td>\n",
              "      <td>Naman</td>\n",
              "      <td>25-35</td>\n",
              "      <td>Occasionally</td>\n",
              "      <td>Rarely</td>\n",
              "      <td>Sometimes</td>\n",
              "      <td>Always</td>\n",
              "      <td>Rarely</td>\n",
              "      <td>New</td>\n",
              "      <td>IT Devices</td>\n",
              "      <td>Laptop</td>\n",
              "      <td>Whirlpool</td>\n",
              "      <td>HP</td>\n",
              "      <td>Moto</td>\n",
              "      <td>40,000 - 50,000</td>\n",
              "      <td>30,000 - 40,000</td>\n",
              "      <td>30,000 - 40,000</td>\n",
              "      <td>During the sale</td>\n",
              "      <td>In an electronics store</td>\n",
              "      <td>Yes</td>\n",
              "      <td>Ask a friend/colleague/family member for his o...</td>\n",
              "      <td>2 - 4 days</td>\n",
              "      <td>2 - 4 weeks</td>\n",
              "      <td>5 - 4 days</td>\n",
              "      <td>5-10 days</td>\n",
              "      <td>20,000 - 40,000</td>\n",
              "      <td>Quality of a product</td>\n",
              "      <td>Extremely important</td>\n",
              "      <td>Moderately important</td>\n",
              "      <td>Very important</td>\n",
              "      <td>Not at all important</td>\n",
              "      <td>Not at all important</td>\n",
              "      <td>Take to local recycling center</td>\n",
              "      <td>4</td>\n",
              "      <td>Nothing</td>\n",
              "    </tr>\n",
              "  </tbody>\n",
              "</table>\n",
              "<p>216 rows × 35 columns</p>\n",
              "</div>"
            ],
            "text/plain": [
              "           Timestamp             Name  ... Rating                Review\n",
              "0    3/30/2021 15:59         Jaypriya  ...      4               Nothing\n",
              "1    3/30/2021 17:20  Mahadik simran   ...      2  Want to purchase new\n",
              "2     4/1/2021 17:17            Sahil  ...      4               Nothing\n",
              "3     4/1/2021 17:39           Sonali  ...      5           Its amazing\n",
              "4     4/2/2021 17:39          Namrata  ...      4                  Good\n",
              "..               ...              ...  ...    ...                   ...\n",
              "211   4/5/2021 17:39          Darshan  ...      3                  Good\n",
              "212   4/6/2021 17:39              Raj  ...      4         Extermly good\n",
              "213   4/7/2021 17:39            Sonam  ...      4              wow.....\n",
              "214   4/8/2021 17:39            Kajal  ...      4          Good overall\n",
              "215   4/9/2021 17:39            Naman  ...      4               Nothing\n",
              "\n",
              "[216 rows x 35 columns]"
            ]
          },
          "metadata": {
            "tags": []
          },
          "execution_count": 6
        }
      ]
    },
    {
      "cell_type": "code",
      "metadata": {
        "id": "SNJXkXb7TU72"
      },
      "source": [
        "df.drop(['Timestamp', 'Name','NoUseproduct','Review','Changecell','Uselaptop','Readlaunches','Trynewproduct','Timespend(10,000 - 30,000)','Timespend(30,000 - 50,000)','Timespend(50,000 - 70,000)','Timespend(70,000 - 1,00,000)','Productfeatures','Easeofuse','Warranty','Recommendationfromsomeone','Salespersonrecommendation'],axis=1,inplace=True)"
      ],
      "execution_count": 8,
      "outputs": []
    },
    {
      "cell_type": "code",
      "metadata": {
        "id": "RgfG0moAG4ld"
      },
      "source": [
        "def split_multicolumn(Factors):\n",
        "    result_df = Factors.to_frame()\n",
        "    options = []\n",
        "    # Iterate over the column\n",
        "    for idx, value  in Factors[Factors.notnull()].iteritems():\n",
        "        # Break each value into list of options\n",
        "        for option in value.split(','):\n",
        "            # Add the option as a column to result\n",
        "            if not option in result_df.columns:\n",
        "                options.append(option)\n",
        "                result_df[option] = False\n",
        "            # Mark the value in the option column as True\n",
        "            result_df.at[idx, option] = True\n",
        "    return result_df[options]"
      ],
      "execution_count": 7,
      "outputs": []
    },
    {
      "cell_type": "code",
      "metadata": {
        "id": "wBk3Cp-GHmaZ"
      },
      "source": [
        "Type_df = split_multicolumn(df.Factors)\n",
        "Type_split = Type_df.sum().sort_values(ascending=True)"
      ],
      "execution_count": null,
      "outputs": []
    },
    {
      "cell_type": "code",
      "metadata": {
        "colab": {
          "base_uri": "https://localhost:8080/",
          "height": 483
        },
        "id": "3cFYTLnDHxpd",
        "outputId": "17b5184b-5a26-40a1-9d3a-c01585a1415e"
      },
      "source": [
        "plt.figure(figsize=(12,8))\n",
        "sns.barplot(x=Type_split.values, y=Type_split.index);"
      ],
      "execution_count": null,
      "outputs": [
        {
          "output_type": "display_data",
          "data": {
            "image/png": "[encoded data removed]",
            "text/plain": [
              "<Figure size 864x576 with 1 Axes>"
            ]
          },
          "metadata": {
            "tags": [],
            "needs_background": "light"
          }
        }
      ]
    },
    {
      "cell_type": "code",
      "metadata": {
        "id": "VxCozsN_IEg2"
      },
      "source": [
        "def split_multicolumn(Research):\n",
        "    result_df = Research.to_frame()\n",
        "    options = []\n",
        "    # Iterate over the column\n",
        "    for idx, value  in Research[Research.notnull()].iteritems():\n",
        "        # Break each value into list of options\n",
        "        for option in value.split(','):\n",
        "            # Add the option as a column to result\n",
        "            if not option in result_df.columns:\n",
        "                options.append(option)\n",
        "                result_df[option] = False\n",
        "            # Mark the value in the option column as True\n",
        "            result_df.at[idx, option] = True\n",
        "    return result_df[options]"
      ],
      "execution_count": null,
      "outputs": []
    },
    {
      "cell_type": "code",
      "metadata": {
        "id": "O0qeqBedIQZI"
      },
      "source": [
        "Type_df = split_multicolumn(df.Research)\n",
        "Type_split = Type_df.sum().sort_values(ascending=False)"
      ],
      "execution_count": null,
      "outputs": []
    },
    {
      "cell_type": "code",
      "metadata": {
        "colab": {
          "base_uri": "https://localhost:8080/",
          "height": 444
        },
        "id": "sUK7lCpYKjg4",
        "outputId": "8145d307-f7a1-40f1-ebec-77512349c8cd"
      },
      "source": [
        "plt.figure(figsize=(12,8))\n",
        "sns.barplot(x=Type_split.values, y=Type_split.index);"
      ],
      "execution_count": null,
      "outputs": [
        {
          "output_type": "display_data",
          "data": {
            "image/png": "[encoded data removed]",
            "text/plain": [
              "<Figure size 864x576 with 1 Axes>"
            ]
          },
          "metadata": {
            "tags": [],
            "needs_background": "light"
          }
        }
      ]
    },
    {
      "cell_type": "code",
      "metadata": {
        "colab": {
          "base_uri": "https://localhost:8080/",
          "height": 830
        },
        "id": "VmYIswXkknPB",
        "outputId": "8559aed4-6b7a-4932-8567-8980615ca282"
      },
      "source": [
        "df"
      ],
      "execution_count": null,
      "outputs": [
        {
          "output_type": "execute_result",
          "data": {
            "text/html": [
              "<div>\n",
              "<style scoped>\n",
              "    .dataframe tbody tr th:only-of-type {\n",
              "        vertical-align: middle;\n",
              "    }\n",
              "\n",
              "    .dataframe tbody tr th {\n",
              "        vertical-align: top;\n",
              "    }\n",
              "\n",
              "    .dataframe thead th {\n",
              "        text-align: right;\n",
              "    }\n",
              "</style>\n",
              "<table border=\"1\" class=\"dataframe\">\n",
              "  <thead>\n",
              "    <tr style=\"text-align: right;\">\n",
              "      <th></th>\n",
              "      <th>Age</th>\n",
              "      <th>howoften</th>\n",
              "      <th>Type</th>\n",
              "      <th>Product</th>\n",
              "      <th>Item</th>\n",
              "      <th>Brand(HomeAppliances)</th>\n",
              "      <th>Brand(ITDevices)</th>\n",
              "      <th>Brand(MobileDevices)</th>\n",
              "      <th>Price(HomeAppliances)</th>\n",
              "      <th>Price(ITDevices)</th>\n",
              "      <th>Price(MobileDevices)</th>\n",
              "      <th>Time</th>\n",
              "      <th>Where</th>\n",
              "      <th>Compareprices</th>\n",
              "      <th>Research</th>\n",
              "      <th>Yearlyspending</th>\n",
              "      <th>Factors</th>\n",
              "      <th>Rating</th>\n",
              "    </tr>\n",
              "  </thead>\n",
              "  <tbody>\n",
              "    <tr>\n",
              "      <th>0</th>\n",
              "      <td>18-25</td>\n",
              "      <td>Occasionally</td>\n",
              "      <td>New</td>\n",
              "      <td>IT Devices</td>\n",
              "      <td>Laptop</td>\n",
              "      <td>LG</td>\n",
              "      <td>Lenovo</td>\n",
              "      <td>Apple</td>\n",
              "      <td>50,000 - 60,000</td>\n",
              "      <td>40,000 - 50,000</td>\n",
              "      <td>30,000 - 40,000</td>\n",
              "      <td>During the sale</td>\n",
              "      <td>In an electronics store</td>\n",
              "      <td>No</td>\n",
              "      <td>Ask a friend/colleague/family member for their...</td>\n",
              "      <td>20,000 - 40,000</td>\n",
              "      <td>Pricing of a product</td>\n",
              "      <td>4</td>\n",
              "    </tr>\n",
              "    <tr>\n",
              "      <th>1</th>\n",
              "      <td>18-25</td>\n",
              "      <td>Occasionally</td>\n",
              "      <td>New</td>\n",
              "      <td>IT Devices</td>\n",
              "      <td>Smartphone</td>\n",
              "      <td>Samsung</td>\n",
              "      <td>Dell</td>\n",
              "      <td>Nokia</td>\n",
              "      <td>40,000 - 50,000</td>\n",
              "      <td>30,000 - 40,000</td>\n",
              "      <td>60,000 - 70,000</td>\n",
              "      <td>During the sale</td>\n",
              "      <td>In the exclusive brand store</td>\n",
              "      <td>No</td>\n",
              "      <td>Ask a friend/colleague/family member for his o...</td>\n",
              "      <td>Less than 10,000</td>\n",
              "      <td>Quality of a product</td>\n",
              "      <td>2</td>\n",
              "    </tr>\n",
              "    <tr>\n",
              "      <th>2</th>\n",
              "      <td>25-35</td>\n",
              "      <td>Regularly</td>\n",
              "      <td>Refurbished</td>\n",
              "      <td>Mobile devices</td>\n",
              "      <td>Smartphone</td>\n",
              "      <td>Whirlpool</td>\n",
              "      <td>Lenovo</td>\n",
              "      <td>OnePlus</td>\n",
              "      <td>40,000 - 50,000</td>\n",
              "      <td>40,000 - 50,000</td>\n",
              "      <td>20,000 - 30,000</td>\n",
              "      <td>During the sale</td>\n",
              "      <td>In an electronics store</td>\n",
              "      <td>Yes</td>\n",
              "      <td>Compare them with competitive products</td>\n",
              "      <td>20,000 - 40,000</td>\n",
              "      <td>Quality of a product</td>\n",
              "      <td>4</td>\n",
              "    </tr>\n",
              "    <tr>\n",
              "      <th>3</th>\n",
              "      <td>18-25</td>\n",
              "      <td>Occasionally</td>\n",
              "      <td>New</td>\n",
              "      <td>IT Devices</td>\n",
              "      <td>Laptop</td>\n",
              "      <td>Samsung</td>\n",
              "      <td>HP</td>\n",
              "      <td>Samsung</td>\n",
              "      <td>20,000 - 30,000</td>\n",
              "      <td>20,000 - 30,000</td>\n",
              "      <td>100 - 10,000</td>\n",
              "      <td>During the sale</td>\n",
              "      <td>In an electronics store</td>\n",
              "      <td>Yes</td>\n",
              "      <td>Compare them with competitive products</td>\n",
              "      <td>20,000 - 40,000</td>\n",
              "      <td>Quality of a product</td>\n",
              "      <td>5</td>\n",
              "    </tr>\n",
              "    <tr>\n",
              "      <th>4</th>\n",
              "      <td>25-35</td>\n",
              "      <td>Regularly</td>\n",
              "      <td>New</td>\n",
              "      <td>IT Devices</td>\n",
              "      <td>Laptop</td>\n",
              "      <td>Whirlpool</td>\n",
              "      <td>HP</td>\n",
              "      <td>Nokia</td>\n",
              "      <td>30,000 - 40,000</td>\n",
              "      <td>60,000 - 70,000</td>\n",
              "      <td>30,000 - 40,000</td>\n",
              "      <td>Without the sale (Off Season)</td>\n",
              "      <td>Online</td>\n",
              "      <td>Yes</td>\n",
              "      <td>Ask a friend/colleague/family member for their...</td>\n",
              "      <td>60,000 - 80,000</td>\n",
              "      <td>Pricing of a product</td>\n",
              "      <td>4</td>\n",
              "    </tr>\n",
              "    <tr>\n",
              "      <th>...</th>\n",
              "      <td>...</td>\n",
              "      <td>...</td>\n",
              "      <td>...</td>\n",
              "      <td>...</td>\n",
              "      <td>...</td>\n",
              "      <td>...</td>\n",
              "      <td>...</td>\n",
              "      <td>...</td>\n",
              "      <td>...</td>\n",
              "      <td>...</td>\n",
              "      <td>...</td>\n",
              "      <td>...</td>\n",
              "      <td>...</td>\n",
              "      <td>...</td>\n",
              "      <td>...</td>\n",
              "      <td>...</td>\n",
              "      <td>...</td>\n",
              "      <td>...</td>\n",
              "    </tr>\n",
              "    <tr>\n",
              "      <th>211</th>\n",
              "      <td>25-35</td>\n",
              "      <td>Regularly</td>\n",
              "      <td>New</td>\n",
              "      <td>IT Devices</td>\n",
              "      <td>Desktop</td>\n",
              "      <td>Godrej</td>\n",
              "      <td>Acer</td>\n",
              "      <td>HP</td>\n",
              "      <td>50,000 - 60,000</td>\n",
              "      <td>50,000 - 60,000</td>\n",
              "      <td>40,000 - 50,000</td>\n",
              "      <td>During the sale</td>\n",
              "      <td>Online</td>\n",
              "      <td>Yes</td>\n",
              "      <td>Ask a friend/colleague/family member for his o...</td>\n",
              "      <td>20,000 - 40,000</td>\n",
              "      <td>Quality of a product</td>\n",
              "      <td>3</td>\n",
              "    </tr>\n",
              "    <tr>\n",
              "      <th>212</th>\n",
              "      <td>18-25</td>\n",
              "      <td>Occasionally</td>\n",
              "      <td>Refurbished</td>\n",
              "      <td>Home appliances</td>\n",
              "      <td>Television</td>\n",
              "      <td>Samsung</td>\n",
              "      <td>Dell</td>\n",
              "      <td>OnePlus</td>\n",
              "      <td>More than 70,000</td>\n",
              "      <td>30,000 - 40,000</td>\n",
              "      <td>40,000 - 50,000</td>\n",
              "      <td>During the sale</td>\n",
              "      <td>In the exclusive brand store</td>\n",
              "      <td>Yes</td>\n",
              "      <td>Ask a friend/colleague/family member for his o...</td>\n",
              "      <td>20,000 - 40,000</td>\n",
              "      <td>Reliability of a product</td>\n",
              "      <td>4</td>\n",
              "    </tr>\n",
              "    <tr>\n",
              "      <th>213</th>\n",
              "      <td>25-35</td>\n",
              "      <td>Regularly</td>\n",
              "      <td>New</td>\n",
              "      <td>Mobile devices</td>\n",
              "      <td>Smartphone</td>\n",
              "      <td>LG</td>\n",
              "      <td>Apple</td>\n",
              "      <td>Apple</td>\n",
              "      <td>More than 70,000</td>\n",
              "      <td>20,000 - 30,000</td>\n",
              "      <td>50,000 - 60,000</td>\n",
              "      <td>During the sale</td>\n",
              "      <td>Online</td>\n",
              "      <td>Yes</td>\n",
              "      <td>Find out brand reputation</td>\n",
              "      <td>60,000 - 80,000</td>\n",
              "      <td>Services offered</td>\n",
              "      <td>4</td>\n",
              "    </tr>\n",
              "    <tr>\n",
              "      <th>214</th>\n",
              "      <td>18-25</td>\n",
              "      <td>Occasionally</td>\n",
              "      <td>New</td>\n",
              "      <td>Mobile devices</td>\n",
              "      <td>Earphones</td>\n",
              "      <td>Godrej</td>\n",
              "      <td>Acer</td>\n",
              "      <td>Realme</td>\n",
              "      <td>100 - 10,000</td>\n",
              "      <td>50,000 - 60,000</td>\n",
              "      <td>10,000 - 20,000</td>\n",
              "      <td>Without the sale (Off Season)</td>\n",
              "      <td>Online</td>\n",
              "      <td>Yes</td>\n",
              "      <td>Read online reviews</td>\n",
              "      <td>Less than 10,000</td>\n",
              "      <td>Quality of a product</td>\n",
              "      <td>4</td>\n",
              "    </tr>\n",
              "    <tr>\n",
              "      <th>215</th>\n",
              "      <td>25-35</td>\n",
              "      <td>Occasionally</td>\n",
              "      <td>New</td>\n",
              "      <td>IT Devices</td>\n",
              "      <td>Laptop</td>\n",
              "      <td>Whirlpool</td>\n",
              "      <td>HP</td>\n",
              "      <td>Moto</td>\n",
              "      <td>40,000 - 50,000</td>\n",
              "      <td>30,000 - 40,000</td>\n",
              "      <td>30,000 - 40,000</td>\n",
              "      <td>During the sale</td>\n",
              "      <td>In an electronics store</td>\n",
              "      <td>Yes</td>\n",
              "      <td>Ask a friend/colleague/family member for his o...</td>\n",
              "      <td>20,000 - 40,000</td>\n",
              "      <td>Quality of a product</td>\n",
              "      <td>4</td>\n",
              "    </tr>\n",
              "  </tbody>\n",
              "</table>\n",
              "<p>216 rows × 18 columns</p>\n",
              "</div>"
            ],
            "text/plain": [
              "       Age      howoften         Type          Product        Item  \\\n",
              "0    18-25  Occasionally          New       IT Devices      Laptop   \n",
              "1    18-25  Occasionally          New       IT Devices  Smartphone   \n",
              "2    25-35     Regularly  Refurbished   Mobile devices  Smartphone   \n",
              "3    18-25  Occasionally          New       IT Devices      Laptop   \n",
              "4    25-35     Regularly          New       IT Devices      Laptop   \n",
              "..     ...           ...          ...              ...         ...   \n",
              "211  25-35     Regularly          New       IT Devices     Desktop   \n",
              "212  18-25  Occasionally  Refurbished  Home appliances  Television   \n",
              "213  25-35     Regularly          New   Mobile devices  Smartphone   \n",
              "214  18-25  Occasionally          New   Mobile devices   Earphones   \n",
              "215  25-35  Occasionally          New       IT Devices      Laptop   \n",
              "\n",
              "    Brand(HomeAppliances) Brand(ITDevices) Brand(MobileDevices)  \\\n",
              "0                      LG           Lenovo                Apple   \n",
              "1                 Samsung             Dell                Nokia   \n",
              "2               Whirlpool           Lenovo              OnePlus   \n",
              "3                 Samsung               HP              Samsung   \n",
              "4               Whirlpool               HP                Nokia   \n",
              "..                    ...              ...                  ...   \n",
              "211                Godrej             Acer                   HP   \n",
              "212               Samsung             Dell              OnePlus   \n",
              "213                    LG            Apple                Apple   \n",
              "214                Godrej             Acer               Realme   \n",
              "215             Whirlpool               HP                 Moto   \n",
              "\n",
              "    Price(HomeAppliances) Price(ITDevices) Price(MobileDevices)  \\\n",
              "0         50,000 - 60,000  40,000 - 50,000      30,000 - 40,000   \n",
              "1         40,000 - 50,000  30,000 - 40,000      60,000 - 70,000   \n",
              "2         40,000 - 50,000  40,000 - 50,000      20,000 - 30,000   \n",
              "3         20,000 - 30,000  20,000 - 30,000         100 - 10,000   \n",
              "4         30,000 - 40,000  60,000 - 70,000      30,000 - 40,000   \n",
              "..                    ...              ...                  ...   \n",
              "211       50,000 - 60,000  50,000 - 60,000      40,000 - 50,000   \n",
              "212      More than 70,000  30,000 - 40,000      40,000 - 50,000   \n",
              "213      More than 70,000  20,000 - 30,000      50,000 - 60,000   \n",
              "214          100 - 10,000  50,000 - 60,000      10,000 - 20,000   \n",
              "215       40,000 - 50,000  30,000 - 40,000      30,000 - 40,000   \n",
              "\n",
              "                             Time                          Where  \\\n",
              "0                  During the sale       In an electronics store   \n",
              "1                  During the sale  In the exclusive brand store   \n",
              "2                  During the sale       In an electronics store   \n",
              "3                  During the sale       In an electronics store   \n",
              "4    Without the sale (Off Season)                        Online   \n",
              "..                             ...                           ...   \n",
              "211                During the sale                        Online   \n",
              "212                During the sale  In the exclusive brand store   \n",
              "213                During the sale                        Online   \n",
              "214  Without the sale (Off Season)                        Online   \n",
              "215                During the sale       In an electronics store   \n",
              "\n",
              "    Compareprices                                           Research  \\\n",
              "0              No  Ask a friend/colleague/family member for their...   \n",
              "1              No  Ask a friend/colleague/family member for his o...   \n",
              "2             Yes             Compare them with competitive products   \n",
              "3             Yes             Compare them with competitive products   \n",
              "4             Yes  Ask a friend/colleague/family member for their...   \n",
              "..            ...                                                ...   \n",
              "211           Yes  Ask a friend/colleague/family member for his o...   \n",
              "212           Yes  Ask a friend/colleague/family member for his o...   \n",
              "213           Yes                          Find out brand reputation   \n",
              "214           Yes                                Read online reviews   \n",
              "215           Yes  Ask a friend/colleague/family member for his o...   \n",
              "\n",
              "       Yearlyspending                   Factors  Rating  \n",
              "0     20,000 - 40,000      Pricing of a product       4  \n",
              "1    Less than 10,000      Quality of a product       2  \n",
              "2     20,000 - 40,000      Quality of a product       4  \n",
              "3     20,000 - 40,000      Quality of a product       5  \n",
              "4     60,000 - 80,000      Pricing of a product       4  \n",
              "..                ...                       ...     ...  \n",
              "211   20,000 - 40,000      Quality of a product       3  \n",
              "212   20,000 - 40,000  Reliability of a product       4  \n",
              "213   60,000 - 80,000          Services offered       4  \n",
              "214  Less than 10,000      Quality of a product       4  \n",
              "215   20,000 - 40,000      Quality of a product       4  \n",
              "\n",
              "[216 rows x 18 columns]"
            ]
          },
          "metadata": {
            "tags": []
          },
          "execution_count": 11
        }
      ]
    },
    {
      "cell_type": "code",
      "metadata": {
        "colab": {
          "base_uri": "https://localhost:8080/",
          "height": 547
        },
        "id": "Z2QGrQLEmENd",
        "outputId": "cb6e9701-4c98-4481-cadb-11d5494fd2ab"
      },
      "source": [
        "#Using labelEncoder\n",
        "df['Age']=num.fit_transform(df['Age']).astype('int')\n",
        "df['Type']=num.fit_transform(df['Type']).astype('int')\n",
        "df['Brand(HomeAppliances)']=num.fit_transform(df['Brand(HomeAppliances)']).astype('int')\n",
        "df['Brand(ITDevices)']=num.fit_transform(df['Brand(ITDevices)']).astype('int')\n",
        "df['Brand(MobileDevices)']=num.fit_transform(df['Brand(MobileDevices)']).astype('int')\n",
        "df['Price(HomeAppliances)']=num.fit_transform(df['Price(HomeAppliances)']).astype('int')\n",
        "df['Price(ITDevices)']=num.fit_transform(df['Price(ITDevices)']).astype('int')\n",
        "df['Price(MobileDevices)']=num.fit_transform(df['Price(MobileDevices)']).astype('int')\n",
        "df['Yearlyspending']=num.fit_transform(df['Yearlyspending']).astype('int')\n",
        "df['Research']=num.fit_transform(df['Research']).astype('int')\n",
        "df['Product']=num.fit_transform(df['Product']).astype('int')\n",
        "df['Item']=num.fit_transform(df['Item']).astype('int')\n",
        "df['Time ']=num.fit_transform(df['Time ']).astype('int')\n",
        "df.sample(5)"
      ],
      "execution_count": 9,
      "outputs": [
        {
          "output_type": "execute_result",
          "data": {
            "text/html": [
              "<div>\n",
              "<style scoped>\n",
              "    .dataframe tbody tr th:only-of-type {\n",
              "        vertical-align: middle;\n",
              "    }\n",
              "\n",
              "    .dataframe tbody tr th {\n",
              "        vertical-align: top;\n",
              "    }\n",
              "\n",
              "    .dataframe thead th {\n",
              "        text-align: right;\n",
              "    }\n",
              "</style>\n",
              "<table border=\"1\" class=\"dataframe\">\n",
              "  <thead>\n",
              "    <tr style=\"text-align: right;\">\n",
              "      <th></th>\n",
              "      <th>Age</th>\n",
              "      <th>howoften</th>\n",
              "      <th>Type</th>\n",
              "      <th>Product</th>\n",
              "      <th>Item</th>\n",
              "      <th>Brand(HomeAppliances)</th>\n",
              "      <th>Brand(ITDevices)</th>\n",
              "      <th>Brand(MobileDevices)</th>\n",
              "      <th>Price(HomeAppliances)</th>\n",
              "      <th>Price(ITDevices)</th>\n",
              "      <th>Price(MobileDevices)</th>\n",
              "      <th>Time</th>\n",
              "      <th>Where</th>\n",
              "      <th>Compareprices</th>\n",
              "      <th>Research</th>\n",
              "      <th>Yearlyspending</th>\n",
              "      <th>Factors</th>\n",
              "      <th>Rating</th>\n",
              "    </tr>\n",
              "  </thead>\n",
              "  <tbody>\n",
              "    <tr>\n",
              "      <th>184</th>\n",
              "      <td>1</td>\n",
              "      <td>Occasionally</td>\n",
              "      <td>1</td>\n",
              "      <td>7</td>\n",
              "      <td>19</td>\n",
              "      <td>7</td>\n",
              "      <td>6</td>\n",
              "      <td>8</td>\n",
              "      <td>3</td>\n",
              "      <td>2</td>\n",
              "      <td>0</td>\n",
              "      <td>1</td>\n",
              "      <td>Online, In the exclusive brand store, In an el...</td>\n",
              "      <td>Yes</td>\n",
              "      <td>6</td>\n",
              "      <td>2</td>\n",
              "      <td>Reliability of a product, Pricing of a product...</td>\n",
              "      <td>4</td>\n",
              "    </tr>\n",
              "    <tr>\n",
              "      <th>45</th>\n",
              "      <td>0</td>\n",
              "      <td>Regularly</td>\n",
              "      <td>0</td>\n",
              "      <td>5</td>\n",
              "      <td>9</td>\n",
              "      <td>3</td>\n",
              "      <td>6</td>\n",
              "      <td>7</td>\n",
              "      <td>1</td>\n",
              "      <td>3</td>\n",
              "      <td>2</td>\n",
              "      <td>1</td>\n",
              "      <td>In the exclusive brand store, In an electronic...</td>\n",
              "      <td>Yes</td>\n",
              "      <td>11</td>\n",
              "      <td>0</td>\n",
              "      <td>Services offered</td>\n",
              "      <td>2</td>\n",
              "    </tr>\n",
              "    <tr>\n",
              "      <th>122</th>\n",
              "      <td>3</td>\n",
              "      <td>Occasionally</td>\n",
              "      <td>1</td>\n",
              "      <td>1</td>\n",
              "      <td>24</td>\n",
              "      <td>7</td>\n",
              "      <td>3</td>\n",
              "      <td>8</td>\n",
              "      <td>3</td>\n",
              "      <td>2</td>\n",
              "      <td>0</td>\n",
              "      <td>1</td>\n",
              "      <td>In an electronics store</td>\n",
              "      <td>Yes</td>\n",
              "      <td>4</td>\n",
              "      <td>2</td>\n",
              "      <td>Reliability of a product, Pricing of a product</td>\n",
              "      <td>4</td>\n",
              "    </tr>\n",
              "    <tr>\n",
              "      <th>94</th>\n",
              "      <td>1</td>\n",
              "      <td>Occasionally</td>\n",
              "      <td>0</td>\n",
              "      <td>5</td>\n",
              "      <td>19</td>\n",
              "      <td>4</td>\n",
              "      <td>6</td>\n",
              "      <td>8</td>\n",
              "      <td>6</td>\n",
              "      <td>5</td>\n",
              "      <td>4</td>\n",
              "      <td>0</td>\n",
              "      <td>Online, In the exclusive brand store, In an el...</td>\n",
              "      <td>Yes</td>\n",
              "      <td>6</td>\n",
              "      <td>2</td>\n",
              "      <td>Reliability of a product, Pricing of a product</td>\n",
              "      <td>5</td>\n",
              "    </tr>\n",
              "    <tr>\n",
              "      <th>214</th>\n",
              "      <td>0</td>\n",
              "      <td>Occasionally</td>\n",
              "      <td>0</td>\n",
              "      <td>7</td>\n",
              "      <td>8</td>\n",
              "      <td>1</td>\n",
              "      <td>0</td>\n",
              "      <td>8</td>\n",
              "      <td>1</td>\n",
              "      <td>5</td>\n",
              "      <td>0</td>\n",
              "      <td>1</td>\n",
              "      <td>Online</td>\n",
              "      <td>Yes</td>\n",
              "      <td>12</td>\n",
              "      <td>4</td>\n",
              "      <td>Quality of a product</td>\n",
              "      <td>4</td>\n",
              "    </tr>\n",
              "  </tbody>\n",
              "</table>\n",
              "</div>"
            ],
            "text/plain": [
              "     Age  ... Rating\n",
              "184    1  ...      4\n",
              "45     0  ...      2\n",
              "122    3  ...      4\n",
              "94     1  ...      5\n",
              "214    0  ...      4\n",
              "\n",
              "[5 rows x 18 columns]"
            ]
          },
          "metadata": {
            "tags": []
          },
          "execution_count": 9
        }
      ]
    },
    {
      "cell_type": "code",
      "metadata": {
        "colab": {
          "base_uri": "https://localhost:8080/",
          "height": 558
        },
        "id": "ECP8vdchqfDa",
        "outputId": "1b919e86-980f-4ef8-8d4f-8c8abcf017c0"
      },
      "source": [
        "dummies = pd.get_dummies(df[[\"howoften\",\"Where\" ,\"Compareprices\",\"Factors\"]])\n",
        "dummies"
      ],
      "execution_count": 10,
      "outputs": [
        {
          "output_type": "execute_result",
          "data": {
            "text/html": [
              "<div>\n",
              "<style scoped>\n",
              "    .dataframe tbody tr th:only-of-type {\n",
              "        vertical-align: middle;\n",
              "    }\n",
              "\n",
              "    .dataframe tbody tr th {\n",
              "        vertical-align: top;\n",
              "    }\n",
              "\n",
              "    .dataframe thead th {\n",
              "        text-align: right;\n",
              "    }\n",
              "</style>\n",
              "<table border=\"1\" class=\"dataframe\">\n",
              "  <thead>\n",
              "    <tr style=\"text-align: right;\">\n",
              "      <th></th>\n",
              "      <th>howoften_Occasionally</th>\n",
              "      <th>howoften_Regularly</th>\n",
              "      <th>Where_In an electronics store</th>\n",
              "      <th>Where_In the exclusive brand store</th>\n",
              "      <th>Where_In the exclusive brand store, In an electronics store</th>\n",
              "      <th>Where_Online</th>\n",
              "      <th>Where_Online, In an electronics store</th>\n",
              "      <th>Where_Online, In an electronics store, Other sources</th>\n",
              "      <th>Where_Online, In the exclusive brand store</th>\n",
              "      <th>Where_Online, In the exclusive brand store, In an electronics store</th>\n",
              "      <th>Where_Online, In the exclusive brand store, In an electronics store, Other sources</th>\n",
              "      <th>Where_Other sources</th>\n",
              "      <th>Compareprices_No</th>\n",
              "      <th>Compareprices_Yes</th>\n",
              "      <th>Factors_Pricing of a product</th>\n",
              "      <th>Factors_Pricing of a product, Quality of a product</th>\n",
              "      <th>Factors_Quality of a product</th>\n",
              "      <th>Factors_Reliability of a product</th>\n",
              "      <th>Factors_Reliability of a product, Pricing of a product</th>\n",
              "      <th>Factors_Reliability of a product, Pricing of a product, Quality of a product</th>\n",
              "      <th>Factors_Reliability of a product, Quality of a product</th>\n",
              "      <th>Factors_Reliability of a product, Services offered</th>\n",
              "      <th>Factors_Reliability of a product, Services offered, Pricing of a product</th>\n",
              "      <th>Factors_Reliability of a product, Services offered, Pricing of a product, Quality of a product</th>\n",
              "      <th>Factors_Reliability of a product, Services offered, Quality of a product</th>\n",
              "      <th>Factors_Services offered</th>\n",
              "      <th>Factors_Services offered, Pricing of a product</th>\n",
              "      <th>Factors_Services offered, Pricing of a product, Quality of a product</th>\n",
              "      <th>Factors_Services offered, Quality of a product</th>\n",
              "    </tr>\n",
              "  </thead>\n",
              "  <tbody>\n",
              "    <tr>\n",
              "      <th>0</th>\n",
              "      <td>1</td>\n",
              "      <td>0</td>\n",
              "      <td>1</td>\n",
              "      <td>0</td>\n",
              "      <td>0</td>\n",
              "      <td>0</td>\n",
              "      <td>0</td>\n",
              "      <td>0</td>\n",
              "      <td>0</td>\n",
              "      <td>0</td>\n",
              "      <td>0</td>\n",
              "      <td>0</td>\n",
              "      <td>1</td>\n",
              "      <td>0</td>\n",
              "      <td>1</td>\n",
              "      <td>0</td>\n",
              "      <td>0</td>\n",
              "      <td>0</td>\n",
              "      <td>0</td>\n",
              "      <td>0</td>\n",
              "      <td>0</td>\n",
              "      <td>0</td>\n",
              "      <td>0</td>\n",
              "      <td>0</td>\n",
              "      <td>0</td>\n",
              "      <td>0</td>\n",
              "      <td>0</td>\n",
              "      <td>0</td>\n",
              "      <td>0</td>\n",
              "    </tr>\n",
              "    <tr>\n",
              "      <th>1</th>\n",
              "      <td>1</td>\n",
              "      <td>0</td>\n",
              "      <td>0</td>\n",
              "      <td>1</td>\n",
              "      <td>0</td>\n",
              "      <td>0</td>\n",
              "      <td>0</td>\n",
              "      <td>0</td>\n",
              "      <td>0</td>\n",
              "      <td>0</td>\n",
              "      <td>0</td>\n",
              "      <td>0</td>\n",
              "      <td>1</td>\n",
              "      <td>0</td>\n",
              "      <td>0</td>\n",
              "      <td>0</td>\n",
              "      <td>1</td>\n",
              "      <td>0</td>\n",
              "      <td>0</td>\n",
              "      <td>0</td>\n",
              "      <td>0</td>\n",
              "      <td>0</td>\n",
              "      <td>0</td>\n",
              "      <td>0</td>\n",
              "      <td>0</td>\n",
              "      <td>0</td>\n",
              "      <td>0</td>\n",
              "      <td>0</td>\n",
              "      <td>0</td>\n",
              "    </tr>\n",
              "    <tr>\n",
              "      <th>2</th>\n",
              "      <td>0</td>\n",
              "      <td>1</td>\n",
              "      <td>1</td>\n",
              "      <td>0</td>\n",
              "      <td>0</td>\n",
              "      <td>0</td>\n",
              "      <td>0</td>\n",
              "      <td>0</td>\n",
              "      <td>0</td>\n",
              "      <td>0</td>\n",
              "      <td>0</td>\n",
              "      <td>0</td>\n",
              "      <td>0</td>\n",
              "      <td>1</td>\n",
              "      <td>0</td>\n",
              "      <td>0</td>\n",
              "      <td>1</td>\n",
              "      <td>0</td>\n",
              "      <td>0</td>\n",
              "      <td>0</td>\n",
              "      <td>0</td>\n",
              "      <td>0</td>\n",
              "      <td>0</td>\n",
              "      <td>0</td>\n",
              "      <td>0</td>\n",
              "      <td>0</td>\n",
              "      <td>0</td>\n",
              "      <td>0</td>\n",
              "      <td>0</td>\n",
              "    </tr>\n",
              "    <tr>\n",
              "      <th>3</th>\n",
              "      <td>1</td>\n",
              "      <td>0</td>\n",
              "      <td>1</td>\n",
              "      <td>0</td>\n",
              "      <td>0</td>\n",
              "      <td>0</td>\n",
              "      <td>0</td>\n",
              "      <td>0</td>\n",
              "      <td>0</td>\n",
              "      <td>0</td>\n",
              "      <td>0</td>\n",
              "      <td>0</td>\n",
              "      <td>0</td>\n",
              "      <td>1</td>\n",
              "      <td>0</td>\n",
              "      <td>0</td>\n",
              "      <td>1</td>\n",
              "      <td>0</td>\n",
              "      <td>0</td>\n",
              "      <td>0</td>\n",
              "      <td>0</td>\n",
              "      <td>0</td>\n",
              "      <td>0</td>\n",
              "      <td>0</td>\n",
              "      <td>0</td>\n",
              "      <td>0</td>\n",
              "      <td>0</td>\n",
              "      <td>0</td>\n",
              "      <td>0</td>\n",
              "    </tr>\n",
              "    <tr>\n",
              "      <th>4</th>\n",
              "      <td>0</td>\n",
              "      <td>1</td>\n",
              "      <td>0</td>\n",
              "      <td>0</td>\n",
              "      <td>0</td>\n",
              "      <td>1</td>\n",
              "      <td>0</td>\n",
              "      <td>0</td>\n",
              "      <td>0</td>\n",
              "      <td>0</td>\n",
              "      <td>0</td>\n",
              "      <td>0</td>\n",
              "      <td>0</td>\n",
              "      <td>1</td>\n",
              "      <td>1</td>\n",
              "      <td>0</td>\n",
              "      <td>0</td>\n",
              "      <td>0</td>\n",
              "      <td>0</td>\n",
              "      <td>0</td>\n",
              "      <td>0</td>\n",
              "      <td>0</td>\n",
              "      <td>0</td>\n",
              "      <td>0</td>\n",
              "      <td>0</td>\n",
              "      <td>0</td>\n",
              "      <td>0</td>\n",
              "      <td>0</td>\n",
              "      <td>0</td>\n",
              "    </tr>\n",
              "    <tr>\n",
              "      <th>...</th>\n",
              "      <td>...</td>\n",
              "      <td>...</td>\n",
              "      <td>...</td>\n",
              "      <td>...</td>\n",
              "      <td>...</td>\n",
              "      <td>...</td>\n",
              "      <td>...</td>\n",
              "      <td>...</td>\n",
              "      <td>...</td>\n",
              "      <td>...</td>\n",
              "      <td>...</td>\n",
              "      <td>...</td>\n",
              "      <td>...</td>\n",
              "      <td>...</td>\n",
              "      <td>...</td>\n",
              "      <td>...</td>\n",
              "      <td>...</td>\n",
              "      <td>...</td>\n",
              "      <td>...</td>\n",
              "      <td>...</td>\n",
              "      <td>...</td>\n",
              "      <td>...</td>\n",
              "      <td>...</td>\n",
              "      <td>...</td>\n",
              "      <td>...</td>\n",
              "      <td>...</td>\n",
              "      <td>...</td>\n",
              "      <td>...</td>\n",
              "      <td>...</td>\n",
              "    </tr>\n",
              "    <tr>\n",
              "      <th>211</th>\n",
              "      <td>0</td>\n",
              "      <td>1</td>\n",
              "      <td>0</td>\n",
              "      <td>0</td>\n",
              "      <td>0</td>\n",
              "      <td>1</td>\n",
              "      <td>0</td>\n",
              "      <td>0</td>\n",
              "      <td>0</td>\n",
              "      <td>0</td>\n",
              "      <td>0</td>\n",
              "      <td>0</td>\n",
              "      <td>0</td>\n",
              "      <td>1</td>\n",
              "      <td>0</td>\n",
              "      <td>0</td>\n",
              "      <td>1</td>\n",
              "      <td>0</td>\n",
              "      <td>0</td>\n",
              "      <td>0</td>\n",
              "      <td>0</td>\n",
              "      <td>0</td>\n",
              "      <td>0</td>\n",
              "      <td>0</td>\n",
              "      <td>0</td>\n",
              "      <td>0</td>\n",
              "      <td>0</td>\n",
              "      <td>0</td>\n",
              "      <td>0</td>\n",
              "    </tr>\n",
              "    <tr>\n",
              "      <th>212</th>\n",
              "      <td>1</td>\n",
              "      <td>0</td>\n",
              "      <td>0</td>\n",
              "      <td>1</td>\n",
              "      <td>0</td>\n",
              "      <td>0</td>\n",
              "      <td>0</td>\n",
              "      <td>0</td>\n",
              "      <td>0</td>\n",
              "      <td>0</td>\n",
              "      <td>0</td>\n",
              "      <td>0</td>\n",
              "      <td>0</td>\n",
              "      <td>1</td>\n",
              "      <td>0</td>\n",
              "      <td>0</td>\n",
              "      <td>0</td>\n",
              "      <td>1</td>\n",
              "      <td>0</td>\n",
              "      <td>0</td>\n",
              "      <td>0</td>\n",
              "      <td>0</td>\n",
              "      <td>0</td>\n",
              "      <td>0</td>\n",
              "      <td>0</td>\n",
              "      <td>0</td>\n",
              "      <td>0</td>\n",
              "      <td>0</td>\n",
              "      <td>0</td>\n",
              "    </tr>\n",
              "    <tr>\n",
              "      <th>213</th>\n",
              "      <td>0</td>\n",
              "      <td>1</td>\n",
              "      <td>0</td>\n",
              "      <td>0</td>\n",
              "      <td>0</td>\n",
              "      <td>1</td>\n",
              "      <td>0</td>\n",
              "      <td>0</td>\n",
              "      <td>0</td>\n",
              "      <td>0</td>\n",
              "      <td>0</td>\n",
              "      <td>0</td>\n",
              "      <td>0</td>\n",
              "      <td>1</td>\n",
              "      <td>0</td>\n",
              "      <td>0</td>\n",
              "      <td>0</td>\n",
              "      <td>0</td>\n",
              "      <td>0</td>\n",
              "      <td>0</td>\n",
              "      <td>0</td>\n",
              "      <td>0</td>\n",
              "      <td>0</td>\n",
              "      <td>0</td>\n",
              "      <td>0</td>\n",
              "      <td>1</td>\n",
              "      <td>0</td>\n",
              "      <td>0</td>\n",
              "      <td>0</td>\n",
              "    </tr>\n",
              "    <tr>\n",
              "      <th>214</th>\n",
              "      <td>1</td>\n",
              "      <td>0</td>\n",
              "      <td>0</td>\n",
              "      <td>0</td>\n",
              "      <td>0</td>\n",
              "      <td>1</td>\n",
              "      <td>0</td>\n",
              "      <td>0</td>\n",
              "      <td>0</td>\n",
              "      <td>0</td>\n",
              "      <td>0</td>\n",
              "      <td>0</td>\n",
              "      <td>0</td>\n",
              "      <td>1</td>\n",
              "      <td>0</td>\n",
              "      <td>0</td>\n",
              "      <td>1</td>\n",
              "      <td>0</td>\n",
              "      <td>0</td>\n",
              "      <td>0</td>\n",
              "      <td>0</td>\n",
              "      <td>0</td>\n",
              "      <td>0</td>\n",
              "      <td>0</td>\n",
              "      <td>0</td>\n",
              "      <td>0</td>\n",
              "      <td>0</td>\n",
              "      <td>0</td>\n",
              "      <td>0</td>\n",
              "    </tr>\n",
              "    <tr>\n",
              "      <th>215</th>\n",
              "      <td>1</td>\n",
              "      <td>0</td>\n",
              "      <td>1</td>\n",
              "      <td>0</td>\n",
              "      <td>0</td>\n",
              "      <td>0</td>\n",
              "      <td>0</td>\n",
              "      <td>0</td>\n",
              "      <td>0</td>\n",
              "      <td>0</td>\n",
              "      <td>0</td>\n",
              "      <td>0</td>\n",
              "      <td>0</td>\n",
              "      <td>1</td>\n",
              "      <td>0</td>\n",
              "      <td>0</td>\n",
              "      <td>1</td>\n",
              "      <td>0</td>\n",
              "      <td>0</td>\n",
              "      <td>0</td>\n",
              "      <td>0</td>\n",
              "      <td>0</td>\n",
              "      <td>0</td>\n",
              "      <td>0</td>\n",
              "      <td>0</td>\n",
              "      <td>0</td>\n",
              "      <td>0</td>\n",
              "      <td>0</td>\n",
              "      <td>0</td>\n",
              "    </tr>\n",
              "  </tbody>\n",
              "</table>\n",
              "<p>216 rows × 29 columns</p>\n",
              "</div>"
            ],
            "text/plain": [
              "     howoften_Occasionally  ...  Factors_Services offered, Quality of a product\n",
              "0                        1  ...                                               0\n",
              "1                        1  ...                                               0\n",
              "2                        0  ...                                               0\n",
              "3                        1  ...                                               0\n",
              "4                        0  ...                                               0\n",
              "..                     ...  ...                                             ...\n",
              "211                      0  ...                                               0\n",
              "212                      1  ...                                               0\n",
              "213                      0  ...                                               0\n",
              "214                      1  ...                                               0\n",
              "215                      1  ...                                               0\n",
              "\n",
              "[216 rows x 29 columns]"
            ]
          },
          "metadata": {
            "tags": []
          },
          "execution_count": 10
        }
      ]
    },
    {
      "cell_type": "code",
      "metadata": {
        "colab": {
          "base_uri": "https://localhost:8080/",
          "height": 864
        },
        "id": "cqUB2wNnssvX",
        "outputId": "f628cf8b-dc49-44b8-b71d-7fb8de56501b"
      },
      "source": [
        "merge = pd.concat([df,dummies],axis='columns')\n",
        "merge"
      ],
      "execution_count": 11,
      "outputs": [
        {
          "output_type": "execute_result",
          "data": {
            "text/html": [
              "<div>\n",
              "<style scoped>\n",
              "    .dataframe tbody tr th:only-of-type {\n",
              "        vertical-align: middle;\n",
              "    }\n",
              "\n",
              "    .dataframe tbody tr th {\n",
              "        vertical-align: top;\n",
              "    }\n",
              "\n",
              "    .dataframe thead th {\n",
              "        text-align: right;\n",
              "    }\n",
              "</style>\n",
              "<table border=\"1\" class=\"dataframe\">\n",
              "  <thead>\n",
              "    <tr style=\"text-align: right;\">\n",
              "      <th></th>\n",
              "      <th>Age</th>\n",
              "      <th>howoften</th>\n",
              "      <th>Type</th>\n",
              "      <th>Product</th>\n",
              "      <th>Item</th>\n",
              "      <th>Brand(HomeAppliances)</th>\n",
              "      <th>Brand(ITDevices)</th>\n",
              "      <th>Brand(MobileDevices)</th>\n",
              "      <th>Price(HomeAppliances)</th>\n",
              "      <th>Price(ITDevices)</th>\n",
              "      <th>Price(MobileDevices)</th>\n",
              "      <th>Time</th>\n",
              "      <th>Where</th>\n",
              "      <th>Compareprices</th>\n",
              "      <th>Research</th>\n",
              "      <th>Yearlyspending</th>\n",
              "      <th>Factors</th>\n",
              "      <th>Rating</th>\n",
              "      <th>howoften_Occasionally</th>\n",
              "      <th>howoften_Regularly</th>\n",
              "      <th>Where_In an electronics store</th>\n",
              "      <th>Where_In the exclusive brand store</th>\n",
              "      <th>Where_In the exclusive brand store, In an electronics store</th>\n",
              "      <th>Where_Online</th>\n",
              "      <th>Where_Online, In an electronics store</th>\n",
              "      <th>Where_Online, In an electronics store, Other sources</th>\n",
              "      <th>Where_Online, In the exclusive brand store</th>\n",
              "      <th>Where_Online, In the exclusive brand store, In an electronics store</th>\n",
              "      <th>Where_Online, In the exclusive brand store, In an electronics store, Other sources</th>\n",
              "      <th>Where_Other sources</th>\n",
              "      <th>Compareprices_No</th>\n",
              "      <th>Compareprices_Yes</th>\n",
              "      <th>Factors_Pricing of a product</th>\n",
              "      <th>Factors_Pricing of a product, Quality of a product</th>\n",
              "      <th>Factors_Quality of a product</th>\n",
              "      <th>Factors_Reliability of a product</th>\n",
              "      <th>Factors_Reliability of a product, Pricing of a product</th>\n",
              "      <th>Factors_Reliability of a product, Pricing of a product, Quality of a product</th>\n",
              "      <th>Factors_Reliability of a product, Quality of a product</th>\n",
              "      <th>Factors_Reliability of a product, Services offered</th>\n",
              "      <th>Factors_Reliability of a product, Services offered, Pricing of a product</th>\n",
              "      <th>Factors_Reliability of a product, Services offered, Pricing of a product, Quality of a product</th>\n",
              "      <th>Factors_Reliability of a product, Services offered, Quality of a product</th>\n",
              "      <th>Factors_Services offered</th>\n",
              "      <th>Factors_Services offered, Pricing of a product</th>\n",
              "      <th>Factors_Services offered, Pricing of a product, Quality of a product</th>\n",
              "      <th>Factors_Services offered, Quality of a product</th>\n",
              "    </tr>\n",
              "  </thead>\n",
              "  <tbody>\n",
              "    <tr>\n",
              "      <th>0</th>\n",
              "      <td>0</td>\n",
              "      <td>Occasionally</td>\n",
              "      <td>0</td>\n",
              "      <td>5</td>\n",
              "      <td>9</td>\n",
              "      <td>3</td>\n",
              "      <td>6</td>\n",
              "      <td>0</td>\n",
              "      <td>5</td>\n",
              "      <td>4</td>\n",
              "      <td>3</td>\n",
              "      <td>0</td>\n",
              "      <td>In an electronics store</td>\n",
              "      <td>No</td>\n",
              "      <td>1</td>\n",
              "      <td>1</td>\n",
              "      <td>Pricing of a product</td>\n",
              "      <td>4</td>\n",
              "      <td>1</td>\n",
              "      <td>0</td>\n",
              "      <td>1</td>\n",
              "      <td>0</td>\n",
              "      <td>0</td>\n",
              "      <td>0</td>\n",
              "      <td>0</td>\n",
              "      <td>0</td>\n",
              "      <td>0</td>\n",
              "      <td>0</td>\n",
              "      <td>0</td>\n",
              "      <td>0</td>\n",
              "      <td>1</td>\n",
              "      <td>0</td>\n",
              "      <td>1</td>\n",
              "      <td>0</td>\n",
              "      <td>0</td>\n",
              "      <td>0</td>\n",
              "      <td>0</td>\n",
              "      <td>0</td>\n",
              "      <td>0</td>\n",
              "      <td>0</td>\n",
              "      <td>0</td>\n",
              "      <td>0</td>\n",
              "      <td>0</td>\n",
              "      <td>0</td>\n",
              "      <td>0</td>\n",
              "      <td>0</td>\n",
              "      <td>0</td>\n",
              "    </tr>\n",
              "    <tr>\n",
              "      <th>1</th>\n",
              "      <td>0</td>\n",
              "      <td>Occasionally</td>\n",
              "      <td>0</td>\n",
              "      <td>5</td>\n",
              "      <td>19</td>\n",
              "      <td>4</td>\n",
              "      <td>3</td>\n",
              "      <td>4</td>\n",
              "      <td>4</td>\n",
              "      <td>3</td>\n",
              "      <td>6</td>\n",
              "      <td>0</td>\n",
              "      <td>In the exclusive brand store</td>\n",
              "      <td>No</td>\n",
              "      <td>0</td>\n",
              "      <td>4</td>\n",
              "      <td>Quality of a product</td>\n",
              "      <td>2</td>\n",
              "      <td>1</td>\n",
              "      <td>0</td>\n",
              "      <td>0</td>\n",
              "      <td>1</td>\n",
              "      <td>0</td>\n",
              "      <td>0</td>\n",
              "      <td>0</td>\n",
              "      <td>0</td>\n",
              "      <td>0</td>\n",
              "      <td>0</td>\n",
              "      <td>0</td>\n",
              "      <td>0</td>\n",
              "      <td>1</td>\n",
              "      <td>0</td>\n",
              "      <td>0</td>\n",
              "      <td>0</td>\n",
              "      <td>1</td>\n",
              "      <td>0</td>\n",
              "      <td>0</td>\n",
              "      <td>0</td>\n",
              "      <td>0</td>\n",
              "      <td>0</td>\n",
              "      <td>0</td>\n",
              "      <td>0</td>\n",
              "      <td>0</td>\n",
              "      <td>0</td>\n",
              "      <td>0</td>\n",
              "      <td>0</td>\n",
              "      <td>0</td>\n",
              "    </tr>\n",
              "    <tr>\n",
              "      <th>2</th>\n",
              "      <td>1</td>\n",
              "      <td>Regularly</td>\n",
              "      <td>1</td>\n",
              "      <td>7</td>\n",
              "      <td>19</td>\n",
              "      <td>7</td>\n",
              "      <td>6</td>\n",
              "      <td>6</td>\n",
              "      <td>4</td>\n",
              "      <td>4</td>\n",
              "      <td>2</td>\n",
              "      <td>0</td>\n",
              "      <td>In an electronics store</td>\n",
              "      <td>Yes</td>\n",
              "      <td>9</td>\n",
              "      <td>1</td>\n",
              "      <td>Quality of a product</td>\n",
              "      <td>4</td>\n",
              "      <td>0</td>\n",
              "      <td>1</td>\n",
              "      <td>1</td>\n",
              "      <td>0</td>\n",
              "      <td>0</td>\n",
              "      <td>0</td>\n",
              "      <td>0</td>\n",
              "      <td>0</td>\n",
              "      <td>0</td>\n",
              "      <td>0</td>\n",
              "      <td>0</td>\n",
              "      <td>0</td>\n",
              "      <td>0</td>\n",
              "      <td>1</td>\n",
              "      <td>0</td>\n",
              "      <td>0</td>\n",
              "      <td>1</td>\n",
              "      <td>0</td>\n",
              "      <td>0</td>\n",
              "      <td>0</td>\n",
              "      <td>0</td>\n",
              "      <td>0</td>\n",
              "      <td>0</td>\n",
              "      <td>0</td>\n",
              "      <td>0</td>\n",
              "      <td>0</td>\n",
              "      <td>0</td>\n",
              "      <td>0</td>\n",
              "      <td>0</td>\n",
              "    </tr>\n",
              "    <tr>\n",
              "      <th>3</th>\n",
              "      <td>0</td>\n",
              "      <td>Occasionally</td>\n",
              "      <td>0</td>\n",
              "      <td>5</td>\n",
              "      <td>9</td>\n",
              "      <td>4</td>\n",
              "      <td>5</td>\n",
              "      <td>10</td>\n",
              "      <td>2</td>\n",
              "      <td>2</td>\n",
              "      <td>1</td>\n",
              "      <td>0</td>\n",
              "      <td>In an electronics store</td>\n",
              "      <td>Yes</td>\n",
              "      <td>9</td>\n",
              "      <td>1</td>\n",
              "      <td>Quality of a product</td>\n",
              "      <td>5</td>\n",
              "      <td>1</td>\n",
              "      <td>0</td>\n",
              "      <td>1</td>\n",
              "      <td>0</td>\n",
              "      <td>0</td>\n",
              "      <td>0</td>\n",
              "      <td>0</td>\n",
              "      <td>0</td>\n",
              "      <td>0</td>\n",
              "      <td>0</td>\n",
              "      <td>0</td>\n",
              "      <td>0</td>\n",
              "      <td>0</td>\n",
              "      <td>1</td>\n",
              "      <td>0</td>\n",
              "      <td>0</td>\n",
              "      <td>1</td>\n",
              "      <td>0</td>\n",
              "      <td>0</td>\n",
              "      <td>0</td>\n",
              "      <td>0</td>\n",
              "      <td>0</td>\n",
              "      <td>0</td>\n",
              "      <td>0</td>\n",
              "      <td>0</td>\n",
              "      <td>0</td>\n",
              "      <td>0</td>\n",
              "      <td>0</td>\n",
              "      <td>0</td>\n",
              "    </tr>\n",
              "    <tr>\n",
              "      <th>4</th>\n",
              "      <td>1</td>\n",
              "      <td>Regularly</td>\n",
              "      <td>0</td>\n",
              "      <td>5</td>\n",
              "      <td>9</td>\n",
              "      <td>7</td>\n",
              "      <td>5</td>\n",
              "      <td>4</td>\n",
              "      <td>3</td>\n",
              "      <td>6</td>\n",
              "      <td>3</td>\n",
              "      <td>1</td>\n",
              "      <td>Online</td>\n",
              "      <td>Yes</td>\n",
              "      <td>1</td>\n",
              "      <td>3</td>\n",
              "      <td>Pricing of a product</td>\n",
              "      <td>4</td>\n",
              "      <td>0</td>\n",
              "      <td>1</td>\n",
              "      <td>0</td>\n",
              "      <td>0</td>\n",
              "      <td>0</td>\n",
              "      <td>1</td>\n",
              "      <td>0</td>\n",
              "      <td>0</td>\n",
              "      <td>0</td>\n",
              "      <td>0</td>\n",
              "      <td>0</td>\n",
              "      <td>0</td>\n",
              "      <td>0</td>\n",
              "      <td>1</td>\n",
              "      <td>1</td>\n",
              "      <td>0</td>\n",
              "      <td>0</td>\n",
              "      <td>0</td>\n",
              "      <td>0</td>\n",
              "      <td>0</td>\n",
              "      <td>0</td>\n",
              "      <td>0</td>\n",
              "      <td>0</td>\n",
              "      <td>0</td>\n",
              "      <td>0</td>\n",
              "      <td>0</td>\n",
              "      <td>0</td>\n",
              "      <td>0</td>\n",
              "      <td>0</td>\n",
              "    </tr>\n",
              "    <tr>\n",
              "      <th>...</th>\n",
              "      <td>...</td>\n",
              "      <td>...</td>\n",
              "      <td>...</td>\n",
              "      <td>...</td>\n",
              "      <td>...</td>\n",
              "      <td>...</td>\n",
              "      <td>...</td>\n",
              "      <td>...</td>\n",
              "      <td>...</td>\n",
              "      <td>...</td>\n",
              "      <td>...</td>\n",
              "      <td>...</td>\n",
              "      <td>...</td>\n",
              "      <td>...</td>\n",
              "      <td>...</td>\n",
              "      <td>...</td>\n",
              "      <td>...</td>\n",
              "      <td>...</td>\n",
              "      <td>...</td>\n",
              "      <td>...</td>\n",
              "      <td>...</td>\n",
              "      <td>...</td>\n",
              "      <td>...</td>\n",
              "      <td>...</td>\n",
              "      <td>...</td>\n",
              "      <td>...</td>\n",
              "      <td>...</td>\n",
              "      <td>...</td>\n",
              "      <td>...</td>\n",
              "      <td>...</td>\n",
              "      <td>...</td>\n",
              "      <td>...</td>\n",
              "      <td>...</td>\n",
              "      <td>...</td>\n",
              "      <td>...</td>\n",
              "      <td>...</td>\n",
              "      <td>...</td>\n",
              "      <td>...</td>\n",
              "      <td>...</td>\n",
              "      <td>...</td>\n",
              "      <td>...</td>\n",
              "      <td>...</td>\n",
              "      <td>...</td>\n",
              "      <td>...</td>\n",
              "      <td>...</td>\n",
              "      <td>...</td>\n",
              "      <td>...</td>\n",
              "    </tr>\n",
              "    <tr>\n",
              "      <th>211</th>\n",
              "      <td>1</td>\n",
              "      <td>Regularly</td>\n",
              "      <td>0</td>\n",
              "      <td>5</td>\n",
              "      <td>4</td>\n",
              "      <td>1</td>\n",
              "      <td>0</td>\n",
              "      <td>1</td>\n",
              "      <td>5</td>\n",
              "      <td>5</td>\n",
              "      <td>4</td>\n",
              "      <td>0</td>\n",
              "      <td>Online</td>\n",
              "      <td>Yes</td>\n",
              "      <td>0</td>\n",
              "      <td>1</td>\n",
              "      <td>Quality of a product</td>\n",
              "      <td>3</td>\n",
              "      <td>0</td>\n",
              "      <td>1</td>\n",
              "      <td>0</td>\n",
              "      <td>0</td>\n",
              "      <td>0</td>\n",
              "      <td>1</td>\n",
              "      <td>0</td>\n",
              "      <td>0</td>\n",
              "      <td>0</td>\n",
              "      <td>0</td>\n",
              "      <td>0</td>\n",
              "      <td>0</td>\n",
              "      <td>0</td>\n",
              "      <td>1</td>\n",
              "      <td>0</td>\n",
              "      <td>0</td>\n",
              "      <td>1</td>\n",
              "      <td>0</td>\n",
              "      <td>0</td>\n",
              "      <td>0</td>\n",
              "      <td>0</td>\n",
              "      <td>0</td>\n",
              "      <td>0</td>\n",
              "      <td>0</td>\n",
              "      <td>0</td>\n",
              "      <td>0</td>\n",
              "      <td>0</td>\n",
              "      <td>0</td>\n",
              "      <td>0</td>\n",
              "    </tr>\n",
              "    <tr>\n",
              "      <th>212</th>\n",
              "      <td>0</td>\n",
              "      <td>Occasionally</td>\n",
              "      <td>1</td>\n",
              "      <td>1</td>\n",
              "      <td>24</td>\n",
              "      <td>4</td>\n",
              "      <td>3</td>\n",
              "      <td>6</td>\n",
              "      <td>8</td>\n",
              "      <td>3</td>\n",
              "      <td>4</td>\n",
              "      <td>0</td>\n",
              "      <td>In the exclusive brand store</td>\n",
              "      <td>Yes</td>\n",
              "      <td>0</td>\n",
              "      <td>1</td>\n",
              "      <td>Reliability of a product</td>\n",
              "      <td>4</td>\n",
              "      <td>1</td>\n",
              "      <td>0</td>\n",
              "      <td>0</td>\n",
              "      <td>1</td>\n",
              "      <td>0</td>\n",
              "      <td>0</td>\n",
              "      <td>0</td>\n",
              "      <td>0</td>\n",
              "      <td>0</td>\n",
              "      <td>0</td>\n",
              "      <td>0</td>\n",
              "      <td>0</td>\n",
              "      <td>0</td>\n",
              "      <td>1</td>\n",
              "      <td>0</td>\n",
              "      <td>0</td>\n",
              "      <td>0</td>\n",
              "      <td>1</td>\n",
              "      <td>0</td>\n",
              "      <td>0</td>\n",
              "      <td>0</td>\n",
              "      <td>0</td>\n",
              "      <td>0</td>\n",
              "      <td>0</td>\n",
              "      <td>0</td>\n",
              "      <td>0</td>\n",
              "      <td>0</td>\n",
              "      <td>0</td>\n",
              "      <td>0</td>\n",
              "    </tr>\n",
              "    <tr>\n",
              "      <th>213</th>\n",
              "      <td>1</td>\n",
              "      <td>Regularly</td>\n",
              "      <td>0</td>\n",
              "      <td>7</td>\n",
              "      <td>19</td>\n",
              "      <td>3</td>\n",
              "      <td>2</td>\n",
              "      <td>0</td>\n",
              "      <td>8</td>\n",
              "      <td>2</td>\n",
              "      <td>5</td>\n",
              "      <td>0</td>\n",
              "      <td>Online</td>\n",
              "      <td>Yes</td>\n",
              "      <td>11</td>\n",
              "      <td>3</td>\n",
              "      <td>Services offered</td>\n",
              "      <td>4</td>\n",
              "      <td>0</td>\n",
              "      <td>1</td>\n",
              "      <td>0</td>\n",
              "      <td>0</td>\n",
              "      <td>0</td>\n",
              "      <td>1</td>\n",
              "      <td>0</td>\n",
              "      <td>0</td>\n",
              "      <td>0</td>\n",
              "      <td>0</td>\n",
              "      <td>0</td>\n",
              "      <td>0</td>\n",
              "      <td>0</td>\n",
              "      <td>1</td>\n",
              "      <td>0</td>\n",
              "      <td>0</td>\n",
              "      <td>0</td>\n",
              "      <td>0</td>\n",
              "      <td>0</td>\n",
              "      <td>0</td>\n",
              "      <td>0</td>\n",
              "      <td>0</td>\n",
              "      <td>0</td>\n",
              "      <td>0</td>\n",
              "      <td>0</td>\n",
              "      <td>1</td>\n",
              "      <td>0</td>\n",
              "      <td>0</td>\n",
              "      <td>0</td>\n",
              "    </tr>\n",
              "    <tr>\n",
              "      <th>214</th>\n",
              "      <td>0</td>\n",
              "      <td>Occasionally</td>\n",
              "      <td>0</td>\n",
              "      <td>7</td>\n",
              "      <td>8</td>\n",
              "      <td>1</td>\n",
              "      <td>0</td>\n",
              "      <td>8</td>\n",
              "      <td>1</td>\n",
              "      <td>5</td>\n",
              "      <td>0</td>\n",
              "      <td>1</td>\n",
              "      <td>Online</td>\n",
              "      <td>Yes</td>\n",
              "      <td>12</td>\n",
              "      <td>4</td>\n",
              "      <td>Quality of a product</td>\n",
              "      <td>4</td>\n",
              "      <td>1</td>\n",
              "      <td>0</td>\n",
              "      <td>0</td>\n",
              "      <td>0</td>\n",
              "      <td>0</td>\n",
              "      <td>1</td>\n",
              "      <td>0</td>\n",
              "      <td>0</td>\n",
              "      <td>0</td>\n",
              "      <td>0</td>\n",
              "      <td>0</td>\n",
              "      <td>0</td>\n",
              "      <td>0</td>\n",
              "      <td>1</td>\n",
              "      <td>0</td>\n",
              "      <td>0</td>\n",
              "      <td>1</td>\n",
              "      <td>0</td>\n",
              "      <td>0</td>\n",
              "      <td>0</td>\n",
              "      <td>0</td>\n",
              "      <td>0</td>\n",
              "      <td>0</td>\n",
              "      <td>0</td>\n",
              "      <td>0</td>\n",
              "      <td>0</td>\n",
              "      <td>0</td>\n",
              "      <td>0</td>\n",
              "      <td>0</td>\n",
              "    </tr>\n",
              "    <tr>\n",
              "      <th>215</th>\n",
              "      <td>1</td>\n",
              "      <td>Occasionally</td>\n",
              "      <td>0</td>\n",
              "      <td>5</td>\n",
              "      <td>9</td>\n",
              "      <td>7</td>\n",
              "      <td>5</td>\n",
              "      <td>3</td>\n",
              "      <td>4</td>\n",
              "      <td>3</td>\n",
              "      <td>3</td>\n",
              "      <td>0</td>\n",
              "      <td>In an electronics store</td>\n",
              "      <td>Yes</td>\n",
              "      <td>0</td>\n",
              "      <td>1</td>\n",
              "      <td>Quality of a product</td>\n",
              "      <td>4</td>\n",
              "      <td>1</td>\n",
              "      <td>0</td>\n",
              "      <td>1</td>\n",
              "      <td>0</td>\n",
              "      <td>0</td>\n",
              "      <td>0</td>\n",
              "      <td>0</td>\n",
              "      <td>0</td>\n",
              "      <td>0</td>\n",
              "      <td>0</td>\n",
              "      <td>0</td>\n",
              "      <td>0</td>\n",
              "      <td>0</td>\n",
              "      <td>1</td>\n",
              "      <td>0</td>\n",
              "      <td>0</td>\n",
              "      <td>1</td>\n",
              "      <td>0</td>\n",
              "      <td>0</td>\n",
              "      <td>0</td>\n",
              "      <td>0</td>\n",
              "      <td>0</td>\n",
              "      <td>0</td>\n",
              "      <td>0</td>\n",
              "      <td>0</td>\n",
              "      <td>0</td>\n",
              "      <td>0</td>\n",
              "      <td>0</td>\n",
              "      <td>0</td>\n",
              "    </tr>\n",
              "  </tbody>\n",
              "</table>\n",
              "<p>216 rows × 47 columns</p>\n",
              "</div>"
            ],
            "text/plain": [
              "     Age  ... Factors_Services offered, Quality of a product\n",
              "0      0  ...                                              0\n",
              "1      0  ...                                              0\n",
              "2      1  ...                                              0\n",
              "3      0  ...                                              0\n",
              "4      1  ...                                              0\n",
              "..   ...  ...                                            ...\n",
              "211    1  ...                                              0\n",
              "212    0  ...                                              0\n",
              "213    1  ...                                              0\n",
              "214    0  ...                                              0\n",
              "215    1  ...                                              0\n",
              "\n",
              "[216 rows x 47 columns]"
            ]
          },
          "metadata": {
            "tags": []
          },
          "execution_count": 11
        }
      ]
    },
    {
      "cell_type": "code",
      "metadata": {
        "colab": {
          "base_uri": "https://localhost:8080/",
          "height": 558
        },
        "id": "11kCtUNetfUX",
        "outputId": "ee30baa6-3eae-4c42-a565-d6692a9f4a06"
      },
      "source": [
        "final = merge.drop(['howoften','Where','Factors','Compareprices'],axis='columns')\n",
        "final"
      ],
      "execution_count": 12,
      "outputs": [
        {
          "output_type": "execute_result",
          "data": {
            "text/html": [
              "<div>\n",
              "<style scoped>\n",
              "    .dataframe tbody tr th:only-of-type {\n",
              "        vertical-align: middle;\n",
              "    }\n",
              "\n",
              "    .dataframe tbody tr th {\n",
              "        vertical-align: top;\n",
              "    }\n",
              "\n",
              "    .dataframe thead th {\n",
              "        text-align: right;\n",
              "    }\n",
              "</style>\n",
              "<table border=\"1\" class=\"dataframe\">\n",
              "  <thead>\n",
              "    <tr style=\"text-align: right;\">\n",
              "      <th></th>\n",
              "      <th>Age</th>\n",
              "      <th>Type</th>\n",
              "      <th>Product</th>\n",
              "      <th>Item</th>\n",
              "      <th>Brand(HomeAppliances)</th>\n",
              "      <th>Brand(ITDevices)</th>\n",
              "      <th>Brand(MobileDevices)</th>\n",
              "      <th>Price(HomeAppliances)</th>\n",
              "      <th>Price(ITDevices)</th>\n",
              "      <th>Price(MobileDevices)</th>\n",
              "      <th>Time</th>\n",
              "      <th>Research</th>\n",
              "      <th>Yearlyspending</th>\n",
              "      <th>Rating</th>\n",
              "      <th>howoften_Occasionally</th>\n",
              "      <th>howoften_Regularly</th>\n",
              "      <th>Where_In an electronics store</th>\n",
              "      <th>Where_In the exclusive brand store</th>\n",
              "      <th>Where_In the exclusive brand store, In an electronics store</th>\n",
              "      <th>Where_Online</th>\n",
              "      <th>Where_Online, In an electronics store</th>\n",
              "      <th>Where_Online, In an electronics store, Other sources</th>\n",
              "      <th>Where_Online, In the exclusive brand store</th>\n",
              "      <th>Where_Online, In the exclusive brand store, In an electronics store</th>\n",
              "      <th>Where_Online, In the exclusive brand store, In an electronics store, Other sources</th>\n",
              "      <th>Where_Other sources</th>\n",
              "      <th>Compareprices_No</th>\n",
              "      <th>Compareprices_Yes</th>\n",
              "      <th>Factors_Pricing of a product</th>\n",
              "      <th>Factors_Pricing of a product, Quality of a product</th>\n",
              "      <th>Factors_Quality of a product</th>\n",
              "      <th>Factors_Reliability of a product</th>\n",
              "      <th>Factors_Reliability of a product, Pricing of a product</th>\n",
              "      <th>Factors_Reliability of a product, Pricing of a product, Quality of a product</th>\n",
              "      <th>Factors_Reliability of a product, Quality of a product</th>\n",
              "      <th>Factors_Reliability of a product, Services offered</th>\n",
              "      <th>Factors_Reliability of a product, Services offered, Pricing of a product</th>\n",
              "      <th>Factors_Reliability of a product, Services offered, Pricing of a product, Quality of a product</th>\n",
              "      <th>Factors_Reliability of a product, Services offered, Quality of a product</th>\n",
              "      <th>Factors_Services offered</th>\n",
              "      <th>Factors_Services offered, Pricing of a product</th>\n",
              "      <th>Factors_Services offered, Pricing of a product, Quality of a product</th>\n",
              "      <th>Factors_Services offered, Quality of a product</th>\n",
              "    </tr>\n",
              "  </thead>\n",
              "  <tbody>\n",
              "    <tr>\n",
              "      <th>0</th>\n",
              "      <td>0</td>\n",
              "      <td>0</td>\n",
              "      <td>5</td>\n",
              "      <td>9</td>\n",
              "      <td>3</td>\n",
              "      <td>6</td>\n",
              "      <td>0</td>\n",
              "      <td>5</td>\n",
              "      <td>4</td>\n",
              "      <td>3</td>\n",
              "      <td>0</td>\n",
              "      <td>1</td>\n",
              "      <td>1</td>\n",
              "      <td>4</td>\n",
              "      <td>1</td>\n",
              "      <td>0</td>\n",
              "      <td>1</td>\n",
              "      <td>0</td>\n",
              "      <td>0</td>\n",
              "      <td>0</td>\n",
              "      <td>0</td>\n",
              "      <td>0</td>\n",
              "      <td>0</td>\n",
              "      <td>0</td>\n",
              "      <td>0</td>\n",
              "      <td>0</td>\n",
              "      <td>1</td>\n",
              "      <td>0</td>\n",
              "      <td>1</td>\n",
              "      <td>0</td>\n",
              "      <td>0</td>\n",
              "      <td>0</td>\n",
              "      <td>0</td>\n",
              "      <td>0</td>\n",
              "      <td>0</td>\n",
              "      <td>0</td>\n",
              "      <td>0</td>\n",
              "      <td>0</td>\n",
              "      <td>0</td>\n",
              "      <td>0</td>\n",
              "      <td>0</td>\n",
              "      <td>0</td>\n",
              "      <td>0</td>\n",
              "    </tr>\n",
              "    <tr>\n",
              "      <th>1</th>\n",
              "      <td>0</td>\n",
              "      <td>0</td>\n",
              "      <td>5</td>\n",
              "      <td>19</td>\n",
              "      <td>4</td>\n",
              "      <td>3</td>\n",
              "      <td>4</td>\n",
              "      <td>4</td>\n",
              "      <td>3</td>\n",
              "      <td>6</td>\n",
              "      <td>0</td>\n",
              "      <td>0</td>\n",
              "      <td>4</td>\n",
              "      <td>2</td>\n",
              "      <td>1</td>\n",
              "      <td>0</td>\n",
              "      <td>0</td>\n",
              "      <td>1</td>\n",
              "      <td>0</td>\n",
              "      <td>0</td>\n",
              "      <td>0</td>\n",
              "      <td>0</td>\n",
              "      <td>0</td>\n",
              "      <td>0</td>\n",
              "      <td>0</td>\n",
              "      <td>0</td>\n",
              "      <td>1</td>\n",
              "      <td>0</td>\n",
              "      <td>0</td>\n",
              "      <td>0</td>\n",
              "      <td>1</td>\n",
              "      <td>0</td>\n",
              "      <td>0</td>\n",
              "      <td>0</td>\n",
              "      <td>0</td>\n",
              "      <td>0</td>\n",
              "      <td>0</td>\n",
              "      <td>0</td>\n",
              "      <td>0</td>\n",
              "      <td>0</td>\n",
              "      <td>0</td>\n",
              "      <td>0</td>\n",
              "      <td>0</td>\n",
              "    </tr>\n",
              "    <tr>\n",
              "      <th>2</th>\n",
              "      <td>1</td>\n",
              "      <td>1</td>\n",
              "      <td>7</td>\n",
              "      <td>19</td>\n",
              "      <td>7</td>\n",
              "      <td>6</td>\n",
              "      <td>6</td>\n",
              "      <td>4</td>\n",
              "      <td>4</td>\n",
              "      <td>2</td>\n",
              "      <td>0</td>\n",
              "      <td>9</td>\n",
              "      <td>1</td>\n",
              "      <td>4</td>\n",
              "      <td>0</td>\n",
              "      <td>1</td>\n",
              "      <td>1</td>\n",
              "      <td>0</td>\n",
              "      <td>0</td>\n",
              "      <td>0</td>\n",
              "      <td>0</td>\n",
              "      <td>0</td>\n",
              "      <td>0</td>\n",
              "      <td>0</td>\n",
              "      <td>0</td>\n",
              "      <td>0</td>\n",
              "      <td>0</td>\n",
              "      <td>1</td>\n",
              "      <td>0</td>\n",
              "      <td>0</td>\n",
              "      <td>1</td>\n",
              "      <td>0</td>\n",
              "      <td>0</td>\n",
              "      <td>0</td>\n",
              "      <td>0</td>\n",
              "      <td>0</td>\n",
              "      <td>0</td>\n",
              "      <td>0</td>\n",
              "      <td>0</td>\n",
              "      <td>0</td>\n",
              "      <td>0</td>\n",
              "      <td>0</td>\n",
              "      <td>0</td>\n",
              "    </tr>\n",
              "    <tr>\n",
              "      <th>3</th>\n",
              "      <td>0</td>\n",
              "      <td>0</td>\n",
              "      <td>5</td>\n",
              "      <td>9</td>\n",
              "      <td>4</td>\n",
              "      <td>5</td>\n",
              "      <td>10</td>\n",
              "      <td>2</td>\n",
              "      <td>2</td>\n",
              "      <td>1</td>\n",
              "      <td>0</td>\n",
              "      <td>9</td>\n",
              "      <td>1</td>\n",
              "      <td>5</td>\n",
              "      <td>1</td>\n",
              "      <td>0</td>\n",
              "      <td>1</td>\n",
              "      <td>0</td>\n",
              "      <td>0</td>\n",
              "      <td>0</td>\n",
              "      <td>0</td>\n",
              "      <td>0</td>\n",
              "      <td>0</td>\n",
              "      <td>0</td>\n",
              "      <td>0</td>\n",
              "      <td>0</td>\n",
              "      <td>0</td>\n",
              "      <td>1</td>\n",
              "      <td>0</td>\n",
              "      <td>0</td>\n",
              "      <td>1</td>\n",
              "      <td>0</td>\n",
              "      <td>0</td>\n",
              "      <td>0</td>\n",
              "      <td>0</td>\n",
              "      <td>0</td>\n",
              "      <td>0</td>\n",
              "      <td>0</td>\n",
              "      <td>0</td>\n",
              "      <td>0</td>\n",
              "      <td>0</td>\n",
              "      <td>0</td>\n",
              "      <td>0</td>\n",
              "    </tr>\n",
              "    <tr>\n",
              "      <th>4</th>\n",
              "      <td>1</td>\n",
              "      <td>0</td>\n",
              "      <td>5</td>\n",
              "      <td>9</td>\n",
              "      <td>7</td>\n",
              "      <td>5</td>\n",
              "      <td>4</td>\n",
              "      <td>3</td>\n",
              "      <td>6</td>\n",
              "      <td>3</td>\n",
              "      <td>1</td>\n",
              "      <td>1</td>\n",
              "      <td>3</td>\n",
              "      <td>4</td>\n",
              "      <td>0</td>\n",
              "      <td>1</td>\n",
              "      <td>0</td>\n",
              "      <td>0</td>\n",
              "      <td>0</td>\n",
              "      <td>1</td>\n",
              "      <td>0</td>\n",
              "      <td>0</td>\n",
              "      <td>0</td>\n",
              "      <td>0</td>\n",
              "      <td>0</td>\n",
              "      <td>0</td>\n",
              "      <td>0</td>\n",
              "      <td>1</td>\n",
              "      <td>1</td>\n",
              "      <td>0</td>\n",
              "      <td>0</td>\n",
              "      <td>0</td>\n",
              "      <td>0</td>\n",
              "      <td>0</td>\n",
              "      <td>0</td>\n",
              "      <td>0</td>\n",
              "      <td>0</td>\n",
              "      <td>0</td>\n",
              "      <td>0</td>\n",
              "      <td>0</td>\n",
              "      <td>0</td>\n",
              "      <td>0</td>\n",
              "      <td>0</td>\n",
              "    </tr>\n",
              "    <tr>\n",
              "      <th>...</th>\n",
              "      <td>...</td>\n",
              "      <td>...</td>\n",
              "      <td>...</td>\n",
              "      <td>...</td>\n",
              "      <td>...</td>\n",
              "      <td>...</td>\n",
              "      <td>...</td>\n",
              "      <td>...</td>\n",
              "      <td>...</td>\n",
              "      <td>...</td>\n",
              "      <td>...</td>\n",
              "      <td>...</td>\n",
              "      <td>...</td>\n",
              "      <td>...</td>\n",
              "      <td>...</td>\n",
              "      <td>...</td>\n",
              "      <td>...</td>\n",
              "      <td>...</td>\n",
              "      <td>...</td>\n",
              "      <td>...</td>\n",
              "      <td>...</td>\n",
              "      <td>...</td>\n",
              "      <td>...</td>\n",
              "      <td>...</td>\n",
              "      <td>...</td>\n",
              "      <td>...</td>\n",
              "      <td>...</td>\n",
              "      <td>...</td>\n",
              "      <td>...</td>\n",
              "      <td>...</td>\n",
              "      <td>...</td>\n",
              "      <td>...</td>\n",
              "      <td>...</td>\n",
              "      <td>...</td>\n",
              "      <td>...</td>\n",
              "      <td>...</td>\n",
              "      <td>...</td>\n",
              "      <td>...</td>\n",
              "      <td>...</td>\n",
              "      <td>...</td>\n",
              "      <td>...</td>\n",
              "      <td>...</td>\n",
              "      <td>...</td>\n",
              "    </tr>\n",
              "    <tr>\n",
              "      <th>211</th>\n",
              "      <td>1</td>\n",
              "      <td>0</td>\n",
              "      <td>5</td>\n",
              "      <td>4</td>\n",
              "      <td>1</td>\n",
              "      <td>0</td>\n",
              "      <td>1</td>\n",
              "      <td>5</td>\n",
              "      <td>5</td>\n",
              "      <td>4</td>\n",
              "      <td>0</td>\n",
              "      <td>0</td>\n",
              "      <td>1</td>\n",
              "      <td>3</td>\n",
              "      <td>0</td>\n",
              "      <td>1</td>\n",
              "      <td>0</td>\n",
              "      <td>0</td>\n",
              "      <td>0</td>\n",
              "      <td>1</td>\n",
              "      <td>0</td>\n",
              "      <td>0</td>\n",
              "      <td>0</td>\n",
              "      <td>0</td>\n",
              "      <td>0</td>\n",
              "      <td>0</td>\n",
              "      <td>0</td>\n",
              "      <td>1</td>\n",
              "      <td>0</td>\n",
              "      <td>0</td>\n",
              "      <td>1</td>\n",
              "      <td>0</td>\n",
              "      <td>0</td>\n",
              "      <td>0</td>\n",
              "      <td>0</td>\n",
              "      <td>0</td>\n",
              "      <td>0</td>\n",
              "      <td>0</td>\n",
              "      <td>0</td>\n",
              "      <td>0</td>\n",
              "      <td>0</td>\n",
              "      <td>0</td>\n",
              "      <td>0</td>\n",
              "    </tr>\n",
              "    <tr>\n",
              "      <th>212</th>\n",
              "      <td>0</td>\n",
              "      <td>1</td>\n",
              "      <td>1</td>\n",
              "      <td>24</td>\n",
              "      <td>4</td>\n",
              "      <td>3</td>\n",
              "      <td>6</td>\n",
              "      <td>8</td>\n",
              "      <td>3</td>\n",
              "      <td>4</td>\n",
              "      <td>0</td>\n",
              "      <td>0</td>\n",
              "      <td>1</td>\n",
              "      <td>4</td>\n",
              "      <td>1</td>\n",
              "      <td>0</td>\n",
              "      <td>0</td>\n",
              "      <td>1</td>\n",
              "      <td>0</td>\n",
              "      <td>0</td>\n",
              "      <td>0</td>\n",
              "      <td>0</td>\n",
              "      <td>0</td>\n",
              "      <td>0</td>\n",
              "      <td>0</td>\n",
              "      <td>0</td>\n",
              "      <td>0</td>\n",
              "      <td>1</td>\n",
              "      <td>0</td>\n",
              "      <td>0</td>\n",
              "      <td>0</td>\n",
              "      <td>1</td>\n",
              "      <td>0</td>\n",
              "      <td>0</td>\n",
              "      <td>0</td>\n",
              "      <td>0</td>\n",
              "      <td>0</td>\n",
              "      <td>0</td>\n",
              "      <td>0</td>\n",
              "      <td>0</td>\n",
              "      <td>0</td>\n",
              "      <td>0</td>\n",
              "      <td>0</td>\n",
              "    </tr>\n",
              "    <tr>\n",
              "      <th>213</th>\n",
              "      <td>1</td>\n",
              "      <td>0</td>\n",
              "      <td>7</td>\n",
              "      <td>19</td>\n",
              "      <td>3</td>\n",
              "      <td>2</td>\n",
              "      <td>0</td>\n",
              "      <td>8</td>\n",
              "      <td>2</td>\n",
              "      <td>5</td>\n",
              "      <td>0</td>\n",
              "      <td>11</td>\n",
              "      <td>3</td>\n",
              "      <td>4</td>\n",
              "      <td>0</td>\n",
              "      <td>1</td>\n",
              "      <td>0</td>\n",
              "      <td>0</td>\n",
              "      <td>0</td>\n",
              "      <td>1</td>\n",
              "      <td>0</td>\n",
              "      <td>0</td>\n",
              "      <td>0</td>\n",
              "      <td>0</td>\n",
              "      <td>0</td>\n",
              "      <td>0</td>\n",
              "      <td>0</td>\n",
              "      <td>1</td>\n",
              "      <td>0</td>\n",
              "      <td>0</td>\n",
              "      <td>0</td>\n",
              "      <td>0</td>\n",
              "      <td>0</td>\n",
              "      <td>0</td>\n",
              "      <td>0</td>\n",
              "      <td>0</td>\n",
              "      <td>0</td>\n",
              "      <td>0</td>\n",
              "      <td>0</td>\n",
              "      <td>1</td>\n",
              "      <td>0</td>\n",
              "      <td>0</td>\n",
              "      <td>0</td>\n",
              "    </tr>\n",
              "    <tr>\n",
              "      <th>214</th>\n",
              "      <td>0</td>\n",
              "      <td>0</td>\n",
              "      <td>7</td>\n",
              "      <td>8</td>\n",
              "      <td>1</td>\n",
              "      <td>0</td>\n",
              "      <td>8</td>\n",
              "      <td>1</td>\n",
              "      <td>5</td>\n",
              "      <td>0</td>\n",
              "      <td>1</td>\n",
              "      <td>12</td>\n",
              "      <td>4</td>\n",
              "      <td>4</td>\n",
              "      <td>1</td>\n",
              "      <td>0</td>\n",
              "      <td>0</td>\n",
              "      <td>0</td>\n",
              "      <td>0</td>\n",
              "      <td>1</td>\n",
              "      <td>0</td>\n",
              "      <td>0</td>\n",
              "      <td>0</td>\n",
              "      <td>0</td>\n",
              "      <td>0</td>\n",
              "      <td>0</td>\n",
              "      <td>0</td>\n",
              "      <td>1</td>\n",
              "      <td>0</td>\n",
              "      <td>0</td>\n",
              "      <td>1</td>\n",
              "      <td>0</td>\n",
              "      <td>0</td>\n",
              "      <td>0</td>\n",
              "      <td>0</td>\n",
              "      <td>0</td>\n",
              "      <td>0</td>\n",
              "      <td>0</td>\n",
              "      <td>0</td>\n",
              "      <td>0</td>\n",
              "      <td>0</td>\n",
              "      <td>0</td>\n",
              "      <td>0</td>\n",
              "    </tr>\n",
              "    <tr>\n",
              "      <th>215</th>\n",
              "      <td>1</td>\n",
              "      <td>0</td>\n",
              "      <td>5</td>\n",
              "      <td>9</td>\n",
              "      <td>7</td>\n",
              "      <td>5</td>\n",
              "      <td>3</td>\n",
              "      <td>4</td>\n",
              "      <td>3</td>\n",
              "      <td>3</td>\n",
              "      <td>0</td>\n",
              "      <td>0</td>\n",
              "      <td>1</td>\n",
              "      <td>4</td>\n",
              "      <td>1</td>\n",
              "      <td>0</td>\n",
              "      <td>1</td>\n",
              "      <td>0</td>\n",
              "      <td>0</td>\n",
              "      <td>0</td>\n",
              "      <td>0</td>\n",
              "      <td>0</td>\n",
              "      <td>0</td>\n",
              "      <td>0</td>\n",
              "      <td>0</td>\n",
              "      <td>0</td>\n",
              "      <td>0</td>\n",
              "      <td>1</td>\n",
              "      <td>0</td>\n",
              "      <td>0</td>\n",
              "      <td>1</td>\n",
              "      <td>0</td>\n",
              "      <td>0</td>\n",
              "      <td>0</td>\n",
              "      <td>0</td>\n",
              "      <td>0</td>\n",
              "      <td>0</td>\n",
              "      <td>0</td>\n",
              "      <td>0</td>\n",
              "      <td>0</td>\n",
              "      <td>0</td>\n",
              "      <td>0</td>\n",
              "      <td>0</td>\n",
              "    </tr>\n",
              "  </tbody>\n",
              "</table>\n",
              "<p>216 rows × 43 columns</p>\n",
              "</div>"
            ],
            "text/plain": [
              "     Age  ...  Factors_Services offered, Quality of a product\n",
              "0      0  ...                                               0\n",
              "1      0  ...                                               0\n",
              "2      1  ...                                               0\n",
              "3      0  ...                                               0\n",
              "4      1  ...                                               0\n",
              "..   ...  ...                                             ...\n",
              "211    1  ...                                               0\n",
              "212    0  ...                                               0\n",
              "213    1  ...                                               0\n",
              "214    0  ...                                               0\n",
              "215    1  ...                                               0\n",
              "\n",
              "[216 rows x 43 columns]"
            ]
          },
          "metadata": {
            "tags": []
          },
          "execution_count": 12
        }
      ]
    },
    {
      "cell_type": "code",
      "metadata": {
        "colab": {
          "base_uri": "https://localhost:8080/"
        },
        "id": "nZroHyR0w_8t",
        "outputId": "92c1fe09-b8b4-462d-9a1c-406d22ca1550"
      },
      "source": [
        "final.dtypes"
      ],
      "execution_count": null,
      "outputs": [
        {
          "output_type": "execute_result",
          "data": {
            "text/plain": [
              "Age                                                                                               int64\n",
              "Type                                                                                              int64\n",
              "Product                                                                                           int64\n",
              "Item                                                                                              int64\n",
              "Brand(HomeAppliances)                                                                             int64\n",
              "Brand(ITDevices)                                                                                  int64\n",
              "Brand(MobileDevices)                                                                              int64\n",
              "Price(HomeAppliances)                                                                             int64\n",
              "Price(ITDevices)                                                                                  int64\n",
              "Price(MobileDevices)                                                                              int64\n",
              "Time                                                                                              int64\n",
              "Research                                                                                          int64\n",
              "Yearlyspending                                                                                    int64\n",
              "Rating                                                                                            int64\n",
              "howoften_Occasionally                                                                             uint8\n",
              "howoften_Regularly                                                                                uint8\n",
              "Where_In an electronics store                                                                     uint8\n",
              "Where_In the exclusive brand store                                                                uint8\n",
              "Where_In the exclusive brand store, In an electronics store                                       uint8\n",
              "Where_Online                                                                                      uint8\n",
              "Where_Online, In an electronics store                                                             uint8\n",
              "Where_Online, In an electronics store, Other sources                                              uint8\n",
              "Where_Online, In the exclusive brand store                                                        uint8\n",
              "Where_Online, In the exclusive brand store, In an electronics store                               uint8\n",
              "Where_Online, In the exclusive brand store, In an electronics store, Other sources                uint8\n",
              "Where_Other sources                                                                               uint8\n",
              "Compareprices_No                                                                                  uint8\n",
              "Compareprices_Yes                                                                                 uint8\n",
              "Factors_Pricing of a product                                                                      uint8\n",
              "Factors_Pricing of a product, Quality of a product                                                uint8\n",
              "Factors_Quality of a product                                                                      uint8\n",
              "Factors_Reliability of a product                                                                  uint8\n",
              "Factors_Reliability of a product, Pricing of a product                                            uint8\n",
              "Factors_Reliability of a product, Pricing of a product, Quality of a product                      uint8\n",
              "Factors_Reliability of a product, Quality of a product                                            uint8\n",
              "Factors_Reliability of a product, Services offered                                                uint8\n",
              "Factors_Reliability of a product, Services offered, Pricing of a product                          uint8\n",
              "Factors_Reliability of a product, Services offered, Pricing of a product, Quality of a product    uint8\n",
              "Factors_Reliability of a product, Services offered, Quality of a product                          uint8\n",
              "Factors_Services offered                                                                          uint8\n",
              "Factors_Services offered, Pricing of a product                                                    uint8\n",
              "Factors_Services offered, Pricing of a product, Quality of a product                              uint8\n",
              "Factors_Services offered, Quality of a product                                                    uint8\n",
              "dtype: object"
            ]
          },
          "metadata": {
            "tags": []
          },
          "execution_count": 41
        }
      ]
    },
    {
      "cell_type": "code",
      "metadata": {
        "colab": {
          "base_uri": "https://localhost:8080/"
        },
        "id": "eSNirg7bxGXI",
        "outputId": "2bcf5374-589b-44d1-ca1b-a52cfaf0f665"
      },
      "source": [
        "final.columns"
      ],
      "execution_count": 66,
      "outputs": [
        {
          "output_type": "execute_result",
          "data": {
            "text/plain": [
              "Index(['Age', 'Type', 'Product', 'Item', 'Brand(HomeAppliances)',\n",
              "       'Brand(ITDevices)', 'Brand(MobileDevices)', 'Price(HomeAppliances)',\n",
              "       'Price(ITDevices)', 'Price(MobileDevices)', 'Time ', 'Research',\n",
              "       'Yearlyspending', 'Rating', 'howoften_Occasionally',\n",
              "       'howoften_Regularly', 'Where_In an electronics store',\n",
              "       'Where_In the exclusive brand store',\n",
              "       'Where_In the exclusive brand store, In an electronics store',\n",
              "       'Where_Online', 'Where_Online, In an electronics store',\n",
              "       'Where_Online, In an electronics store, Other sources',\n",
              "       'Where_Online, In the exclusive brand store',\n",
              "       'Where_Online, In the exclusive brand store, In an electronics store',\n",
              "       'Where_Online, In the exclusive brand store, In an electronics store, Other sources',\n",
              "       'Where_Other sources', 'Compareprices_No', 'Compareprices_Yes',\n",
              "       'Factors_Pricing of a product',\n",
              "       'Factors_Pricing of a product, Quality of a product',\n",
              "       'Factors_Quality of a product', 'Factors_Reliability of a product',\n",
              "       'Factors_Reliability of a product, Pricing of a product',\n",
              "       'Factors_Reliability of a product, Pricing of a product, Quality of a product',\n",
              "       'Factors_Reliability of a product, Quality of a product',\n",
              "       'Factors_Reliability of a product, Services offered',\n",
              "       'Factors_Reliability of a product, Services offered, Pricing of a product',\n",
              "       'Factors_Reliability of a product, Services offered, Pricing of a product, Quality of a product',\n",
              "       'Factors_Reliability of a product, Services offered, Quality of a product',\n",
              "       'Factors_Services offered',\n",
              "       'Factors_Services offered, Pricing of a product',\n",
              "       'Factors_Services offered, Pricing of a product, Quality of a product',\n",
              "       'Factors_Services offered, Quality of a product'],\n",
              "      dtype='object')"
            ]
          },
          "metadata": {
            "tags": []
          },
          "execution_count": 66
        }
      ]
    },
    {
      "cell_type": "markdown",
      "metadata": {
        "id": "0j6xn42mi3WV"
      },
      "source": [
        "Tagert value Online"
      ]
    },
    {
      "cell_type": "markdown",
      "metadata": {
        "id": "GFlnG2i6olcu"
      },
      "source": [
        "DTC for Online"
      ]
    },
    {
      "cell_type": "code",
      "metadata": {
        "id": "u4_lE2RGxjrj"
      },
      "source": [
        "# Split data into X and y\n",
        "X = final.drop('Where_Online', axis=1)\n",
        "y = final['Where_Online']"
      ],
      "execution_count": 64,
      "outputs": []
    },
    {
      "cell_type": "code",
      "metadata": {
        "id": "a5BWIJK9Zti2"
      },
      "source": [
        "# Split the data into training and test sets\n",
        "X_train, X_test, y_train, y_test = train_test_split(X, y, test_size = 0.2, random_state = 0)"
      ],
      "execution_count": 27,
      "outputs": []
    },
    {
      "cell_type": "code",
      "metadata": {
        "colab": {
          "base_uri": "https://localhost:8080/"
        },
        "id": "gIQsYkZMbTCZ",
        "outputId": "6ca9195b-ae05-47f5-e956-6cf02d2f1f02"
      },
      "source": [
        "X_train.shape, X_test.shape, y_train.shape, y_test.shape"
      ],
      "execution_count": 28,
      "outputs": [
        {
          "output_type": "execute_result",
          "data": {
            "text/plain": [
              "((172, 42), (44, 42), (172,), (44,))"
            ]
          },
          "metadata": {
            "tags": []
          },
          "execution_count": 28
        }
      ]
    },
    {
      "cell_type": "code",
      "metadata": {
        "id": "rQX3PkwLedk1"
      },
      "source": [
        "#Using DecisionTreeClassifier\n",
        "dct=DecisionTreeClassifier(random_state=42)"
      ],
      "execution_count": null,
      "outputs": []
    },
    {
      "cell_type": "code",
      "metadata": {
        "colab": {
          "base_uri": "https://localhost:8080/"
        },
        "id": "XxRiTthUefcV",
        "outputId": "16bf80e8-4b8d-4ebf-858b-c928bb54fb4e"
      },
      "source": [
        "dct.fit(X_train,y_train)"
      ],
      "execution_count": null,
      "outputs": [
        {
          "output_type": "execute_result",
          "data": {
            "text/plain": [
              "DecisionTreeClassifier(ccp_alpha=0.0, class_weight=None, criterion='gini',\n",
              "                       max_depth=None, max_features=None, max_leaf_nodes=None,\n",
              "                       min_impurity_decrease=0.0, min_impurity_split=None,\n",
              "                       min_samples_leaf=1, min_samples_split=2,\n",
              "                       min_weight_fraction_leaf=0.0, presort='deprecated',\n",
              "                       random_state=42, splitter='best')"
            ]
          },
          "metadata": {
            "tags": []
          },
          "execution_count": 69
        }
      ]
    },
    {
      "cell_type": "code",
      "metadata": {
        "id": "cCQiCFI6ehmD"
      },
      "source": [
        "y_preds=dct.predict(X_test)"
      ],
      "execution_count": null,
      "outputs": []
    },
    {
      "cell_type": "code",
      "metadata": {
        "colab": {
          "base_uri": "https://localhost:8080/"
        },
        "id": "XmE4rXheemZh",
        "outputId": "ca7f7f58-127e-4947-bc5b-b8762610f988"
      },
      "source": [
        "dct.score(X_test, y_test)*100"
      ],
      "execution_count": null,
      "outputs": [
        {
          "output_type": "execute_result",
          "data": {
            "text/plain": [
              "93.18181818181817"
            ]
          },
          "metadata": {
            "tags": []
          },
          "execution_count": 71
        }
      ]
    },
    {
      "cell_type": "code",
      "metadata": {
        "colab": {
          "base_uri": "https://localhost:8080/"
        },
        "id": "p5px4yBkepo-",
        "outputId": "b54117b0-5e6a-4e5a-d638-2974b1f7d8a6"
      },
      "source": [
        "print(classification_report(y_test, y_preds))"
      ],
      "execution_count": null,
      "outputs": [
        {
          "output_type": "stream",
          "text": [
            "              precision    recall  f1-score   support\n",
            "\n",
            "           0       0.93      0.96      0.95        28\n",
            "           1       0.93      0.88      0.90        16\n",
            "\n",
            "    accuracy                           0.93        44\n",
            "   macro avg       0.93      0.92      0.93        44\n",
            "weighted avg       0.93      0.93      0.93        44\n",
            "\n"
          ],
          "name": "stdout"
        }
      ]
    },
    {
      "cell_type": "code",
      "metadata": {
        "colab": {
          "base_uri": "https://localhost:8080/"
        },
        "id": "JpvPDl3vgEu-",
        "outputId": "cd220a03-fbe1-4188-9618-8850f7be6946"
      },
      "source": [
        "cm = confusion_matrix(y_test, y_preds)\n",
        "cm"
      ],
      "execution_count": null,
      "outputs": [
        {
          "output_type": "execute_result",
          "data": {
            "text/plain": [
              "array([[27,  1],\n",
              "       [ 2, 14]])"
            ]
          },
          "metadata": {
            "tags": []
          },
          "execution_count": 75
        }
      ]
    },
    {
      "cell_type": "code",
      "metadata": {
        "colab": {
          "base_uri": "https://localhost:8080/",
          "height": 240
        },
        "id": "S5-u20JRfGG8",
        "outputId": "f0fa4556-d4d0-4a3a-dc6a-3deb3ba99bf3"
      },
      "source": [
        "sns.set(font_scale=1.4)\n",
        "\n",
        "def plot_conf_mat(y_test, y_preds):\n",
        "    fig, ax = plt.subplots(figsize=(3, 3))\n",
        "    ax = sns.heatmap(confusion_matrix(y_test, y_preds),\n",
        "                     annot=True,\n",
        "                     cbar=False)\n",
        "    plt.xlabel(\"True label\")\n",
        "    plt.ylabel(\"Predicted label\")\n",
        "    \n",
        "    bottom, top = ax.get_ylim()\n",
        "    ax.set_ylim(bottom + 0.5, top - 0.5)\n",
        "    \n",
        "plot_conf_mat(y_test, y_preds)"
      ],
      "execution_count": null,
      "outputs": [
        {
          "output_type": "display_data",
          "data": {
            "image/png": "[encoded data removed]",
            "text/plain": [
              "<Figure size 216x216 with 1 Axes>"
            ]
          },
          "metadata": {
            "tags": []
          }
        }
      ]
    },
    {
      "cell_type": "code",
      "metadata": {
        "colab": {
          "base_uri": "https://localhost:8080/"
        },
        "id": "4EyryXjKfESa",
        "outputId": "c07419a4-89fe-4244-af59-cf5068283cf8"
      },
      "source": [
        "accuracy_score(y_test, y_preds)*100"
      ],
      "execution_count": null,
      "outputs": [
        {
          "output_type": "execute_result",
          "data": {
            "text/plain": [
              "93.18181818181817"
            ]
          },
          "metadata": {
            "tags": []
          },
          "execution_count": 76
        }
      ]
    },
    {
      "cell_type": "code",
      "metadata": {
        "colab": {
          "base_uri": "https://localhost:8080/",
          "height": 1000
        },
        "id": "lmGZPQT0iUpL",
        "outputId": "f9c5aeec-d97b-45a8-ecba-9a3a85334d30"
      },
      "source": [
        "dot_data = tree.export_graphviz(dct,feature_names = X_train.columns,class_names=[\"0\",\"1\"], filled=True, precision=4)\n",
        "graph = graphviz.Source(dot_data, format=\"png\") \n",
        "graph"
      ],
      "execution_count": null,
      "outputs": [
        {
          "output_type": "execute_result",
          "data": {
            "text/plain": [
              "<graphviz.files.Source at 0x7fd0889fdb10>"
            ],
            "image/svg+xml": "<?xml version=\"1.0\" encoding=\"UTF-8\" standalone=\"no\"?>\n<!DOCTYPE svg PUBLIC \"-//W3C//DTD SVG 1.1//EN\"\n \"http://www.w3.org/Graphics/SVG/1.1/DTD/svg11.dtd\">\n<!-- Generated by graphviz version 2.40.1 (20161225.0304)\n -->\n<!-- Title: Tree Pages: 1 -->\n<svg width=\"1711pt\" height=\"1028pt\"\n viewBox=\"0.00 0.00 1710.50 1028.00\" xmlns=\"http://www.w3.org/2000/svg\" xmlns:xlink=\"http://www.w3.org/1999/xlink\">\n<g id=\"graph0\" class=\"graph\" transform=\"scale(1 1) rotate(0) translate(4 1024)\">\n<title>Tree</title>\n<polygon fill=\"#ffffff\" stroke=\"transparent\" points=\"-4,4 -4,-1024 1706.5,-1024 1706.5,4 -4,4\"/>\n<!-- 0 -->\n<g id=\"node1\" class=\"node\">\n<title>0</title>\n<polygon fill=\"#eeaf81\" stroke=\"#000000\" points=\"1311,-1020 1194,-1020 1194,-937 1311,-937 1311,-1020\"/>\n<text text-anchor=\"middle\" x=\"1252.5\" y=\"-1004.8\" font-family=\"Times,serif\" font-size=\"14.00\" fill=\"#000000\">Age &lt;= 1.5</text>\n<text text-anchor=\"middle\" x=\"1252.5\" y=\"-989.8\" font-family=\"Times,serif\" font-size=\"14.00\" fill=\"#000000\">gini = 0.3918</text>\n<text text-anchor=\"middle\" x=\"1252.5\" y=\"-974.8\" font-family=\"Times,serif\" font-size=\"14.00\" fill=\"#000000\">samples = 172</text>\n<text text-anchor=\"middle\" x=\"1252.5\" y=\"-959.8\" font-family=\"Times,serif\" font-size=\"14.00\" fill=\"#000000\">value = [126, 46]</text>\n<text text-anchor=\"middle\" x=\"1252.5\" y=\"-944.8\" font-family=\"Times,serif\" font-size=\"14.00\" fill=\"#000000\">class = 0</text>\n</g>\n<!-- 1 -->\n<g id=\"node2\" class=\"node\">\n<title>1</title>\n<polygon fill=\"#f4c9aa\" stroke=\"#000000\" points=\"1257,-901 982,-901 982,-818 1257,-818 1257,-901\"/>\n<text text-anchor=\"middle\" x=\"1119.5\" y=\"-885.8\" font-family=\"Times,serif\" font-size=\"14.00\" fill=\"#000000\">Where_Online, In an electronics store &lt;= 0.5</text>\n<text text-anchor=\"middle\" x=\"1119.5\" y=\"-870.8\" font-family=\"Times,serif\" font-size=\"14.00\" fill=\"#000000\">gini = 0.4624</text>\n<text text-anchor=\"middle\" x=\"1119.5\" y=\"-855.8\" font-family=\"Times,serif\" font-size=\"14.00\" fill=\"#000000\">samples = 124</text>\n<text text-anchor=\"middle\" x=\"1119.5\" y=\"-840.8\" font-family=\"Times,serif\" font-size=\"14.00\" fill=\"#000000\">value = [79, 45]</text>\n<text text-anchor=\"middle\" x=\"1119.5\" y=\"-825.8\" font-family=\"Times,serif\" font-size=\"14.00\" fill=\"#000000\">class = 0</text>\n</g>\n<!-- 0&#45;&gt;1 -->\n<g id=\"edge1\" class=\"edge\">\n<title>0&#45;&gt;1</title>\n<path fill=\"none\" stroke=\"#000000\" d=\"M1205.9831,-936.8796C1195.6152,-927.6031 1184.5329,-917.6874 1173.8801,-908.1559\"/>\n<polygon fill=\"#000000\" stroke=\"#000000\" points=\"1176.0017,-905.3577 1166.2155,-901.2981 1171.3341,-910.5744 1176.0017,-905.3577\"/>\n<text text-anchor=\"middle\" x=\"1167.6022\" y=\"-922.5596\" font-family=\"Times,serif\" font-size=\"14.00\" fill=\"#000000\">True</text>\n</g>\n<!-- 16 -->\n<g id=\"node17\" class=\"node\">\n<title>16</title>\n<polygon fill=\"#e6843d\" stroke=\"#000000\" points=\"1436.5,-901 1334.5,-901 1334.5,-818 1436.5,-818 1436.5,-901\"/>\n<text text-anchor=\"middle\" x=\"1385.5\" y=\"-885.8\" font-family=\"Times,serif\" font-size=\"14.00\" fill=\"#000000\">Item &lt;= 4.5</text>\n<text text-anchor=\"middle\" x=\"1385.5\" y=\"-870.8\" font-family=\"Times,serif\" font-size=\"14.00\" fill=\"#000000\">gini = 0.0408</text>\n<text text-anchor=\"middle\" x=\"1385.5\" y=\"-855.8\" font-family=\"Times,serif\" font-size=\"14.00\" fill=\"#000000\">samples = 48</text>\n<text text-anchor=\"middle\" x=\"1385.5\" y=\"-840.8\" font-family=\"Times,serif\" font-size=\"14.00\" fill=\"#000000\">value = [47, 1]</text>\n<text text-anchor=\"middle\" x=\"1385.5\" y=\"-825.8\" font-family=\"Times,serif\" font-size=\"14.00\" fill=\"#000000\">class = 0</text>\n</g>\n<!-- 0&#45;&gt;16 -->\n<g id=\"edge16\" class=\"edge\">\n<title>0&#45;&gt;16</title>\n<path fill=\"none\" stroke=\"#000000\" d=\"M1299.0169,-936.8796C1309.3848,-927.6031 1320.4671,-917.6874 1331.1199,-908.1559\"/>\n<polygon fill=\"#000000\" stroke=\"#000000\" points=\"1333.6659,-910.5744 1338.7845,-901.2981 1328.9983,-905.3577 1333.6659,-910.5744\"/>\n<text text-anchor=\"middle\" x=\"1337.3978\" y=\"-922.5596\" font-family=\"Times,serif\" font-size=\"14.00\" fill=\"#000000\">False</text>\n</g>\n<!-- 2 -->\n<g id=\"node3\" class=\"node\">\n<title>2</title>\n<polygon fill=\"#f8e0ce\" stroke=\"#000000\" points=\"1050,-782 657,-782 657,-699 1050,-699 1050,-782\"/>\n<text text-anchor=\"middle\" x=\"853.5\" y=\"-766.8\" font-family=\"Times,serif\" font-size=\"14.00\" fill=\"#000000\">Where_In the exclusive brand store, In an electronics store &lt;= 0.5</text>\n<text text-anchor=\"middle\" x=\"853.5\" y=\"-751.8\" font-family=\"Times,serif\" font-size=\"14.00\" fill=\"#000000\">gini = 0.4898</text>\n<text text-anchor=\"middle\" x=\"853.5\" y=\"-736.8\" font-family=\"Times,serif\" font-size=\"14.00\" fill=\"#000000\">samples = 105</text>\n<text text-anchor=\"middle\" x=\"853.5\" y=\"-721.8\" font-family=\"Times,serif\" font-size=\"14.00\" fill=\"#000000\">value = [60, 45]</text>\n<text text-anchor=\"middle\" x=\"853.5\" y=\"-706.8\" font-family=\"Times,serif\" font-size=\"14.00\" fill=\"#000000\">class = 0</text>\n</g>\n<!-- 1&#45;&gt;2 -->\n<g id=\"edge2\" class=\"edge\">\n<title>1&#45;&gt;2</title>\n<path fill=\"none\" stroke=\"#000000\" d=\"M1026.4661,-817.8796C1003.585,-807.6433 978.964,-796.6286 955.6772,-786.2108\"/>\n<polygon fill=\"#000000\" stroke=\"#000000\" points=\"957.0389,-782.9858 946.4814,-782.0969 954.1803,-789.3755 957.0389,-782.9858\"/>\n</g>\n<!-- 15 -->\n<g id=\"node16\" class=\"node\">\n<title>15</title>\n<polygon fill=\"#e58139\" stroke=\"#000000\" points=\"1170.5,-774.5 1068.5,-774.5 1068.5,-706.5 1170.5,-706.5 1170.5,-774.5\"/>\n<text text-anchor=\"middle\" x=\"1119.5\" y=\"-759.3\" font-family=\"Times,serif\" font-size=\"14.00\" fill=\"#000000\">gini = 0.0</text>\n<text text-anchor=\"middle\" x=\"1119.5\" y=\"-744.3\" font-family=\"Times,serif\" font-size=\"14.00\" fill=\"#000000\">samples = 19</text>\n<text text-anchor=\"middle\" x=\"1119.5\" y=\"-729.3\" font-family=\"Times,serif\" font-size=\"14.00\" fill=\"#000000\">value = [19, 0]</text>\n<text text-anchor=\"middle\" x=\"1119.5\" y=\"-714.3\" font-family=\"Times,serif\" font-size=\"14.00\" fill=\"#000000\">class = 0</text>\n</g>\n<!-- 1&#45;&gt;15 -->\n<g id=\"edge15\" class=\"edge\">\n<title>1&#45;&gt;15</title>\n<path fill=\"none\" stroke=\"#000000\" d=\"M1119.5,-817.8796C1119.5,-807.2134 1119.5,-795.7021 1119.5,-784.9015\"/>\n<polygon fill=\"#000000\" stroke=\"#000000\" points=\"1123.0001,-784.8149 1119.5,-774.8149 1116.0001,-784.815 1123.0001,-784.8149\"/>\n</g>\n<!-- 3 -->\n<g id=\"node4\" class=\"node\">\n<title>3</title>\n<polygon fill=\"#f6fbfe\" stroke=\"#000000\" points=\"960.5,-663 732.5,-663 732.5,-580 960.5,-580 960.5,-663\"/>\n<text text-anchor=\"middle\" x=\"846.5\" y=\"-647.8\" font-family=\"Times,serif\" font-size=\"14.00\" fill=\"#000000\">Where_In an electronics store &lt;= 0.5</text>\n<text text-anchor=\"middle\" x=\"846.5\" y=\"-632.8\" font-family=\"Times,serif\" font-size=\"14.00\" fill=\"#000000\">gini = 0.4997</text>\n<text text-anchor=\"middle\" x=\"846.5\" y=\"-617.8\" font-family=\"Times,serif\" font-size=\"14.00\" fill=\"#000000\">samples = 88</text>\n<text text-anchor=\"middle\" x=\"846.5\" y=\"-602.8\" font-family=\"Times,serif\" font-size=\"14.00\" fill=\"#000000\">value = [43, 45]</text>\n<text text-anchor=\"middle\" x=\"846.5\" y=\"-587.8\" font-family=\"Times,serif\" font-size=\"14.00\" fill=\"#000000\">class = 1</text>\n</g>\n<!-- 2&#45;&gt;3 -->\n<g id=\"edge3\" class=\"edge\">\n<title>2&#45;&gt;3</title>\n<path fill=\"none\" stroke=\"#000000\" d=\"M851.0517,-698.8796C850.5696,-690.6838 850.0582,-681.9891 849.5589,-673.5013\"/>\n<polygon fill=\"#000000\" stroke=\"#000000\" points=\"853.04,-673.0753 848.9587,-663.2981 846.0521,-673.4864 853.04,-673.0753\"/>\n</g>\n<!-- 14 -->\n<g id=\"node15\" class=\"node\">\n<title>14</title>\n<polygon fill=\"#e58139\" stroke=\"#000000\" points=\"1080.5,-655.5 978.5,-655.5 978.5,-587.5 1080.5,-587.5 1080.5,-655.5\"/>\n<text text-anchor=\"middle\" x=\"1029.5\" y=\"-640.3\" font-family=\"Times,serif\" font-size=\"14.00\" fill=\"#000000\">gini = 0.0</text>\n<text text-anchor=\"middle\" x=\"1029.5\" y=\"-625.3\" font-family=\"Times,serif\" font-size=\"14.00\" fill=\"#000000\">samples = 17</text>\n<text text-anchor=\"middle\" x=\"1029.5\" y=\"-610.3\" font-family=\"Times,serif\" font-size=\"14.00\" fill=\"#000000\">value = [17, 0]</text>\n<text text-anchor=\"middle\" x=\"1029.5\" y=\"-595.3\" font-family=\"Times,serif\" font-size=\"14.00\" fill=\"#000000\">class = 0</text>\n</g>\n<!-- 2&#45;&gt;14 -->\n<g id=\"edge14\" class=\"edge\">\n<title>2&#45;&gt;14</title>\n<path fill=\"none\" stroke=\"#000000\" d=\"M916.2339,-698.8543C933.5311,-687.299 952.2743,-674.7104 969.5,-663 970.279,-662.4704 971.0634,-661.9365 971.8523,-661.3991\"/>\n<polygon fill=\"#000000\" stroke=\"#000000\" points=\"974.1482,-664.0693 980.4283,-655.5364 970.1977,-658.2905 974.1482,-664.0693\"/>\n</g>\n<!-- 4 -->\n<g id=\"node5\" class=\"node\">\n<title>4</title>\n<polygon fill=\"#abd6f4\" stroke=\"#000000\" points=\"856.5,-544 416.5,-544 416.5,-461 856.5,-461 856.5,-544\"/>\n<text text-anchor=\"middle\" x=\"636.5\" y=\"-528.8\" font-family=\"Times,serif\" font-size=\"14.00\" fill=\"#000000\">Where_Online, In the exclusive brand store, In an electronics store &lt;= 0.5</text>\n<text text-anchor=\"middle\" x=\"636.5\" y=\"-513.8\" font-family=\"Times,serif\" font-size=\"14.00\" fill=\"#000000\">gini = 0.4642</text>\n<text text-anchor=\"middle\" x=\"636.5\" y=\"-498.8\" font-family=\"Times,serif\" font-size=\"14.00\" fill=\"#000000\">samples = 71</text>\n<text text-anchor=\"middle\" x=\"636.5\" y=\"-483.8\" font-family=\"Times,serif\" font-size=\"14.00\" fill=\"#000000\">value = [26, 45]</text>\n<text text-anchor=\"middle\" x=\"636.5\" y=\"-468.8\" font-family=\"Times,serif\" font-size=\"14.00\" fill=\"#000000\">class = 1</text>\n</g>\n<!-- 3&#45;&gt;4 -->\n<g id=\"edge4\" class=\"edge\">\n<title>3&#45;&gt;4</title>\n<path fill=\"none\" stroke=\"#000000\" d=\"M773.0522,-579.8796C755.4677,-569.915 736.5817,-559.2129 718.6326,-549.0418\"/>\n<polygon fill=\"#000000\" stroke=\"#000000\" points=\"720.3321,-545.982 709.9063,-544.0969 716.881,-552.0722 720.3321,-545.982\"/>\n</g>\n<!-- 13 -->\n<g id=\"node14\" class=\"node\">\n<title>13</title>\n<polygon fill=\"#e58139\" stroke=\"#000000\" points=\"976.5,-536.5 874.5,-536.5 874.5,-468.5 976.5,-468.5 976.5,-536.5\"/>\n<text text-anchor=\"middle\" x=\"925.5\" y=\"-521.3\" font-family=\"Times,serif\" font-size=\"14.00\" fill=\"#000000\">gini = 0.0</text>\n<text text-anchor=\"middle\" x=\"925.5\" y=\"-506.3\" font-family=\"Times,serif\" font-size=\"14.00\" fill=\"#000000\">samples = 17</text>\n<text text-anchor=\"middle\" x=\"925.5\" y=\"-491.3\" font-family=\"Times,serif\" font-size=\"14.00\" fill=\"#000000\">value = [17, 0]</text>\n<text text-anchor=\"middle\" x=\"925.5\" y=\"-476.3\" font-family=\"Times,serif\" font-size=\"14.00\" fill=\"#000000\">class = 0</text>\n</g>\n<!-- 3&#45;&gt;13 -->\n<g id=\"edge13\" class=\"edge\">\n<title>3&#45;&gt;13</title>\n<path fill=\"none\" stroke=\"#000000\" d=\"M874.1304,-579.8796C881.5763,-568.6636 889.6425,-556.5131 897.1282,-545.2372\"/>\n<polygon fill=\"#000000\" stroke=\"#000000\" points=\"900.1046,-547.082 902.7195,-536.8149 894.2727,-543.2104 900.1046,-547.082\"/>\n</g>\n<!-- 5 -->\n<g id=\"node6\" class=\"node\">\n<title>5</title>\n<polygon fill=\"#7bbeee\" stroke=\"#000000\" points=\"667.5,-425 405.5,-425 405.5,-342 667.5,-342 667.5,-425\"/>\n<text text-anchor=\"middle\" x=\"536.5\" y=\"-409.8\" font-family=\"Times,serif\" font-size=\"14.00\" fill=\"#000000\">Where_In the exclusive brand store &lt;= 0.5</text>\n<text text-anchor=\"middle\" x=\"536.5\" y=\"-394.8\" font-family=\"Times,serif\" font-size=\"14.00\" fill=\"#000000\">gini = 0.375</text>\n<text text-anchor=\"middle\" x=\"536.5\" y=\"-379.8\" font-family=\"Times,serif\" font-size=\"14.00\" fill=\"#000000\">samples = 60</text>\n<text text-anchor=\"middle\" x=\"536.5\" y=\"-364.8\" font-family=\"Times,serif\" font-size=\"14.00\" fill=\"#000000\">value = [15, 45]</text>\n<text text-anchor=\"middle\" x=\"536.5\" y=\"-349.8\" font-family=\"Times,serif\" font-size=\"14.00\" fill=\"#000000\">class = 1</text>\n</g>\n<!-- 4&#45;&gt;5 -->\n<g id=\"edge5\" class=\"edge\">\n<title>4&#45;&gt;5</title>\n<path fill=\"none\" stroke=\"#000000\" d=\"M601.5249,-460.8796C593.9565,-451.8733 585.8819,-442.2644 578.088,-432.9897\"/>\n<polygon fill=\"#000000\" stroke=\"#000000\" points=\"580.7374,-430.7022 571.6244,-425.2981 575.3784,-435.2056 580.7374,-430.7022\"/>\n</g>\n<!-- 12 -->\n<g id=\"node13\" class=\"node\">\n<title>12</title>\n<polygon fill=\"#e58139\" stroke=\"#000000\" points=\"787,-417.5 686,-417.5 686,-349.5 787,-349.5 787,-417.5\"/>\n<text text-anchor=\"middle\" x=\"736.5\" y=\"-402.3\" font-family=\"Times,serif\" font-size=\"14.00\" fill=\"#000000\">gini = 0.0</text>\n<text text-anchor=\"middle\" x=\"736.5\" y=\"-387.3\" font-family=\"Times,serif\" font-size=\"14.00\" fill=\"#000000\">samples = 11</text>\n<text text-anchor=\"middle\" x=\"736.5\" y=\"-372.3\" font-family=\"Times,serif\" font-size=\"14.00\" fill=\"#000000\">value = [11, 0]</text>\n<text text-anchor=\"middle\" x=\"736.5\" y=\"-357.3\" font-family=\"Times,serif\" font-size=\"14.00\" fill=\"#000000\">class = 0</text>\n</g>\n<!-- 4&#45;&gt;12 -->\n<g id=\"edge12\" class=\"edge\">\n<title>4&#45;&gt;12</title>\n<path fill=\"none\" stroke=\"#000000\" d=\"M671.4751,-460.8796C681.0852,-449.4436 691.5115,-437.0363 701.1429,-425.575\"/>\n<polygon fill=\"#000000\" stroke=\"#000000\" points=\"703.91,-427.7225 707.6639,-417.8149 698.5509,-423.219 703.91,-427.7225\"/>\n</g>\n<!-- 6 -->\n<g id=\"node7\" class=\"node\">\n<title>6</title>\n<polygon fill=\"#58ace9\" stroke=\"#000000\" points=\"580.5,-306 272.5,-306 272.5,-223 580.5,-223 580.5,-306\"/>\n<text text-anchor=\"middle\" x=\"426.5\" y=\"-290.8\" font-family=\"Times,serif\" font-size=\"14.00\" fill=\"#000000\">Where_Online, In the exclusive brand store &lt;= 0.5</text>\n<text text-anchor=\"middle\" x=\"426.5\" y=\"-275.8\" font-family=\"Times,serif\" font-size=\"14.00\" fill=\"#000000\">gini = 0.233</text>\n<text text-anchor=\"middle\" x=\"426.5\" y=\"-260.8\" font-family=\"Times,serif\" font-size=\"14.00\" fill=\"#000000\">samples = 52</text>\n<text text-anchor=\"middle\" x=\"426.5\" y=\"-245.8\" font-family=\"Times,serif\" font-size=\"14.00\" fill=\"#000000\">value = [7, 45]</text>\n<text text-anchor=\"middle\" x=\"426.5\" y=\"-230.8\" font-family=\"Times,serif\" font-size=\"14.00\" fill=\"#000000\">class = 1</text>\n</g>\n<!-- 5&#45;&gt;6 -->\n<g id=\"edge6\" class=\"edge\">\n<title>5&#45;&gt;6</title>\n<path fill=\"none\" stroke=\"#000000\" d=\"M498.0273,-341.8796C489.6189,-332.7832 480.6424,-323.0722 471.9897,-313.7116\"/>\n<polygon fill=\"#000000\" stroke=\"#000000\" points=\"474.495,-311.2656 465.1369,-306.2981 469.3547,-316.0172 474.495,-311.2656\"/>\n</g>\n<!-- 11 -->\n<g id=\"node12\" class=\"node\">\n<title>11</title>\n<polygon fill=\"#e58139\" stroke=\"#000000\" points=\"694,-298.5 599,-298.5 599,-230.5 694,-230.5 694,-298.5\"/>\n<text text-anchor=\"middle\" x=\"646.5\" y=\"-283.3\" font-family=\"Times,serif\" font-size=\"14.00\" fill=\"#000000\">gini = 0.0</text>\n<text text-anchor=\"middle\" x=\"646.5\" y=\"-268.3\" font-family=\"Times,serif\" font-size=\"14.00\" fill=\"#000000\">samples = 8</text>\n<text text-anchor=\"middle\" x=\"646.5\" y=\"-253.3\" font-family=\"Times,serif\" font-size=\"14.00\" fill=\"#000000\">value = [8, 0]</text>\n<text text-anchor=\"middle\" x=\"646.5\" y=\"-238.3\" font-family=\"Times,serif\" font-size=\"14.00\" fill=\"#000000\">class = 0</text>\n</g>\n<!-- 5&#45;&gt;11 -->\n<g id=\"edge11\" class=\"edge\">\n<title>5&#45;&gt;11</title>\n<path fill=\"none\" stroke=\"#000000\" d=\"M574.9727,-341.8796C585.6453,-330.3337 597.2333,-317.7976 607.9125,-306.2446\"/>\n<polygon fill=\"#000000\" stroke=\"#000000\" points=\"610.5625,-308.534 614.7803,-298.8149 605.4222,-303.7825 610.5625,-308.534\"/>\n</g>\n<!-- 7 -->\n<g id=\"node8\" class=\"node\">\n<title>7</title>\n<polygon fill=\"#3d9fe6\" stroke=\"#000000\" points=\"525,-187 0,-187 0,-104 525,-104 525,-187\"/>\n<text text-anchor=\"middle\" x=\"262.5\" y=\"-171.8\" font-family=\"Times,serif\" font-size=\"14.00\" fill=\"#000000\">Where_Online, In the exclusive brand store, In an electronics store, Other sources &lt;= 0.5</text>\n<text text-anchor=\"middle\" x=\"262.5\" y=\"-156.8\" font-family=\"Times,serif\" font-size=\"14.00\" fill=\"#000000\">gini = 0.0425</text>\n<text text-anchor=\"middle\" x=\"262.5\" y=\"-141.8\" font-family=\"Times,serif\" font-size=\"14.00\" fill=\"#000000\">samples = 46</text>\n<text text-anchor=\"middle\" x=\"262.5\" y=\"-126.8\" font-family=\"Times,serif\" font-size=\"14.00\" fill=\"#000000\">value = [1, 45]</text>\n<text text-anchor=\"middle\" x=\"262.5\" y=\"-111.8\" font-family=\"Times,serif\" font-size=\"14.00\" fill=\"#000000\">class = 1</text>\n</g>\n<!-- 6&#45;&gt;7 -->\n<g id=\"edge7\" class=\"edge\">\n<title>6&#45;&gt;7</title>\n<path fill=\"none\" stroke=\"#000000\" d=\"M369.1408,-222.8796C355.9075,-213.2774 341.7303,-202.9903 328.1736,-193.1534\"/>\n<polygon fill=\"#000000\" stroke=\"#000000\" points=\"329.9762,-190.1371 319.8269,-187.0969 325.8651,-195.8027 329.9762,-190.1371\"/>\n</g>\n<!-- 10 -->\n<g id=\"node11\" class=\"node\">\n<title>10</title>\n<polygon fill=\"#e58139\" stroke=\"#000000\" points=\"638,-179.5 543,-179.5 543,-111.5 638,-111.5 638,-179.5\"/>\n<text text-anchor=\"middle\" x=\"590.5\" y=\"-164.3\" font-family=\"Times,serif\" font-size=\"14.00\" fill=\"#000000\">gini = 0.0</text>\n<text text-anchor=\"middle\" x=\"590.5\" y=\"-149.3\" font-family=\"Times,serif\" font-size=\"14.00\" fill=\"#000000\">samples = 6</text>\n<text text-anchor=\"middle\" x=\"590.5\" y=\"-134.3\" font-family=\"Times,serif\" font-size=\"14.00\" fill=\"#000000\">value = [6, 0]</text>\n<text text-anchor=\"middle\" x=\"590.5\" y=\"-119.3\" font-family=\"Times,serif\" font-size=\"14.00\" fill=\"#000000\">class = 0</text>\n</g>\n<!-- 6&#45;&gt;10 -->\n<g id=\"edge10\" class=\"edge\">\n<title>6&#45;&gt;10</title>\n<path fill=\"none\" stroke=\"#000000\" d=\"M483.9929,-222.8977C500.0245,-211.2863 517.4458,-198.6583 533.5,-187 534.1129,-186.555 534.7294,-186.1072 535.349,-185.6571\"/>\n<polygon fill=\"#000000\" stroke=\"#000000\" points=\"537.5062,-188.4161 543.5379,-179.7058 533.3909,-182.7535 537.5062,-188.4161\"/>\n</g>\n<!-- 8 -->\n<g id=\"node9\" class=\"node\">\n<title>8</title>\n<polygon fill=\"#399de5\" stroke=\"#000000\" points=\"255.5,-68 153.5,-68 153.5,0 255.5,0 255.5,-68\"/>\n<text text-anchor=\"middle\" x=\"204.5\" y=\"-52.8\" font-family=\"Times,serif\" font-size=\"14.00\" fill=\"#000000\">gini = 0.0</text>\n<text text-anchor=\"middle\" x=\"204.5\" y=\"-37.8\" font-family=\"Times,serif\" font-size=\"14.00\" fill=\"#000000\">samples = 45</text>\n<text text-anchor=\"middle\" x=\"204.5\" y=\"-22.8\" font-family=\"Times,serif\" font-size=\"14.00\" fill=\"#000000\">value = [0, 45]</text>\n<text text-anchor=\"middle\" x=\"204.5\" y=\"-7.8\" font-family=\"Times,serif\" font-size=\"14.00\" fill=\"#000000\">class = 1</text>\n</g>\n<!-- 7&#45;&gt;8 -->\n<g id=\"edge8\" class=\"edge\">\n<title>7&#45;&gt;8</title>\n<path fill=\"none\" stroke=\"#000000\" d=\"M240.9029,-103.9815C236.3612,-95.2504 231.5598,-86.0202 226.9863,-77.2281\"/>\n<polygon fill=\"#000000\" stroke=\"#000000\" points=\"230.0431,-75.52 222.3233,-68.2637 223.8331,-78.7504 230.0431,-75.52\"/>\n</g>\n<!-- 9 -->\n<g id=\"node10\" class=\"node\">\n<title>9</title>\n<polygon fill=\"#e58139\" stroke=\"#000000\" points=\"369,-68 274,-68 274,0 369,0 369,-68\"/>\n<text text-anchor=\"middle\" x=\"321.5\" y=\"-52.8\" font-family=\"Times,serif\" font-size=\"14.00\" fill=\"#000000\">gini = 0.0</text>\n<text text-anchor=\"middle\" x=\"321.5\" y=\"-37.8\" font-family=\"Times,serif\" font-size=\"14.00\" fill=\"#000000\">samples = 1</text>\n<text text-anchor=\"middle\" x=\"321.5\" y=\"-22.8\" font-family=\"Times,serif\" font-size=\"14.00\" fill=\"#000000\">value = [1, 0]</text>\n<text text-anchor=\"middle\" x=\"321.5\" y=\"-7.8\" font-family=\"Times,serif\" font-size=\"14.00\" fill=\"#000000\">class = 0</text>\n</g>\n<!-- 7&#45;&gt;9 -->\n<g id=\"edge9\" class=\"edge\">\n<title>7&#45;&gt;9</title>\n<path fill=\"none\" stroke=\"#000000\" d=\"M284.4694,-103.9815C289.0895,-95.2504 293.9736,-86.0202 298.626,-77.2281\"/>\n<polygon fill=\"#000000\" stroke=\"#000000\" points=\"301.7859,-78.7395 303.3694,-68.2637 295.5987,-75.4655 301.7859,-78.7395\"/>\n</g>\n<!-- 17 -->\n<g id=\"node18\" class=\"node\">\n<title>17</title>\n<polygon fill=\"#e89152\" stroke=\"#000000\" points=\"1582,-782 1189,-782 1189,-699 1582,-699 1582,-782\"/>\n<text text-anchor=\"middle\" x=\"1385.5\" y=\"-766.8\" font-family=\"Times,serif\" font-size=\"14.00\" fill=\"#000000\">Where_In the exclusive brand store, In an electronics store &lt;= 0.5</text>\n<text text-anchor=\"middle\" x=\"1385.5\" y=\"-751.8\" font-family=\"Times,serif\" font-size=\"14.00\" fill=\"#000000\">gini = 0.1975</text>\n<text text-anchor=\"middle\" x=\"1385.5\" y=\"-736.8\" font-family=\"Times,serif\" font-size=\"14.00\" fill=\"#000000\">samples = 9</text>\n<text text-anchor=\"middle\" x=\"1385.5\" y=\"-721.8\" font-family=\"Times,serif\" font-size=\"14.00\" fill=\"#000000\">value = [8, 1]</text>\n<text text-anchor=\"middle\" x=\"1385.5\" y=\"-706.8\" font-family=\"Times,serif\" font-size=\"14.00\" fill=\"#000000\">class = 0</text>\n</g>\n<!-- 16&#45;&gt;17 -->\n<g id=\"edge17\" class=\"edge\">\n<title>16&#45;&gt;17</title>\n<path fill=\"none\" stroke=\"#000000\" d=\"M1385.5,-817.8796C1385.5,-809.6838 1385.5,-800.9891 1385.5,-792.5013\"/>\n<polygon fill=\"#000000\" stroke=\"#000000\" points=\"1389.0001,-792.298 1385.5,-782.2981 1382.0001,-792.2981 1389.0001,-792.298\"/>\n</g>\n<!-- 22 -->\n<g id=\"node23\" class=\"node\">\n<title>22</title>\n<polygon fill=\"#e58139\" stroke=\"#000000\" points=\"1702.5,-774.5 1600.5,-774.5 1600.5,-706.5 1702.5,-706.5 1702.5,-774.5\"/>\n<text text-anchor=\"middle\" x=\"1651.5\" y=\"-759.3\" font-family=\"Times,serif\" font-size=\"14.00\" fill=\"#000000\">gini = 0.0</text>\n<text text-anchor=\"middle\" x=\"1651.5\" y=\"-744.3\" font-family=\"Times,serif\" font-size=\"14.00\" fill=\"#000000\">samples = 39</text>\n<text text-anchor=\"middle\" x=\"1651.5\" y=\"-729.3\" font-family=\"Times,serif\" font-size=\"14.00\" fill=\"#000000\">value = [39, 0]</text>\n<text text-anchor=\"middle\" x=\"1651.5\" y=\"-714.3\" font-family=\"Times,serif\" font-size=\"14.00\" fill=\"#000000\">class = 0</text>\n</g>\n<!-- 16&#45;&gt;22 -->\n<g id=\"edge22\" class=\"edge\">\n<title>16&#45;&gt;22</title>\n<path fill=\"none\" stroke=\"#000000\" d=\"M1436.5185,-844.1828C1479.1415,-830.4831 1540.8953,-808.5046 1591.5,-782 1592.8324,-781.3022 1594.1702,-780.5798 1595.5102,-779.8366\"/>\n<polygon fill=\"#000000\" stroke=\"#000000\" points=\"1597.4817,-782.7384 1604.3488,-774.6703 1593.9492,-776.695 1597.4817,-782.7384\"/>\n</g>\n<!-- 18 -->\n<g id=\"node19\" class=\"node\">\n<title>18</title>\n<polygon fill=\"#f2c09c\" stroke=\"#000000\" points=\"1346.5,-663 1118.5,-663 1118.5,-580 1346.5,-580 1346.5,-663\"/>\n<text text-anchor=\"middle\" x=\"1232.5\" y=\"-647.8\" font-family=\"Times,serif\" font-size=\"14.00\" fill=\"#000000\">Where_In an electronics store &lt;= 0.5</text>\n<text text-anchor=\"middle\" x=\"1232.5\" y=\"-632.8\" font-family=\"Times,serif\" font-size=\"14.00\" fill=\"#000000\">gini = 0.4444</text>\n<text text-anchor=\"middle\" x=\"1232.5\" y=\"-617.8\" font-family=\"Times,serif\" font-size=\"14.00\" fill=\"#000000\">samples = 3</text>\n<text text-anchor=\"middle\" x=\"1232.5\" y=\"-602.8\" font-family=\"Times,serif\" font-size=\"14.00\" fill=\"#000000\">value = [2, 1]</text>\n<text text-anchor=\"middle\" x=\"1232.5\" y=\"-587.8\" font-family=\"Times,serif\" font-size=\"14.00\" fill=\"#000000\">class = 0</text>\n</g>\n<!-- 17&#45;&gt;18 -->\n<g id=\"edge18\" class=\"edge\">\n<title>17&#45;&gt;18</title>\n<path fill=\"none\" stroke=\"#000000\" d=\"M1331.988,-698.8796C1319.7588,-689.368 1306.6656,-679.1843 1294.1268,-669.432\"/>\n<polygon fill=\"#000000\" stroke=\"#000000\" points=\"1296.0241,-666.4736 1285.9818,-663.0969 1291.7265,-671.9991 1296.0241,-666.4736\"/>\n</g>\n<!-- 21 -->\n<g id=\"node22\" class=\"node\">\n<title>21</title>\n<polygon fill=\"#e58139\" stroke=\"#000000\" points=\"1460,-655.5 1365,-655.5 1365,-587.5 1460,-587.5 1460,-655.5\"/>\n<text text-anchor=\"middle\" x=\"1412.5\" y=\"-640.3\" font-family=\"Times,serif\" font-size=\"14.00\" fill=\"#000000\">gini = 0.0</text>\n<text text-anchor=\"middle\" x=\"1412.5\" y=\"-625.3\" font-family=\"Times,serif\" font-size=\"14.00\" fill=\"#000000\">samples = 6</text>\n<text text-anchor=\"middle\" x=\"1412.5\" y=\"-610.3\" font-family=\"Times,serif\" font-size=\"14.00\" fill=\"#000000\">value = [6, 0]</text>\n<text text-anchor=\"middle\" x=\"1412.5\" y=\"-595.3\" font-family=\"Times,serif\" font-size=\"14.00\" fill=\"#000000\">class = 0</text>\n</g>\n<!-- 17&#45;&gt;21 -->\n<g id=\"edge21\" class=\"edge\">\n<title>17&#45;&gt;21</title>\n<path fill=\"none\" stroke=\"#000000\" d=\"M1394.9433,-698.8796C1397.3883,-688.1034 1400.029,-676.4647 1402.5014,-665.5677\"/>\n<polygon fill=\"#000000\" stroke=\"#000000\" points=\"1405.9148,-666.3415 1404.7143,-655.8149 1399.0883,-664.7926 1405.9148,-666.3415\"/>\n</g>\n<!-- 19 -->\n<g id=\"node20\" class=\"node\">\n<title>19</title>\n<polygon fill=\"#399de5\" stroke=\"#000000\" points=\"1224,-536.5 1129,-536.5 1129,-468.5 1224,-468.5 1224,-536.5\"/>\n<text text-anchor=\"middle\" x=\"1176.5\" y=\"-521.3\" font-family=\"Times,serif\" font-size=\"14.00\" fill=\"#000000\">gini = 0.0</text>\n<text text-anchor=\"middle\" x=\"1176.5\" y=\"-506.3\" font-family=\"Times,serif\" font-size=\"14.00\" fill=\"#000000\">samples = 1</text>\n<text text-anchor=\"middle\" x=\"1176.5\" y=\"-491.3\" font-family=\"Times,serif\" font-size=\"14.00\" fill=\"#000000\">value = [0, 1]</text>\n<text text-anchor=\"middle\" x=\"1176.5\" y=\"-476.3\" font-family=\"Times,serif\" font-size=\"14.00\" fill=\"#000000\">class = 1</text>\n</g>\n<!-- 18&#45;&gt;19 -->\n<g id=\"edge19\" class=\"edge\">\n<title>18&#45;&gt;19</title>\n<path fill=\"none\" stroke=\"#000000\" d=\"M1212.9139,-579.8796C1207.7393,-568.8835 1202.142,-556.9893 1196.9242,-545.9015\"/>\n<polygon fill=\"#000000\" stroke=\"#000000\" points=\"1200.0731,-544.3728 1192.6482,-536.8149 1193.7394,-547.3534 1200.0731,-544.3728\"/>\n</g>\n<!-- 20 -->\n<g id=\"node21\" class=\"node\">\n<title>20</title>\n<polygon fill=\"#e58139\" stroke=\"#000000\" points=\"1337,-536.5 1242,-536.5 1242,-468.5 1337,-468.5 1337,-536.5\"/>\n<text text-anchor=\"middle\" x=\"1289.5\" y=\"-521.3\" font-family=\"Times,serif\" font-size=\"14.00\" fill=\"#000000\">gini = 0.0</text>\n<text text-anchor=\"middle\" x=\"1289.5\" y=\"-506.3\" font-family=\"Times,serif\" font-size=\"14.00\" fill=\"#000000\">samples = 2</text>\n<text text-anchor=\"middle\" x=\"1289.5\" y=\"-491.3\" font-family=\"Times,serif\" font-size=\"14.00\" fill=\"#000000\">value = [2, 0]</text>\n<text text-anchor=\"middle\" x=\"1289.5\" y=\"-476.3\" font-family=\"Times,serif\" font-size=\"14.00\" fill=\"#000000\">class = 0</text>\n</g>\n<!-- 18&#45;&gt;20 -->\n<g id=\"edge20\" class=\"edge\">\n<title>18&#45;&gt;20</title>\n<path fill=\"none\" stroke=\"#000000\" d=\"M1252.4358,-579.8796C1257.7029,-568.8835 1263.4001,-556.9893 1268.711,-545.9015\"/>\n<polygon fill=\"#000000\" stroke=\"#000000\" points=\"1271.9,-547.3457 1273.0634,-536.8149 1265.5869,-544.3217 1271.9,-547.3457\"/>\n</g>\n</g>\n</svg>\n"
          },
          "metadata": {
            "tags": []
          },
          "execution_count": 83
        }
      ]
    },
    {
      "cell_type": "markdown",
      "metadata": {
        "id": "Z2jZI0f_i9zH"
      },
      "source": [
        "SVM for Online"
      ]
    },
    {
      "cell_type": "code",
      "metadata": {
        "id": "BqKd8VnGkQoa"
      },
      "source": [
        "from sklearn import svm"
      ],
      "execution_count": 45,
      "outputs": []
    },
    {
      "cell_type": "code",
      "metadata": {
        "id": "h58r4jSDkcKd"
      },
      "source": [
        "svmf = svm.SVC(C=10000000, kernel='rbf', degree=4)"
      ],
      "execution_count": 46,
      "outputs": []
    },
    {
      "cell_type": "code",
      "metadata": {
        "id": "uev1PF4lkkN4"
      },
      "source": [
        "model_svm = svmf.fit(X_train, y_train)"
      ],
      "execution_count": 47,
      "outputs": []
    },
    {
      "cell_type": "code",
      "metadata": {
        "id": "M-8Dmddckl33"
      },
      "source": [
        "pred_svm = model_svm.predict(X_test)"
      ],
      "execution_count": 48,
      "outputs": []
    },
    {
      "cell_type": "code",
      "metadata": {
        "colab": {
          "base_uri": "https://localhost:8080/"
        },
        "id": "1awD1RYjkpce",
        "outputId": "6c818b1b-c08d-4a75-ffe1-53137ca1d214"
      },
      "source": [
        "accuracy_score(y_test, pred_svm)*100"
      ],
      "execution_count": 49,
      "outputs": [
        {
          "output_type": "execute_result",
          "data": {
            "text/plain": [
              "90.9090909090909"
            ]
          },
          "metadata": {
            "tags": []
          },
          "execution_count": 49
        }
      ]
    },
    {
      "cell_type": "markdown",
      "metadata": {
        "id": "_j02fWuhoE4Z"
      },
      "source": [
        "RFC for Online"
      ]
    },
    {
      "cell_type": "code",
      "metadata": {
        "id": "kkY8ShyZkyzK"
      },
      "source": [
        "#Using RandomForestClassifier\n",
        "rfc = RandomForestClassifier(n_estimators=100)"
      ],
      "execution_count": 51,
      "outputs": []
    },
    {
      "cell_type": "code",
      "metadata": {
        "colab": {
          "base_uri": "https://localhost:8080/"
        },
        "id": "6j3fpEywnaQi",
        "outputId": "094d9f1f-03bc-4457-87d3-b4c87a4d0000"
      },
      "source": [
        "rfc.fit(X_train, y_train)\n"
      ],
      "execution_count": 52,
      "outputs": [
        {
          "output_type": "execute_result",
          "data": {
            "text/plain": [
              "RandomForestClassifier(bootstrap=True, ccp_alpha=0.0, class_weight=None,\n",
              "                       criterion='gini', max_depth=None, max_features='auto',\n",
              "                       max_leaf_nodes=None, max_samples=None,\n",
              "                       min_impurity_decrease=0.0, min_impurity_split=None,\n",
              "                       min_samples_leaf=1, min_samples_split=2,\n",
              "                       min_weight_fraction_leaf=0.0, n_estimators=100,\n",
              "                       n_jobs=None, oob_score=False, random_state=None,\n",
              "                       verbose=0, warm_start=False)"
            ]
          },
          "metadata": {
            "tags": []
          },
          "execution_count": 52
        }
      ]
    },
    {
      "cell_type": "code",
      "metadata": {
        "colab": {
          "base_uri": "https://localhost:8080/"
        },
        "id": "jQBvbAnnngyT",
        "outputId": "7217c52c-1865-4fad-a276-17e1b505a985"
      },
      "source": [
        "y_preds = rfc.predict(X_test)\n",
        "y_preds"
      ],
      "execution_count": 53,
      "outputs": [
        {
          "output_type": "execute_result",
          "data": {
            "text/plain": [
              "array([0, 0, 0, 0, 0, 0, 0, 0, 1, 0, 0, 0, 0, 0, 0, 1, 0, 0, 1, 0, 0, 0,\n",
              "       1, 0, 1, 0, 1, 1, 0, 0, 1, 0, 1, 0, 0, 0, 0, 1, 0, 1, 1, 0, 0, 0],\n",
              "      dtype=uint8)"
            ]
          },
          "metadata": {
            "tags": []
          },
          "execution_count": 53
        }
      ]
    },
    {
      "cell_type": "code",
      "metadata": {
        "colab": {
          "base_uri": "https://localhost:8080/"
        },
        "id": "hF3qoWmenjyP",
        "outputId": "c09f970d-21b8-42d6-ffae-8a07fde85cde"
      },
      "source": [
        "rfc.score(X_train, y_train)*100"
      ],
      "execution_count": 54,
      "outputs": [
        {
          "output_type": "execute_result",
          "data": {
            "text/plain": [
              "100.0"
            ]
          },
          "metadata": {
            "tags": []
          },
          "execution_count": 54
        }
      ]
    },
    {
      "cell_type": "code",
      "metadata": {
        "colab": {
          "base_uri": "https://localhost:8080/"
        },
        "id": "zlwy_6S6nl_Y",
        "outputId": "b7c11c87-7d38-4455-b57c-3425de2f6a7a"
      },
      "source": [
        "rfc.score(X_test, y_test)*100\n"
      ],
      "execution_count": 55,
      "outputs": [
        {
          "output_type": "execute_result",
          "data": {
            "text/plain": [
              "86.36363636363636"
            ]
          },
          "metadata": {
            "tags": []
          },
          "execution_count": 55
        }
      ]
    },
    {
      "cell_type": "code",
      "metadata": {
        "colab": {
          "base_uri": "https://localhost:8080/"
        },
        "id": "A0u27eMbnny6",
        "outputId": "53c3ae8a-61c8-4e02-e831-60cc2fafa787"
      },
      "source": [
        "print(classification_report(y_test, y_preds))"
      ],
      "execution_count": 56,
      "outputs": [
        {
          "output_type": "stream",
          "text": [
            "              precision    recall  f1-score   support\n",
            "\n",
            "           0       0.84      0.96      0.90        28\n",
            "           1       0.92      0.69      0.79        16\n",
            "\n",
            "    accuracy                           0.86        44\n",
            "   macro avg       0.88      0.83      0.84        44\n",
            "weighted avg       0.87      0.86      0.86        44\n",
            "\n"
          ],
          "name": "stdout"
        }
      ]
    },
    {
      "cell_type": "code",
      "metadata": {
        "colab": {
          "base_uri": "https://localhost:8080/"
        },
        "id": "z90Bdw4dnqLr",
        "outputId": "893473f7-fcc4-4c10-cbb1-d8cca9dd2b13"
      },
      "source": [
        "accuracy_score(y_test, y_preds)*100"
      ],
      "execution_count": 57,
      "outputs": [
        {
          "output_type": "execute_result",
          "data": {
            "text/plain": [
              "86.36363636363636"
            ]
          },
          "metadata": {
            "tags": []
          },
          "execution_count": 57
        }
      ]
    },
    {
      "cell_type": "markdown",
      "metadata": {
        "id": "KfVF3xk4tcfO"
      },
      "source": [
        "Improve a model"
      ]
    },
    {
      "cell_type": "code",
      "metadata": {
        "colab": {
          "base_uri": "https://localhost:8080/"
        },
        "id": "TV_Tr0Zpnsn5",
        "outputId": "26d5aa24-620b-4c0e-f966-b27174dd5c5e"
      },
      "source": [
        "# Try different numbers of estimators (no cross-validation)\n",
        "np.random.seed(42)\n",
        "for i in range(10, 100, 10):\n",
        "    print(f\"Trying model with {i} estimators...\")\n",
        "    model = RandomForestClassifier(n_estimators=i).fit(X_train, y_train)\n",
        "    print(f\"Model accuracy on test set: {model.score(X_test, y_test) * 100}%\")\n",
        "    print(\"\")"
      ],
      "execution_count": 58,
      "outputs": [
        {
          "output_type": "stream",
          "text": [
            "Trying model with 10 estimators...\n",
            "Model accuracy on test set: 86.36363636363636%\n",
            "\n",
            "Trying model with 20 estimators...\n",
            "Model accuracy on test set: 86.36363636363636%\n",
            "\n",
            "Trying model with 30 estimators...\n",
            "Model accuracy on test set: 86.36363636363636%\n",
            "\n",
            "Trying model with 40 estimators...\n",
            "Model accuracy on test set: 81.81818181818183%\n",
            "\n",
            "Trying model with 50 estimators...\n",
            "Model accuracy on test set: 84.0909090909091%\n",
            "\n",
            "Trying model with 60 estimators...\n",
            "Model accuracy on test set: 90.9090909090909%\n",
            "\n",
            "Trying model with 70 estimators...\n",
            "Model accuracy on test set: 86.36363636363636%\n",
            "\n",
            "Trying model with 80 estimators...\n",
            "Model accuracy on test set: 86.36363636363636%\n",
            "\n",
            "Trying model with 90 estimators...\n",
            "Model accuracy on test set: 88.63636363636364%\n",
            "\n"
          ],
          "name": "stdout"
        }
      ]
    },
    {
      "cell_type": "markdown",
      "metadata": {
        "id": "P4zJn9fRqZhT"
      },
      "source": [
        "**Hyperparamter Tuning with GridSearchCV**"
      ]
    },
    {
      "cell_type": "code",
      "metadata": {
        "colab": {
          "base_uri": "https://localhost:8080/"
        },
        "id": "jWysnJsMnv8N",
        "outputId": "317b72a3-fe55-40bb-aae2-39c2f1e72061"
      },
      "source": [
        "# GridSearchCV\n",
        "np.random.seed(42)\n",
        "from sklearn.model_selection import GridSearchCV\n",
        "\n",
        "# Define the parameters to search over\n",
        "param_grid = {'n_estimators': [i for i in range(10, 100, 10)]}\n",
        "\n",
        "# Setup the grid search\n",
        "grid = GridSearchCV(RandomForestClassifier(),\n",
        "                    param_grid,\n",
        "                    cv=5)\n",
        "\n",
        "# Fit the grid search to the data\n",
        "grid.fit(X, y)"
      ],
      "execution_count": 59,
      "outputs": [
        {
          "output_type": "execute_result",
          "data": {
            "text/plain": [
              "GridSearchCV(cv=5, error_score=nan,\n",
              "             estimator=RandomForestClassifier(bootstrap=True, ccp_alpha=0.0,\n",
              "                                              class_weight=None,\n",
              "                                              criterion='gini', max_depth=None,\n",
              "                                              max_features='auto',\n",
              "                                              max_leaf_nodes=None,\n",
              "                                              max_samples=None,\n",
              "                                              min_impurity_decrease=0.0,\n",
              "                                              min_impurity_split=None,\n",
              "                                              min_samples_leaf=1,\n",
              "                                              min_samples_split=2,\n",
              "                                              min_weight_fraction_leaf=0.0,\n",
              "                                              n_estimators=100, n_jobs=None,\n",
              "                                              oob_score=False,\n",
              "                                              random_state=None, verbose=0,\n",
              "                                              warm_start=False),\n",
              "             iid='deprecated', n_jobs=None,\n",
              "             param_grid={'n_estimators': [10, 20, 30, 40, 50, 60, 70, 80, 90]},\n",
              "             pre_dispatch='2*n_jobs', refit=True, return_train_score=False,\n",
              "             scoring=None, verbose=0)"
            ]
          },
          "metadata": {
            "tags": []
          },
          "execution_count": 59
        }
      ]
    },
    {
      "cell_type": "code",
      "metadata": {
        "colab": {
          "base_uri": "https://localhost:8080/"
        },
        "id": "jLBmxpGnn1UI",
        "outputId": "bd1d3c95-047b-402c-a9c0-0172c12f4bf7"
      },
      "source": [
        "# Find the best parameters\n",
        "grid.best_params_"
      ],
      "execution_count": 60,
      "outputs": [
        {
          "output_type": "execute_result",
          "data": {
            "text/plain": [
              "{'n_estimators': 90}"
            ]
          },
          "metadata": {
            "tags": []
          },
          "execution_count": 60
        }
      ]
    },
    {
      "cell_type": "code",
      "metadata": {
        "colab": {
          "base_uri": "https://localhost:8080/"
        },
        "id": "Aetb7VLJn5Sn",
        "outputId": "9106efe9-b4e4-45b6-911e-0f2e5579cde2"
      },
      "source": [
        "# Set the model to be the best estimator\n",
        "rfc = grid.best_estimator_\n",
        "rfc"
      ],
      "execution_count": 61,
      "outputs": [
        {
          "output_type": "execute_result",
          "data": {
            "text/plain": [
              "RandomForestClassifier(bootstrap=True, ccp_alpha=0.0, class_weight=None,\n",
              "                       criterion='gini', max_depth=None, max_features='auto',\n",
              "                       max_leaf_nodes=None, max_samples=None,\n",
              "                       min_impurity_decrease=0.0, min_impurity_split=None,\n",
              "                       min_samples_leaf=1, min_samples_split=2,\n",
              "                       min_weight_fraction_leaf=0.0, n_estimators=90,\n",
              "                       n_jobs=None, oob_score=False, random_state=None,\n",
              "                       verbose=0, warm_start=False)"
            ]
          },
          "metadata": {
            "tags": []
          },
          "execution_count": 61
        }
      ]
    },
    {
      "cell_type": "code",
      "metadata": {
        "id": "Vs7D8tbAn72G"
      },
      "source": [
        "# Fit the best model\n",
        "rfc = rfc.fit(X_train, y_train)"
      ],
      "execution_count": 62,
      "outputs": []
    },
    {
      "cell_type": "code",
      "metadata": {
        "colab": {
          "base_uri": "https://localhost:8080/"
        },
        "id": "ahefSBkIn9f1",
        "outputId": "d66cfe4b-e9f6-4b33-c03a-f78a1d502584"
      },
      "source": [
        "# Find the best model scores\n",
        "rfc.score(X_test, y_test)*100"
      ],
      "execution_count": 63,
      "outputs": [
        {
          "output_type": "execute_result",
          "data": {
            "text/plain": [
              "88.63636363636364"
            ]
          },
          "metadata": {
            "tags": []
          },
          "execution_count": 63
        }
      ]
    },
    {
      "cell_type": "markdown",
      "metadata": {
        "id": "RT8YVzL3uSpn"
      },
      "source": [
        "Taget Value Pricing of a product"
      ]
    },
    {
      "cell_type": "code",
      "metadata": {
        "id": "4WsMYelNn_lQ"
      },
      "source": [
        "X = final.drop('Factors_Pricing of a product', axis=1)\n",
        "y = final['Factors_Pricing of a product']"
      ],
      "execution_count": 71,
      "outputs": []
    },
    {
      "cell_type": "code",
      "metadata": {
        "id": "ahQsZcbouxq6"
      },
      "source": [
        "# Split the data into training and test sets\n",
        "X_train, X_test, y_train, y_test = train_test_split(X, y, test_size = 0.2, random_state = 0)"
      ],
      "execution_count": 72,
      "outputs": []
    },
    {
      "cell_type": "code",
      "metadata": {
        "colab": {
          "base_uri": "https://localhost:8080/"
        },
        "id": "Yfs5Jdb2vMw4",
        "outputId": "223278a2-fdae-4324-c4ca-1bdde5e32fd6"
      },
      "source": [
        "X_train.shape, X_test.shape, y_train.shape, y_test.shape\n"
      ],
      "execution_count": 73,
      "outputs": [
        {
          "output_type": "execute_result",
          "data": {
            "text/plain": [
              "((172, 42), (44, 42), (172,), (44,))"
            ]
          },
          "metadata": {
            "tags": []
          },
          "execution_count": 73
        }
      ]
    },
    {
      "cell_type": "code",
      "metadata": {
        "id": "H4Uy0carvOcu"
      },
      "source": [
        "dct2=DecisionTreeClassifier(random_state=42)"
      ],
      "execution_count": 74,
      "outputs": []
    },
    {
      "cell_type": "code",
      "metadata": {
        "colab": {
          "base_uri": "https://localhost:8080/"
        },
        "id": "FCXNVM2uvWyP",
        "outputId": "54c15584-7eb7-437c-c987-5e0a72b83378"
      },
      "source": [
        "dct2.fit(X_train,y_train)"
      ],
      "execution_count": 75,
      "outputs": [
        {
          "output_type": "execute_result",
          "data": {
            "text/plain": [
              "DecisionTreeClassifier(ccp_alpha=0.0, class_weight=None, criterion='gini',\n",
              "                       max_depth=None, max_features=None, max_leaf_nodes=None,\n",
              "                       min_impurity_decrease=0.0, min_impurity_split=None,\n",
              "                       min_samples_leaf=1, min_samples_split=2,\n",
              "                       min_weight_fraction_leaf=0.0, presort='deprecated',\n",
              "                       random_state=42, splitter='best')"
            ]
          },
          "metadata": {
            "tags": []
          },
          "execution_count": 75
        }
      ]
    },
    {
      "cell_type": "code",
      "metadata": {
        "id": "1brBUl4gvZId"
      },
      "source": [
        "y_preds=dct2.predict(X_test)"
      ],
      "execution_count": 76,
      "outputs": []
    },
    {
      "cell_type": "code",
      "metadata": {
        "colab": {
          "base_uri": "https://localhost:8080/"
        },
        "id": "nuEXO3LPvcDr",
        "outputId": "9f1567c3-5054-4108-cc49-012499729595"
      },
      "source": [
        "dct2.score(X_test, y_test)*100"
      ],
      "execution_count": 77,
      "outputs": [
        {
          "output_type": "execute_result",
          "data": {
            "text/plain": [
              "97.72727272727273"
            ]
          },
          "metadata": {
            "tags": []
          },
          "execution_count": 77
        }
      ]
    },
    {
      "cell_type": "code",
      "metadata": {
        "colab": {
          "base_uri": "https://localhost:8080/"
        },
        "id": "H0m0DQvYvezs",
        "outputId": "d852f3fe-a1b6-4359-9970-f1aec49ac832"
      },
      "source": [
        "print(classification_report(y_test, y_preds))\n"
      ],
      "execution_count": 78,
      "outputs": [
        {
          "output_type": "stream",
          "text": [
            "              precision    recall  f1-score   support\n",
            "\n",
            "           0       0.98      1.00      0.99        43\n",
            "           1       0.00      0.00      0.00         1\n",
            "\n",
            "    accuracy                           0.98        44\n",
            "   macro avg       0.49      0.50      0.49        44\n",
            "weighted avg       0.96      0.98      0.97        44\n",
            "\n"
          ],
          "name": "stdout"
        },
        {
          "output_type": "stream",
          "text": [
            "/usr/local/lib/python3.7/dist-packages/sklearn/metrics/_classification.py:1272: UndefinedMetricWarning: Precision and F-score are ill-defined and being set to 0.0 in labels with no predicted samples. Use `zero_division` parameter to control this behavior.\n",
            "  _warn_prf(average, modifier, msg_start, len(result))\n"
          ],
          "name": "stderr"
        }
      ]
    },
    {
      "cell_type": "code",
      "metadata": {
        "colab": {
          "base_uri": "https://localhost:8080/"
        },
        "id": "SgVYP7T4vg8H",
        "outputId": "94fa1779-1038-4a71-a91b-38d2d7735431"
      },
      "source": [
        "cm = confusion_matrix(y_test, y_preds)\n",
        "cm"
      ],
      "execution_count": 79,
      "outputs": [
        {
          "output_type": "execute_result",
          "data": {
            "text/plain": [
              "array([[43,  0],\n",
              "       [ 1,  0]])"
            ]
          },
          "metadata": {
            "tags": []
          },
          "execution_count": 79
        }
      ]
    },
    {
      "cell_type": "code",
      "metadata": {
        "colab": {
          "base_uri": "https://localhost:8080/",
          "height": 240
        },
        "id": "TNAPWX3kvi0i",
        "outputId": "8e90fbdc-49cd-4569-a694-1c74f35d02c5"
      },
      "source": [
        "sns.set(font_scale=1.4)\n",
        "\n",
        "def plot_conf_mat(y_test, y_preds):\n",
        "    fig, ax = plt.subplots(figsize=(3, 3))\n",
        "    ax = sns.heatmap(confusion_matrix(y_test, y_preds),\n",
        "                     annot=True,\n",
        "                     cbar=False)\n",
        "    plt.xlabel(\"True label\")\n",
        "    plt.ylabel(\"Predicted label\")\n",
        "    \n",
        "    bottom, top = ax.get_ylim()\n",
        "    ax.set_ylim(bottom + 0.5, top - 0.5)\n",
        "    \n",
        "plot_conf_mat(y_test, y_preds)"
      ],
      "execution_count": 80,
      "outputs": [
        {
          "output_type": "display_data",
          "data": {
            "image/png": "[encoded data removed]",
            "text/plain": [
              "<Figure size 216x216 with 1 Axes>"
            ]
          },
          "metadata": {
            "tags": []
          }
        }
      ]
    },
    {
      "cell_type": "code",
      "metadata": {
        "colab": {
          "base_uri": "https://localhost:8080/"
        },
        "id": "jPDTLT2svlWO",
        "outputId": "24c1a00c-7643-41dd-e4a7-b977ad53532f"
      },
      "source": [
        "accuracy_score(y_test, y_preds)*100"
      ],
      "execution_count": 81,
      "outputs": [
        {
          "output_type": "execute_result",
          "data": {
            "text/plain": [
              "97.72727272727273"
            ]
          },
          "metadata": {
            "tags": []
          },
          "execution_count": 81
        }
      ]
    },
    {
      "cell_type": "code",
      "metadata": {
        "colab": {
          "base_uri": "https://localhost:8080/",
          "height": 1000
        },
        "id": "ZMJ-ZdW8vnI9",
        "outputId": "326ae678-3948-4c55-b017-dcb3d62a7610"
      },
      "source": [
        "dot_data = tree.export_graphviz(dct2,feature_names = X_train.columns,class_names=[\"0\",\"1\"], filled=True, precision=4)\n",
        "graph = graphviz.Source(dot_data, format=\"png\") \n",
        "graph"
      ],
      "execution_count": 82,
      "outputs": [
        {
          "output_type": "execute_result",
          "data": {
            "text/plain": [
              "<graphviz.files.Source at 0x7f4f262e0990>"
            ],
            "image/svg+xml": "<?xml version=\"1.0\" encoding=\"UTF-8\" standalone=\"no\"?>\n<!DOCTYPE svg PUBLIC \"-//W3C//DTD SVG 1.1//EN\"\n \"http://www.w3.org/Graphics/SVG/1.1/DTD/svg11.dtd\">\n<!-- Generated by graphviz version 2.40.1 (20161225.0304)\n -->\n<!-- Title: Tree Pages: 1 -->\n<svg width=\"750pt\" height=\"790pt\"\n viewBox=\"0.00 0.00 750.00 790.00\" xmlns=\"http://www.w3.org/2000/svg\" xmlns:xlink=\"http://www.w3.org/1999/xlink\">\n<g id=\"graph0\" class=\"graph\" transform=\"scale(1 1) rotate(0) translate(4 786)\">\n<title>Tree</title>\n<polygon fill=\"#ffffff\" stroke=\"transparent\" points=\"-4,4 -4,-786 746,-786 746,4 -4,4\"/>\n<!-- 0 -->\n<g id=\"node1\" class=\"node\">\n<title>0</title>\n<polygon fill=\"#e68640\" stroke=\"#000000\" points=\"443,-782 270,-782 270,-699 443,-699 443,-782\"/>\n<text text-anchor=\"middle\" x=\"356.5\" y=\"-766.8\" font-family=\"Times,serif\" font-size=\"14.00\" fill=\"#000000\">Compareprices_Yes &lt;= 0.5</text>\n<text text-anchor=\"middle\" x=\"356.5\" y=\"-751.8\" font-family=\"Times,serif\" font-size=\"14.00\" fill=\"#000000\">gini = 0.0673</text>\n<text text-anchor=\"middle\" x=\"356.5\" y=\"-736.8\" font-family=\"Times,serif\" font-size=\"14.00\" fill=\"#000000\">samples = 172</text>\n<text text-anchor=\"middle\" x=\"356.5\" y=\"-721.8\" font-family=\"Times,serif\" font-size=\"14.00\" fill=\"#000000\">value = [166, 6]</text>\n<text text-anchor=\"middle\" x=\"356.5\" y=\"-706.8\" font-family=\"Times,serif\" font-size=\"14.00\" fill=\"#000000\">class = 0</text>\n</g>\n<!-- 1 -->\n<g id=\"node2\" class=\"node\">\n<title>1</title>\n<polygon fill=\"#efb388\" stroke=\"#000000\" points=\"333,-663 130,-663 130,-580 333,-580 333,-663\"/>\n<text text-anchor=\"middle\" x=\"231.5\" y=\"-647.8\" font-family=\"Times,serif\" font-size=\"14.00\" fill=\"#000000\">Brand(HomeAppliances) &lt;= 3.5</text>\n<text text-anchor=\"middle\" x=\"231.5\" y=\"-632.8\" font-family=\"Times,serif\" font-size=\"14.00\" fill=\"#000000\">gini = 0.4082</text>\n<text text-anchor=\"middle\" x=\"231.5\" y=\"-617.8\" font-family=\"Times,serif\" font-size=\"14.00\" fill=\"#000000\">samples = 7</text>\n<text text-anchor=\"middle\" x=\"231.5\" y=\"-602.8\" font-family=\"Times,serif\" font-size=\"14.00\" fill=\"#000000\">value = [5, 2]</text>\n<text text-anchor=\"middle\" x=\"231.5\" y=\"-587.8\" font-family=\"Times,serif\" font-size=\"14.00\" fill=\"#000000\">class = 0</text>\n</g>\n<!-- 0&#45;&gt;1 -->\n<g id=\"edge1\" class=\"edge\">\n<title>0&#45;&gt;1</title>\n<path fill=\"none\" stroke=\"#000000\" d=\"M312.7811,-698.8796C303.1314,-689.6931 292.8234,-679.8798 282.9009,-670.4336\"/>\n<polygon fill=\"#000000\" stroke=\"#000000\" points=\"285.0616,-667.6582 275.4055,-663.2981 280.235,-672.7282 285.0616,-667.6582\"/>\n<text text-anchor=\"middle\" x=\"276.0201\" y=\"-684.5905\" font-family=\"Times,serif\" font-size=\"14.00\" fill=\"#000000\">True</text>\n</g>\n<!-- 6 -->\n<g id=\"node7\" class=\"node\">\n<title>6</title>\n<polygon fill=\"#e6843e\" stroke=\"#000000\" points=\"613.5,-663 351.5,-663 351.5,-580 613.5,-580 613.5,-663\"/>\n<text text-anchor=\"middle\" x=\"482.5\" y=\"-647.8\" font-family=\"Times,serif\" font-size=\"14.00\" fill=\"#000000\">Where_In the exclusive brand store &lt;= 0.5</text>\n<text text-anchor=\"middle\" x=\"482.5\" y=\"-632.8\" font-family=\"Times,serif\" font-size=\"14.00\" fill=\"#000000\">gini = 0.0473</text>\n<text text-anchor=\"middle\" x=\"482.5\" y=\"-617.8\" font-family=\"Times,serif\" font-size=\"14.00\" fill=\"#000000\">samples = 165</text>\n<text text-anchor=\"middle\" x=\"482.5\" y=\"-602.8\" font-family=\"Times,serif\" font-size=\"14.00\" fill=\"#000000\">value = [161, 4]</text>\n<text text-anchor=\"middle\" x=\"482.5\" y=\"-587.8\" font-family=\"Times,serif\" font-size=\"14.00\" fill=\"#000000\">class = 0</text>\n</g>\n<!-- 0&#45;&gt;6 -->\n<g id=\"edge6\" class=\"edge\">\n<title>0&#45;&gt;6</title>\n<path fill=\"none\" stroke=\"#000000\" d=\"M400.5687,-698.8796C410.2955,-689.6931 420.6861,-679.8798 430.6879,-670.4336\"/>\n<polygon fill=\"#000000\" stroke=\"#000000\" points=\"433.3763,-672.7089 438.2432,-663.2981 428.5699,-667.6198 433.3763,-672.7089\"/>\n<text text-anchor=\"middle\" x=\"437.5292\" y=\"-684.5879\" font-family=\"Times,serif\" font-size=\"14.00\" fill=\"#000000\">False</text>\n</g>\n<!-- 2 -->\n<g id=\"node3\" class=\"node\">\n<title>2</title>\n<polygon fill=\"#9ccef2\" stroke=\"#000000\" points=\"203.5,-544 21.5,-544 21.5,-461 203.5,-461 203.5,-544\"/>\n<text text-anchor=\"middle\" x=\"112.5\" y=\"-528.8\" font-family=\"Times,serif\" font-size=\"14.00\" fill=\"#000000\">Where_Other sources &lt;= 0.5</text>\n<text text-anchor=\"middle\" x=\"112.5\" y=\"-513.8\" font-family=\"Times,serif\" font-size=\"14.00\" fill=\"#000000\">gini = 0.4444</text>\n<text text-anchor=\"middle\" x=\"112.5\" y=\"-498.8\" font-family=\"Times,serif\" font-size=\"14.00\" fill=\"#000000\">samples = 3</text>\n<text text-anchor=\"middle\" x=\"112.5\" y=\"-483.8\" font-family=\"Times,serif\" font-size=\"14.00\" fill=\"#000000\">value = [1, 2]</text>\n<text text-anchor=\"middle\" x=\"112.5\" y=\"-468.8\" font-family=\"Times,serif\" font-size=\"14.00\" fill=\"#000000\">class = 1</text>\n</g>\n<!-- 1&#45;&gt;2 -->\n<g id=\"edge2\" class=\"edge\">\n<title>1&#45;&gt;2</title>\n<path fill=\"none\" stroke=\"#000000\" d=\"M189.8796,-579.8796C180.6931,-570.6931 170.8798,-560.8798 161.4336,-551.4336\"/>\n<polygon fill=\"#000000\" stroke=\"#000000\" points=\"163.8441,-548.8943 154.2981,-544.2981 158.8943,-553.8441 163.8441,-548.8943\"/>\n</g>\n<!-- 5 -->\n<g id=\"node6\" class=\"node\">\n<title>5</title>\n<polygon fill=\"#e58139\" stroke=\"#000000\" points=\"317,-536.5 222,-536.5 222,-468.5 317,-468.5 317,-536.5\"/>\n<text text-anchor=\"middle\" x=\"269.5\" y=\"-521.3\" font-family=\"Times,serif\" font-size=\"14.00\" fill=\"#000000\">gini = 0.0</text>\n<text text-anchor=\"middle\" x=\"269.5\" y=\"-506.3\" font-family=\"Times,serif\" font-size=\"14.00\" fill=\"#000000\">samples = 4</text>\n<text text-anchor=\"middle\" x=\"269.5\" y=\"-491.3\" font-family=\"Times,serif\" font-size=\"14.00\" fill=\"#000000\">value = [4, 0]</text>\n<text text-anchor=\"middle\" x=\"269.5\" y=\"-476.3\" font-family=\"Times,serif\" font-size=\"14.00\" fill=\"#000000\">class = 0</text>\n</g>\n<!-- 1&#45;&gt;5 -->\n<g id=\"edge5\" class=\"edge\">\n<title>1&#45;&gt;5</title>\n<path fill=\"none\" stroke=\"#000000\" d=\"M244.7906,-579.8796C248.2317,-569.1034 251.9483,-557.4647 255.4279,-546.5677\"/>\n<polygon fill=\"#000000\" stroke=\"#000000\" points=\"258.8344,-547.4057 258.5423,-536.8149 252.1661,-545.2763 258.8344,-547.4057\"/>\n</g>\n<!-- 3 -->\n<g id=\"node4\" class=\"node\">\n<title>3</title>\n<polygon fill=\"#399de5\" stroke=\"#000000\" points=\"95,-417.5 0,-417.5 0,-349.5 95,-349.5 95,-417.5\"/>\n<text text-anchor=\"middle\" x=\"47.5\" y=\"-402.3\" font-family=\"Times,serif\" font-size=\"14.00\" fill=\"#000000\">gini = 0.0</text>\n<text text-anchor=\"middle\" x=\"47.5\" y=\"-387.3\" font-family=\"Times,serif\" font-size=\"14.00\" fill=\"#000000\">samples = 2</text>\n<text text-anchor=\"middle\" x=\"47.5\" y=\"-372.3\" font-family=\"Times,serif\" font-size=\"14.00\" fill=\"#000000\">value = [0, 2]</text>\n<text text-anchor=\"middle\" x=\"47.5\" y=\"-357.3\" font-family=\"Times,serif\" font-size=\"14.00\" fill=\"#000000\">class = 1</text>\n</g>\n<!-- 2&#45;&gt;3 -->\n<g id=\"edge3\" class=\"edge\">\n<title>2&#45;&gt;3</title>\n<path fill=\"none\" stroke=\"#000000\" d=\"M89.7662,-460.8796C83.7599,-449.8835 77.263,-437.9893 71.2067,-426.9015\"/>\n<polygon fill=\"#000000\" stroke=\"#000000\" points=\"74.1088,-424.9133 66.2435,-417.8149 67.9655,-428.2689 74.1088,-424.9133\"/>\n</g>\n<!-- 4 -->\n<g id=\"node5\" class=\"node\">\n<title>4</title>\n<polygon fill=\"#e58139\" stroke=\"#000000\" points=\"208,-417.5 113,-417.5 113,-349.5 208,-349.5 208,-417.5\"/>\n<text text-anchor=\"middle\" x=\"160.5\" y=\"-402.3\" font-family=\"Times,serif\" font-size=\"14.00\" fill=\"#000000\">gini = 0.0</text>\n<text text-anchor=\"middle\" x=\"160.5\" y=\"-387.3\" font-family=\"Times,serif\" font-size=\"14.00\" fill=\"#000000\">samples = 1</text>\n<text text-anchor=\"middle\" x=\"160.5\" y=\"-372.3\" font-family=\"Times,serif\" font-size=\"14.00\" fill=\"#000000\">value = [1, 0]</text>\n<text text-anchor=\"middle\" x=\"160.5\" y=\"-357.3\" font-family=\"Times,serif\" font-size=\"14.00\" fill=\"#000000\">class = 0</text>\n</g>\n<!-- 2&#45;&gt;4 -->\n<g id=\"edge4\" class=\"edge\">\n<title>2&#45;&gt;4</title>\n<path fill=\"none\" stroke=\"#000000\" d=\"M129.2881,-460.8796C133.6791,-449.9935 138.4252,-438.227 142.8592,-427.2344\"/>\n<polygon fill=\"#000000\" stroke=\"#000000\" points=\"146.1638,-428.3982 146.6587,-417.8149 139.672,-425.7796 146.1638,-428.3982\"/>\n</g>\n<!-- 7 -->\n<g id=\"node8\" class=\"node\">\n<title>7</title>\n<polygon fill=\"#e5833c\" stroke=\"#000000\" points=\"499.5,-544 389.5,-544 389.5,-461 499.5,-461 499.5,-544\"/>\n<text text-anchor=\"middle\" x=\"444.5\" y=\"-528.8\" font-family=\"Times,serif\" font-size=\"14.00\" fill=\"#000000\">Research &lt;= 1.5</text>\n<text text-anchor=\"middle\" x=\"444.5\" y=\"-513.8\" font-family=\"Times,serif\" font-size=\"14.00\" fill=\"#000000\">gini = 0.025</text>\n<text text-anchor=\"middle\" x=\"444.5\" y=\"-498.8\" font-family=\"Times,serif\" font-size=\"14.00\" fill=\"#000000\">samples = 158</text>\n<text text-anchor=\"middle\" x=\"444.5\" y=\"-483.8\" font-family=\"Times,serif\" font-size=\"14.00\" fill=\"#000000\">value = [156, 2]</text>\n<text text-anchor=\"middle\" x=\"444.5\" y=\"-468.8\" font-family=\"Times,serif\" font-size=\"14.00\" fill=\"#000000\">class = 0</text>\n</g>\n<!-- 6&#45;&gt;7 -->\n<g id=\"edge7\" class=\"edge\">\n<title>6&#45;&gt;7</title>\n<path fill=\"none\" stroke=\"#000000\" d=\"M469.2094,-579.8796C466.5348,-571.5037 463.6937,-562.6067 460.9269,-553.942\"/>\n<polygon fill=\"#000000\" stroke=\"#000000\" points=\"464.2234,-552.7595 457.8473,-544.2981 457.5552,-554.8889 464.2234,-552.7595\"/>\n</g>\n<!-- 18 -->\n<g id=\"node19\" class=\"node\">\n<title>18</title>\n<polygon fill=\"#efb388\" stroke=\"#000000\" points=\"667,-544 518,-544 518,-461 667,-461 667,-544\"/>\n<text text-anchor=\"middle\" x=\"592.5\" y=\"-528.8\" font-family=\"Times,serif\" font-size=\"14.00\" fill=\"#000000\">Yearlyspending &lt;= 1.5</text>\n<text text-anchor=\"middle\" x=\"592.5\" y=\"-513.8\" font-family=\"Times,serif\" font-size=\"14.00\" fill=\"#000000\">gini = 0.4082</text>\n<text text-anchor=\"middle\" x=\"592.5\" y=\"-498.8\" font-family=\"Times,serif\" font-size=\"14.00\" fill=\"#000000\">samples = 7</text>\n<text text-anchor=\"middle\" x=\"592.5\" y=\"-483.8\" font-family=\"Times,serif\" font-size=\"14.00\" fill=\"#000000\">value = [5, 2]</text>\n<text text-anchor=\"middle\" x=\"592.5\" y=\"-468.8\" font-family=\"Times,serif\" font-size=\"14.00\" fill=\"#000000\">class = 0</text>\n</g>\n<!-- 6&#45;&gt;18 -->\n<g id=\"edge18\" class=\"edge\">\n<title>6&#45;&gt;18</title>\n<path fill=\"none\" stroke=\"#000000\" d=\"M520.9727,-579.8796C529.3811,-570.7832 538.3576,-561.0722 547.0103,-551.7116\"/>\n<polygon fill=\"#000000\" stroke=\"#000000\" points=\"549.6453,-554.0172 553.8631,-544.2981 544.505,-549.2656 549.6453,-554.0172\"/>\n</g>\n<!-- 8 -->\n<g id=\"node9\" class=\"node\">\n<title>8</title>\n<polygon fill=\"#e89152\" stroke=\"#000000\" points=\"383,-425 234,-425 234,-342 383,-342 383,-425\"/>\n<text text-anchor=\"middle\" x=\"308.5\" y=\"-409.8\" font-family=\"Times,serif\" font-size=\"14.00\" fill=\"#000000\">Yearlyspending &lt;= 2.5</text>\n<text text-anchor=\"middle\" x=\"308.5\" y=\"-394.8\" font-family=\"Times,serif\" font-size=\"14.00\" fill=\"#000000\">gini = 0.1975</text>\n<text text-anchor=\"middle\" x=\"308.5\" y=\"-379.8\" font-family=\"Times,serif\" font-size=\"14.00\" fill=\"#000000\">samples = 9</text>\n<text text-anchor=\"middle\" x=\"308.5\" y=\"-364.8\" font-family=\"Times,serif\" font-size=\"14.00\" fill=\"#000000\">value = [8, 1]</text>\n<text text-anchor=\"middle\" x=\"308.5\" y=\"-349.8\" font-family=\"Times,serif\" font-size=\"14.00\" fill=\"#000000\">class = 0</text>\n</g>\n<!-- 7&#45;&gt;8 -->\n<g id=\"edge8\" class=\"edge\">\n<title>7&#45;&gt;8</title>\n<path fill=\"none\" stroke=\"#000000\" d=\"M396.9338,-460.8796C386.3321,-451.6031 374.9998,-441.6874 364.1067,-432.1559\"/>\n<polygon fill=\"#000000\" stroke=\"#000000\" points=\"366.0998,-429.2491 356.2692,-425.2981 361.4902,-434.5172 366.0998,-429.2491\"/>\n</g>\n<!-- 11 -->\n<g id=\"node12\" class=\"node\">\n<title>11</title>\n<polygon fill=\"#e5823a\" stroke=\"#000000\" points=\"511.5,-425 401.5,-425 401.5,-342 511.5,-342 511.5,-425\"/>\n<text text-anchor=\"middle\" x=\"456.5\" y=\"-409.8\" font-family=\"Times,serif\" font-size=\"14.00\" fill=\"#000000\">Item &lt;= 5.0</text>\n<text text-anchor=\"middle\" x=\"456.5\" y=\"-394.8\" font-family=\"Times,serif\" font-size=\"14.00\" fill=\"#000000\">gini = 0.0133</text>\n<text text-anchor=\"middle\" x=\"456.5\" y=\"-379.8\" font-family=\"Times,serif\" font-size=\"14.00\" fill=\"#000000\">samples = 149</text>\n<text text-anchor=\"middle\" x=\"456.5\" y=\"-364.8\" font-family=\"Times,serif\" font-size=\"14.00\" fill=\"#000000\">value = [148, 1]</text>\n<text text-anchor=\"middle\" x=\"456.5\" y=\"-349.8\" font-family=\"Times,serif\" font-size=\"14.00\" fill=\"#000000\">class = 0</text>\n</g>\n<!-- 7&#45;&gt;11 -->\n<g id=\"edge11\" class=\"edge\">\n<title>7&#45;&gt;11</title>\n<path fill=\"none\" stroke=\"#000000\" d=\"M448.697,-460.8796C449.5235,-452.6838 450.4003,-443.9891 451.2562,-435.5013\"/>\n<polygon fill=\"#000000\" stroke=\"#000000\" points=\"454.764,-435.5988 452.2851,-425.2981 447.7993,-434.8964 454.764,-435.5988\"/>\n</g>\n<!-- 9 -->\n<g id=\"node10\" class=\"node\">\n<title>9</title>\n<polygon fill=\"#e58139\" stroke=\"#000000\" points=\"251,-298.5 156,-298.5 156,-230.5 251,-230.5 251,-298.5\"/>\n<text text-anchor=\"middle\" x=\"203.5\" y=\"-283.3\" font-family=\"Times,serif\" font-size=\"14.00\" fill=\"#000000\">gini = 0.0</text>\n<text text-anchor=\"middle\" x=\"203.5\" y=\"-268.3\" font-family=\"Times,serif\" font-size=\"14.00\" fill=\"#000000\">samples = 8</text>\n<text text-anchor=\"middle\" x=\"203.5\" y=\"-253.3\" font-family=\"Times,serif\" font-size=\"14.00\" fill=\"#000000\">value = [8, 0]</text>\n<text text-anchor=\"middle\" x=\"203.5\" y=\"-238.3\" font-family=\"Times,serif\" font-size=\"14.00\" fill=\"#000000\">class = 0</text>\n</g>\n<!-- 8&#45;&gt;9 -->\n<g id=\"edge9\" class=\"edge\">\n<title>8&#45;&gt;9</title>\n<path fill=\"none\" stroke=\"#000000\" d=\"M271.7761,-341.8796C261.6856,-330.4436 250.7379,-318.0363 240.625,-306.575\"/>\n<polygon fill=\"#000000\" stroke=\"#000000\" points=\"243.0186,-303.9977 233.7779,-298.8149 237.7697,-308.629 243.0186,-303.9977\"/>\n</g>\n<!-- 10 -->\n<g id=\"node11\" class=\"node\">\n<title>10</title>\n<polygon fill=\"#399de5\" stroke=\"#000000\" points=\"364,-298.5 269,-298.5 269,-230.5 364,-230.5 364,-298.5\"/>\n<text text-anchor=\"middle\" x=\"316.5\" y=\"-283.3\" font-family=\"Times,serif\" font-size=\"14.00\" fill=\"#000000\">gini = 0.0</text>\n<text text-anchor=\"middle\" x=\"316.5\" y=\"-268.3\" font-family=\"Times,serif\" font-size=\"14.00\" fill=\"#000000\">samples = 1</text>\n<text text-anchor=\"middle\" x=\"316.5\" y=\"-253.3\" font-family=\"Times,serif\" font-size=\"14.00\" fill=\"#000000\">value = [0, 1]</text>\n<text text-anchor=\"middle\" x=\"316.5\" y=\"-238.3\" font-family=\"Times,serif\" font-size=\"14.00\" fill=\"#000000\">class = 1</text>\n</g>\n<!-- 8&#45;&gt;10 -->\n<g id=\"edge10\" class=\"edge\">\n<title>8&#45;&gt;10</title>\n<path fill=\"none\" stroke=\"#000000\" d=\"M311.298,-341.8796C312.0151,-331.2134 312.7889,-319.7021 313.515,-308.9015\"/>\n<polygon fill=\"#000000\" stroke=\"#000000\" points=\"317.0144,-309.0272 314.1931,-298.8149 310.0301,-308.5576 317.0144,-309.0272\"/>\n</g>\n<!-- 12 -->\n<g id=\"node13\" class=\"node\">\n<title>12</title>\n<polygon fill=\"#e68743\" stroke=\"#000000\" points=\"499.5,-306 397.5,-306 397.5,-223 499.5,-223 499.5,-306\"/>\n<text text-anchor=\"middle\" x=\"448.5\" y=\"-290.8\" font-family=\"Times,serif\" font-size=\"14.00\" fill=\"#000000\">Rating &lt;= 4.5</text>\n<text text-anchor=\"middle\" x=\"448.5\" y=\"-275.8\" font-family=\"Times,serif\" font-size=\"14.00\" fill=\"#000000\">gini = 0.0907</text>\n<text text-anchor=\"middle\" x=\"448.5\" y=\"-260.8\" font-family=\"Times,serif\" font-size=\"14.00\" fill=\"#000000\">samples = 21</text>\n<text text-anchor=\"middle\" x=\"448.5\" y=\"-245.8\" font-family=\"Times,serif\" font-size=\"14.00\" fill=\"#000000\">value = [20, 1]</text>\n<text text-anchor=\"middle\" x=\"448.5\" y=\"-230.8\" font-family=\"Times,serif\" font-size=\"14.00\" fill=\"#000000\">class = 0</text>\n</g>\n<!-- 11&#45;&gt;12 -->\n<g id=\"edge12\" class=\"edge\">\n<title>11&#45;&gt;12</title>\n<path fill=\"none\" stroke=\"#000000\" d=\"M453.702,-341.8796C453.151,-333.6838 452.5665,-324.9891 451.9959,-316.5013\"/>\n<polygon fill=\"#000000\" stroke=\"#000000\" points=\"455.4729,-316.0408 451.31,-306.2981 448.4887,-316.5103 455.4729,-316.0408\"/>\n</g>\n<!-- 17 -->\n<g id=\"node18\" class=\"node\">\n<title>17</title>\n<polygon fill=\"#e58139\" stroke=\"#000000\" points=\"627.5,-298.5 517.5,-298.5 517.5,-230.5 627.5,-230.5 627.5,-298.5\"/>\n<text text-anchor=\"middle\" x=\"572.5\" y=\"-283.3\" font-family=\"Times,serif\" font-size=\"14.00\" fill=\"#000000\">gini = 0.0</text>\n<text text-anchor=\"middle\" x=\"572.5\" y=\"-268.3\" font-family=\"Times,serif\" font-size=\"14.00\" fill=\"#000000\">samples = 128</text>\n<text text-anchor=\"middle\" x=\"572.5\" y=\"-253.3\" font-family=\"Times,serif\" font-size=\"14.00\" fill=\"#000000\">value = [128, 0]</text>\n<text text-anchor=\"middle\" x=\"572.5\" y=\"-238.3\" font-family=\"Times,serif\" font-size=\"14.00\" fill=\"#000000\">class = 0</text>\n</g>\n<!-- 11&#45;&gt;17 -->\n<g id=\"edge17\" class=\"edge\">\n<title>11&#45;&gt;17</title>\n<path fill=\"none\" stroke=\"#000000\" d=\"M497.0712,-341.8796C508.326,-330.3337 520.5461,-317.7976 531.8078,-306.2446\"/>\n<polygon fill=\"#000000\" stroke=\"#000000\" points=\"534.5762,-308.4188 539.0501,-298.8149 529.5636,-303.5326 534.5762,-308.4188\"/>\n</g>\n<!-- 13 -->\n<g id=\"node14\" class=\"node\">\n<title>13</title>\n<polygon fill=\"#e58139\" stroke=\"#000000\" points=\"441.5,-179.5 339.5,-179.5 339.5,-111.5 441.5,-111.5 441.5,-179.5\"/>\n<text text-anchor=\"middle\" x=\"390.5\" y=\"-164.3\" font-family=\"Times,serif\" font-size=\"14.00\" fill=\"#000000\">gini = 0.0</text>\n<text text-anchor=\"middle\" x=\"390.5\" y=\"-149.3\" font-family=\"Times,serif\" font-size=\"14.00\" fill=\"#000000\">samples = 16</text>\n<text text-anchor=\"middle\" x=\"390.5\" y=\"-134.3\" font-family=\"Times,serif\" font-size=\"14.00\" fill=\"#000000\">value = [16, 0]</text>\n<text text-anchor=\"middle\" x=\"390.5\" y=\"-119.3\" font-family=\"Times,serif\" font-size=\"14.00\" fill=\"#000000\">class = 0</text>\n</g>\n<!-- 12&#45;&gt;13 -->\n<g id=\"edge13\" class=\"edge\">\n<title>12&#45;&gt;13</title>\n<path fill=\"none\" stroke=\"#000000\" d=\"M428.2144,-222.8796C422.855,-211.8835 417.0578,-199.9893 411.6537,-188.9015\"/>\n<polygon fill=\"#000000\" stroke=\"#000000\" points=\"414.7524,-187.2706 407.2249,-179.8149 408.46,-190.3375 414.7524,-187.2706\"/>\n</g>\n<!-- 14 -->\n<g id=\"node15\" class=\"node\">\n<title>14</title>\n<polygon fill=\"#eca06a\" stroke=\"#000000\" points=\"555,-187 460,-187 460,-104 555,-104 555,-187\"/>\n<text text-anchor=\"middle\" x=\"507.5\" y=\"-171.8\" font-family=\"Times,serif\" font-size=\"14.00\" fill=\"#000000\">Item &lt;= 3.0</text>\n<text text-anchor=\"middle\" x=\"507.5\" y=\"-156.8\" font-family=\"Times,serif\" font-size=\"14.00\" fill=\"#000000\">gini = 0.32</text>\n<text text-anchor=\"middle\" x=\"507.5\" y=\"-141.8\" font-family=\"Times,serif\" font-size=\"14.00\" fill=\"#000000\">samples = 5</text>\n<text text-anchor=\"middle\" x=\"507.5\" y=\"-126.8\" font-family=\"Times,serif\" font-size=\"14.00\" fill=\"#000000\">value = [4, 1]</text>\n<text text-anchor=\"middle\" x=\"507.5\" y=\"-111.8\" font-family=\"Times,serif\" font-size=\"14.00\" fill=\"#000000\">class = 0</text>\n</g>\n<!-- 12&#45;&gt;14 -->\n<g id=\"edge14\" class=\"edge\">\n<title>12&#45;&gt;14</title>\n<path fill=\"none\" stroke=\"#000000\" d=\"M469.1353,-222.8796C473.3774,-214.3236 477.889,-205.2238 482.2721,-196.3833\"/>\n<polygon fill=\"#000000\" stroke=\"#000000\" points=\"485.4703,-197.8121 486.7766,-187.2981 479.1988,-194.7026 485.4703,-197.8121\"/>\n</g>\n<!-- 15 -->\n<g id=\"node16\" class=\"node\">\n<title>15</title>\n<polygon fill=\"#e58139\" stroke=\"#000000\" points=\"498,-68 403,-68 403,0 498,0 498,-68\"/>\n<text text-anchor=\"middle\" x=\"450.5\" y=\"-52.8\" font-family=\"Times,serif\" font-size=\"14.00\" fill=\"#000000\">gini = 0.0</text>\n<text text-anchor=\"middle\" x=\"450.5\" y=\"-37.8\" font-family=\"Times,serif\" font-size=\"14.00\" fill=\"#000000\">samples = 4</text>\n<text text-anchor=\"middle\" x=\"450.5\" y=\"-22.8\" font-family=\"Times,serif\" font-size=\"14.00\" fill=\"#000000\">value = [4, 0]</text>\n<text text-anchor=\"middle\" x=\"450.5\" y=\"-7.8\" font-family=\"Times,serif\" font-size=\"14.00\" fill=\"#000000\">class = 0</text>\n</g>\n<!-- 14&#45;&gt;15 -->\n<g id=\"edge15\" class=\"edge\">\n<title>14&#45;&gt;15</title>\n<path fill=\"none\" stroke=\"#000000\" d=\"M486.2753,-103.9815C481.8119,-95.2504 477.0933,-86.0202 472.5987,-77.2281\"/>\n<polygon fill=\"#000000\" stroke=\"#000000\" points=\"475.6842,-75.5745 468.016,-68.2637 469.4514,-78.7608 475.6842,-75.5745\"/>\n</g>\n<!-- 16 -->\n<g id=\"node17\" class=\"node\">\n<title>16</title>\n<polygon fill=\"#399de5\" stroke=\"#000000\" points=\"611,-68 516,-68 516,0 611,0 611,-68\"/>\n<text text-anchor=\"middle\" x=\"563.5\" y=\"-52.8\" font-family=\"Times,serif\" font-size=\"14.00\" fill=\"#000000\">gini = 0.0</text>\n<text text-anchor=\"middle\" x=\"563.5\" y=\"-37.8\" font-family=\"Times,serif\" font-size=\"14.00\" fill=\"#000000\">samples = 1</text>\n<text text-anchor=\"middle\" x=\"563.5\" y=\"-22.8\" font-family=\"Times,serif\" font-size=\"14.00\" fill=\"#000000\">value = [0, 1]</text>\n<text text-anchor=\"middle\" x=\"563.5\" y=\"-7.8\" font-family=\"Times,serif\" font-size=\"14.00\" fill=\"#000000\">class = 1</text>\n</g>\n<!-- 14&#45;&gt;16 -->\n<g id=\"edge16\" class=\"edge\">\n<title>14&#45;&gt;16</title>\n<path fill=\"none\" stroke=\"#000000\" d=\"M528.3523,-103.9815C532.7375,-95.2504 537.3733,-86.0202 541.789,-77.2281\"/>\n<polygon fill=\"#000000\" stroke=\"#000000\" points=\"544.9308,-78.7708 546.2913,-68.2637 538.6754,-75.6291 544.9308,-78.7708\"/>\n</g>\n<!-- 19 -->\n<g id=\"node20\" class=\"node\">\n<title>19</title>\n<polygon fill=\"#e58139\" stroke=\"#000000\" points=\"629,-417.5 534,-417.5 534,-349.5 629,-349.5 629,-417.5\"/>\n<text text-anchor=\"middle\" x=\"581.5\" y=\"-402.3\" font-family=\"Times,serif\" font-size=\"14.00\" fill=\"#000000\">gini = 0.0</text>\n<text text-anchor=\"middle\" x=\"581.5\" y=\"-387.3\" font-family=\"Times,serif\" font-size=\"14.00\" fill=\"#000000\">samples = 5</text>\n<text text-anchor=\"middle\" x=\"581.5\" y=\"-372.3\" font-family=\"Times,serif\" font-size=\"14.00\" fill=\"#000000\">value = [5, 0]</text>\n<text text-anchor=\"middle\" x=\"581.5\" y=\"-357.3\" font-family=\"Times,serif\" font-size=\"14.00\" fill=\"#000000\">class = 0</text>\n</g>\n<!-- 18&#45;&gt;19 -->\n<g id=\"edge19\" class=\"edge\">\n<title>18&#45;&gt;19</title>\n<path fill=\"none\" stroke=\"#000000\" d=\"M588.6527,-460.8796C587.6668,-450.2134 586.6027,-438.7021 585.6043,-427.9015\"/>\n<polygon fill=\"#000000\" stroke=\"#000000\" points=\"589.0776,-427.4503 584.672,-417.8149 582.1074,-428.0947 589.0776,-427.4503\"/>\n</g>\n<!-- 20 -->\n<g id=\"node21\" class=\"node\">\n<title>20</title>\n<polygon fill=\"#399de5\" stroke=\"#000000\" points=\"742,-417.5 647,-417.5 647,-349.5 742,-349.5 742,-417.5\"/>\n<text text-anchor=\"middle\" x=\"694.5\" y=\"-402.3\" font-family=\"Times,serif\" font-size=\"14.00\" fill=\"#000000\">gini = 0.0</text>\n<text text-anchor=\"middle\" x=\"694.5\" y=\"-387.3\" font-family=\"Times,serif\" font-size=\"14.00\" fill=\"#000000\">samples = 2</text>\n<text text-anchor=\"middle\" x=\"694.5\" y=\"-372.3\" font-family=\"Times,serif\" font-size=\"14.00\" fill=\"#000000\">value = [0, 2]</text>\n<text text-anchor=\"middle\" x=\"694.5\" y=\"-357.3\" font-family=\"Times,serif\" font-size=\"14.00\" fill=\"#000000\">class = 1</text>\n</g>\n<!-- 18&#45;&gt;20 -->\n<g id=\"edge20\" class=\"edge\">\n<title>18&#45;&gt;20</title>\n<path fill=\"none\" stroke=\"#000000\" d=\"M628.1747,-460.8796C637.9769,-449.4436 648.6118,-437.0363 658.4357,-425.575\"/>\n<polygon fill=\"#000000\" stroke=\"#000000\" points=\"661.2367,-427.6853 665.0872,-417.8149 655.9218,-423.1297 661.2367,-427.6853\"/>\n</g>\n</g>\n</svg>\n"
          },
          "metadata": {
            "tags": []
          },
          "execution_count": 82
        }
      ]
    },
    {
      "cell_type": "markdown",
      "metadata": {
        "id": "LEdxHXJ0v78c"
      },
      "source": [
        "SVM"
      ]
    },
    {
      "cell_type": "code",
      "metadata": {
        "id": "fzhqB-1lvrxn"
      },
      "source": [
        "from sklearn import svm"
      ],
      "execution_count": 83,
      "outputs": []
    },
    {
      "cell_type": "code",
      "metadata": {
        "id": "ODxAsm1Jv5nl"
      },
      "source": [
        "svmf = svm.SVC(C=10000000, kernel='rbf', degree=4)"
      ],
      "execution_count": 84,
      "outputs": []
    },
    {
      "cell_type": "code",
      "metadata": {
        "id": "PE2mEZGlwBaU"
      },
      "source": [
        "model_svm = svmf.fit(X_train, y_train)"
      ],
      "execution_count": 85,
      "outputs": []
    },
    {
      "cell_type": "code",
      "metadata": {
        "id": "-qa2Z5erwGCQ"
      },
      "source": [
        "pred_svm = model_svm.predict(X_test)"
      ],
      "execution_count": 86,
      "outputs": []
    },
    {
      "cell_type": "code",
      "metadata": {
        "colab": {
          "base_uri": "https://localhost:8080/"
        },
        "id": "BzNkUx0swwIb",
        "outputId": "22e98824-7205-4d96-ce04-00d6785c5db3"
      },
      "source": [
        "accuracy_score(y_test, pred_svm)*100"
      ],
      "execution_count": 87,
      "outputs": [
        {
          "output_type": "execute_result",
          "data": {
            "text/plain": [
              "97.72727272727273"
            ]
          },
          "metadata": {
            "tags": []
          },
          "execution_count": 87
        }
      ]
    },
    {
      "cell_type": "markdown",
      "metadata": {
        "id": "E3dWICESwz9N"
      },
      "source": [
        "RFC \n"
      ]
    },
    {
      "cell_type": "code",
      "metadata": {
        "id": "KZ_UWtsEwxZ_"
      },
      "source": [
        "#Using RandomForestClassifier\n",
        "rfc = RandomForestClassifier(n_estimators=100)"
      ],
      "execution_count": 88,
      "outputs": []
    },
    {
      "cell_type": "code",
      "metadata": {
        "colab": {
          "base_uri": "https://localhost:8080/"
        },
        "id": "nqQ4C1y8w48z",
        "outputId": "bec6e143-fdb0-4751-83a4-0333e48247ed"
      },
      "source": [
        "rfc.fit(X_train, y_train)"
      ],
      "execution_count": 89,
      "outputs": [
        {
          "output_type": "execute_result",
          "data": {
            "text/plain": [
              "RandomForestClassifier(bootstrap=True, ccp_alpha=0.0, class_weight=None,\n",
              "                       criterion='gini', max_depth=None, max_features='auto',\n",
              "                       max_leaf_nodes=None, max_samples=None,\n",
              "                       min_impurity_decrease=0.0, min_impurity_split=None,\n",
              "                       min_samples_leaf=1, min_samples_split=2,\n",
              "                       min_weight_fraction_leaf=0.0, n_estimators=100,\n",
              "                       n_jobs=None, oob_score=False, random_state=None,\n",
              "                       verbose=0, warm_start=False)"
            ]
          },
          "metadata": {
            "tags": []
          },
          "execution_count": 89
        }
      ]
    },
    {
      "cell_type": "code",
      "metadata": {
        "colab": {
          "base_uri": "https://localhost:8080/"
        },
        "id": "0hZfAhLew7mI",
        "outputId": "1be4464e-bac9-4273-b291-7e3ed5c01020"
      },
      "source": [
        "y_preds = rfc.predict(X_test)\n",
        "y_preds"
      ],
      "execution_count": 90,
      "outputs": [
        {
          "output_type": "execute_result",
          "data": {
            "text/plain": [
              "array([0, 0, 0, 0, 0, 0, 0, 0, 0, 0, 0, 0, 0, 0, 0, 0, 0, 0, 0, 0, 0, 0,\n",
              "       0, 0, 0, 0, 0, 0, 0, 0, 0, 0, 0, 0, 0, 0, 0, 0, 0, 0, 0, 0, 0, 0],\n",
              "      dtype=uint8)"
            ]
          },
          "metadata": {
            "tags": []
          },
          "execution_count": 90
        }
      ]
    },
    {
      "cell_type": "code",
      "metadata": {
        "colab": {
          "base_uri": "https://localhost:8080/"
        },
        "id": "e3UrBiYbw9Cy",
        "outputId": "e8a7bf65-f627-4af8-b862-be86e15f8512"
      },
      "source": [
        "rfc.score(X_train, y_train)*100"
      ],
      "execution_count": 91,
      "outputs": [
        {
          "output_type": "execute_result",
          "data": {
            "text/plain": [
              "100.0"
            ]
          },
          "metadata": {
            "tags": []
          },
          "execution_count": 91
        }
      ]
    },
    {
      "cell_type": "code",
      "metadata": {
        "colab": {
          "base_uri": "https://localhost:8080/"
        },
        "id": "YjwWcntuw-PV",
        "outputId": "37771a4b-29f4-4b44-df5e-d384ab6055c4"
      },
      "source": [
        "rfc.score(X_test, y_test)*100"
      ],
      "execution_count": 92,
      "outputs": [
        {
          "output_type": "execute_result",
          "data": {
            "text/plain": [
              "97.72727272727273"
            ]
          },
          "metadata": {
            "tags": []
          },
          "execution_count": 92
        }
      ]
    },
    {
      "cell_type": "code",
      "metadata": {
        "colab": {
          "base_uri": "https://localhost:8080/"
        },
        "id": "0PaJtELHxBbd",
        "outputId": "2f67e54b-2e1c-4438-e2a4-87d4a1e3c9fa"
      },
      "source": [
        "print(classification_report(y_test, y_preds))"
      ],
      "execution_count": 93,
      "outputs": [
        {
          "output_type": "stream",
          "text": [
            "              precision    recall  f1-score   support\n",
            "\n",
            "           0       0.98      1.00      0.99        43\n",
            "           1       0.00      0.00      0.00         1\n",
            "\n",
            "    accuracy                           0.98        44\n",
            "   macro avg       0.49      0.50      0.49        44\n",
            "weighted avg       0.96      0.98      0.97        44\n",
            "\n"
          ],
          "name": "stdout"
        },
        {
          "output_type": "stream",
          "text": [
            "/usr/local/lib/python3.7/dist-packages/sklearn/metrics/_classification.py:1272: UndefinedMetricWarning: Precision and F-score are ill-defined and being set to 0.0 in labels with no predicted samples. Use `zero_division` parameter to control this behavior.\n",
            "  _warn_prf(average, modifier, msg_start, len(result))\n"
          ],
          "name": "stderr"
        }
      ]
    },
    {
      "cell_type": "code",
      "metadata": {
        "colab": {
          "base_uri": "https://localhost:8080/"
        },
        "id": "aPLq3qJvxDDY",
        "outputId": "abaadbb1-89b5-46f9-8178-1caccd386061"
      },
      "source": [
        "accuracy_score(y_test, y_preds)*100"
      ],
      "execution_count": 94,
      "outputs": [
        {
          "output_type": "execute_result",
          "data": {
            "text/plain": [
              "97.72727272727273"
            ]
          },
          "metadata": {
            "tags": []
          },
          "execution_count": 94
        }
      ]
    },
    {
      "cell_type": "markdown",
      "metadata": {
        "id": "8H40XxrxxG-7"
      },
      "source": [
        "Improve a model"
      ]
    },
    {
      "cell_type": "code",
      "metadata": {
        "colab": {
          "base_uri": "https://localhost:8080/"
        },
        "id": "sVdVrnQMxJen",
        "outputId": "72375342-c575-4819-939b-96f310d1c0be"
      },
      "source": [
        "# GridSearchCV\n",
        "np.random.seed(42)\n",
        "from sklearn.model_selection import GridSearchCV\n",
        "\n",
        "# Define the parameters to search over\n",
        "param_grid = {'n_estimators': [i for i in range(10, 100, 10)]}\n",
        "\n",
        "# Setup the grid search\n",
        "grid = GridSearchCV(RandomForestClassifier(),\n",
        "                    param_grid,\n",
        "                    cv=5)\n",
        "\n",
        "# Fit the grid search to the data\n",
        "grid.fit(X, y)"
      ],
      "execution_count": 96,
      "outputs": [
        {
          "output_type": "execute_result",
          "data": {
            "text/plain": [
              "GridSearchCV(cv=5, error_score=nan,\n",
              "             estimator=RandomForestClassifier(bootstrap=True, ccp_alpha=0.0,\n",
              "                                              class_weight=None,\n",
              "                                              criterion='gini', max_depth=None,\n",
              "                                              max_features='auto',\n",
              "                                              max_leaf_nodes=None,\n",
              "                                              max_samples=None,\n",
              "                                              min_impurity_decrease=0.0,\n",
              "                                              min_impurity_split=None,\n",
              "                                              min_samples_leaf=1,\n",
              "                                              min_samples_split=2,\n",
              "                                              min_weight_fraction_leaf=0.0,\n",
              "                                              n_estimators=100, n_jobs=None,\n",
              "                                              oob_score=False,\n",
              "                                              random_state=None, verbose=0,\n",
              "                                              warm_start=False),\n",
              "             iid='deprecated', n_jobs=None,\n",
              "             param_grid={'n_estimators': [10, 20, 30, 40, 50, 60, 70, 80, 90]},\n",
              "             pre_dispatch='2*n_jobs', refit=True, return_train_score=False,\n",
              "             scoring=None, verbose=0)"
            ]
          },
          "metadata": {
            "tags": []
          },
          "execution_count": 96
        }
      ]
    },
    {
      "cell_type": "code",
      "metadata": {
        "colab": {
          "base_uri": "https://localhost:8080/"
        },
        "id": "IsoS5qeAxOIe",
        "outputId": "49c54bbe-98f9-4116-ee16-9d209841602e"
      },
      "source": [
        "# Find the best parameters\n",
        "grid.best_params_"
      ],
      "execution_count": 97,
      "outputs": [
        {
          "output_type": "execute_result",
          "data": {
            "text/plain": [
              "{'n_estimators': 10}"
            ]
          },
          "metadata": {
            "tags": []
          },
          "execution_count": 97
        }
      ]
    },
    {
      "cell_type": "code",
      "metadata": {
        "colab": {
          "base_uri": "https://localhost:8080/"
        },
        "id": "nxZXusOcxRWo",
        "outputId": "33bff962-e2f6-4cc6-e583-13267a11bfd0"
      },
      "source": [
        "# Set the model to be the best estimator\n",
        "rfc = grid.best_estimator_\n",
        "rfc"
      ],
      "execution_count": 98,
      "outputs": [
        {
          "output_type": "execute_result",
          "data": {
            "text/plain": [
              "RandomForestClassifier(bootstrap=True, ccp_alpha=0.0, class_weight=None,\n",
              "                       criterion='gini', max_depth=None, max_features='auto',\n",
              "                       max_leaf_nodes=None, max_samples=None,\n",
              "                       min_impurity_decrease=0.0, min_impurity_split=None,\n",
              "                       min_samples_leaf=1, min_samples_split=2,\n",
              "                       min_weight_fraction_leaf=0.0, n_estimators=10,\n",
              "                       n_jobs=None, oob_score=False, random_state=None,\n",
              "                       verbose=0, warm_start=False)"
            ]
          },
          "metadata": {
            "tags": []
          },
          "execution_count": 98
        }
      ]
    },
    {
      "cell_type": "code",
      "metadata": {
        "id": "kxy-mKPZxTG9"
      },
      "source": [
        "# Fit the best model\n",
        "rfc = rfc.fit(X_train, y_train)"
      ],
      "execution_count": 99,
      "outputs": []
    },
    {
      "cell_type": "code",
      "metadata": {
        "colab": {
          "base_uri": "https://localhost:8080/"
        },
        "id": "QvslXhOMxUdb",
        "outputId": "e491b013-c9a6-464a-c700-b2244b1c8add"
      },
      "source": [
        "# Find the best model scores\n",
        "rfc.score(X_test, y_test)*100"
      ],
      "execution_count": 100,
      "outputs": [
        {
          "output_type": "execute_result",
          "data": {
            "text/plain": [
              "97.72727272727273"
            ]
          },
          "metadata": {
            "tags": []
          },
          "execution_count": 100
        }
      ]
    },
    {
      "cell_type": "code",
      "metadata": {
        "id": "LWqEXQs0xVpq"
      },
      "source": [
        ""
      ],
      "execution_count": null,
      "outputs": []
    }
  ]
}